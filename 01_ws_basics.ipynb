{
 "cells": [
  {
   "cell_type": "markdown",
   "metadata": {},
   "source": [
    "Todo: \n",
    "- add creation of labeling functions that the users proposed -> use them for annotation\n",
    "- add SepLL\n",
    "- add FABLE description\n",
    "- tune FABLE experiments"
   ]
  },
  {
   "cell_type": "markdown",
   "metadata": {},
   "source": [
    "# Tutorial: How to train a classifier using Weak Supervision?"
   ]
  },
  {
   "cell_type": "markdown",
   "metadata": {},
   "source": [
    "In this tutorial, we are going to train a spam detection classifier using weakly supervised data. \n",
    "\n",
    "The steps:\n",
    "- Collect training data\n",
    "- Annotate this data in a weakly supervised setting\n",
    "    - Create labeling functions\n",
    "    - *Match* the labeling functions to the data samples\n",
    "    - Aggregate the labels with different label aggregation techniques\n",
    "        - Majority Vote\n",
    "        - FABLE \n",
    "- train a logistic regression classifier using weak labels\n",
    "- train a logistic regresison classifier with SepLL"
   ]
  },
  {
   "cell_type": "code",
   "execution_count": 1,
   "metadata": {
    "ExecuteTime": {
     "start_time": "2023-09-06T14:39:30.052131Z",
     "end_time": "2023-09-06T14:39:36.104220Z"
    }
   },
   "outputs": [],
   "source": [
    "# necessary imports\n",
    "\n",
    "import logging\n",
    "from wrench._logging import LoggingHandler\n",
    "import pandas as pd\n",
    "import numpy as np \n",
    "\n",
    "from utils import load_raw_spam_dataset\n",
    "from snorkel.utils import probs_to_preds\n",
    "from wrench.utils import set_seed\n",
    "from wrench.endmodel import EndClassifierModel\n",
    "from wrench.labelmodel import MajorityVoting, Fable\n",
    "\n",
    "pd.set_option('display.max_columns', None)\n",
    "pd.set_option('display.max_rows', None)\n",
    "pd.set_option('display.max_colwidth', None)\n",
    "\n",
    "#### Just some code to print debug information to stdout\n",
    "logging.basicConfig(format='%(asctime)s - %(message)s',\n",
    "                    datefmt='%Y-%m-%d %H:%M:%S',\n",
    "                    level=logging.INFO,\n",
    "                    handlers=[LoggingHandler()])\n",
    "\n",
    "logger = logging.getLogger(__name__)"
   ]
  },
  {
   "cell_type": "code",
   "execution_count": 2,
   "metadata": {
    "ExecuteTime": {
     "start_time": "2023-09-06T14:39:36.106973Z",
     "end_time": "2023-09-06T14:39:36.111100Z"
    }
   },
   "outputs": [],
   "source": [
    "# the path to the folder where our data is stored\n",
    "\n",
    "path_to_data = \"data\"\n",
    "# os.chdir(\"wrench/spam\")"
   ]
  },
  {
   "cell_type": "markdown",
   "metadata": {
    "ExecuteTime": {
     "end_time": "2023-08-10T13:52:02.389214Z",
     "start_time": "2023-08-10T13:52:02.374441Z"
    }
   },
   "source": [
    "## Data\n",
    "\n",
    "The dataset we will use for training is Spam Detection YouTube comments dataset \n",
    "[3]. \n",
    "\n",
    "- The dataset consists of comments that YouTube users left under different videos.\n",
    "- Each sample is a comment (i.e., a word, a sentence, or a couple of sentences).\n",
    "- 1,586 train samples, 120 dev samples, 250 test samples\n",
    "- There are 2 types of samples:\n",
    "    - HAM: comments relevant to the video (even very simple ones), or\n",
    "    - SPAM: irrelevant (often trying to advertise something) or inappropriate messages\n",
    "    \n",
    "<img src=\"img/spam_detection.png\" width=\"800\"/>\n",
    "\n",
    "**NB! Original dataset is manually labeled, but we won't use these gold labels for model training! We will use the dataset as unlabeled one (and label it in a weakly-supervised fasion).** "
   ]
  },
  {
   "cell_type": "markdown",
   "metadata": {},
   "source": [
    "Let's first have a look at the dataset."
   ]
  },
  {
   "cell_type": "code",
   "execution_count": 3,
   "metadata": {
    "ExecuteTime": {
     "start_time": "2023-09-06T14:39:36.113341Z",
     "end_time": "2023-09-06T14:39:36.161443Z"
    }
   },
   "outputs": [],
   "source": [
    "# load the YouTube dataset\n",
    "\n",
    "df_train, df_dev, df_test = load_raw_spam_dataset(load_train_labels=True)\n",
    "Y_train = df_train[\"label\"].values\n",
    "Y_test = df_test[\"label\"].values"
   ]
  },
  {
   "cell_type": "code",
   "execution_count": 4,
   "metadata": {
    "ExecuteTime": {
     "start_time": "2023-09-06T14:39:36.168518Z",
     "end_time": "2023-09-06T14:39:36.183539Z"
    }
   },
   "outputs": [
    {
     "data": {
      "text/plain": "             author                 date  \\\n0  Alessandro leite  2014-11-05T22:21:36   \n1      Salim Tayara  2014-11-02T14:33:30   \n2           Phuc Ly  2014-01-20T15:27:47   \n3      DropShotSk8r  2014-01-19T04:27:18   \n4            css403  2014-11-07T14:25:48   \n5      Giang Nguyen  2014-11-06T04:55:41   \n6      Caius Ballad  2014-11-13T00:58:20   \n7             Holly  2014-11-06T13:41:30   \n8         King uzzy  2014-11-07T23:19:08   \n9          iKap Taz  2014-11-08T13:34:27   \n\n                                                                                                                  text  \\\n0                          pls http://www10.vakinha.com.br/VaquinhaE.aspx?e=313327 help me get vip gun  cross fire al﻿   \n1  if your like drones, plz subscribe to Kamal Tayara. He takes videos with  his drone that are absolutely beautiful.﻿   \n2                                                                                       go here to check the views :3﻿   \n3                                                                              Came here to check the views, goodbye.﻿   \n4                                                                                        i am 2,126,492,636 viewer :D﻿   \n5                                                                                  https://www.facebook.com/teeLaLaLa﻿   \n6                                  imagine if this guy put adsense on with all these views... u could pay ur  morgage﻿   \n7                                                                                Follow me on Twitter @mscalifornia95﻿   \n8                                                                     Can we reach 3 billion views by December 2014? ﻿   \n9                                             Follow 4 Follow                           @ VaahidMustafic Like 4 Like ﻿   \n\n   label  video  \n0      1      1  \n1      1      1  \n2      0      1  \n3      0      1  \n4      0      1  \n5      1      1  \n6      0      1  \n7      1      1  \n8      0      1  \n9      1      1  ",
      "text/html": "<div>\n<style scoped>\n    .dataframe tbody tr th:only-of-type {\n        vertical-align: middle;\n    }\n\n    .dataframe tbody tr th {\n        vertical-align: top;\n    }\n\n    .dataframe thead th {\n        text-align: right;\n    }\n</style>\n<table border=\"1\" class=\"dataframe\">\n  <thead>\n    <tr style=\"text-align: right;\">\n      <th></th>\n      <th>author</th>\n      <th>date</th>\n      <th>text</th>\n      <th>label</th>\n      <th>video</th>\n    </tr>\n  </thead>\n  <tbody>\n    <tr>\n      <th>0</th>\n      <td>Alessandro leite</td>\n      <td>2014-11-05T22:21:36</td>\n      <td>pls http://www10.vakinha.com.br/VaquinhaE.aspx?e=313327 help me get vip gun  cross fire al﻿</td>\n      <td>1</td>\n      <td>1</td>\n    </tr>\n    <tr>\n      <th>1</th>\n      <td>Salim Tayara</td>\n      <td>2014-11-02T14:33:30</td>\n      <td>if your like drones, plz subscribe to Kamal Tayara. He takes videos with  his drone that are absolutely beautiful.﻿</td>\n      <td>1</td>\n      <td>1</td>\n    </tr>\n    <tr>\n      <th>2</th>\n      <td>Phuc Ly</td>\n      <td>2014-01-20T15:27:47</td>\n      <td>go here to check the views :3﻿</td>\n      <td>0</td>\n      <td>1</td>\n    </tr>\n    <tr>\n      <th>3</th>\n      <td>DropShotSk8r</td>\n      <td>2014-01-19T04:27:18</td>\n      <td>Came here to check the views, goodbye.﻿</td>\n      <td>0</td>\n      <td>1</td>\n    </tr>\n    <tr>\n      <th>4</th>\n      <td>css403</td>\n      <td>2014-11-07T14:25:48</td>\n      <td>i am 2,126,492,636 viewer :D﻿</td>\n      <td>0</td>\n      <td>1</td>\n    </tr>\n    <tr>\n      <th>5</th>\n      <td>Giang Nguyen</td>\n      <td>2014-11-06T04:55:41</td>\n      <td>https://www.facebook.com/teeLaLaLa﻿</td>\n      <td>1</td>\n      <td>1</td>\n    </tr>\n    <tr>\n      <th>6</th>\n      <td>Caius Ballad</td>\n      <td>2014-11-13T00:58:20</td>\n      <td>imagine if this guy put adsense on with all these views... u could pay ur  morgage﻿</td>\n      <td>0</td>\n      <td>1</td>\n    </tr>\n    <tr>\n      <th>7</th>\n      <td>Holly</td>\n      <td>2014-11-06T13:41:30</td>\n      <td>Follow me on Twitter @mscalifornia95﻿</td>\n      <td>1</td>\n      <td>1</td>\n    </tr>\n    <tr>\n      <th>8</th>\n      <td>King uzzy</td>\n      <td>2014-11-07T23:19:08</td>\n      <td>Can we reach 3 billion views by December 2014? ﻿</td>\n      <td>0</td>\n      <td>1</td>\n    </tr>\n    <tr>\n      <th>9</th>\n      <td>iKap Taz</td>\n      <td>2014-11-08T13:34:27</td>\n      <td>Follow 4 Follow                           @ VaahidMustafic Like 4 Like ﻿</td>\n      <td>1</td>\n      <td>1</td>\n    </tr>\n  </tbody>\n</table>\n</div>"
     },
     "execution_count": 4,
     "metadata": {},
     "output_type": "execute_result"
    }
   ],
   "source": [
    "df_train[:10]"
   ]
  },
  {
   "cell_type": "markdown",
   "metadata": {},
   "source": [
    "For each data sample in the original dataset (i.e., a YouTube comment), we know:\n",
    "- comment's author,\n",
    "- date when the corresponding comment was left,\n",
    "- text of the sample,\n",
    "- gold manual label,\n",
    "- id of the YouTube video."
   ]
  },
  {
   "cell_type": "code",
   "execution_count": 5,
   "metadata": {
    "ExecuteTime": {
     "start_time": "2023-09-06T14:39:36.192947Z",
     "end_time": "2023-09-06T14:39:36.205308Z"
    }
   },
   "outputs": [
    {
     "data": {
      "text/plain": "           author                 date  \\\n2         Phuc Ly  2014-01-20T15:27:47   \n3    DropShotSk8r  2014-01-19T04:27:18   \n4          css403  2014-11-07T14:25:48   \n6    Caius Ballad  2014-11-13T00:58:20   \n8       King uzzy  2014-11-07T23:19:08   \n10    John Plaatt  2014-11-07T22:22:29   \n11  Praise Samuel  2014-11-08T11:10:30   \n16   zhichao wang  2013-11-29T02:13:56   \n19      Tedi Foto  2014-11-08T09:33:30   \n20        Tee Tee  2014-11-07T20:16:51   \n\n                                                                                                       text  \\\n2                                                                            go here to check the views :3﻿   \n3                                                                   Came here to check the views, goodbye.﻿   \n4                                                                             i am 2,126,492,636 viewer :D﻿   \n6                       imagine if this guy put adsense on with all these views... u could pay ur  morgage﻿   \n8                                                          Can we reach 3 billion views by December 2014? ﻿   \n10                                                     On 0:02 u can see the camera man on his glasses....﻿   \n11  2 billion views wow not even baby by justin beibs has that much he doesn't  deserve a capitalized name﻿   \n16            i think about 100 millions of the views come from people who only wanted to  check the views﻿   \n19                                                                                   What my gangnam style﻿   \n20                                        Loool nice song funny how no one understands (me) and we love it﻿   \n\n    label  video  \n2       0      1  \n3       0      1  \n4       0      1  \n6       0      1  \n8       0      1  \n10      0      1  \n11      0      1  \n16      0      1  \n19      0      1  \n20      0      1  ",
      "text/html": "<div>\n<style scoped>\n    .dataframe tbody tr th:only-of-type {\n        vertical-align: middle;\n    }\n\n    .dataframe tbody tr th {\n        vertical-align: top;\n    }\n\n    .dataframe thead th {\n        text-align: right;\n    }\n</style>\n<table border=\"1\" class=\"dataframe\">\n  <thead>\n    <tr style=\"text-align: right;\">\n      <th></th>\n      <th>author</th>\n      <th>date</th>\n      <th>text</th>\n      <th>label</th>\n      <th>video</th>\n    </tr>\n  </thead>\n  <tbody>\n    <tr>\n      <th>2</th>\n      <td>Phuc Ly</td>\n      <td>2014-01-20T15:27:47</td>\n      <td>go here to check the views :3﻿</td>\n      <td>0</td>\n      <td>1</td>\n    </tr>\n    <tr>\n      <th>3</th>\n      <td>DropShotSk8r</td>\n      <td>2014-01-19T04:27:18</td>\n      <td>Came here to check the views, goodbye.﻿</td>\n      <td>0</td>\n      <td>1</td>\n    </tr>\n    <tr>\n      <th>4</th>\n      <td>css403</td>\n      <td>2014-11-07T14:25:48</td>\n      <td>i am 2,126,492,636 viewer :D﻿</td>\n      <td>0</td>\n      <td>1</td>\n    </tr>\n    <tr>\n      <th>6</th>\n      <td>Caius Ballad</td>\n      <td>2014-11-13T00:58:20</td>\n      <td>imagine if this guy put adsense on with all these views... u could pay ur  morgage﻿</td>\n      <td>0</td>\n      <td>1</td>\n    </tr>\n    <tr>\n      <th>8</th>\n      <td>King uzzy</td>\n      <td>2014-11-07T23:19:08</td>\n      <td>Can we reach 3 billion views by December 2014? ﻿</td>\n      <td>0</td>\n      <td>1</td>\n    </tr>\n    <tr>\n      <th>10</th>\n      <td>John Plaatt</td>\n      <td>2014-11-07T22:22:29</td>\n      <td>On 0:02 u can see the camera man on his glasses....﻿</td>\n      <td>0</td>\n      <td>1</td>\n    </tr>\n    <tr>\n      <th>11</th>\n      <td>Praise Samuel</td>\n      <td>2014-11-08T11:10:30</td>\n      <td>2 billion views wow not even baby by justin beibs has that much he doesn't  deserve a capitalized name﻿</td>\n      <td>0</td>\n      <td>1</td>\n    </tr>\n    <tr>\n      <th>16</th>\n      <td>zhichao wang</td>\n      <td>2013-11-29T02:13:56</td>\n      <td>i think about 100 millions of the views come from people who only wanted to  check the views﻿</td>\n      <td>0</td>\n      <td>1</td>\n    </tr>\n    <tr>\n      <th>19</th>\n      <td>Tedi Foto</td>\n      <td>2014-11-08T09:33:30</td>\n      <td>What my gangnam style﻿</td>\n      <td>0</td>\n      <td>1</td>\n    </tr>\n    <tr>\n      <th>20</th>\n      <td>Tee Tee</td>\n      <td>2014-11-07T20:16:51</td>\n      <td>Loool nice song funny how no one understands (me) and we love it﻿</td>\n      <td>0</td>\n      <td>1</td>\n    </tr>\n  </tbody>\n</table>\n</div>"
     },
     "execution_count": 5,
     "metadata": {},
     "output_type": "execute_result"
    }
   ],
   "source": [
    "# some examples of positive (=non-spam) samples, label id 0\n",
    "\n",
    "df_train.loc[df_train[\"label\"]==0][:10]"
   ]
  },
  {
   "cell_type": "code",
   "execution_count": 6,
   "metadata": {
    "ExecuteTime": {
     "start_time": "2023-09-06T14:39:36.211298Z",
     "end_time": "2023-09-06T14:39:36.343331Z"
    }
   },
   "outputs": [
    {
     "data": {
      "text/plain": "              author                 date  \\\n0   Alessandro leite  2014-11-05T22:21:36   \n1       Salim Tayara  2014-11-02T14:33:30   \n5       Giang Nguyen  2014-11-06T04:55:41   \n7              Holly  2014-11-06T13:41:30   \n9           iKap Taz  2014-11-08T13:34:27   \n12     Malin Linford  2014-11-05T01:13:43   \n13       Lone Twistt  2013-11-28T17:34:55   \n14         Олег Пась  2014-11-03T23:29:00   \n15           JD COKE  2014-11-08T02:24:02   \n17      Rancy Gaming  2014-11-06T09:41:07   \n\n                                                                                                                                                                                                                                                                                                                                                                          text  \\\n0                                                                                                                                                                                                                                                                                  pls http://www10.vakinha.com.br/VaquinhaE.aspx?e=313327 help me get vip gun  cross fire al﻿   \n1                                                                                                                                                                                                                                                          if your like drones, plz subscribe to Kamal Tayara. He takes videos with  his drone that are absolutely beautiful.﻿   \n5                                                                                                                                                                                                                                                                                                                                          https://www.facebook.com/teeLaLaLa﻿   \n7                                                                                                                                                                                                                                                                                                                                        Follow me on Twitter @mscalifornia95﻿   \n9                                                                                                                                                                                                                                                                                                     Follow 4 Follow                           @ VaahidMustafic Like 4 Like ﻿   \n12                                                                                                                                                                                                                              Hey guys please check out my new Google+ page it has many funny pictures,  FunnyTortsPics  https://plus.google.com/112720997191206369631/post﻿   \n13                                                                                                                                                                                          Once you have started reading do not stop. If you do not subscribe to me  within one day you and you're entire family will die so if you want to stay  alive subscribe right now.﻿   \n14                                                                                                                                                                                                                                                                                                                                                  Plizz withing my channel ﻿   \n15  It's so hard, sad :( iThat little child Actor HWANG MINOO dancing very  active child is suffering from brain tumor, only 6 month left for him .Hard  to believe .. Keep praying everyone for our future superstar.  #StrongLittlePsY #Fighting  SHARE EVERYONE PRAYING FOR HIM http://ygunited.com/2014/11/08/little-psy-from-the-has-brain-tumor-6-months-left-to-live/ ﻿   \n17                                                                                                                                                                                                                                                                                             What free gift cards? Go here  http://www.swagbucks.com/p/register?rb=13017194﻿   \n\n    label  video  \n0       1      1  \n1       1      1  \n5       1      1  \n7       1      1  \n9       1      1  \n12      1      1  \n13      1      1  \n14      1      1  \n15      1      1  \n17      1      1  ",
      "text/html": "<div>\n<style scoped>\n    .dataframe tbody tr th:only-of-type {\n        vertical-align: middle;\n    }\n\n    .dataframe tbody tr th {\n        vertical-align: top;\n    }\n\n    .dataframe thead th {\n        text-align: right;\n    }\n</style>\n<table border=\"1\" class=\"dataframe\">\n  <thead>\n    <tr style=\"text-align: right;\">\n      <th></th>\n      <th>author</th>\n      <th>date</th>\n      <th>text</th>\n      <th>label</th>\n      <th>video</th>\n    </tr>\n  </thead>\n  <tbody>\n    <tr>\n      <th>0</th>\n      <td>Alessandro leite</td>\n      <td>2014-11-05T22:21:36</td>\n      <td>pls http://www10.vakinha.com.br/VaquinhaE.aspx?e=313327 help me get vip gun  cross fire al﻿</td>\n      <td>1</td>\n      <td>1</td>\n    </tr>\n    <tr>\n      <th>1</th>\n      <td>Salim Tayara</td>\n      <td>2014-11-02T14:33:30</td>\n      <td>if your like drones, plz subscribe to Kamal Tayara. He takes videos with  his drone that are absolutely beautiful.﻿</td>\n      <td>1</td>\n      <td>1</td>\n    </tr>\n    <tr>\n      <th>5</th>\n      <td>Giang Nguyen</td>\n      <td>2014-11-06T04:55:41</td>\n      <td>https://www.facebook.com/teeLaLaLa﻿</td>\n      <td>1</td>\n      <td>1</td>\n    </tr>\n    <tr>\n      <th>7</th>\n      <td>Holly</td>\n      <td>2014-11-06T13:41:30</td>\n      <td>Follow me on Twitter @mscalifornia95﻿</td>\n      <td>1</td>\n      <td>1</td>\n    </tr>\n    <tr>\n      <th>9</th>\n      <td>iKap Taz</td>\n      <td>2014-11-08T13:34:27</td>\n      <td>Follow 4 Follow                           @ VaahidMustafic Like 4 Like ﻿</td>\n      <td>1</td>\n      <td>1</td>\n    </tr>\n    <tr>\n      <th>12</th>\n      <td>Malin Linford</td>\n      <td>2014-11-05T01:13:43</td>\n      <td>Hey guys please check out my new Google+ page it has many funny pictures,  FunnyTortsPics  https://plus.google.com/112720997191206369631/post﻿</td>\n      <td>1</td>\n      <td>1</td>\n    </tr>\n    <tr>\n      <th>13</th>\n      <td>Lone Twistt</td>\n      <td>2013-11-28T17:34:55</td>\n      <td>Once you have started reading do not stop. If you do not subscribe to me  within one day you and you're entire family will die so if you want to stay  alive subscribe right now.﻿</td>\n      <td>1</td>\n      <td>1</td>\n    </tr>\n    <tr>\n      <th>14</th>\n      <td>Олег Пась</td>\n      <td>2014-11-03T23:29:00</td>\n      <td>Plizz withing my channel ﻿</td>\n      <td>1</td>\n      <td>1</td>\n    </tr>\n    <tr>\n      <th>15</th>\n      <td>JD COKE</td>\n      <td>2014-11-08T02:24:02</td>\n      <td>It's so hard, sad :( iThat little child Actor HWANG MINOO dancing very  active child is suffering from brain tumor, only 6 month left for him .Hard  to believe .. Keep praying everyone for our future superstar.  #StrongLittlePsY #Fighting  SHARE EVERYONE PRAYING FOR HIM http://ygunited.com/2014/11/08/little-psy-from-the-has-brain-tumor-6-months-left-to-live/ ﻿</td>\n      <td>1</td>\n      <td>1</td>\n    </tr>\n    <tr>\n      <th>17</th>\n      <td>Rancy Gaming</td>\n      <td>2014-11-06T09:41:07</td>\n      <td>What free gift cards? Go here  http://www.swagbucks.com/p/register?rb=13017194﻿</td>\n      <td>1</td>\n      <td>1</td>\n    </tr>\n  </tbody>\n</table>\n</div>"
     },
     "execution_count": 6,
     "metadata": {},
     "output_type": "execute_result"
    }
   ],
   "source": [
    "# some examples of negative (=spam) samples, label id 0\n",
    "\n",
    "df_train.loc[df_train[\"label\"]==1][:10]"
   ]
  },
  {
   "cell_type": "markdown",
   "metadata": {},
   "source": [
    "Now it is time to start weak supervision! So, let's imagin the gold labels disappeared... <img src=\"img/poof.jpg\" width=\"300\"/>"
   ]
  },
  {
   "cell_type": "markdown",
   "metadata": {},
   "source": [
    "... and here we are: there is some data we want to use for classifier training, but we don't have any labels and capacity/time/money/... for hiring annotators.\n",
    "\n",
    "But we can label this data with **weak supervision** :)\n",
    "\n",
    "<img src=\"img/rainbow.png\" width=\"500\"/>"
   ]
  },
  {
   "cell_type": "markdown",
   "metadata": {},
   "source": [
    "# Weak Supervision\n",
    "\n",
    "A brief reminder how weak supervision works:\n",
    "1. We come up with some heuristic rules and transform these rules into labeling functions.\n",
    "2. We apply these labeling functions to the data and obtain weak labels.\n",
    "\n",
    "TODO: add more here"
   ]
  },
  {
   "cell_type": "markdown",
   "metadata": {},
   "source": [
    "### Task: let's have a closer look at the samples and answer the following questions:"
   ]
  },
  {
   "cell_type": "markdown",
   "metadata": {
    "ExecuteTime": {
     "end_time": "2023-08-09T21:04:15.013913Z",
     "start_time": "2023-08-09T21:04:15.007312Z"
    }
   },
   "source": [
    "*What labeling functions do you think are productive and useful to annotate the YouTube spam dataset?* \n",
    "\n",
    "*What rules might help to distinguish between spam and not-spam YouTube comments?*\n",
    "\n",
    "*What patterns are typical for spam YouTube comments? for non-spam comments?*"
   ]
  },
  {
   "cell_type": "code",
   "execution_count": 7,
   "metadata": {
    "ExecuteTime": {
     "start_time": "2023-09-06T14:39:36.221241Z",
     "end_time": "2023-09-06T14:39:36.404873Z"
    }
   },
   "outputs": [
    {
     "data": {
      "text/plain": "                                                                                                                                                                                                                                                                                                                                                                                                                           text  \\\n0                                                                                                                                                                                                                                                                                                                                   pls http://www10.vakinha.com.br/VaquinhaE.aspx?e=313327 help me get vip gun  cross fire al﻿   \n1                                                                                                                                                                                                                                                                                                           if your like drones, plz subscribe to Kamal Tayara. He takes videos with  his drone that are absolutely beautiful.﻿   \n2                                                                                                                                                                                                                                                                                                                                                                                                go here to check the views :3﻿   \n3                                                                                                                                                                                                                                                                                                                                                                                       Came here to check the views, goodbye.﻿   \n4                                                                                                                                                                                                                                                                                                                                                                                                 i am 2,126,492,636 viewer :D﻿   \n5                                                                                                                                                                                                                                                                                                                                                                                           https://www.facebook.com/teeLaLaLa﻿   \n6                                                                                                                                                                                                                                                                                                                                           imagine if this guy put adsense on with all these views... u could pay ur  morgage﻿   \n7                                                                                                                                                                                                                                                                                                                                                                                         Follow me on Twitter @mscalifornia95﻿   \n8                                                                                                                                                                                                                                                                                                                                                                              Can we reach 3 billion views by December 2014? ﻿   \n9                                                                                                                                                                                                                                                                                                                                                      Follow 4 Follow                           @ VaahidMustafic Like 4 Like ﻿   \n10                                                                                                                                                                                                                                                                                                                                                                         On 0:02 u can see the camera man on his glasses....﻿   \n11                                                                                                                                                                                                                                                                                                                      2 billion views wow not even baby by justin beibs has that much he doesn't  deserve a capitalized name﻿   \n12                                                                                                                                                                                                                                                                               Hey guys please check out my new Google+ page it has many funny pictures,  FunnyTortsPics  https://plus.google.com/112720997191206369631/post﻿   \n13                                                                                                                                                                                                                                           Once you have started reading do not stop. If you do not subscribe to me  within one day you and you're entire family will die so if you want to stay  alive subscribe right now.﻿   \n14                                                                                                                                                                                                                                                                                                                                                                                                   Plizz withing my channel ﻿   \n15                                                   It's so hard, sad :( iThat little child Actor HWANG MINOO dancing very  active child is suffering from brain tumor, only 6 month left for him .Hard  to believe .. Keep praying everyone for our future superstar.  #StrongLittlePsY #Fighting  SHARE EVERYONE PRAYING FOR HIM http://ygunited.com/2014/11/08/little-psy-from-the-has-brain-tumor-6-months-left-to-live/ ﻿   \n16                                                                                                                                                                                                                                                                                                                                i think about 100 millions of the views come from people who only wanted to  check the views﻿   \n17                                                                                                                                                                                                                                                                                                                                              What free gift cards? Go here  http://www.swagbucks.com/p/register?rb=13017194﻿   \n18  https://www.facebook.com/SchoolGeniusNITS/photos/ms.c.eJw9kVkOxDAMQm808h5z~;4sNjqP~_tHqBEuM69AQUp1Ih~_fPHgk5zLLsVdQv0ZUf0MB~;LnUJ~;ufTH4YoKfRxYts2zvrrp6qGtw67y~;L551h~;f7~_vlcZzRG8vGCTlPSD9ONGeWhj8~_GIbu~;S3lzMvY~;IQ2~;TwSfzz9WHn7JUSvHufpglQRZczl05fNPhaGeVb3x8yDmC6X~_~;jTcjnMho~;vfXWCjZyvWObihrnGx2ocjnG2PG1EvHXzyjD~_o3h~_RY6f57sPrnD2xV~;~_BzszZ~;8~-.bps.a.390875584405933/391725794320912/?type=1&amp;theater ﻿   \n19                                                                                                                                                                                                                                                                                                                                                                                                       What my gangnam style﻿   \n\n    label  \n0       1  \n1       1  \n2       0  \n3       0  \n4       0  \n5       1  \n6       0  \n7       1  \n8       0  \n9       1  \n10      0  \n11      0  \n12      1  \n13      1  \n14      1  \n15      1  \n16      0  \n17      1  \n18      1  \n19      0  ",
      "text/html": "<div>\n<style scoped>\n    .dataframe tbody tr th:only-of-type {\n        vertical-align: middle;\n    }\n\n    .dataframe tbody tr th {\n        vertical-align: top;\n    }\n\n    .dataframe thead th {\n        text-align: right;\n    }\n</style>\n<table border=\"1\" class=\"dataframe\">\n  <thead>\n    <tr style=\"text-align: right;\">\n      <th></th>\n      <th>text</th>\n      <th>label</th>\n    </tr>\n  </thead>\n  <tbody>\n    <tr>\n      <th>0</th>\n      <td>pls http://www10.vakinha.com.br/VaquinhaE.aspx?e=313327 help me get vip gun  cross fire al﻿</td>\n      <td>1</td>\n    </tr>\n    <tr>\n      <th>1</th>\n      <td>if your like drones, plz subscribe to Kamal Tayara. He takes videos with  his drone that are absolutely beautiful.﻿</td>\n      <td>1</td>\n    </tr>\n    <tr>\n      <th>2</th>\n      <td>go here to check the views :3﻿</td>\n      <td>0</td>\n    </tr>\n    <tr>\n      <th>3</th>\n      <td>Came here to check the views, goodbye.﻿</td>\n      <td>0</td>\n    </tr>\n    <tr>\n      <th>4</th>\n      <td>i am 2,126,492,636 viewer :D﻿</td>\n      <td>0</td>\n    </tr>\n    <tr>\n      <th>5</th>\n      <td>https://www.facebook.com/teeLaLaLa﻿</td>\n      <td>1</td>\n    </tr>\n    <tr>\n      <th>6</th>\n      <td>imagine if this guy put adsense on with all these views... u could pay ur  morgage﻿</td>\n      <td>0</td>\n    </tr>\n    <tr>\n      <th>7</th>\n      <td>Follow me on Twitter @mscalifornia95﻿</td>\n      <td>1</td>\n    </tr>\n    <tr>\n      <th>8</th>\n      <td>Can we reach 3 billion views by December 2014? ﻿</td>\n      <td>0</td>\n    </tr>\n    <tr>\n      <th>9</th>\n      <td>Follow 4 Follow                           @ VaahidMustafic Like 4 Like ﻿</td>\n      <td>1</td>\n    </tr>\n    <tr>\n      <th>10</th>\n      <td>On 0:02 u can see the camera man on his glasses....﻿</td>\n      <td>0</td>\n    </tr>\n    <tr>\n      <th>11</th>\n      <td>2 billion views wow not even baby by justin beibs has that much he doesn't  deserve a capitalized name﻿</td>\n      <td>0</td>\n    </tr>\n    <tr>\n      <th>12</th>\n      <td>Hey guys please check out my new Google+ page it has many funny pictures,  FunnyTortsPics  https://plus.google.com/112720997191206369631/post﻿</td>\n      <td>1</td>\n    </tr>\n    <tr>\n      <th>13</th>\n      <td>Once you have started reading do not stop. If you do not subscribe to me  within one day you and you're entire family will die so if you want to stay  alive subscribe right now.﻿</td>\n      <td>1</td>\n    </tr>\n    <tr>\n      <th>14</th>\n      <td>Plizz withing my channel ﻿</td>\n      <td>1</td>\n    </tr>\n    <tr>\n      <th>15</th>\n      <td>It's so hard, sad :( iThat little child Actor HWANG MINOO dancing very  active child is suffering from brain tumor, only 6 month left for him .Hard  to believe .. Keep praying everyone for our future superstar.  #StrongLittlePsY #Fighting  SHARE EVERYONE PRAYING FOR HIM http://ygunited.com/2014/11/08/little-psy-from-the-has-brain-tumor-6-months-left-to-live/ ﻿</td>\n      <td>1</td>\n    </tr>\n    <tr>\n      <th>16</th>\n      <td>i think about 100 millions of the views come from people who only wanted to  check the views﻿</td>\n      <td>0</td>\n    </tr>\n    <tr>\n      <th>17</th>\n      <td>What free gift cards? Go here  http://www.swagbucks.com/p/register?rb=13017194﻿</td>\n      <td>1</td>\n    </tr>\n    <tr>\n      <th>18</th>\n      <td>https://www.facebook.com/SchoolGeniusNITS/photos/ms.c.eJw9kVkOxDAMQm808h5z~;4sNjqP~_tHqBEuM69AQUp1Ih~_fPHgk5zLLsVdQv0ZUf0MB~;LnUJ~;ufTH4YoKfRxYts2zvrrp6qGtw67y~;L551h~;f7~_vlcZzRG8vGCTlPSD9ONGeWhj8~_GIbu~;S3lzMvY~;IQ2~;TwSfzz9WHn7JUSvHufpglQRZczl05fNPhaGeVb3x8yDmC6X~_~;jTcjnMho~;vfXWCjZyvWObihrnGx2ocjnG2PG1EvHXzyjD~_o3h~_RY6f57sPrnD2xV~;~_BzszZ~;8~-.bps.a.390875584405933/391725794320912/?type=1&amp;amp;theater ﻿</td>\n      <td>1</td>\n    </tr>\n    <tr>\n      <th>19</th>\n      <td>What my gangnam style﻿</td>\n      <td>0</td>\n    </tr>\n  </tbody>\n</table>\n</div>"
     },
     "execution_count": 7,
     "metadata": {},
     "output_type": "execute_result"
    }
   ],
   "source": [
    "df_train[[\"text\", \"label\"]][:20]"
   ]
  },
  {
   "cell_type": "markdown",
   "metadata": {},
   "source": [
    "Rules: \n",
    "\n",
    "1. ...\n",
    "2. ...\n",
    "3. ...\n",
    "4. ...\n",
    "5. ...\n",
    "6. ...\n",
    "7. ...\n",
    "8. ...\n",
    "9. ...\n",
    "10. ...\n",
    "\n"
   ]
  },
  {
   "cell_type": "markdown",
   "metadata": {},
   "source": [
    "My examples of rules: \n",
    "- \"check\"/\"check out\": if there is a collocation \"check out\" in the comment, most probably this comment is spam (and the comment author is promoting his/her channel)\n",
    "- \"subscribe\": same\n",
    "- \"my\": same\n",
    "- ...\n",
    " "
   ]
  },
  {
   "cell_type": "markdown",
   "metadata": {},
   "source": [
    "### What can be a rule?\n",
    "\n",
    "- Keyword searches: looking for specific words in a sentence\n",
    "- Pattern matching: looking for specific syntactical patterns\n",
    "- Third-party models: using an pre-trained model (usually a model for a different task than the one at hand)\n",
    "- ...\n",
    "- Crowdworker labels: treating each crowdworker as a black-box function that assigns labels to subsets of the data"
   ]
  },
  {
   "cell_type": "markdown",
   "metadata": {},
   "source": [
    "### Rules into labeling functions\n",
    "\n",
    "After we collected some rules, we transform them into labeling functions that could *label* the data sample - that is, assign it to one or another class. "
   ]
  },
  {
   "cell_type": "code",
   "execution_count": 8,
   "metadata": {
    "ExecuteTime": {
     "start_time": "2023-09-06T14:39:36.243426Z",
     "end_time": "2023-09-06T14:39:36.405265Z"
    }
   },
   "outputs": [],
   "source": [
    "# an example of LF based on a keyword \"check out\"\n",
    "\n",
    "def check_out(x):\n",
    "    return 1 if \"check out\" in x.text.lower() else -1\n",
    "\n",
    "# meaning the sample will be assigned to class 1 (=SPAM) if there is a \"check out\" expression in the comment, \n",
    "# otherwise to class 0 (=non-SPAM)"
   ]
  },
  {
   "cell_type": "code",
   "execution_count": 9,
   "metadata": {
    "ExecuteTime": {
     "start_time": "2023-09-06T14:39:36.248283Z",
     "end_time": "2023-09-06T14:39:36.405955Z"
    }
   },
   "outputs": [],
   "source": [
    "# an example of LF based on a key word \"please\"\n",
    "\n",
    "def check(x):\n",
    "    return 1 if \"please\" in x.text.lower() else -1\n",
    "\n",
    "# meaning the sample will be assigned to class 1 (=SPAM) if there is a \"please\" expression in the comment, \n",
    "# otherwise to class 0 (=non-SPAM)"
   ]
  },
  {
   "cell_type": "markdown",
   "metadata": {
    "ExecuteTime": {
     "end_time": "2023-08-09T22:01:27.414881Z",
     "start_time": "2023-08-09T22:01:26.383285Z"
    }
   },
   "source": [
    "### Labeling functions we are going to use\n",
    "\n",
    "In this tutorial, we are going to use the labeling functions created by [Snorkel team](https://github.com/snorkel-team/snorkel-tutorials/blob/master/spam/01_spam_tutorial.ipynb), which are: \n",
    "\n",
    "\n",
    "1. keyword **\"my\"** (to detect spam comments like \"my channel\", \"my video\", etc)\n",
    "2. keyword **\"subscribe\"** (to detect spam comments that ask users to subscribe to some channel)\n",
    "3. keyword **\"http\"** (to detect spam comments that link to other channels)\n",
    "4. keyword **\"please\"/\"plz\"** (to detect spam comments that make requests rather than commenting)\n",
    "5. keyword **\"song\"** (to detect non-spam comments that actually talk about the video's content)\n",
    "6. regex **\"check_out\"** (to detect spam comments like \"check out this channel\", etc)\n",
    "7. **short comment** (non-spam comments are often short, such as 'cool video!')\n",
    "8. **mentioning specific people** and are **short** (using SpaCy library; non-spam comments usually mention some people)\n",
    "9. **polarity** (using TextBlob library; if polarity > 0.9, it is most probably a non-spam message)\n",
    "10. **subjectivity** (using TextBlob library; if subjectivity >= 0.5, it is most probably a non-spam message)\n",
    "\n",
    "(We are not going into details of the labeling process here now - you will hear more about it from my colleagues later). "
   ]
  },
  {
   "cell_type": "markdown",
   "metadata": {},
   "source": [
    "### Processed data\n",
    "\n",
    "The resulted annotations can be saved in the following format: "
   ]
  },
  {
   "cell_type": "code",
   "execution_count": 10,
   "metadata": {
    "ExecuteTime": {
     "start_time": "2023-09-06T14:39:36.262232Z",
     "end_time": "2023-09-06T14:39:36.406915Z"
    }
   },
   "outputs": [
    {
     "data": {
      "text/plain": "{'data': {'text': 'if your like drones, plz subscribe to Kamal Tayara. He takes videos with  his drone that are absolutely beautiful.\\ufeff'},\n 'label': 1,\n 'weak_labels': [-1, 1, -1, 1, -1, -1, -1, -1, -1, 0]}"
     },
     "execution_count": 10,
     "metadata": {},
     "output_type": "execute_result"
    }
   ],
   "source": [
    "import json\n",
    "with open(\"data/youtube/train.json\") as train_file:\n",
    "    train_data = json.load(train_file)\n",
    "train_data[\"1\"]"
   ]
  },
  {
   "cell_type": "markdown",
   "metadata": {
    "ExecuteTime": {
     "end_time": "2023-08-10T14:38:12.461055Z",
     "start_time": "2023-08-10T14:38:12.445819Z"
    }
   },
   "source": [
    "The structure of the processed data is the following: \n",
    "- data.text: the text of the sample\n",
    "- label: gold label obtained by manual annotation\n",
    "- weak_labels: the results of annotation by labeling functions. \n",
    "    - -1: the corresponding labeling function did not match\n",
    "    - 0: the labeling function matched and assigned this sample to class 0 (non-spam class in our case)\n",
    "    - 1: the labeling function matched and assigned this sample to class 1 (spam class in our case)\n",
    "\n",
    "So, for the sample #1:\n",
    "(*if your like drones, plz subscribe to Kamal Tayara. He takes videos with  his drone that are absolutely beautiful.\\ufeff*)\n",
    "\n",
    "- labeling functions 1, 3, 5, 6, 7, 8, 9 did not match\n",
    "- labeling functions 2 (a key word *subscribe*) & 4 (a key word *plz*) matched and assigned this sample to the class 1\n",
    "- labeling function 10 (subjectivity score > 0.5) matched and assigned this sample to the class 0\n",
    "\n",
    "**Next step: how to turn these annotations into weak labels to train a classifier with them?**"
   ]
  },
  {
   "cell_type": "markdown",
   "metadata": {
    "ExecuteTime": {
     "end_time": "2023-08-10T15:48:13.475728Z",
     "start_time": "2023-08-10T15:48:13.094259Z"
    }
   },
   "source": [
    "## Weak labels"
   ]
  },
  {
   "cell_type": "markdown",
   "metadata": {
    "ExecuteTime": {
     "end_time": "2023-08-10T15:48:15.062358Z",
     "start_time": "2023-08-10T15:48:15.049170Z"
    }
   },
   "source": [
    "There are different *label models* that calculate the weak labels based on labeling functions annotations. In this tutorial, we are going to try two of them: \n",
    "\n",
    "- **Majority Vote** (intuitive and straightforward)\n",
    "- **FABLE** [1] (most recent and well-performing)\n",
    "\n",
    "For label calculation and model training we will use a weakly supervised framework called [Wrench](https://www.google.com/url?sa=t&rct=j&q=&esrc=s&source=web&cd=&cad=rja&uact=8&ved=2ahUKEwiRmYabjOGAAxW1h_0HHQt3COQQFnoECA4QAQ&url=https%3A%2F%2Fgithub.com%2FJieyuZ2%2Fwrench&usg=AOvVaw3EWVM0icLVHENbUv51USa_&opi=89978449) [2]."
   ]
  },
  {
   "cell_type": "markdown",
   "metadata": {},
   "source": [
    "### Wrench dataset"
   ]
  },
  {
   "cell_type": "markdown",
   "metadata": {},
   "source": [
    "First, we transform our data into a Wrench-specific dataset.\n",
    "\n",
    "We can encode the data with TF-IDF features... "
   ]
  },
  {
   "cell_type": "code",
   "execution_count": 11,
   "metadata": {
    "ExecuteTime": {
     "start_time": "2023-09-06T14:39:38.942436Z",
     "end_time": "2023-09-06T14:39:39.327477Z"
    }
   },
   "outputs": [
    {
     "name": "stdout",
     "output_type": "stream",
     "text": [
      "2023-09-06 14:39:38 - loading data from data/youtube/train.json\n"
     ]
    },
    {
     "data": {
      "text/plain": "  0%|          | 0/1586 [00:00<?, ?it/s]",
      "application/vnd.jupyter.widget-view+json": {
       "version_major": 2,
       "version_minor": 0,
       "model_id": "9d4e75b191184883b8f46b0476a6870d"
      }
     },
     "metadata": {},
     "output_type": "display_data"
    },
    {
     "name": "stdout",
     "output_type": "stream",
     "text": [
      "2023-09-06 14:39:39 - loading data from data/youtube/valid.json\n"
     ]
    },
    {
     "data": {
      "text/plain": "  0%|          | 0/120 [00:00<?, ?it/s]",
      "application/vnd.jupyter.widget-view+json": {
       "version_major": 2,
       "version_minor": 0,
       "model_id": "55136aaa13e44a3692da61bf0f12c4f1"
      }
     },
     "metadata": {},
     "output_type": "display_data"
    },
    {
     "name": "stdout",
     "output_type": "stream",
     "text": [
      "2023-09-06 14:39:39 - loading data from data/youtube/test.json\n"
     ]
    },
    {
     "data": {
      "text/plain": "  0%|          | 0/250 [00:00<?, ?it/s]",
      "application/vnd.jupyter.widget-view+json": {
       "version_major": 2,
       "version_minor": 0,
       "model_id": "348d3e8dd18542c6aeed1e1868368232"
      }
     },
     "metadata": {},
     "output_type": "display_data"
    }
   ],
   "source": [
    "# TF-IDF features\n",
    "\n",
    "from wrench.dataset import load_dataset\n",
    "\n",
    "train_data_tfidf, valid_data_tfidf, test_data_tfidf = load_dataset(\n",
    "    path_to_data,     # path to the folder where the dataset is stored\n",
    "    \"youtube\",         # name of the dataset\n",
    "    extract_feature=True,      # we want to encode out data ...\n",
    "    extract_fn='tfidf'        # ... with TF-IDF features (other predefined options are 'sentence_transformer', 'bert')\n",
    ")"
   ]
  },
  {
   "cell_type": "markdown",
   "metadata": {},
   "source": [
    "... or with BERT features."
   ]
  },
  {
   "cell_type": "code",
   "execution_count": 13,
   "metadata": {
    "ExecuteTime": {
     "start_time": "2023-09-06T14:39:49.697657Z",
     "end_time": "2023-09-06T14:39:49.844038Z"
    }
   },
   "outputs": [
    {
     "name": "stdout",
     "output_type": "stream",
     "text": [
      "2023-09-06 14:39:49 - loading data from data/youtube/train.json\n"
     ]
    },
    {
     "data": {
      "text/plain": "  0%|          | 0/1586 [00:00<?, ?it/s]",
      "application/vnd.jupyter.widget-view+json": {
       "version_major": 2,
       "version_minor": 0,
       "model_id": "10302b455dd24e19b8145908576a23c7"
      }
     },
     "metadata": {},
     "output_type": "display_data"
    },
    {
     "name": "stdout",
     "output_type": "stream",
     "text": [
      "2023-09-06 14:39:49 - loading data from data/youtube/valid.json\n"
     ]
    },
    {
     "data": {
      "text/plain": "  0%|          | 0/120 [00:00<?, ?it/s]",
      "application/vnd.jupyter.widget-view+json": {
       "version_major": 2,
       "version_minor": 0,
       "model_id": "3f00f49618a646c48594c708a7c61809"
      }
     },
     "metadata": {},
     "output_type": "display_data"
    },
    {
     "name": "stdout",
     "output_type": "stream",
     "text": [
      "2023-09-06 14:39:49 - loading data from data/youtube/test.json\n"
     ]
    },
    {
     "data": {
      "text/plain": "  0%|          | 0/250 [00:00<?, ?it/s]",
      "application/vnd.jupyter.widget-view+json": {
       "version_major": 2,
       "version_minor": 0,
       "model_id": "f0bed260554547408019bb769ce11bd2"
      }
     },
     "metadata": {},
     "output_type": "display_data"
    },
    {
     "name": "stdout",
     "output_type": "stream",
     "text": [
      "2023-09-06 14:39:49 - loading features from data/youtube/train_bert.pkl\n",
      "2023-09-06 14:39:49 - loading features from data/youtube/valid_bert.pkl\n",
      "2023-09-06 14:39:49 - loading features from data/youtube/test_bert.pkl\n"
     ]
    }
   ],
   "source": [
    "# Bert features\n",
    "\n",
    "train_data, valid_data, test_data = load_dataset(\n",
    "    path_to_data,       # path to the folder where the dataset is stored\n",
    "    \"youtube\",    # name of the dataset\n",
    "    extract_feature=True,      # we want to encode out data ...\n",
    "    extract_fn='bert',        # ... with bert embeddings\n",
    "    model_name='bert-base-cased',      # the name of the bert model\n",
    "    cache_name='bert'     # load it from cache if there are cached files \n",
    ")"
   ]
  },
  {
   "cell_type": "markdown",
   "metadata": {},
   "source": [
    "Let's have a look what's inside. "
   ]
  },
  {
   "cell_type": "code",
   "execution_count": 14,
   "metadata": {
    "ExecuteTime": {
     "start_time": "2023-09-06T14:39:51.296884Z",
     "end_time": "2023-09-06T14:39:51.325318Z"
    }
   },
   "outputs": [
    {
     "data": {
      "text/plain": "<wrench.dataset.dataset.TextDataset at 0x7fbc9767f730>"
     },
     "execution_count": 14,
     "metadata": {},
     "output_type": "execute_result"
    }
   ],
   "source": [
    "# the format of the train_data, valida_data, and test_data now is: wrench.dataset.dataset.TextDataset\n",
    "\n",
    "train_data"
   ]
  },
  {
   "cell_type": "code",
   "execution_count": 15,
   "metadata": {
    "ExecuteTime": {
     "start_time": "2023-09-06T14:39:51.581759Z",
     "end_time": "2023-09-06T14:39:51.588671Z"
    }
   },
   "outputs": [
    {
     "data": {
      "text/plain": "2"
     },
     "execution_count": 15,
     "metadata": {},
     "output_type": "execute_result"
    }
   ],
   "source": [
    "# how many classes are there in the dataset?\n",
    "\n",
    "train_data.n_class"
   ]
  },
  {
   "cell_type": "code",
   "execution_count": 16,
   "metadata": {
    "ExecuteTime": {
     "start_time": "2023-09-06T14:39:51.789971Z",
     "end_time": "2023-09-06T14:39:51.816447Z"
    }
   },
   "outputs": [
    {
     "data": {
      "text/plain": "10"
     },
     "execution_count": 16,
     "metadata": {},
     "output_type": "execute_result"
    }
   ],
   "source": [
    "# how many labeling functions are there in the dataset?\n",
    "\n",
    "train_data.n_lf"
   ]
  },
  {
   "cell_type": "code",
   "execution_count": 17,
   "metadata": {
    "ExecuteTime": {
     "start_time": "2023-09-06T14:39:52.025483Z",
     "end_time": "2023-09-06T14:39:52.042243Z"
    }
   },
   "outputs": [
    {
     "data": {
      "text/plain": "{0: 'HAM', 1: 'SPAM'}"
     },
     "execution_count": 17,
     "metadata": {},
     "output_type": "execute_result"
    }
   ],
   "source": [
    "# what is the class_id to class correspondence?\n",
    "\n",
    "train_data.id2label"
   ]
  },
  {
   "cell_type": "code",
   "execution_count": 18,
   "metadata": {
    "ExecuteTime": {
     "start_time": "2023-09-06T14:39:52.215335Z",
     "end_time": "2023-09-06T14:39:52.240657Z"
    }
   },
   "outputs": [
    {
     "data": {
      "text/plain": "[{'text': 'pls http://www10.vakinha.com.br/VaquinhaE.aspx?e=313327 help me get vip gun  cross fire al\\ufeff'},\n {'text': 'if your like drones, plz subscribe to Kamal Tayara. He takes videos with  his drone that are absolutely beautiful.\\ufeff'},\n {'text': 'go here to check the views :3\\ufeff'},\n {'text': 'Came here to check the views, goodbye.\\ufeff'},\n {'text': 'i am 2,126,492,636 viewer :D\\ufeff'},\n {'text': 'https://www.facebook.com/teeLaLaLa\\ufeff'},\n {'text': 'imagine if this guy put adsense on with all these views... u could pay ur  morgage\\ufeff'},\n {'text': 'Follow me on Twitter @mscalifornia95\\ufeff'},\n {'text': 'Can we reach 3 billion views by December 2014? \\ufeff'},\n {'text': 'Follow 4 Follow                           @ VaahidMustafic Like 4 Like \\ufeff'}]"
     },
     "execution_count": 18,
     "metadata": {},
     "output_type": "execute_result"
    }
   ],
   "source": [
    "# how do the samples look like?\n",
    "\n",
    "train_data.examples[:10]"
   ]
  },
  {
   "cell_type": "code",
   "execution_count": 19,
   "metadata": {
    "ExecuteTime": {
     "start_time": "2023-09-06T14:39:52.456662Z",
     "end_time": "2023-09-06T14:39:52.499963Z"
    }
   },
   "outputs": [
    {
     "name": "stdout",
     "output_type": "stream",
     "text": [
      "<class 'numpy.ndarray'>\n"
     ]
    },
    {
     "data": {
      "text/plain": "array([[-0.7608848 ,  0.4292751 ,  0.99990165, ...,  0.99997175,\n        -0.7515034 ,  0.9910971 ],\n       [-0.7922811 ,  0.47435865,  0.9999021 , ...,  0.9999663 ,\n        -0.7555875 ,  0.9860616 ],\n       [-0.71461093,  0.4088342 ,  0.9997614 , ...,  0.9999327 ,\n        -0.5964781 ,  0.98014975],\n       ...,\n       [-0.7311086 ,  0.40834075,  0.9998686 , ...,  0.99996996,\n        -0.6895463 ,  0.9860986 ],\n       [-0.606766  ,  0.48277682,  0.99963987, ...,  0.9999085 ,\n        -0.89470583,  0.97945964],\n       [-0.7177589 ,  0.49044982,  0.9998655 , ...,  0.999958  ,\n        -0.82362586,  0.9884726 ]], dtype=float32)"
     },
     "execution_count": 19,
     "metadata": {},
     "output_type": "execute_result"
    }
   ],
   "source": [
    "# how do the encoded samples look like?\n",
    "\n",
    "print(type(train_data.features))\n",
    "train_data.features[:10]"
   ]
  },
  {
   "cell_type": "code",
   "execution_count": 20,
   "metadata": {
    "ExecuteTime": {
     "start_time": "2023-09-06T14:39:53.275678Z",
     "end_time": "2023-09-06T14:39:53.284185Z"
    }
   },
   "outputs": [
    {
     "data": {
      "text/plain": "[-1, -1, -1, -1, -1, -1, -1, -1, -1, -1]"
     },
     "execution_count": 20,
     "metadata": {},
     "output_type": "execute_result"
    }
   ],
   "source": [
    "# what are the weak annotations produced by labeling functions?\n",
    "\n",
    "train_data.weak_labels[3]"
   ]
  },
  {
   "cell_type": "markdown",
   "metadata": {
    "ExecuteTime": {
     "end_time": "2023-08-09T21:57:30.953595Z",
     "start_time": "2023-08-09T21:57:30.941063Z"
    }
   },
   "source": [
    "### Majority Vote\n",
    "\n",
    "The simplest and most straightforward method to calculate labels from the noisy annotations is **majority voting** - a decision-making method where the option with the most votes is chosen. It's like asking a group of people to pick a movie, and the one that gets the most hands raised wins. \n",
    "\n",
    "In our case, each labeling function produces a *vote*; the most voted class is selected as a sample label. All ties are broken randomly.\n"
   ]
  },
  {
   "cell_type": "code",
   "execution_count": 21,
   "metadata": {
    "ExecuteTime": {
     "start_time": "2023-09-06T14:39:54.560970Z",
     "end_time": "2023-09-06T14:39:54.585959Z"
    }
   },
   "outputs": [],
   "source": [
    "# initialize and fit the majority vote label model from the Wrench framework\n",
    "\n",
    "label_model = MajorityVoting()\n",
    "label_model.fit(dataset_train=train_data, dataset_valid=valid_data)"
   ]
  },
  {
   "cell_type": "code",
   "execution_count": 22,
   "metadata": {
    "ExecuteTime": {
     "start_time": "2023-09-06T14:39:54.940575Z",
     "end_time": "2023-09-06T14:39:54.972861Z"
    }
   },
   "outputs": [],
   "source": [
    "# calculate weak labels \n",
    "\n",
    "soft_label_mv = label_model.predict_proba(train_data)    # soft label as probabilities across all classes\n",
    "hard_label_mv = probs_to_preds(soft_label_mv)               # hard labels as the most probable classes "
   ]
  },
  {
   "cell_type": "markdown",
   "metadata": {},
   "source": [
    "Let's look at the first 10 sentences, their weak annotations, and the weak labels obtained with majority voting. "
   ]
  },
  {
   "cell_type": "code",
   "execution_count": 23,
   "metadata": {
    "ExecuteTime": {
     "start_time": "2023-09-06T14:39:56.813653Z",
     "end_time": "2023-09-06T14:39:56.836461Z"
    }
   },
   "outputs": [
    {
     "data": {
      "text/plain": "[{'text': 'pls http://www10.vakinha.com.br/VaquinhaE.aspx?e=313327 help me get vip gun  cross fire al\\ufeff'},\n {'text': 'if your like drones, plz subscribe to Kamal Tayara. He takes videos with  his drone that are absolutely beautiful.\\ufeff'},\n {'text': 'go here to check the views :3\\ufeff'},\n {'text': 'Came here to check the views, goodbye.\\ufeff'},\n {'text': 'i am 2,126,492,636 viewer :D\\ufeff'},\n {'text': 'https://www.facebook.com/teeLaLaLa\\ufeff'},\n {'text': 'imagine if this guy put adsense on with all these views... u could pay ur  morgage\\ufeff'},\n {'text': 'Follow me on Twitter @mscalifornia95\\ufeff'},\n {'text': 'Can we reach 3 billion views by December 2014? \\ufeff'},\n {'text': 'Follow 4 Follow                           @ VaahidMustafic Like 4 Like \\ufeff'}]"
     },
     "execution_count": 23,
     "metadata": {},
     "output_type": "execute_result"
    }
   ],
   "source": [
    "train_data.examples[:10]"
   ]
  },
  {
   "cell_type": "code",
   "execution_count": 24,
   "metadata": {
    "ExecuteTime": {
     "start_time": "2023-09-06T14:39:57.130791Z",
     "end_time": "2023-09-06T14:39:57.170848Z"
    }
   },
   "outputs": [
    {
     "data": {
      "text/plain": "[[-1, -1, 1, -1, -1, -1, -1, -1, -1, -1],\n [-1, 1, -1, 1, -1, -1, -1, -1, -1, 0],\n [-1, -1, -1, -1, -1, -1, -1, -1, -1, -1],\n [-1, -1, -1, -1, -1, -1, -1, -1, -1, -1],\n [-1, -1, -1, -1, -1, -1, -1, -1, -1, -1],\n [-1, -1, 1, -1, -1, -1, 0, -1, -1, -1],\n [-1, -1, -1, -1, -1, -1, -1, -1, -1, -1],\n [-1, -1, -1, -1, -1, -1, -1, -1, -1, -1],\n [-1, -1, -1, -1, -1, -1, -1, -1, -1, -1],\n [-1, -1, -1, -1, -1, -1, -1, -1, -1, -1]]"
     },
     "execution_count": 24,
     "metadata": {},
     "output_type": "execute_result"
    }
   ],
   "source": [
    "train_data.weak_labels[:10]"
   ]
  },
  {
   "cell_type": "code",
   "execution_count": 25,
   "metadata": {
    "ExecuteTime": {
     "start_time": "2023-09-06T14:39:57.659314Z",
     "end_time": "2023-09-06T14:39:57.680372Z"
    }
   },
   "outputs": [
    {
     "data": {
      "text/plain": "array([[0.        , 1.        ],\n       [0.33333333, 0.66666667],\n       [0.5       , 0.5       ],\n       [0.5       , 0.5       ],\n       [0.5       , 0.5       ],\n       [0.5       , 0.5       ],\n       [0.5       , 0.5       ],\n       [0.5       , 0.5       ],\n       [0.5       , 0.5       ],\n       [0.5       , 0.5       ]])"
     },
     "execution_count": 25,
     "metadata": {},
     "output_type": "execute_result"
    }
   ],
   "source": [
    "soft_label_mv[:10]"
   ]
  },
  {
   "cell_type": "code",
   "execution_count": 26,
   "metadata": {
    "ExecuteTime": {
     "start_time": "2023-09-06T14:39:57.969665Z",
     "end_time": "2023-09-06T14:39:58.002383Z"
    }
   },
   "outputs": [
    {
     "data": {
      "text/plain": "array([1, 1, 0, 1, 0, 0, 0, 0, 1, 1])"
     },
     "execution_count": 26,
     "metadata": {},
     "output_type": "execute_result"
    }
   ],
   "source": [
    "hard_label_mv[:10]"
   ]
  },
  {
   "cell_type": "markdown",
   "metadata": {},
   "source": [
    "### FABLE \n",
    "\n",
    "todo: a small description\n",
    "\n",
    "(Ben will talk more)"
   ]
  },
  {
   "cell_type": "code",
   "execution_count": 27,
   "metadata": {
    "ExecuteTime": {
     "start_time": "2023-09-06T14:39:58.829608Z",
     "end_time": "2023-09-06T14:40:05.513448Z"
    }
   },
   "outputs": [
    {
     "name": "stdout",
     "output_type": "stream",
     "text": [
      "NaN values included: []\n"
     ]
    },
    {
     "name": "stderr",
     "output_type": "stream",
     "text": [
      "  0%|          | 1/1000 [00:06<1:47:48,  6.48s/iter]"
     ]
    },
    {
     "name": "stdout",
     "output_type": "stream",
     "text": [
      "stop\n"
     ]
    },
    {
     "name": "stderr",
     "output_type": "stream",
     "text": [
      "\n"
     ]
    },
    {
     "data": {
      "text/plain": "array([[0.24324754, 0.75675246],\n       [0.12839195, 0.87160805],\n       [0.49561172, 0.50438828],\n       ...,\n       [0.02786537, 0.97213463],\n       [0.16914026, 0.83085974],\n       [0.0060791 , 0.9939209 ]])"
     },
     "execution_count": 27,
     "metadata": {},
     "output_type": "execute_result"
    }
   ],
   "source": [
    "# initialize and apply the fable model\n",
    "\n",
    "label_model = Fable(kernel_function=None, num_groups=3)\n",
    "label_model.fit(dataset_train=train_data, dataset_valid=valid_data)"
   ]
  },
  {
   "cell_type": "code",
   "execution_count": 28,
   "metadata": {
    "ExecuteTime": {
     "start_time": "2023-09-06T14:40:05.517207Z",
     "end_time": "2023-09-06T14:40:10.757769Z"
    }
   },
   "outputs": [
    {
     "name": "stderr",
     "output_type": "stream",
     "text": [
      "  0%|          | 1/1000 [00:05<1:24:00,  5.05s/iter]"
     ]
    },
    {
     "name": "stdout",
     "output_type": "stream",
     "text": [
      "stop\n"
     ]
    },
    {
     "name": "stderr",
     "output_type": "stream",
     "text": [
      "\n"
     ]
    }
   ],
   "source": [
    "# calculate labels\n",
    "soft_label_fable = label_model.predict_proba(train_data)\n",
    "hard_label_fable = probs_to_preds(soft_label_fable)"
   ]
  },
  {
   "cell_type": "code",
   "execution_count": 29,
   "metadata": {
    "ExecuteTime": {
     "start_time": "2023-09-06T14:40:10.759341Z",
     "end_time": "2023-09-06T14:40:10.764726Z"
    }
   },
   "outputs": [
    {
     "data": {
      "text/plain": "array([[0.37835626, 0.62164374],\n       [0.06289124, 0.93710876],\n       [0.50138864, 0.49861136],\n       [0.57629465, 0.42370535],\n       [0.5355339 , 0.4644661 ],\n       [0.83308048, 0.16691952],\n       [0.51753524, 0.48246476],\n       [0.56924415, 0.43075585],\n       [0.57091262, 0.42908738],\n       [0.52215703, 0.47784297]])"
     },
     "execution_count": 29,
     "metadata": {},
     "output_type": "execute_result"
    }
   ],
   "source": [
    "soft_label_fable[:10]"
   ]
  },
  {
   "cell_type": "code",
   "execution_count": 30,
   "metadata": {
    "ExecuteTime": {
     "start_time": "2023-09-06T14:40:10.770295Z",
     "end_time": "2023-09-06T14:40:10.780395Z"
    }
   },
   "outputs": [
    {
     "data": {
      "text/plain": "array([1, 1, 0, 0, 0, 0, 0, 0, 0, 0])"
     },
     "execution_count": 30,
     "metadata": {},
     "output_type": "execute_result"
    }
   ],
   "source": [
    "hard_label_fable[:10]"
   ]
  },
  {
   "cell_type": "markdown",
   "metadata": {},
   "source": [
    "## Classifier training"
   ]
  },
  {
   "cell_type": "code",
   "execution_count": 31,
   "metadata": {
    "ExecuteTime": {
     "start_time": "2023-09-06T14:40:10.778523Z",
     "end_time": "2023-09-06T14:40:10.883999Z"
    }
   },
   "outputs": [],
   "source": [
    "batch_size = 32\n",
    "test_batch_size = 32\n",
    "lr = 0.01"
   ]
  },
  {
   "cell_type": "markdown",
   "metadata": {},
   "source": [
    "Train a classifier with majorty vote hard labels."
   ]
  },
  {
   "cell_type": "code",
   "execution_count": 31,
   "metadata": {},
   "outputs": [],
   "source": [
    "set_seed(42)\n",
    "\n",
    "# initialize a classifier\n",
    "model = EndClassifierModel(\n",
    "    batch_size=batch_size, test_batch_size=test_batch_size\n",
    ")\n",
    "\n",
    "# fit it on the training data + majority vote hard labels\n",
    "model.fit(\n",
    "    dataset_train=train_data, \n",
    "    y_train=hard_label_mv, \n",
    "    dataset_valid=valid_data, \n",
    "    verbose=False\n",
    ")\n",
    "\n",
    "# test on the test set\n",
    "model.test(dataset=test_data, metric_fn=\"acc\")"
   ]
  },
  {
   "cell_type": "markdown",
   "metadata": {},
   "source": [
    "Train a classifier with FABLE hard labels."
   ]
  },
  {
   "cell_type": "code",
   "execution_count": 79,
   "metadata": {},
   "outputs": [
    {
     "data": {
      "text/plain": [
       "0.888"
      ]
     },
     "execution_count": 79,
     "metadata": {},
     "output_type": "execute_result"
    }
   ],
   "source": [
    "set_seed(42)\n",
    "\n",
    "# initialize a classifier\n",
    "model = EndClassifierModel(\n",
    "    batch_size=batch_size, test_batch_size=test_batch_size\n",
    ")\n",
    "\n",
    "# fit it \n",
    "model.fit(\n",
    "    dataset_train=train_data, \n",
    "    y_train=hard_label_fable, \n",
    "    dataset_valid=valid_data,\n",
    "    verbose=False\n",
    ")\n",
    "\n",
    "# test on the test set\n",
    "model.test(dataset=test_data, metric_fn=\"acc\")"
   ]
  },
  {
   "cell_type": "markdown",
   "metadata": {},
   "source": [
    "## Denoising\n",
    "\n",
    "TODO: SepLL [4]"
   ]
  },
  {
   "cell_type": "code",
   "execution_count": 83,
   "metadata": {},
   "outputs": [
    {
     "name": "stdout",
     "output_type": "stream",
     "text": [
      "2023-09-06 11:55:20 - \n",
      "==========[hyper parameters]==========\n",
      "{\n",
      "    \"batch_size\": 16,\n",
      "    \"real_batch_size\": 8,\n",
      "    \"test_batch_size\": 128,\n",
      "    \"n_steps\": 200,\n",
      "    \"grad_norm\": 1.0,\n",
      "    \"use_lr_scheduler\": false,\n",
      "    \"binary_mode\": false\n",
      "}\n",
      "==========[optimizer config]==========\n",
      "{\n",
      "    \"name\": \"AdamW\",\n",
      "    \"paras\": {\n",
      "        \"lr\": 5e-05,\n",
      "        \"weight_decay\": 0.0\n",
      "    }\n",
      "}\n",
      "==========[backbone config]==========\n",
      "{\n",
      "    \"name\": \"MLP\",\n",
      "    \"paras\": {\n",
      "        \"hidden_size\": 100,\n",
      "        \"dropout\": 0.0,\n",
      "        \"fine_tune_layers\": -1\n",
      "    }\n",
      "}\n",
      "==========[label model_config config]==========\n",
      "{\n",
      "    \"name\": \"MajorityVoting\",\n",
      "    \"paras\": {}\n",
      "}\n",
      "\n"
     ]
    },
    {
     "name": "stderr",
     "output_type": "stream",
     "text": [
      "/Users/asedova/PycharmProjects/WS_tutorial/wrench/dataset/utils.py:43: UserWarning: No unlabeled data found! Use full dataset us unlabeled dataset\n",
      "  warnings.warn('No unlabeled data found! Use full dataset us unlabeled dataset')\n",
      "/Users/asedova/PycharmProjects/WS_tutorial/wrench/endmodel/sepll.py:221: RuntimeWarning: invalid value encountered in true_divide\n",
      "  labeled_dataset.weak_labels / labeled_dataset.weak_labels.sum(axis=1, keepdims=True)\n",
      "/Users/asedova/PycharmProjects/WS_tutorial/wrench/endmodel/sepll.py:225: RuntimeWarning: invalid value encountered in true_divide\n",
      "  dataset_valid.weak_labels / dataset_valid.weak_labels.sum(axis=1, keepdims=True)\n"
     ]
    },
    {
     "data": {
      "application/vnd.jupyter.widget-view+json": {
       "model_id": "b5c50922484e453391546c6cfdb4d384",
       "version_major": 2,
       "version_minor": 0
      },
      "text/plain": [
       "[TRAIN] SepLL:   0%|                                                                                          …"
      ]
     },
     "metadata": {},
     "output_type": "display_data"
    },
    {
     "name": "stdout",
     "output_type": "stream",
     "text": [
      "2023-09-06 11:55:22 - SepLL test acc: 0.648\n"
     ]
    }
   ],
   "source": [
    "from wrench.endmodel.sepll import SepLL\n",
    "\n",
    "set_seed(42)\n",
    "\n",
    "#### Initialize SepLL\n",
    "model = SepLL(\n",
    "    batch_size=16,\n",
    "    real_batch_size=8,\n",
    "    test_batch_size=128,\n",
    "    n_steps=200,\n",
    "    grad_norm=1.0,\n",
    "\n",
    "    backbone='MLP',\n",
    "    # backbone='BERT',\n",
    "    # backbone_model_name=bert_model_name,\n",
    "    backbone_fine_tune_layers=-1,  # fine  tune all\n",
    "    optimizer='AdamW',\n",
    "    optimizer_lr=5e-5,\n",
    "    optimizer_weight_decay=0.0,\n",
    "\n",
    "    # SepLL specific\n",
    "    add_unlabeled=False,\n",
    "    class_noise=0.0,\n",
    "    lf_l2_regularization=0.2,\n",
    ")\n",
    "\n",
    "\n",
    "model.fit(\n",
    "    dataset_train=train_data,\n",
    "    dataset_valid=valid_data,\n",
    "    evaluation_step=10,\n",
    "    metric='acc',\n",
    "    patience=100\n",
    ")\n",
    "\n",
    "acc = model.test(test_data, 'acc')\n",
    "\n",
    "logger.info(f'SepLL test acc: {acc}')"
   ]
  },
  {
   "cell_type": "markdown",
   "metadata": {},
   "source": [
    "# References\n",
    "\n",
    "1. Zhang et al. 2023. Leveraging Instance Features for Label Aggregation in Programmatic Weak Supervision. https://arxiv.org/abs/2210.02724 \n",
    "2. Zhang et al. 2021 WRENCH: A Comprehensive Benchmark for Weak Supervision. https://arxiv.org/abs/2109.11377\n",
    "3. Alberto TC et al.  2015. Tubespam: Comment Spam Filtering on Youtube. https://ieeexplore.ieee.org/document/7424299\n",
    "4. Stephan et al. 2022. SepLL: Separating Latent Class Labels from Weak Supervision Noise. https://arxiv.org/abs/2210.13898\n"
   ]
  },
  {
   "cell_type": "code",
   "execution_count": null,
   "metadata": {},
   "outputs": [],
   "source": []
  }
 ],
 "metadata": {
  "kernelspec": {
   "display_name": "ws-tutorial",
   "language": "python",
   "name": "ws-tutorial"
  },
  "language_info": {
   "codemirror_mode": {
    "name": "ipython",
    "version": 3
   },
   "file_extension": ".py",
   "mimetype": "text/x-python",
   "name": "python",
   "nbconvert_exporter": "python",
   "pygments_lexer": "ipython3",
   "version": "3.8.3"
  }
 },
 "nbformat": 4,
 "nbformat_minor": 1
}
