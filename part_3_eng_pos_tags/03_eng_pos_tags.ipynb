{
 "cells": [
  {
   "cell_type": "markdown",
   "id": "8a9541d5-d3a0-4256-a8cf-8fa5a4fca705",
   "metadata": {},
   "source": [
    "# Part 3: Weakly supervised part-of-speech tagging\n",
    "\n",
    "In this part, we will work on a different type of task, which is called **sequence labeling**. Instead of having one label for an entire text, in sequence labeling, we assign a label to each token in the text.\n",
    "Specifically we chose **Part-of-speech (POS) tagging**, where the goal is to assign a POS tag that indicates a grammatical type, to a word based on its definition and context.\n",
    "\n",
    "\n",
    "<img src=\"../img/pos_tagging.png\" width=\"800\" style=\"display: block; margin: 0 auto\" />\n",
    "\n",
    "\n",
    "\n",
    "In order to perform weakly supervised POS tagging, we will employ the [skweak toolkit](https://github.com/NorskRegnesentral/skweak).\n",
    "We will create labeling functions to assign POS tags based on _syntactic analysis_ and _grammatical rules_.\n"
   ]
  },
  {
   "cell_type": "code",
   "execution_count": 1,
   "id": "initial_id",
   "metadata": {
    "ExecuteTime": {
     "end_time": "2023-09-27T15:39:55.054422Z",
     "start_time": "2023-09-27T15:39:52.053538Z"
    }
   },
   "outputs": [],
   "source": [
    "# Imports\n",
    "%load_ext autoreload\n",
    "%autoreload 2\n",
    "\n",
    "import re\n",
    "import os\n",
    "\n",
    "import pandas as pd\n",
    "\n",
    "import nltk\n",
    "import spacy\n",
    "\n",
    "from textblob import TextBlob\n",
    "from textblob.taggers import PatternTagger\n",
    "\n",
    "import skweak\n",
    "\n",
    "from scripts.skweak_ner_eval import evaluate\n",
    "from scripts.utils import load_data_split, get_frequent_words, tag_all, penntreebank2universal, compute_recall, compute_num_conflicts\n",
    "\n",
    "pd.set_option('display.max_rows', 500)"
   ]
  },
  {
   "cell_type": "code",
   "execution_count": 2,
   "outputs": [
    {
     "name": "stderr",
     "output_type": "stream",
     "text": [
      "[nltk_data] Downloading package averaged_perceptron_tagger to\n",
      "[nltk_data]     /Users/andst/nltk_data...\n",
      "[nltk_data]   Package averaged_perceptron_tagger is already up-to-\n",
      "[nltk_data]       date!\n",
      "[nltk_data] Downloading package universal_tagset to\n",
      "[nltk_data]     /Users/andst/nltk_data...\n",
      "[nltk_data]   Package universal_tagset is already up-to-date!\n",
      "[nltk_data] Downloading package stopwords to /Users/andst/nltk_data...\n",
      "[nltk_data]   Package stopwords is already up-to-date!\n"
     ]
    },
    {
     "name": "stdout",
     "output_type": "stream",
     "text": [
      "Collecting en-core-web-sm==3.6.0\r\n",
      "  Downloading https://github.com/explosion/spacy-models/releases/download/en_core_web_sm-3.6.0/en_core_web_sm-3.6.0-py3-none-any.whl (12.8 MB)\r\n",
      "\u001B[2K     \u001B[90m━━━━━━━━━━━━━━━━━━━━━━━━━━━━━━━━━━━━━━━━\u001B[0m \u001B[32m12.8/12.8 MB\u001B[0m \u001B[31m22.0 MB/s\u001B[0m eta \u001B[36m0:00:00\u001B[0m00:01\u001B[0m00:01\u001B[0m\r\n",
      "\u001B[?25hRequirement already satisfied: spacy<3.7.0,>=3.6.0 in /Users/andst/.cache/conda_envs/WS_tutorial/lib/python3.8/site-packages (from en-core-web-sm==3.6.0) (3.6.1)\r\n",
      "Requirement already satisfied: spacy-legacy<3.1.0,>=3.0.11 in /Users/andst/.cache/conda_envs/WS_tutorial/lib/python3.8/site-packages (from spacy<3.7.0,>=3.6.0->en-core-web-sm==3.6.0) (3.0.12)\r\n",
      "Requirement already satisfied: spacy-loggers<2.0.0,>=1.0.0 in /Users/andst/.cache/conda_envs/WS_tutorial/lib/python3.8/site-packages (from spacy<3.7.0,>=3.6.0->en-core-web-sm==3.6.0) (1.0.4)\r\n",
      "Requirement already satisfied: murmurhash<1.1.0,>=0.28.0 in /Users/andst/.cache/conda_envs/WS_tutorial/lib/python3.8/site-packages (from spacy<3.7.0,>=3.6.0->en-core-web-sm==3.6.0) (1.0.9)\r\n",
      "Requirement already satisfied: cymem<2.1.0,>=2.0.2 in /Users/andst/.cache/conda_envs/WS_tutorial/lib/python3.8/site-packages (from spacy<3.7.0,>=3.6.0->en-core-web-sm==3.6.0) (2.0.7)\r\n",
      "Requirement already satisfied: preshed<3.1.0,>=3.0.2 in /Users/andst/.cache/conda_envs/WS_tutorial/lib/python3.8/site-packages (from spacy<3.7.0,>=3.6.0->en-core-web-sm==3.6.0) (3.0.8)\r\n",
      "Requirement already satisfied: thinc<8.2.0,>=8.1.8 in /Users/andst/.cache/conda_envs/WS_tutorial/lib/python3.8/site-packages (from spacy<3.7.0,>=3.6.0->en-core-web-sm==3.6.0) (8.1.11)\r\n",
      "Requirement already satisfied: wasabi<1.2.0,>=0.9.1 in /Users/andst/.cache/conda_envs/WS_tutorial/lib/python3.8/site-packages (from spacy<3.7.0,>=3.6.0->en-core-web-sm==3.6.0) (1.1.2)\r\n",
      "Requirement already satisfied: srsly<3.0.0,>=2.4.3 in /Users/andst/.cache/conda_envs/WS_tutorial/lib/python3.8/site-packages (from spacy<3.7.0,>=3.6.0->en-core-web-sm==3.6.0) (2.4.7)\r\n",
      "Requirement already satisfied: catalogue<2.1.0,>=2.0.6 in /Users/andst/.cache/conda_envs/WS_tutorial/lib/python3.8/site-packages (from spacy<3.7.0,>=3.6.0->en-core-web-sm==3.6.0) (2.0.9)\r\n",
      "Requirement already satisfied: typer<0.10.0,>=0.3.0 in /Users/andst/.cache/conda_envs/WS_tutorial/lib/python3.8/site-packages (from spacy<3.7.0,>=3.6.0->en-core-web-sm==3.6.0) (0.9.0)\r\n",
      "Requirement already satisfied: pathy>=0.10.0 in /Users/andst/.cache/conda_envs/WS_tutorial/lib/python3.8/site-packages (from spacy<3.7.0,>=3.6.0->en-core-web-sm==3.6.0) (0.10.2)\r\n",
      "Requirement already satisfied: smart-open<7.0.0,>=5.2.1 in /Users/andst/.cache/conda_envs/WS_tutorial/lib/python3.8/site-packages (from spacy<3.7.0,>=3.6.0->en-core-web-sm==3.6.0) (6.3.0)\r\n",
      "Requirement already satisfied: tqdm<5.0.0,>=4.38.0 in /Users/andst/.cache/conda_envs/WS_tutorial/lib/python3.8/site-packages (from spacy<3.7.0,>=3.6.0->en-core-web-sm==3.6.0) (4.66.0)\r\n",
      "Requirement already satisfied: numpy>=1.15.0 in /Users/andst/.cache/conda_envs/WS_tutorial/lib/python3.8/site-packages (from spacy<3.7.0,>=3.6.0->en-core-web-sm==3.6.0) (1.19.5)\r\n",
      "Requirement already satisfied: requests<3.0.0,>=2.13.0 in /Users/andst/.cache/conda_envs/WS_tutorial/lib/python3.8/site-packages (from spacy<3.7.0,>=3.6.0->en-core-web-sm==3.6.0) (2.31.0)\r\n",
      "Requirement already satisfied: pydantic!=1.8,!=1.8.1,<3.0.0,>=1.7.4 in /Users/andst/.cache/conda_envs/WS_tutorial/lib/python3.8/site-packages (from spacy<3.7.0,>=3.6.0->en-core-web-sm==3.6.0) (2.1.1)\r\n",
      "Requirement already satisfied: jinja2 in /Users/andst/.cache/conda_envs/WS_tutorial/lib/python3.8/site-packages (from spacy<3.7.0,>=3.6.0->en-core-web-sm==3.6.0) (3.1.2)\r\n",
      "Requirement already satisfied: setuptools in /Users/andst/.cache/conda_envs/WS_tutorial/lib/python3.8/site-packages (from spacy<3.7.0,>=3.6.0->en-core-web-sm==3.6.0) (68.0.0)\r\n",
      "Requirement already satisfied: packaging>=20.0 in /Users/andst/.cache/conda_envs/WS_tutorial/lib/python3.8/site-packages (from spacy<3.7.0,>=3.6.0->en-core-web-sm==3.6.0) (23.1)\r\n",
      "Requirement already satisfied: langcodes<4.0.0,>=3.2.0 in /Users/andst/.cache/conda_envs/WS_tutorial/lib/python3.8/site-packages (from spacy<3.7.0,>=3.6.0->en-core-web-sm==3.6.0) (3.3.0)\r\n",
      "Requirement already satisfied: annotated-types>=0.4.0 in /Users/andst/.cache/conda_envs/WS_tutorial/lib/python3.8/site-packages (from pydantic!=1.8,!=1.8.1,<3.0.0,>=1.7.4->spacy<3.7.0,>=3.6.0->en-core-web-sm==3.6.0) (0.5.0)\r\n",
      "Requirement already satisfied: pydantic-core==2.4.0 in /Users/andst/.cache/conda_envs/WS_tutorial/lib/python3.8/site-packages (from pydantic!=1.8,!=1.8.1,<3.0.0,>=1.7.4->spacy<3.7.0,>=3.6.0->en-core-web-sm==3.6.0) (2.4.0)\r\n",
      "Requirement already satisfied: typing-extensions>=4.6.1 in /Users/andst/.cache/conda_envs/WS_tutorial/lib/python3.8/site-packages (from pydantic!=1.8,!=1.8.1,<3.0.0,>=1.7.4->spacy<3.7.0,>=3.6.0->en-core-web-sm==3.6.0) (4.7.1)\r\n",
      "Requirement already satisfied: charset-normalizer<4,>=2 in /Users/andst/.cache/conda_envs/WS_tutorial/lib/python3.8/site-packages (from requests<3.0.0,>=2.13.0->spacy<3.7.0,>=3.6.0->en-core-web-sm==3.6.0) (3.2.0)\r\n",
      "Requirement already satisfied: idna<4,>=2.5 in /Users/andst/.cache/conda_envs/WS_tutorial/lib/python3.8/site-packages (from requests<3.0.0,>=2.13.0->spacy<3.7.0,>=3.6.0->en-core-web-sm==3.6.0) (3.4)\r\n",
      "Requirement already satisfied: urllib3<3,>=1.21.1 in /Users/andst/.cache/conda_envs/WS_tutorial/lib/python3.8/site-packages (from requests<3.0.0,>=2.13.0->spacy<3.7.0,>=3.6.0->en-core-web-sm==3.6.0) (2.0.4)\r\n",
      "Requirement already satisfied: certifi>=2017.4.17 in /Users/andst/.cache/conda_envs/WS_tutorial/lib/python3.8/site-packages (from requests<3.0.0,>=2.13.0->spacy<3.7.0,>=3.6.0->en-core-web-sm==3.6.0) (2023.7.22)\r\n",
      "Requirement already satisfied: blis<0.8.0,>=0.7.8 in /Users/andst/.cache/conda_envs/WS_tutorial/lib/python3.8/site-packages (from thinc<8.2.0,>=8.1.8->spacy<3.7.0,>=3.6.0->en-core-web-sm==3.6.0) (0.7.10)\r\n",
      "Requirement already satisfied: confection<1.0.0,>=0.0.1 in /Users/andst/.cache/conda_envs/WS_tutorial/lib/python3.8/site-packages (from thinc<8.2.0,>=8.1.8->spacy<3.7.0,>=3.6.0->en-core-web-sm==3.6.0) (0.1.1)\r\n",
      "Requirement already satisfied: click<9.0.0,>=7.1.1 in /Users/andst/.cache/conda_envs/WS_tutorial/lib/python3.8/site-packages (from typer<0.10.0,>=0.3.0->spacy<3.7.0,>=3.6.0->en-core-web-sm==3.6.0) (8.1.6)\r\n",
      "Requirement already satisfied: MarkupSafe>=2.0 in /Users/andst/.cache/conda_envs/WS_tutorial/lib/python3.8/site-packages (from jinja2->spacy<3.7.0,>=3.6.0->en-core-web-sm==3.6.0) (2.1.3)\r\n",
      "\u001B[38;5;2m✔ Download and installation successful\u001B[0m\r\n",
      "You can now load the package via spacy.load('en_core_web_sm')\r\n",
      "Collecting en-core-web-md==3.6.0\r\n",
      "  Downloading https://github.com/explosion/spacy-models/releases/download/en_core_web_md-3.6.0/en_core_web_md-3.6.0-py3-none-any.whl (42.8 MB)\r\n",
      "\u001B[2K     \u001B[90m━━━━━━━━━━━━━━━━━━━━━━━━━━━━━━━━━━━━━━━━\u001B[0m \u001B[32m42.8/42.8 MB\u001B[0m \u001B[31m19.5 MB/s\u001B[0m eta \u001B[36m0:00:00\u001B[0m00:01\u001B[0m00:01\u001B[0m\r\n",
      "\u001B[?25hRequirement already satisfied: spacy<3.7.0,>=3.6.0 in /Users/andst/.cache/conda_envs/WS_tutorial/lib/python3.8/site-packages (from en-core-web-md==3.6.0) (3.6.1)\r\n",
      "Requirement already satisfied: spacy-legacy<3.1.0,>=3.0.11 in /Users/andst/.cache/conda_envs/WS_tutorial/lib/python3.8/site-packages (from spacy<3.7.0,>=3.6.0->en-core-web-md==3.6.0) (3.0.12)\r\n",
      "Requirement already satisfied: spacy-loggers<2.0.0,>=1.0.0 in /Users/andst/.cache/conda_envs/WS_tutorial/lib/python3.8/site-packages (from spacy<3.7.0,>=3.6.0->en-core-web-md==3.6.0) (1.0.4)\r\n",
      "Requirement already satisfied: murmurhash<1.1.0,>=0.28.0 in /Users/andst/.cache/conda_envs/WS_tutorial/lib/python3.8/site-packages (from spacy<3.7.0,>=3.6.0->en-core-web-md==3.6.0) (1.0.9)\r\n",
      "Requirement already satisfied: cymem<2.1.0,>=2.0.2 in /Users/andst/.cache/conda_envs/WS_tutorial/lib/python3.8/site-packages (from spacy<3.7.0,>=3.6.0->en-core-web-md==3.6.0) (2.0.7)\r\n",
      "Requirement already satisfied: preshed<3.1.0,>=3.0.2 in /Users/andst/.cache/conda_envs/WS_tutorial/lib/python3.8/site-packages (from spacy<3.7.0,>=3.6.0->en-core-web-md==3.6.0) (3.0.8)\r\n",
      "Requirement already satisfied: thinc<8.2.0,>=8.1.8 in /Users/andst/.cache/conda_envs/WS_tutorial/lib/python3.8/site-packages (from spacy<3.7.0,>=3.6.0->en-core-web-md==3.6.0) (8.1.11)\r\n",
      "Requirement already satisfied: wasabi<1.2.0,>=0.9.1 in /Users/andst/.cache/conda_envs/WS_tutorial/lib/python3.8/site-packages (from spacy<3.7.0,>=3.6.0->en-core-web-md==3.6.0) (1.1.2)\r\n",
      "Requirement already satisfied: srsly<3.0.0,>=2.4.3 in /Users/andst/.cache/conda_envs/WS_tutorial/lib/python3.8/site-packages (from spacy<3.7.0,>=3.6.0->en-core-web-md==3.6.0) (2.4.7)\r\n",
      "Requirement already satisfied: catalogue<2.1.0,>=2.0.6 in /Users/andst/.cache/conda_envs/WS_tutorial/lib/python3.8/site-packages (from spacy<3.7.0,>=3.6.0->en-core-web-md==3.6.0) (2.0.9)\r\n",
      "Requirement already satisfied: typer<0.10.0,>=0.3.0 in /Users/andst/.cache/conda_envs/WS_tutorial/lib/python3.8/site-packages (from spacy<3.7.0,>=3.6.0->en-core-web-md==3.6.0) (0.9.0)\r\n",
      "Requirement already satisfied: pathy>=0.10.0 in /Users/andst/.cache/conda_envs/WS_tutorial/lib/python3.8/site-packages (from spacy<3.7.0,>=3.6.0->en-core-web-md==3.6.0) (0.10.2)\r\n",
      "Requirement already satisfied: smart-open<7.0.0,>=5.2.1 in /Users/andst/.cache/conda_envs/WS_tutorial/lib/python3.8/site-packages (from spacy<3.7.0,>=3.6.0->en-core-web-md==3.6.0) (6.3.0)\r\n",
      "Requirement already satisfied: tqdm<5.0.0,>=4.38.0 in /Users/andst/.cache/conda_envs/WS_tutorial/lib/python3.8/site-packages (from spacy<3.7.0,>=3.6.0->en-core-web-md==3.6.0) (4.66.0)\r\n",
      "Requirement already satisfied: numpy>=1.15.0 in /Users/andst/.cache/conda_envs/WS_tutorial/lib/python3.8/site-packages (from spacy<3.7.0,>=3.6.0->en-core-web-md==3.6.0) (1.19.5)\r\n",
      "Requirement already satisfied: requests<3.0.0,>=2.13.0 in /Users/andst/.cache/conda_envs/WS_tutorial/lib/python3.8/site-packages (from spacy<3.7.0,>=3.6.0->en-core-web-md==3.6.0) (2.31.0)\r\n",
      "Requirement already satisfied: pydantic!=1.8,!=1.8.1,<3.0.0,>=1.7.4 in /Users/andst/.cache/conda_envs/WS_tutorial/lib/python3.8/site-packages (from spacy<3.7.0,>=3.6.0->en-core-web-md==3.6.0) (2.1.1)\r\n",
      "Requirement already satisfied: jinja2 in /Users/andst/.cache/conda_envs/WS_tutorial/lib/python3.8/site-packages (from spacy<3.7.0,>=3.6.0->en-core-web-md==3.6.0) (3.1.2)\r\n",
      "Requirement already satisfied: setuptools in /Users/andst/.cache/conda_envs/WS_tutorial/lib/python3.8/site-packages (from spacy<3.7.0,>=3.6.0->en-core-web-md==3.6.0) (68.0.0)\r\n",
      "Requirement already satisfied: packaging>=20.0 in /Users/andst/.cache/conda_envs/WS_tutorial/lib/python3.8/site-packages (from spacy<3.7.0,>=3.6.0->en-core-web-md==3.6.0) (23.1)\r\n",
      "Requirement already satisfied: langcodes<4.0.0,>=3.2.0 in /Users/andst/.cache/conda_envs/WS_tutorial/lib/python3.8/site-packages (from spacy<3.7.0,>=3.6.0->en-core-web-md==3.6.0) (3.3.0)\r\n",
      "Requirement already satisfied: annotated-types>=0.4.0 in /Users/andst/.cache/conda_envs/WS_tutorial/lib/python3.8/site-packages (from pydantic!=1.8,!=1.8.1,<3.0.0,>=1.7.4->spacy<3.7.0,>=3.6.0->en-core-web-md==3.6.0) (0.5.0)\r\n",
      "Requirement already satisfied: pydantic-core==2.4.0 in /Users/andst/.cache/conda_envs/WS_tutorial/lib/python3.8/site-packages (from pydantic!=1.8,!=1.8.1,<3.0.0,>=1.7.4->spacy<3.7.0,>=3.6.0->en-core-web-md==3.6.0) (2.4.0)\r\n",
      "Requirement already satisfied: typing-extensions>=4.6.1 in /Users/andst/.cache/conda_envs/WS_tutorial/lib/python3.8/site-packages (from pydantic!=1.8,!=1.8.1,<3.0.0,>=1.7.4->spacy<3.7.0,>=3.6.0->en-core-web-md==3.6.0) (4.7.1)\r\n",
      "Requirement already satisfied: charset-normalizer<4,>=2 in /Users/andst/.cache/conda_envs/WS_tutorial/lib/python3.8/site-packages (from requests<3.0.0,>=2.13.0->spacy<3.7.0,>=3.6.0->en-core-web-md==3.6.0) (3.2.0)\r\n",
      "Requirement already satisfied: idna<4,>=2.5 in /Users/andst/.cache/conda_envs/WS_tutorial/lib/python3.8/site-packages (from requests<3.0.0,>=2.13.0->spacy<3.7.0,>=3.6.0->en-core-web-md==3.6.0) (3.4)\r\n",
      "Requirement already satisfied: urllib3<3,>=1.21.1 in /Users/andst/.cache/conda_envs/WS_tutorial/lib/python3.8/site-packages (from requests<3.0.0,>=2.13.0->spacy<3.7.0,>=3.6.0->en-core-web-md==3.6.0) (2.0.4)\r\n",
      "Requirement already satisfied: certifi>=2017.4.17 in /Users/andst/.cache/conda_envs/WS_tutorial/lib/python3.8/site-packages (from requests<3.0.0,>=2.13.0->spacy<3.7.0,>=3.6.0->en-core-web-md==3.6.0) (2023.7.22)\r\n",
      "Requirement already satisfied: blis<0.8.0,>=0.7.8 in /Users/andst/.cache/conda_envs/WS_tutorial/lib/python3.8/site-packages (from thinc<8.2.0,>=8.1.8->spacy<3.7.0,>=3.6.0->en-core-web-md==3.6.0) (0.7.10)\r\n",
      "Requirement already satisfied: confection<1.0.0,>=0.0.1 in /Users/andst/.cache/conda_envs/WS_tutorial/lib/python3.8/site-packages (from thinc<8.2.0,>=8.1.8->spacy<3.7.0,>=3.6.0->en-core-web-md==3.6.0) (0.1.1)\r\n",
      "Requirement already satisfied: click<9.0.0,>=7.1.1 in /Users/andst/.cache/conda_envs/WS_tutorial/lib/python3.8/site-packages (from typer<0.10.0,>=0.3.0->spacy<3.7.0,>=3.6.0->en-core-web-md==3.6.0) (8.1.6)\r\n",
      "Requirement already satisfied: MarkupSafe>=2.0 in /Users/andst/.cache/conda_envs/WS_tutorial/lib/python3.8/site-packages (from jinja2->spacy<3.7.0,>=3.6.0->en-core-web-md==3.6.0) (2.1.3)\r\n",
      "\u001B[38;5;2m✔ Download and installation successful\u001B[0m\r\n",
      "You can now load the package via spacy.load('en_core_web_md')\r\n",
      "[nltk_data] Downloading package brown to /Users/andst/nltk_data...\r\n",
      "[nltk_data]   Package brown is already up-to-date!\r\n",
      "[nltk_data] Downloading package punkt to /Users/andst/nltk_data...\r\n",
      "[nltk_data]   Package punkt is already up-to-date!\r\n",
      "[nltk_data] Downloading package wordnet to /Users/andst/nltk_data...\r\n",
      "[nltk_data]   Package wordnet is already up-to-date!\r\n",
      "[nltk_data] Downloading package averaged_perceptron_tagger to\r\n",
      "[nltk_data]     /Users/andst/nltk_data...\r\n",
      "[nltk_data]   Package averaged_perceptron_tagger is already up-to-\r\n",
      "[nltk_data]       date!\r\n",
      "[nltk_data] Downloading package conll2000 to /Users/andst/nltk_data...\r\n",
      "[nltk_data]   Package conll2000 is already up-to-date!\r\n",
      "[nltk_data] Downloading package movie_reviews to\r\n",
      "[nltk_data]     /Users/andst/nltk_data...\r\n",
      "[nltk_data]   Package movie_reviews is already up-to-date!\r\n",
      "Finished.\r\n"
     ]
    }
   ],
   "source": [
    "nltk.download('averaged_perceptron_tagger')\n",
    "nltk.download('universal_tagset')\n",
    "nltk.download('stopwords')\n",
    "!python -m spacy download en_core_web_sm\n",
    "!python -m spacy download en_core_web_md\n",
    "!python -m textblob.download_corpora"
   ],
   "metadata": {
    "collapsed": false,
    "ExecuteTime": {
     "end_time": "2023-09-27T15:40:07.493347Z",
     "start_time": "2023-09-27T15:39:55.058088Z"
    }
   },
   "id": "4efa2381bdd1d1cb"
  },
  {
   "cell_type": "markdown",
   "id": "8ccd374d-47a9-4d0a-abac-316250269587",
   "metadata": {},
   "source": [
    "## POS tags\n",
    "\n",
    "For this tutorial, we will use the following subset of the [universal POS tags](https://universaldependencies.org/u/pos/index.html):\n",
    "1. **DET**: determiner, which is a word that modifies nouns or noun phrases and expresses the reference of the noun phrase in context.\n",
    "2. **NUM**: numeral. It is a word that expresses a number and a relation to the number, such as quantity, sequence, frequency or fraction.\n",
    "3. **PROPN**: proper noun is a noun that is the name of a specific individual, place, or object.\n",
    "4. **ADJ**: adjective, which is a word that typically modifies nouns and specifies their properties or attributes.\n",
    "5. **NOUN**: noun, which is a part of speech typically denoting a person, place, thing, animal or idea."
   ]
  },
  {
   "cell_type": "code",
   "execution_count": 3,
   "id": "5a21f417219cacde",
   "metadata": {
    "ExecuteTime": {
     "end_time": "2023-09-27T15:40:07.545200Z",
     "start_time": "2023-09-27T15:40:07.498513Z"
    }
   },
   "outputs": [],
   "source": [
    "all_labels = [\"DET\", \"NUM\", \"PROPN\", \"ADJ\", \"NOUN\"]"
   ]
  },
  {
   "cell_type": "markdown",
   "id": "9b562f0c-c762-44c3-ab5e-c8d1e53227ee",
   "metadata": {},
   "source": [
    "## Load data\n",
    "\n",
    "We will use the [English corpus](https://universaldependencies.org/treebanks/en_ewt/index.html) from Universal Dependencies, a framework that contains consistent grammatical annotations across many different languages.\n",
    "The texts in the corpus come from five types of web media: weblogs, newsgroups, emails, reviews, and Yahoo! answers and consist of 254,825 words and 16,621 sentences.\n",
    "\n",
    "Skweak operates on spaCy ``doc`` objects, so the dataset is loaded in this format."
   ]
  },
  {
   "cell_type": "code",
   "execution_count": 4,
   "id": "e61c0c38-5a9a-4a00-9649-b1b7464a59d1",
   "metadata": {
    "ExecuteTime": {
     "end_time": "2023-09-27T15:40:12.691178Z",
     "start_time": "2023-09-27T15:40:07.547544Z"
    }
   },
   "outputs": [],
   "source": [
    "# Load training data\n",
    "train_docs = load_data_split(\"train\", all_labels)"
   ]
  },
  {
   "cell_type": "code",
   "execution_count": 5,
   "id": "1068ab32-f22d-40ea-9cfd-2e34131dc608",
   "metadata": {
    "ExecuteTime": {
     "end_time": "2023-09-27T15:40:12.742732Z",
     "start_time": "2023-09-27T15:40:12.692638Z"
    }
   },
   "outputs": [
    {
     "data": {
      "text/plain": "<IPython.core.display.HTML object>",
      "text/html": "<span class=\"tex2jax_ignore\"><div class=\"entities\" style=\"line-height: 2.5; direction: ltr\">\n<mark class=\"entity\" style=\"background: #ddd; padding: 0.45em 0.6em; margin: 0 0.25em; line-height: 1; border-radius: 0.35em;\">\n    Al\n    <span style=\"font-size: 0.8em; font-weight: bold; line-height: 1; border-radius: 0.35em; vertical-align: middle; margin-left: 0.5rem\">PROPN</span>\n</mark>\n-\n<mark class=\"entity\" style=\"background: #ddd; padding: 0.45em 0.6em; margin: 0 0.25em; line-height: 1; border-radius: 0.35em;\">\n    Zaman\n    <span style=\"font-size: 0.8em; font-weight: bold; line-height: 1; border-radius: 0.35em; vertical-align: middle; margin-left: 0.5rem\">PROPN</span>\n</mark>\n : \n<mark class=\"entity\" style=\"background: #ddd; padding: 0.45em 0.6em; margin: 0 0.25em; line-height: 1; border-radius: 0.35em;\">\n    American\n    <span style=\"font-size: 0.8em; font-weight: bold; line-height: 1; border-radius: 0.35em; vertical-align: middle; margin-left: 0.5rem\">ADJ</span>\n</mark>\n \n<mark class=\"entity\" style=\"background: #ddd; padding: 0.45em 0.6em; margin: 0 0.25em; line-height: 1; border-radius: 0.35em;\">\n    forces\n    <span style=\"font-size: 0.8em; font-weight: bold; line-height: 1; border-radius: 0.35em; vertical-align: middle; margin-left: 0.5rem\">NOUN</span>\n</mark>\n killed \n<mark class=\"entity\" style=\"background: #ddd; padding: 0.45em 0.6em; margin: 0 0.25em; line-height: 1; border-radius: 0.35em;\">\n    Shaikh\n    <span style=\"font-size: 0.8em; font-weight: bold; line-height: 1; border-radius: 0.35em; vertical-align: middle; margin-left: 0.5rem\">PROPN</span>\n</mark>\n \n<mark class=\"entity\" style=\"background: #ddd; padding: 0.45em 0.6em; margin: 0 0.25em; line-height: 1; border-radius: 0.35em;\">\n    Abdullah\n    <span style=\"font-size: 0.8em; font-weight: bold; line-height: 1; border-radius: 0.35em; vertical-align: middle; margin-left: 0.5rem\">PROPN</span>\n</mark>\n \n<mark class=\"entity\" style=\"background: #ddd; padding: 0.45em 0.6em; margin: 0 0.25em; line-height: 1; border-radius: 0.35em;\">\n    al\n    <span style=\"font-size: 0.8em; font-weight: bold; line-height: 1; border-radius: 0.35em; vertical-align: middle; margin-left: 0.5rem\">PROPN</span>\n</mark>\n-\n<mark class=\"entity\" style=\"background: #ddd; padding: 0.45em 0.6em; margin: 0 0.25em; line-height: 1; border-radius: 0.35em;\">\n    Ani\n    <span style=\"font-size: 0.8em; font-weight: bold; line-height: 1; border-radius: 0.35em; vertical-align: middle; margin-left: 0.5rem\">PROPN</span>\n</mark>\n, \n<mark class=\"entity\" style=\"background: #ddd; padding: 0.45em 0.6em; margin: 0 0.25em; line-height: 1; border-radius: 0.35em;\">\n    the\n    <span style=\"font-size: 0.8em; font-weight: bold; line-height: 1; border-radius: 0.35em; vertical-align: middle; margin-left: 0.5rem\">DET</span>\n</mark>\n \n<mark class=\"entity\" style=\"background: #ddd; padding: 0.45em 0.6em; margin: 0 0.25em; line-height: 1; border-radius: 0.35em;\">\n    preacher\n    <span style=\"font-size: 0.8em; font-weight: bold; line-height: 1; border-radius: 0.35em; vertical-align: middle; margin-left: 0.5rem\">NOUN</span>\n</mark>\n at \n<mark class=\"entity\" style=\"background: #ddd; padding: 0.45em 0.6em; margin: 0 0.25em; line-height: 1; border-radius: 0.35em;\">\n    the\n    <span style=\"font-size: 0.8em; font-weight: bold; line-height: 1; border-radius: 0.35em; vertical-align: middle; margin-left: 0.5rem\">DET</span>\n</mark>\n \n<mark class=\"entity\" style=\"background: #ddd; padding: 0.45em 0.6em; margin: 0 0.25em; line-height: 1; border-radius: 0.35em;\">\n    mosque\n    <span style=\"font-size: 0.8em; font-weight: bold; line-height: 1; border-radius: 0.35em; vertical-align: middle; margin-left: 0.5rem\">NOUN</span>\n</mark>\n in \n<mark class=\"entity\" style=\"background: #ddd; padding: 0.45em 0.6em; margin: 0 0.25em; line-height: 1; border-radius: 0.35em;\">\n    the\n    <span style=\"font-size: 0.8em; font-weight: bold; line-height: 1; border-radius: 0.35em; vertical-align: middle; margin-left: 0.5rem\">DET</span>\n</mark>\n \n<mark class=\"entity\" style=\"background: #ddd; padding: 0.45em 0.6em; margin: 0 0.25em; line-height: 1; border-radius: 0.35em;\">\n    town\n    <span style=\"font-size: 0.8em; font-weight: bold; line-height: 1; border-radius: 0.35em; vertical-align: middle; margin-left: 0.5rem\">NOUN</span>\n</mark>\n of \n<mark class=\"entity\" style=\"background: #ddd; padding: 0.45em 0.6em; margin: 0 0.25em; line-height: 1; border-radius: 0.35em;\">\n    Qaim\n    <span style=\"font-size: 0.8em; font-weight: bold; line-height: 1; border-radius: 0.35em; vertical-align: middle; margin-left: 0.5rem\">PROPN</span>\n</mark>\n, near \n<mark class=\"entity\" style=\"background: #ddd; padding: 0.45em 0.6em; margin: 0 0.25em; line-height: 1; border-radius: 0.35em;\">\n    the\n    <span style=\"font-size: 0.8em; font-weight: bold; line-height: 1; border-radius: 0.35em; vertical-align: middle; margin-left: 0.5rem\">DET</span>\n</mark>\n \n<mark class=\"entity\" style=\"background: #ddd; padding: 0.45em 0.6em; margin: 0 0.25em; line-height: 1; border-radius: 0.35em;\">\n    Syrian\n    <span style=\"font-size: 0.8em; font-weight: bold; line-height: 1; border-radius: 0.35em; vertical-align: middle; margin-left: 0.5rem\">ADJ</span>\n</mark>\n \n<mark class=\"entity\" style=\"background: #ddd; padding: 0.45em 0.6em; margin: 0 0.25em; line-height: 1; border-radius: 0.35em;\">\n    border\n    <span style=\"font-size: 0.8em; font-weight: bold; line-height: 1; border-radius: 0.35em; vertical-align: middle; margin-left: 0.5rem\">NOUN</span>\n</mark>\n. </div></span>"
     },
     "metadata": {},
     "output_type": "display_data"
    },
    {
     "data": {
      "text/plain": "<IPython.core.display.HTML object>",
      "text/html": "<span class=\"tex2jax_ignore\"><div class=\"entities\" style=\"line-height: 2.5; direction: ltr\">[\n<mark class=\"entity\" style=\"background: #ddd; padding: 0.45em 0.6em; margin: 0 0.25em; line-height: 1; border-radius: 0.35em;\">\n    This\n    <span style=\"font-size: 0.8em; font-weight: bold; line-height: 1; border-radius: 0.35em; vertical-align: middle; margin-left: 0.5rem\">DET</span>\n</mark>\n \n<mark class=\"entity\" style=\"background: #ddd; padding: 0.45em 0.6em; margin: 0 0.25em; line-height: 1; border-radius: 0.35em;\">\n    killing\n    <span style=\"font-size: 0.8em; font-weight: bold; line-height: 1; border-radius: 0.35em; vertical-align: middle; margin-left: 0.5rem\">NOUN</span>\n</mark>\n of \n<mark class=\"entity\" style=\"background: #ddd; padding: 0.45em 0.6em; margin: 0 0.25em; line-height: 1; border-radius: 0.35em;\">\n    a\n    <span style=\"font-size: 0.8em; font-weight: bold; line-height: 1; border-radius: 0.35em; vertical-align: middle; margin-left: 0.5rem\">DET</span>\n</mark>\n \n<mark class=\"entity\" style=\"background: #ddd; padding: 0.45em 0.6em; margin: 0 0.25em; line-height: 1; border-radius: 0.35em;\">\n    respected\n    <span style=\"font-size: 0.8em; font-weight: bold; line-height: 1; border-radius: 0.35em; vertical-align: middle; margin-left: 0.5rem\">ADJ</span>\n</mark>\n \n<mark class=\"entity\" style=\"background: #ddd; padding: 0.45em 0.6em; margin: 0 0.25em; line-height: 1; border-radius: 0.35em;\">\n    cleric\n    <span style=\"font-size: 0.8em; font-weight: bold; line-height: 1; border-radius: 0.35em; vertical-align: middle; margin-left: 0.5rem\">NOUN</span>\n</mark>\n will be causing us \n<mark class=\"entity\" style=\"background: #ddd; padding: 0.45em 0.6em; margin: 0 0.25em; line-height: 1; border-radius: 0.35em;\">\n    trouble\n    <span style=\"font-size: 0.8em; font-weight: bold; line-height: 1; border-radius: 0.35em; vertical-align: middle; margin-left: 0.5rem\">NOUN</span>\n</mark>\n for \n<mark class=\"entity\" style=\"background: #ddd; padding: 0.45em 0.6em; margin: 0 0.25em; line-height: 1; border-radius: 0.35em;\">\n    years\n    <span style=\"font-size: 0.8em; font-weight: bold; line-height: 1; border-radius: 0.35em; vertical-align: middle; margin-left: 0.5rem\">NOUN</span>\n</mark>\n to come.] </div></span>"
     },
     "metadata": {},
     "output_type": "display_data"
    },
    {
     "data": {
      "text/plain": "<IPython.core.display.HTML object>",
      "text/html": "<span class=\"tex2jax_ignore\"><div class=\"entities\" style=\"line-height: 2.5; direction: ltr\">\n<mark class=\"entity\" style=\"background: #ddd; padding: 0.45em 0.6em; margin: 0 0.25em; line-height: 1; border-radius: 0.35em;\">\n    DPA\n    <span style=\"font-size: 0.8em; font-weight: bold; line-height: 1; border-radius: 0.35em; vertical-align: middle; margin-left: 0.5rem\">PROPN</span>\n</mark>\n: \n<mark class=\"entity\" style=\"background: #ddd; padding: 0.45em 0.6em; margin: 0 0.25em; line-height: 1; border-radius: 0.35em;\">\n    Iraqi\n    <span style=\"font-size: 0.8em; font-weight: bold; line-height: 1; border-radius: 0.35em; vertical-align: middle; margin-left: 0.5rem\">ADJ</span>\n</mark>\n \n<mark class=\"entity\" style=\"background: #ddd; padding: 0.45em 0.6em; margin: 0 0.25em; line-height: 1; border-radius: 0.35em;\">\n    authorities\n    <span style=\"font-size: 0.8em; font-weight: bold; line-height: 1; border-radius: 0.35em; vertical-align: middle; margin-left: 0.5rem\">NOUN</span>\n</mark>\n announced that they had busted up \n<mark class=\"entity\" style=\"background: #ddd; padding: 0.45em 0.6em; margin: 0 0.25em; line-height: 1; border-radius: 0.35em;\">\n    3\n    <span style=\"font-size: 0.8em; font-weight: bold; line-height: 1; border-radius: 0.35em; vertical-align: middle; margin-left: 0.5rem\">NUM</span>\n</mark>\n \n<mark class=\"entity\" style=\"background: #ddd; padding: 0.45em 0.6em; margin: 0 0.25em; line-height: 1; border-radius: 0.35em;\">\n    terrorist\n    <span style=\"font-size: 0.8em; font-weight: bold; line-height: 1; border-radius: 0.35em; vertical-align: middle; margin-left: 0.5rem\">ADJ</span>\n</mark>\n \n<mark class=\"entity\" style=\"background: #ddd; padding: 0.45em 0.6em; margin: 0 0.25em; line-height: 1; border-radius: 0.35em;\">\n    cells\n    <span style=\"font-size: 0.8em; font-weight: bold; line-height: 1; border-radius: 0.35em; vertical-align: middle; margin-left: 0.5rem\">NOUN</span>\n</mark>\n operating in \n<mark class=\"entity\" style=\"background: #ddd; padding: 0.45em 0.6em; margin: 0 0.25em; line-height: 1; border-radius: 0.35em;\">\n    Baghdad\n    <span style=\"font-size: 0.8em; font-weight: bold; line-height: 1; border-radius: 0.35em; vertical-align: middle; margin-left: 0.5rem\">PROPN</span>\n</mark>\n. </div></span>"
     },
     "metadata": {},
     "output_type": "display_data"
    }
   ],
   "source": [
    "for doc in train_docs[:3]:\n",
    "    skweak.utils.display_entities(doc)"
   ]
  },
  {
   "cell_type": "markdown",
   "id": "5bbbfa7b-9fbf-4c26-9512-f92aa2b35c02",
   "metadata": {},
   "source": [
    "## 3.1 Labeling functions\n",
    "\n",
    "In the first step, we find the 200 most frequent words in our training corpus and use a lexicon to label these words. In the second step, we mannually annotate the 50 most frequent words.\n",
    "Finally, for each POS tag we will create the following labeling functions: \n",
    "\n",
    "*   DET --> Lexicon with determiners.\n",
    "*   NUM --> If the token is a number or a word indicating a number from 1 to 10.\n",
    "*   PROPN --> A word that is capitalized.\n",
    "*   ADJ --> List of prefixes and suffixes. Syntactic rules that check: 1. if the previous word is a form of \"be\" and 2. if the previous word is a determiner or numeral.\n",
    "*   NOUN --> List of prefixes and suffixes. Syntactic rule checking if the previous word is a determiner, numeral or adjective."
   ]
  },
  {
   "cell_type": "markdown",
   "id": "4071eda5-6faf-43dc-ad4f-169aaa94e251",
   "metadata": {},
   "source": [
    "#### Lexicon LF"
   ]
  },
  {
   "cell_type": "code",
   "execution_count": 6,
   "id": "fb3ff73f-4151-4abf-975a-8139ceb7a10f",
   "metadata": {
    "ExecuteTime": {
     "end_time": "2023-09-27T15:40:32.211075Z",
     "start_time": "2023-09-27T15:40:12.738921Z"
    }
   },
   "outputs": [
    {
     "name": "stdout",
     "output_type": "stream",
     "text": [
      "[\"'s\", \"n't\", 'would', 'one', 'like']\n"
     ]
    }
   ],
   "source": [
    "# Get the 200 most frequent words in the training set\n",
    "frequent_words = get_frequent_words(train_docs, 200)\n",
    "print(frequent_words[:5])"
   ]
  },
  {
   "cell_type": "code",
   "execution_count": 7,
   "id": "8e20d614-94d6-4f45-a006-f1e87a6f9361",
   "metadata": {
    "ExecuteTime": {
     "end_time": "2023-09-27T15:40:32.280774Z",
     "start_time": "2023-09-27T15:40:32.212006Z"
    }
   },
   "outputs": [],
   "source": [
    "# Load the lexicon\n",
    "with open(\"noun_vb_adj_list.txt\") as f:\n",
    "    lines = f.readlines()\n",
    "\n",
    "# Create a dictionary with the words and their pos tags\n",
    "lexicon = {}\n",
    "for l in lines:\n",
    "    values = l.replace(\"\\n\", \"\").split(\"\\t\")\n",
    "    lexicon[values[0]] = values[1]"
   ]
  },
  {
   "cell_type": "code",
   "execution_count": 8,
   "id": "6ad9db7c-35f2-488a-b0e7-c18e0aa94833",
   "metadata": {
    "ExecuteTime": {
     "end_time": "2023-09-27T15:40:32.337756Z",
     "start_time": "2023-09-27T15:40:32.259918Z"
    }
   },
   "outputs": [
    {
     "name": "stdout",
     "output_type": "stream",
     "text": [
      "There are 3387 words in the lexicon.\n",
      "[('people', 'NOUN'), ('history', 'NOUN'), ('way', 'NOUN'), ('art', 'NOUN'), ('world', 'NOUN')]\n"
     ]
    }
   ],
   "source": [
    "print(\"There are\", len(lexicon), \"words in the lexicon.\")\n",
    "print(list(lexicon.items())[:5])"
   ]
  },
  {
   "cell_type": "code",
   "execution_count": 9,
   "id": "db38ff17-3440-46f3-a017-ec7a0823c7ef",
   "metadata": {
    "ExecuteTime": {
     "end_time": "2023-09-27T15:40:32.384340Z",
     "start_time": "2023-09-27T15:40:32.311618Z"
    }
   },
   "outputs": [
    {
     "data": {
      "text/plain": "121"
     },
     "execution_count": 9,
     "metadata": {},
     "output_type": "execute_result"
    }
   ],
   "source": [
    "# How many of the frequent words we found exist in the lexicon\n",
    "len((list(set(frequent_words) & set(list(lexicon.keys())))))"
   ]
  },
  {
   "cell_type": "code",
   "execution_count": 10,
   "id": "722aefef-ed00-4c25-bf29-0d39a6db0701",
   "metadata": {
    "ExecuteTime": {
     "end_time": "2023-09-27T15:40:32.448168Z",
     "start_time": "2023-09-27T15:40:32.371807Z"
    }
   },
   "outputs": [],
   "source": [
    "# Lexicon LF\n",
    "def frequent_word_detector(doc):\n",
    "    for token in doc:\n",
    "        # If the frequent word exists in the lexicon use its assigned pos tag\n",
    "        if token.text.lower() in frequent_words and token.text.lower() in list(lexicon.keys()):\n",
    "            yield token.i, token.i + 1, lexicon[token.text.lower()]\n",
    "\n",
    "\n",
    "lexicon_lf = skweak.heuristics.FunctionAnnotator(\"frequent_words\", frequent_word_detector)\n"
   ]
  },
  {
   "cell_type": "markdown",
   "id": "2252eb22-0fa6-4e01-b8a3-f28fdc909314",
   "metadata": {},
   "source": [
    "#### Manual annotation LF"
   ]
  },
  {
   "cell_type": "code",
   "execution_count": 11,
   "id": "17544d20-5048-490f-afd8-b1a6b96e53a6",
   "metadata": {
    "ExecuteTime": {
     "end_time": "2023-09-27T15:40:51.627199Z",
     "start_time": "2023-09-27T15:40:32.413561Z"
    }
   },
   "outputs": [
    {
     "name": "stdout",
     "output_type": "stream",
     "text": [
      "[\"'s\", \"n't\", 'would', 'one', 'like', 'time', 'get', 'know', 'also', 'us', 'good', 'could', 'new', 'go', 'please', '$', 'people', 'may', 'back', 'said', 'even', 'work', 'bush', 'well', 'want', 'great', 'way', 'see', 'best', 'place', 'take', \"'m\", 'going', 'service', 'need', 'thanks', 'make', 'many', 'year', 'number', 'day', 'two', 'think', 'much', 'food', 'let', 'first', 'call', '2', 'help']\n"
     ]
    }
   ],
   "source": [
    "# Manual annotation\n",
    "top50_words = get_frequent_words(train_docs, 50)\n",
    "print(top50_words)"
   ]
  },
  {
   "cell_type": "code",
   "execution_count": 12,
   "id": "9bc491a1-0a9f-4a6f-88dd-76b4c65f1f9d",
   "metadata": {
    "ExecuteTime": {
     "end_time": "2023-09-27T15:40:51.690154Z",
     "start_time": "2023-09-27T15:40:51.626965Z"
    }
   },
   "outputs": [],
   "source": [
    "# Annotate the words that their POS tag exists in our chosen tag subset\n",
    "manual_tags = {\n",
    "    \"one\": \"NUM\",\n",
    "    \"like\": \"VERB\",\n",
    "    \"time\": \"NOUN\",\n",
    "    \"get\": \"VERB\",\n",
    "    \"know\": \"VERB\",\n",
    "    \"good\": \"ADJ\",\n",
    "    \"could\": \"VERB\",\n",
    "    \"new\": \"ADJ\",\n",
    "    \"go\": \"VERB\",\n",
    "    \"please\": \"VERB\",\n",
    "    \"people\": \"NOUN\",\n",
    "    \"said\": \"VERB\",\n",
    "    \"work\": \"VERB\",\n",
    "    \"bush\": \"NOUN\",\n",
    "    \"want\": \"VERB\",\n",
    "    \"great\": \"ADJ\",\n",
    "    \"way\": \"NOUN\",\n",
    "    \"see\": \"VERB\",\n",
    "    \"best\": \"ADJ\",\n",
    "    \"place\": \"NOUN\",\n",
    "    \"take\": \"VERB\",\n",
    "    \"going\": \"VERB\",\n",
    "    \"service\": \"NOUN\",\n",
    "    \"need\": \"VERB\",\n",
    "    \"make\": \"VERB\",\n",
    "    \"year\": \"NOUN\",\n",
    "    \"number\": \"NOUN\",\n",
    "    \"day\": \"NOUN\",\n",
    "    \"two\": \"NUM\",\n",
    "    \"think\": \"VERB\",\n",
    "    \"food\": \"NOUN\",\n",
    "    \"let\": \"VERB\",\n",
    "    \"first\": \"ADJ\",\n",
    "    \"call\": \"VERB\",\n",
    "    \"2\": \"NUM\",\n",
    "    \"help\": \"VERB\"\n",
    "}"
   ]
  },
  {
   "cell_type": "code",
   "execution_count": 13,
   "id": "9558b408-4ef9-4a2f-a3aa-fa22532b2f19",
   "metadata": {
    "ExecuteTime": {
     "end_time": "2023-09-27T15:40:51.711107Z",
     "start_time": "2023-09-27T15:40:51.669615Z"
    }
   },
   "outputs": [],
   "source": [
    "# Manual POS tags LF\n",
    "def manual_pos_tagger(doc):\n",
    "    for token in doc:\n",
    "        if token.text.lower() in manual_tags:\n",
    "            yield token.i, token.i + 1, manual_tags[token.text.lower()]\n",
    "\n",
    "\n",
    "manual_pos_lf = skweak.heuristics.FunctionAnnotator(\"manual_pos\", manual_pos_tagger)\n"
   ]
  },
  {
   "cell_type": "markdown",
   "id": "155d654a-0f2e-4f7c-9b72-1a790de0e564",
   "metadata": {},
   "source": [
    "#### DET LF"
   ]
  },
  {
   "cell_type": "code",
   "execution_count": 14,
   "id": "36f5808a-053e-4d82-87b7-c7a58d776087",
   "metadata": {
    "ExecuteTime": {
     "end_time": "2023-09-27T15:40:51.748921Z",
     "start_time": "2023-09-27T15:40:51.709634Z"
    }
   },
   "outputs": [
    {
     "name": "stdout",
     "output_type": "stream",
     "text": [
      "Extracting data from det.json\n",
      "Populating trie for class DET (number: 47)\n"
     ]
    }
   ],
   "source": [
    "# Use a lexicon of determiners\n",
    "tries = skweak.gazetteers.extract_json_data(\"det.json\")\n",
    "det_lf = skweak.gazetteers.GazetteerAnnotator(\"determiners\", tries, case_sensitive=False)\n"
   ]
  },
  {
   "cell_type": "markdown",
   "id": "6fc7533e-b027-4753-8eae-03df346efa67",
   "metadata": {},
   "source": [
    "#### NUM LF"
   ]
  },
  {
   "cell_type": "code",
   "execution_count": 15,
   "id": "6eeb92f1-b25d-4f8f-8d13-73ede592fa65",
   "metadata": {
    "ExecuteTime": {
     "end_time": "2023-09-27T15:40:51.825740Z",
     "start_time": "2023-09-27T15:40:51.750027Z"
    }
   },
   "outputs": [],
   "source": [
    "# Use a regular expression pattern to look for digits\n",
    "def num_detector(doc):\n",
    "    for token in doc:\n",
    "        if re.search(\"\\d+\", token.text):\n",
    "            yield token.i, token.i + 1, \"NUM\"\n",
    "\n",
    "# Check if the token is the word of a number from 1 to 10\n",
    "def num_word_detector(doc):\n",
    "    for token in doc:\n",
    "        if token.text.lower() in [\"one\", \"two\", \"three\", \"four\", \"five\", \"six\", \"seven\", \"eight\", \"nine\", \"ten\"]:\n",
    "            yield token.i, token.i + 1, \"NUM\"\n",
    "\n",
    "num_lf1 = skweak.heuristics.FunctionAnnotator(\"numerals1\", num_detector)\n",
    "num_lf2 = skweak.heuristics.FunctionAnnotator(\"numerals2\", num_word_detector)\n"
   ]
  },
  {
   "cell_type": "markdown",
   "id": "19f6c463-33dc-45aa-a4c3-e206f01a1558",
   "metadata": {},
   "source": [
    "#### PROPN LF"
   ]
  },
  {
   "cell_type": "code",
   "execution_count": 16,
   "id": "87790367-e082-4a2d-a794-24ed64ac55a8",
   "metadata": {
    "ExecuteTime": {
     "end_time": "2023-09-27T15:40:51.844388Z",
     "start_time": "2023-09-27T15:40:51.791432Z"
    }
   },
   "outputs": [],
   "source": [
    "# Check if the fist letter of a word or the whole word is capitalized\n",
    "def propn_detector(doc):\n",
    "    for token in doc:\n",
    "        if token.i == 0:\n",
    "            # For the first word of a sentence, check if all letters are capitalized\n",
    "            if token.text.isupper():\n",
    "                yield token.i, token.i + 1, \"PROPN\"\n",
    "        else:\n",
    "            if token.text.isupper() or token.text[0].isupper():\n",
    "                yield token.i, token.i + 1, \"PROPN\"\n",
    "\n",
    "\n",
    "propn_lf = skweak.heuristics.FunctionAnnotator(\"proper_nouns\", propn_detector)\n"
   ]
  },
  {
   "cell_type": "markdown",
   "id": "30a8181f-da19-4c11-9636-79f95892025d",
   "metadata": {},
   "source": [
    "#### ADJ LFs"
   ]
  },
  {
   "cell_type": "code",
   "execution_count": 17,
   "id": "4e24c251-3ec5-49e4-91fb-c1ed20848963",
   "metadata": {
    "scrolled": true,
    "ExecuteTime": {
     "end_time": "2023-09-27T15:40:51.891102Z",
     "start_time": "2023-09-27T15:40:51.834637Z"
    }
   },
   "outputs": [],
   "source": [
    "# Look for common suffixes and prefixes\n",
    "def adj_detector_suffixes(doc):\n",
    "    suffixes = (\"able\", \"al\", \"ful\", \"ic\", \"ive\", \"less\", \"ous\", \"y\", \"ish\", \"ible\", \"ent\", \"est\")\n",
    "    for token in doc:\n",
    "        if len(token.text) > 3 and token.text.endswith(suffixes):\n",
    "            yield token.i, token.i + 1, \"ADJ\"\n",
    "\n",
    "\n",
    "# Look for common prefixes\n",
    "def adj_detector_prefixes(doc):\n",
    "    prefixes = (\"un\", \"im\", \"in\", \"ir\", \"il\", \"non\", \"dis\")\n",
    "    for token in doc:\n",
    "        if len(token.text) > 3 and token.text.lower().startswith(prefixes):\n",
    "            yield token.i, token.i + 1, \"ADJ\"\n",
    "\n",
    "\n",
    "# If the previous word is a form of \"be\" and the current word does not end with \"ing\" and was not labeled as DET, then it's an adjective\n",
    "def adj_detector_synt1(doc):\n",
    "    weak_labels = [\"O\"] * len(doc)\n",
    "    for span in doc.spans[\"determiners\"]:\n",
    "        weak_labels[span.start] = span.label_\n",
    "\n",
    "    for token in doc[1:]:\n",
    "        if not token.is_punct:\n",
    "            prev = doc[token.i - 1].text.lower()\n",
    "            if prev in [\"be\", \"been\", \"being\", \"am\", \"is\", \"are\", \"was\", \"were\"] and (\n",
    "                    not token.text.endswith(\"ing\")) and weak_labels[token.i] == \"O\":\n",
    "                yield token.i, token.i + 1, \"ADJ\"\n",
    "\n",
    "\n",
    "# If the previous word is labeld as DET or NUM, then the current word is an adjective\n",
    "def adj_detector_synt2(doc):\n",
    "    weak_labels = [\"O\"] * len(doc)\n",
    "\n",
    "    for span in doc.spans[\"determiners\"]:\n",
    "        weak_labels[span.start] = span.label_\n",
    "\n",
    "    for span in doc.spans[\"numerals1\"]:\n",
    "        weak_labels[span.start] = span.label_\n",
    "\n",
    "    for span in doc.spans[\"numerals2\"]:\n",
    "        weak_labels[span.start] = span.label_\n",
    "\n",
    "    for token in doc[1:]:\n",
    "        if not token.is_punct:\n",
    "            if weak_labels[token.i - 1] != \"O\":\n",
    "                yield token.i, token.i + 1, \"ADJ\"\n",
    "\n",
    "\n",
    "adj_lf1 = skweak.heuristics.FunctionAnnotator(\"adjectives1\", adj_detector_suffixes)\n",
    "adj_lf2 = skweak.heuristics.FunctionAnnotator(\"adjectives2\", adj_detector_prefixes)\n",
    "adj_lf3 = skweak.heuristics.FunctionAnnotator(\"adjectives3\", adj_detector_synt1)\n",
    "adj_lf4 = skweak.heuristics.FunctionAnnotator(\"adjectives4\", adj_detector_synt2)\n"
   ]
  },
  {
   "cell_type": "markdown",
   "id": "33f2b5d4-9834-40f8-bad6-b5a347f4a457",
   "metadata": {},
   "source": [
    "#### NOUN LF"
   ]
  },
  {
   "cell_type": "markdown",
   "id": "25391729-012c-4069-b44f-426ce24f3c2d",
   "metadata": {},
   "source": [
    "Let's create a labeling function that looks for common noun suffixes. Can you think of some?"
   ]
  },
  {
   "cell_type": "code",
   "execution_count": 18,
   "id": "0eceff82-36ec-4ac6-9aeb-64db0b57e573",
   "metadata": {
    "ExecuteTime": {
     "end_time": "2023-09-27T15:40:51.939582Z",
     "start_time": "2023-09-27T15:40:51.875647Z"
    }
   },
   "outputs": [],
   "source": [
    "# ***********************************\n",
    "def noun_detector_suffixes(doc):\n",
    "    suffixes = (\"ment\", \"tion\", \"sion\", \"xion\", \"ant\", \"ent\", \"ee\", \"er\", \"or\",\n",
    "                \"ism\", \"ist\", \"ness\", \"ship\", \"ity\", \"ance\", \"ence\",\n",
    "                \"ar\", \"or\", \"y\", \"acy\", \"age\")\n",
    "    for token in doc:\n",
    "        if len(token.text) > 3 and token.text.lower().endswith(suffixes):\n",
    "            yield token.i, token.i + 1, \"NOUN\"\n",
    "\n",
    "# ***********************************"
   ]
  },
  {
   "cell_type": "code",
   "execution_count": 19,
   "id": "1c00243b-f55c-4b29-a3d2-bf6a23494253",
   "metadata": {
    "ExecuteTime": {
     "end_time": "2023-09-27T15:40:51.959581Z",
     "start_time": "2023-09-27T15:40:51.918373Z"
    }
   },
   "outputs": [],
   "source": [
    "# Look for common prefixes\n",
    "def noun_detector_prefixes(doc):\n",
    "    prefixes = (\n",
    "        \"anti\", \"auto\", \"bi\", \"co\", \"counter\", \"dis\", \"ex\", \"hyper\", \"in\", \"inter\", \"kilo\", \"mal\", \"mega\", \"mis\",\n",
    "        \"mini\", \"mono\", \"neo\", \"out\", \"poly\", \"pseudo\", \"re\", \"semi\", \"sub\", \"super\", \"sur\", \"tele\", \"tri\", \"ultra\",\n",
    "        \"under\", \"vice\")\n",
    "    for token in doc:\n",
    "        if len(token.text) > 3 and token.text.lower().startswith(prefixes):\n",
    "            yield token.i, token.i + 1, \"NOUN\"\n",
    "\n",
    "\n",
    "# # If the previous word is labeld as DET, NUM or ADJ, then the current word is an noun\n",
    "def noun_detector_synt(doc):\n",
    "    weak_labels = [\"O\"] * len(doc)\n",
    "\n",
    "    for span in doc.spans[\"determiners\"]:\n",
    "        weak_labels[span.start] = span.label_\n",
    "\n",
    "    for span in doc.spans[\"numerals1\"]:\n",
    "        weak_labels[span.start] = span.label_\n",
    "\n",
    "    for span in doc.spans[\"numerals2\"]:\n",
    "        weak_labels[span.start] = span.label_\n",
    "\n",
    "    for span in doc.spans[\"adjectives1\"]:\n",
    "        weak_labels[span.start] = span.label_\n",
    "\n",
    "    for span in doc.spans[\"adjectives2\"]:\n",
    "        weak_labels[span.start] = span.label_\n",
    "\n",
    "    for span in doc.spans[\"adjectives3\"]:\n",
    "        weak_labels[span.start] = span.label_\n",
    "\n",
    "    for span in doc.spans[\"adjectives4\"]:\n",
    "        weak_labels[span.start] = span.label_\n",
    "\n",
    "    for token in doc[1:]:\n",
    "        if not token.is_punct:\n",
    "            if weak_labels[token.i - 1] != \"O\":\n",
    "                yield token.i, token.i + 1, \"NOUN\"\n",
    "\n",
    "\n",
    "noun_lf1 = skweak.heuristics.FunctionAnnotator(\"nouns1\", noun_detector_suffixes)\n",
    "noun_lf2 = skweak.heuristics.FunctionAnnotator(\"nouns2\", noun_detector_prefixes)\n",
    "noun_lf3 = skweak.heuristics.FunctionAnnotator(\"nouns3\", noun_detector_synt)\n"
   ]
  },
  {
   "cell_type": "markdown",
   "id": "b8993d97-1611-4048-8392-4d4abb89e645",
   "metadata": {},
   "source": [
    "## Apply LFs"
   ]
  },
  {
   "cell_type": "code",
   "execution_count": 20,
   "id": "c62dd04d953cc2ea",
   "metadata": {
    "scrolled": true,
    "ExecuteTime": {
     "end_time": "2023-09-27T15:40:57.398053Z",
     "start_time": "2023-09-27T15:40:51.961034Z"
    }
   },
   "outputs": [],
   "source": [
    "# Put all LFs in a list\n",
    "lfs = [\n",
    "    lexicon_lf, manual_pos_lf, det_lf, \n",
    "    num_lf1, num_lf2, propn_lf,\n",
    "    adj_lf1, adj_lf2, adj_lf3, adj_lf4,\n",
    "    noun_lf1, noun_lf2, noun_lf3\n",
    "]\n",
    "\n",
    "train_docs = tag_all(train_docs, lfs)"
   ]
  },
  {
   "cell_type": "code",
   "execution_count": 21,
   "id": "a94d611f-e687-4e8e-8636-4b6bdbd818dc",
   "metadata": {
    "ExecuteTime": {
     "end_time": "2023-09-27T15:40:57.463593Z",
     "start_time": "2023-09-27T15:40:57.399368Z"
    }
   },
   "outputs": [
    {
     "data": {
      "text/plain": "<IPython.core.display.HTML object>",
      "text/html": "<span class=\"tex2jax_ignore\"><div class=\"entities\" style=\"line-height: 2.5; direction: ltr\">Al-Zaman : American forces killed Shaikh Abdullah al-Ani, \n<mark class=\"entity\" style=\"background: #ddd; padding: 0.45em 0.6em; margin: 0 0.25em; line-height: 1; border-radius: 0.35em;\">\n    the\n    <span style=\"font-size: 0.8em; font-weight: bold; line-height: 1; border-radius: 0.35em; vertical-align: middle; margin-left: 0.5rem\">DET</span>\n</mark>\n \n<mark class=\"entity\" style=\"background: #ddd; padding: 0.45em 0.6em; margin: 0 0.25em; line-height: 1; border-radius: 0.35em;\">\n    preacher\n    <span style=\"font-size: 0.8em; font-weight: bold; line-height: 1; border-radius: 0.35em; vertical-align: middle; margin-left: 0.5rem\">NOUN</span>\n</mark>\n at \n<mark class=\"entity\" style=\"background: #ddd; padding: 0.45em 0.6em; margin: 0 0.25em; line-height: 1; border-radius: 0.35em;\">\n    the\n    <span style=\"font-size: 0.8em; font-weight: bold; line-height: 1; border-radius: 0.35em; vertical-align: middle; margin-left: 0.5rem\">DET</span>\n</mark>\n mosque in \n<mark class=\"entity\" style=\"background: #ddd; padding: 0.45em 0.6em; margin: 0 0.25em; line-height: 1; border-radius: 0.35em;\">\n    the\n    <span style=\"font-size: 0.8em; font-weight: bold; line-height: 1; border-radius: 0.35em; vertical-align: middle; margin-left: 0.5rem\">DET</span>\n</mark>\n town of Qaim, \n<mark class=\"entity\" style=\"background: #ddd; padding: 0.45em 0.6em; margin: 0 0.25em; line-height: 1; border-radius: 0.35em;\">\n    near\n    <span style=\"font-size: 0.8em; font-weight: bold; line-height: 1; border-radius: 0.35em; vertical-align: middle; margin-left: 0.5rem\">NOUN</span>\n</mark>\n \n<mark class=\"entity\" style=\"background: #ddd; padding: 0.45em 0.6em; margin: 0 0.25em; line-height: 1; border-radius: 0.35em;\">\n    the\n    <span style=\"font-size: 0.8em; font-weight: bold; line-height: 1; border-radius: 0.35em; vertical-align: middle; margin-left: 0.5rem\">DET</span>\n</mark>\n Syrian \n<mark class=\"entity\" style=\"background: #ddd; padding: 0.45em 0.6em; margin: 0 0.25em; line-height: 1; border-radius: 0.35em;\">\n    border\n    <span style=\"font-size: 0.8em; font-weight: bold; line-height: 1; border-radius: 0.35em; vertical-align: middle; margin-left: 0.5rem\">NOUN</span>\n</mark>\n. </div></span>"
     },
     "metadata": {},
     "output_type": "display_data"
    },
    {
     "data": {
      "text/plain": "<IPython.core.display.HTML object>",
      "text/html": "<span class=\"tex2jax_ignore\"><div class=\"entities\" style=\"line-height: 2.5; direction: ltr\">[\n<mark class=\"entity\" style=\"background: #ddd; padding: 0.45em 0.6em; margin: 0 0.25em; line-height: 1; border-radius: 0.35em;\">\n    This\n    <span style=\"font-size: 0.8em; font-weight: bold; line-height: 1; border-radius: 0.35em; vertical-align: middle; margin-left: 0.5rem\">DET</span>\n</mark>\n killing of \n<mark class=\"entity\" style=\"background: #ddd; padding: 0.45em 0.6em; margin: 0 0.25em; line-height: 1; border-radius: 0.35em;\">\n    a\n    <span style=\"font-size: 0.8em; font-weight: bold; line-height: 1; border-radius: 0.35em; vertical-align: middle; margin-left: 0.5rem\">DET</span>\n</mark>\n respected cleric will be causing us trouble for years to come.] </div></span>"
     },
     "metadata": {},
     "output_type": "display_data"
    },
    {
     "data": {
      "text/plain": "<IPython.core.display.HTML object>",
      "text/html": "<span class=\"tex2jax_ignore\"><div class=\"entities\" style=\"line-height: 2.5; direction: ltr\">DPA: Iraqi authorities announced \n<mark class=\"entity\" style=\"background: #ddd; padding: 0.45em 0.6em; margin: 0 0.25em; line-height: 1; border-radius: 0.35em;\">\n    that\n    <span style=\"font-size: 0.8em; font-weight: bold; line-height: 1; border-radius: 0.35em; vertical-align: middle; margin-left: 0.5rem\">DET</span>\n</mark>\n \n<mark class=\"entity\" style=\"background: #ddd; padding: 0.45em 0.6em; margin: 0 0.25em; line-height: 1; border-radius: 0.35em;\">\n    they\n    <span style=\"font-size: 0.8em; font-weight: bold; line-height: 1; border-radius: 0.35em; vertical-align: middle; margin-left: 0.5rem\">NOUN</span>\n</mark>\n had busted up 3 \n<mark class=\"entity\" style=\"background: #ddd; padding: 0.45em 0.6em; margin: 0 0.25em; line-height: 1; border-radius: 0.35em;\">\n    terrorist\n    <span style=\"font-size: 0.8em; font-weight: bold; line-height: 1; border-radius: 0.35em; vertical-align: middle; margin-left: 0.5rem\">NOUN</span>\n</mark>\n cells operating in Baghdad. </div></span>"
     },
     "metadata": {},
     "output_type": "display_data"
    }
   ],
   "source": [
    "# Print some of the assigned weak labels\n",
    "for doc in train_docs[:3]:\n",
    "    skweak.utils.display_entities(doc, [\"determiners\", \"nouns1\"])"
   ]
  },
  {
   "cell_type": "code",
   "execution_count": 22,
   "id": "41c269d6-1a2d-4ac6-8a2b-b78ce149f99b",
   "metadata": {
    "ExecuteTime": {
     "end_time": "2023-09-27T15:43:12.966947Z",
     "start_time": "2023-09-27T15:40:57.444201Z"
    }
   },
   "outputs": [
    {
     "name": "stdout",
     "output_type": "stream",
     "text": [
      "Starting iteration 1\n",
      "Number of processed documents: 1000\n",
      "Number of processed documents: 2000\n",
      "Number of processed documents: 3000\n",
      "Number of processed documents: 4000\n",
      "Number of processed documents: 5000\n",
      "Number of processed documents: 6000\n",
      "Number of processed documents: 7000\n",
      "Number of processed documents: 8000\n",
      "Number of processed documents: 9000\n",
      "Number of processed documents: 10000\n",
      "Number of processed documents: 11000\n",
      "Number of processed documents: 12000\n",
      "Finished E-step with 12543 documents\n",
      "Starting iteration 2\n"
     ]
    },
    {
     "name": "stderr",
     "output_type": "stream",
     "text": [
      "         1     -518827.3307             +nan\n"
     ]
    },
    {
     "name": "stdout",
     "output_type": "stream",
     "text": [
      "Number of processed documents: 1000\n",
      "Number of processed documents: 2000\n",
      "Number of processed documents: 3000\n",
      "Number of processed documents: 4000\n",
      "Number of processed documents: 5000\n",
      "Number of processed documents: 6000\n",
      "Number of processed documents: 7000\n",
      "Number of processed documents: 8000\n",
      "Number of processed documents: 9000\n",
      "Number of processed documents: 10000\n",
      "Number of processed documents: 11000\n",
      "Number of processed documents: 12000\n",
      "Finished E-step with 12543 documents\n",
      "Starting iteration 3\n"
     ]
    },
    {
     "name": "stderr",
     "output_type": "stream",
     "text": [
      "         2     -490363.7763      +28463.5544\n"
     ]
    },
    {
     "name": "stdout",
     "output_type": "stream",
     "text": [
      "Number of processed documents: 1000\n",
      "Number of processed documents: 2000\n",
      "Number of processed documents: 3000\n",
      "Number of processed documents: 4000\n",
      "Number of processed documents: 5000\n",
      "Number of processed documents: 6000\n",
      "Number of processed documents: 7000\n",
      "Number of processed documents: 8000\n",
      "Number of processed documents: 9000\n",
      "Number of processed documents: 10000\n",
      "Number of processed documents: 11000\n",
      "Number of processed documents: 12000\n",
      "Finished E-step with 12543 documents\n",
      "Starting iteration 4\n"
     ]
    },
    {
     "name": "stderr",
     "output_type": "stream",
     "text": [
      "         3     -477294.1340      +13069.6423\n"
     ]
    },
    {
     "name": "stdout",
     "output_type": "stream",
     "text": [
      "Number of processed documents: 1000\n",
      "Number of processed documents: 2000\n",
      "Number of processed documents: 3000\n",
      "Number of processed documents: 4000\n",
      "Number of processed documents: 5000\n",
      "Number of processed documents: 6000\n",
      "Number of processed documents: 7000\n",
      "Number of processed documents: 8000\n",
      "Number of processed documents: 9000\n",
      "Number of processed documents: 10000\n",
      "Number of processed documents: 11000\n",
      "Number of processed documents: 12000\n",
      "Finished E-step with 12543 documents\n",
      "Starting iteration 5\n"
     ]
    },
    {
     "name": "stderr",
     "output_type": "stream",
     "text": [
      "         4     -470431.7984       +6862.3357\n"
     ]
    },
    {
     "name": "stdout",
     "output_type": "stream",
     "text": [
      "Number of processed documents: 1000\n",
      "Number of processed documents: 2000\n",
      "Number of processed documents: 3000\n",
      "Number of processed documents: 4000\n",
      "Number of processed documents: 5000\n",
      "Number of processed documents: 6000\n",
      "Number of processed documents: 7000\n",
      "Number of processed documents: 8000\n",
      "Number of processed documents: 9000\n",
      "Number of processed documents: 10000\n",
      "Number of processed documents: 11000\n",
      "Number of processed documents: 12000\n",
      "Finished E-step with 12543 documents\n",
      "Starting iteration 6\n"
     ]
    },
    {
     "name": "stderr",
     "output_type": "stream",
     "text": [
      "         5     -466066.8149       +4364.9835\n"
     ]
    },
    {
     "name": "stdout",
     "output_type": "stream",
     "text": [
      "Number of processed documents: 1000\n",
      "Number of processed documents: 2000\n",
      "Number of processed documents: 3000\n",
      "Number of processed documents: 4000\n",
      "Number of processed documents: 5000\n",
      "Number of processed documents: 6000\n",
      "Number of processed documents: 7000\n",
      "Number of processed documents: 8000\n",
      "Number of processed documents: 9000\n",
      "Number of processed documents: 10000\n",
      "Number of processed documents: 11000\n",
      "Number of processed documents: 12000\n",
      "Finished E-step with 12543 documents\n",
      "Starting iteration 7\n"
     ]
    },
    {
     "name": "stderr",
     "output_type": "stream",
     "text": [
      "         6     -462378.4838       +3688.3311\n"
     ]
    },
    {
     "name": "stdout",
     "output_type": "stream",
     "text": [
      "Number of processed documents: 1000\n",
      "Number of processed documents: 2000\n",
      "Number of processed documents: 3000\n",
      "Number of processed documents: 4000\n",
      "Number of processed documents: 5000\n",
      "Number of processed documents: 6000\n",
      "Number of processed documents: 7000\n",
      "Number of processed documents: 8000\n",
      "Number of processed documents: 9000\n",
      "Number of processed documents: 10000\n",
      "Number of processed documents: 11000\n",
      "Number of processed documents: 12000\n",
      "Finished E-step with 12543 documents\n",
      "Starting iteration 8\n"
     ]
    },
    {
     "name": "stderr",
     "output_type": "stream",
     "text": [
      "         7     -457974.1574       +4404.3264\n"
     ]
    },
    {
     "name": "stdout",
     "output_type": "stream",
     "text": [
      "Number of processed documents: 1000\n",
      "Number of processed documents: 2000\n",
      "Number of processed documents: 3000\n",
      "Number of processed documents: 4000\n",
      "Number of processed documents: 5000\n",
      "Number of processed documents: 6000\n",
      "Number of processed documents: 7000\n",
      "Number of processed documents: 8000\n",
      "Number of processed documents: 9000\n",
      "Number of processed documents: 10000\n",
      "Number of processed documents: 11000\n",
      "Number of processed documents: 12000\n",
      "Finished E-step with 12543 documents\n"
     ]
    },
    {
     "name": "stderr",
     "output_type": "stream",
     "text": [
      "         8     -451644.7337       +6329.4238\n"
     ]
    }
   ],
   "source": [
    "# Train HMM\n",
    "hmm = skweak.aggregation.HMM(\"hmm\", all_labels)\n",
    "hmm = hmm.fit(train_docs)"
   ]
  },
  {
   "cell_type": "code",
   "execution_count": 23,
   "id": "cc0fe7d6-081c-4e01-96b5-45da566cbb81",
   "metadata": {
    "ExecuteTime": {
     "end_time": "2023-09-27T15:43:13.022256Z",
     "start_time": "2023-09-27T15:43:12.965202Z"
    }
   },
   "outputs": [],
   "source": [
    "# Majority voting\n",
    "mv = skweak.aggregation.MajorityVoter(\"mv\", all_labels)"
   ]
  },
  {
   "cell_type": "code",
   "execution_count": 24,
   "id": "9276ba55-6b54-4447-8d74-b14c3c3376c8",
   "metadata": {
    "ExecuteTime": {
     "end_time": "2023-09-27T15:43:18.788016Z",
     "start_time": "2023-09-27T15:43:13.004400Z"
    }
   },
   "outputs": [],
   "source": [
    "# Apply LFs, HMM and MV to the test docs\n",
    "test_docs = load_data_split(\"test\", all_labels)\n",
    "test_docs = tag_all(test_docs, lfs + [mv, hmm])"
   ]
  },
  {
   "cell_type": "markdown",
   "id": "7408db9c-0773-4cbb-9d38-428fb4d66c52",
   "metadata": {},
   "source": [
    "## Evaluate"
   ]
  },
  {
   "cell_type": "markdown",
   "id": "0163aa41-49be-4f34-a72a-3272cab0fab9",
   "metadata": {},
   "source": [
    "#### Which POS tags are easier to detect?\n",
    "\n",
    "* We see that POS tags like determiners and numerals are easier to detect and we can achieve a good F1 score with just one or two simple LFs.\n"
   ]
  },
  {
   "cell_type": "code",
   "execution_count": 25,
   "id": "7a2a542c-754b-4c74-a4c5-ce178e4434b2",
   "metadata": {
    "ExecuteTime": {
     "end_time": "2023-09-27T15:43:24.664985Z",
     "start_time": "2023-09-27T15:43:18.788326Z"
    }
   },
   "outputs": [],
   "source": [
    "df = evaluate(test_docs, all_labels, [\n",
    "    \"determiners\", \"numerals1\", \"numerals2\", \"proper_nouns\"\n",
    "])"
   ]
  },
  {
   "cell_type": "code",
   "execution_count": 26,
   "id": "2a140604-c1b9-4966-9c6e-36c7637794fd",
   "metadata": {
    "ExecuteTime": {
     "end_time": "2023-09-27T15:43:24.735605Z",
     "start_time": "2023-09-27T15:43:24.665804Z"
    }
   },
   "outputs": [
    {
     "data": {
      "text/plain": "                               tok_precision  tok_recall  tok_f1\nlabel proportion model                                          \nDET   18.4 %     determiners           0.678       0.998   0.808\n                 numerals1             0.000       0.000   0.000\n                 numerals2             0.000       0.000   0.000\n                 proper_nouns          0.000       0.000   0.000\nNUM   5.2 %      determiners           0.000       0.000   0.000\n                 numerals1             0.813       0.802   0.808\n                 numerals2             0.786       0.144   0.244\n                 proper_nouns          0.000       0.000   0.000\nPROPN 20.1 %     determiners           0.000       0.000   0.000\n                 numerals1             0.000       0.000   0.000\n                 numerals2             0.000       0.000   0.000\n                 proper_nouns          0.568       0.782   0.658",
      "text/html": "<div>\n<style scoped>\n    .dataframe tbody tr th:only-of-type {\n        vertical-align: middle;\n    }\n\n    .dataframe tbody tr th {\n        vertical-align: top;\n    }\n\n    .dataframe thead th {\n        text-align: right;\n    }\n</style>\n<table border=\"1\" class=\"dataframe\">\n  <thead>\n    <tr style=\"text-align: right;\">\n      <th></th>\n      <th></th>\n      <th></th>\n      <th>tok_precision</th>\n      <th>tok_recall</th>\n      <th>tok_f1</th>\n    </tr>\n    <tr>\n      <th>label</th>\n      <th>proportion</th>\n      <th>model</th>\n      <th></th>\n      <th></th>\n      <th></th>\n    </tr>\n  </thead>\n  <tbody>\n    <tr>\n      <th rowspan=\"4\" valign=\"top\">DET</th>\n      <th rowspan=\"4\" valign=\"top\">18.4 %</th>\n      <th>determiners</th>\n      <td>0.678</td>\n      <td>0.998</td>\n      <td>0.808</td>\n    </tr>\n    <tr>\n      <th>numerals1</th>\n      <td>0.000</td>\n      <td>0.000</td>\n      <td>0.000</td>\n    </tr>\n    <tr>\n      <th>numerals2</th>\n      <td>0.000</td>\n      <td>0.000</td>\n      <td>0.000</td>\n    </tr>\n    <tr>\n      <th>proper_nouns</th>\n      <td>0.000</td>\n      <td>0.000</td>\n      <td>0.000</td>\n    </tr>\n    <tr>\n      <th rowspan=\"4\" valign=\"top\">NUM</th>\n      <th rowspan=\"4\" valign=\"top\">5.2 %</th>\n      <th>determiners</th>\n      <td>0.000</td>\n      <td>0.000</td>\n      <td>0.000</td>\n    </tr>\n    <tr>\n      <th>numerals1</th>\n      <td>0.813</td>\n      <td>0.802</td>\n      <td>0.808</td>\n    </tr>\n    <tr>\n      <th>numerals2</th>\n      <td>0.786</td>\n      <td>0.144</td>\n      <td>0.244</td>\n    </tr>\n    <tr>\n      <th>proper_nouns</th>\n      <td>0.000</td>\n      <td>0.000</td>\n      <td>0.000</td>\n    </tr>\n    <tr>\n      <th rowspan=\"4\" valign=\"top\">PROPN</th>\n      <th rowspan=\"4\" valign=\"top\">20.1 %</th>\n      <th>determiners</th>\n      <td>0.000</td>\n      <td>0.000</td>\n      <td>0.000</td>\n    </tr>\n    <tr>\n      <th>numerals1</th>\n      <td>0.000</td>\n      <td>0.000</td>\n      <td>0.000</td>\n    </tr>\n    <tr>\n      <th>numerals2</th>\n      <td>0.000</td>\n      <td>0.000</td>\n      <td>0.000</td>\n    </tr>\n    <tr>\n      <th>proper_nouns</th>\n      <td>0.568</td>\n      <td>0.782</td>\n      <td>0.658</td>\n    </tr>\n  </tbody>\n</table>\n</div>"
     },
     "execution_count": 26,
     "metadata": {},
     "output_type": "execute_result"
    }
   ],
   "source": [
    "df.loc[[\"DET\", \"NUM\", \"PROPN\"]]"
   ]
  },
  {
   "cell_type": "markdown",
   "id": "518fb08f-26ba-47ba-983a-ab50500fb3ad",
   "metadata": {},
   "source": [
    "* Other POS tags like adjectives and nouns, which rely more on the context are harder to detect and require more complicated rules."
   ]
  },
  {
   "cell_type": "code",
   "execution_count": 27,
   "id": "7c905080-6f03-4e32-9751-b7191d6969de",
   "metadata": {
    "ExecuteTime": {
     "end_time": "2023-09-27T15:43:34.718676Z",
     "start_time": "2023-09-27T15:43:24.735744Z"
    }
   },
   "outputs": [],
   "source": [
    "df = evaluate(test_docs, all_labels, [\n",
    "    \"adjectives1\", \"adjectives2\", \"adjectives3\", \"adjectives4\",\n",
    "    \"nouns1\", \"nouns2\", \"nouns3\"\n",
    "])"
   ]
  },
  {
   "cell_type": "code",
   "execution_count": 28,
   "id": "590567c9-b9de-42d6-9003-1497740fc7ee",
   "metadata": {
    "ExecuteTime": {
     "end_time": "2023-09-27T15:43:34.778101Z",
     "start_time": "2023-09-27T15:43:34.727261Z"
    }
   },
   "outputs": [
    {
     "data": {
      "text/plain": "                              tok_precision  tok_recall  tok_f1\nlabel proportion model                                         \nADJ   16.4 %     adjectives1          0.336       0.339   0.338\n                 adjectives2          0.254       0.049   0.082\n                 adjectives3          0.297       0.091   0.140\n                 adjectives4          0.176       0.319   0.226\n                 nouns1               0.000       0.000   0.000\n                 nouns2               0.000       0.000   0.000\n                 nouns3               0.000       0.000   0.000\nNOUN  40.0 %     adjectives1          0.000       0.000   0.000\n                 adjectives2          0.000       0.000   0.000\n                 adjectives3          0.000       0.000   0.000\n                 adjectives4          0.000       0.000   0.000\n                 nouns1               0.397       0.214   0.278\n                 nouns2               0.347       0.099   0.154\n                 nouns3               0.362       0.603   0.452",
      "text/html": "<div>\n<style scoped>\n    .dataframe tbody tr th:only-of-type {\n        vertical-align: middle;\n    }\n\n    .dataframe tbody tr th {\n        vertical-align: top;\n    }\n\n    .dataframe thead th {\n        text-align: right;\n    }\n</style>\n<table border=\"1\" class=\"dataframe\">\n  <thead>\n    <tr style=\"text-align: right;\">\n      <th></th>\n      <th></th>\n      <th></th>\n      <th>tok_precision</th>\n      <th>tok_recall</th>\n      <th>tok_f1</th>\n    </tr>\n    <tr>\n      <th>label</th>\n      <th>proportion</th>\n      <th>model</th>\n      <th></th>\n      <th></th>\n      <th></th>\n    </tr>\n  </thead>\n  <tbody>\n    <tr>\n      <th rowspan=\"7\" valign=\"top\">ADJ</th>\n      <th rowspan=\"7\" valign=\"top\">16.4 %</th>\n      <th>adjectives1</th>\n      <td>0.336</td>\n      <td>0.339</td>\n      <td>0.338</td>\n    </tr>\n    <tr>\n      <th>adjectives2</th>\n      <td>0.254</td>\n      <td>0.049</td>\n      <td>0.082</td>\n    </tr>\n    <tr>\n      <th>adjectives3</th>\n      <td>0.297</td>\n      <td>0.091</td>\n      <td>0.140</td>\n    </tr>\n    <tr>\n      <th>adjectives4</th>\n      <td>0.176</td>\n      <td>0.319</td>\n      <td>0.226</td>\n    </tr>\n    <tr>\n      <th>nouns1</th>\n      <td>0.000</td>\n      <td>0.000</td>\n      <td>0.000</td>\n    </tr>\n    <tr>\n      <th>nouns2</th>\n      <td>0.000</td>\n      <td>0.000</td>\n      <td>0.000</td>\n    </tr>\n    <tr>\n      <th>nouns3</th>\n      <td>0.000</td>\n      <td>0.000</td>\n      <td>0.000</td>\n    </tr>\n    <tr>\n      <th rowspan=\"7\" valign=\"top\">NOUN</th>\n      <th rowspan=\"7\" valign=\"top\">40.0 %</th>\n      <th>adjectives1</th>\n      <td>0.000</td>\n      <td>0.000</td>\n      <td>0.000</td>\n    </tr>\n    <tr>\n      <th>adjectives2</th>\n      <td>0.000</td>\n      <td>0.000</td>\n      <td>0.000</td>\n    </tr>\n    <tr>\n      <th>adjectives3</th>\n      <td>0.000</td>\n      <td>0.000</td>\n      <td>0.000</td>\n    </tr>\n    <tr>\n      <th>adjectives4</th>\n      <td>0.000</td>\n      <td>0.000</td>\n      <td>0.000</td>\n    </tr>\n    <tr>\n      <th>nouns1</th>\n      <td>0.397</td>\n      <td>0.214</td>\n      <td>0.278</td>\n    </tr>\n    <tr>\n      <th>nouns2</th>\n      <td>0.347</td>\n      <td>0.099</td>\n      <td>0.154</td>\n    </tr>\n    <tr>\n      <th>nouns3</th>\n      <td>0.362</td>\n      <td>0.603</td>\n      <td>0.452</td>\n    </tr>\n  </tbody>\n</table>\n</div>"
     },
     "execution_count": 28,
     "metadata": {},
     "output_type": "execute_result"
    }
   ],
   "source": [
    "df.loc[[\"ADJ\", \"NOUN\"]]"
   ]
  },
  {
   "cell_type": "markdown",
   "id": "838acb79-8c93-41db-b41a-d85c1b41f9a7",
   "metadata": {},
   "source": [
    "#### Which type of LF works the best?\n",
    "\n",
    "* For adjectives the LF that uses suffixes works the best, while the syntactic rules are less accurate. On the contrary, for nouns the LF that is based on syntactic analysis has the best results. For both POS tags, the LFs that use prefixes do not yield good results."
   ]
  },
  {
   "cell_type": "markdown",
   "id": "9c0a0d51-ea4e-4e64-8eae-1c8f832fe6df",
   "metadata": {},
   "source": [
    "#### Which aggregator works best?\n",
    "\n",
    "* Despite its simplicity, majority voting outperforms HMM on almost all of the POS tags and overall achieves a higher macro F1 score."
   ]
  },
  {
   "cell_type": "code",
   "execution_count": 29,
   "id": "9d269f07-026b-4349-80c5-bd9a04a4ba80",
   "metadata": {
    "ExecuteTime": {
     "end_time": "2023-09-27T15:43:38.226068Z",
     "start_time": "2023-09-27T15:43:34.778632Z"
    }
   },
   "outputs": [],
   "source": [
    "df = evaluate(test_docs, all_labels, [\"mv\", \"hmm\"])"
   ]
  },
  {
   "cell_type": "code",
   "execution_count": 30,
   "id": "cd763883-88c7-4517-a97c-91b691826a3b",
   "metadata": {
    "ExecuteTime": {
     "end_time": "2023-09-27T15:43:38.278486Z",
     "start_time": "2023-09-27T15:43:38.227751Z"
    }
   },
   "outputs": [
    {
     "data": {
      "text/plain": "                           tok_precision  tok_recall  tok_f1\nlabel    proportion model                                   \nADJ      16.4 %     hmm            0.189       0.335   0.242\n                    mv             0.425       0.455   0.440\nDET      18.4 %     hmm            0.688       0.935   0.792\n                    mv             0.710       0.835   0.768\nNOUN     40.0 %     hmm            0.333       0.195   0.246\n                    mv             0.387       0.440   0.412\nNUM      5.2 %      hmm            0.622       0.157   0.250\n                    mv             0.866       0.724   0.788\nPROPN    20.1 %     hmm            0.610       0.258   0.362\n                    mv             0.579       0.462   0.514\nmacro               hmm            0.488       0.376   0.424\n                    mv             0.593       0.583   0.588\nmicro               hmm            0.418       0.365   0.390\n                    mv             0.509       0.534   0.522\nweighted            hmm            0.445       0.365   0.402\n                    mv             0.516       0.534   0.524",
      "text/html": "<div>\n<style scoped>\n    .dataframe tbody tr th:only-of-type {\n        vertical-align: middle;\n    }\n\n    .dataframe tbody tr th {\n        vertical-align: top;\n    }\n\n    .dataframe thead th {\n        text-align: right;\n    }\n</style>\n<table border=\"1\" class=\"dataframe\">\n  <thead>\n    <tr style=\"text-align: right;\">\n      <th></th>\n      <th></th>\n      <th></th>\n      <th>tok_precision</th>\n      <th>tok_recall</th>\n      <th>tok_f1</th>\n    </tr>\n    <tr>\n      <th>label</th>\n      <th>proportion</th>\n      <th>model</th>\n      <th></th>\n      <th></th>\n      <th></th>\n    </tr>\n  </thead>\n  <tbody>\n    <tr>\n      <th rowspan=\"2\" valign=\"top\">ADJ</th>\n      <th rowspan=\"2\" valign=\"top\">16.4 %</th>\n      <th>hmm</th>\n      <td>0.189</td>\n      <td>0.335</td>\n      <td>0.242</td>\n    </tr>\n    <tr>\n      <th>mv</th>\n      <td>0.425</td>\n      <td>0.455</td>\n      <td>0.440</td>\n    </tr>\n    <tr>\n      <th rowspan=\"2\" valign=\"top\">DET</th>\n      <th rowspan=\"2\" valign=\"top\">18.4 %</th>\n      <th>hmm</th>\n      <td>0.688</td>\n      <td>0.935</td>\n      <td>0.792</td>\n    </tr>\n    <tr>\n      <th>mv</th>\n      <td>0.710</td>\n      <td>0.835</td>\n      <td>0.768</td>\n    </tr>\n    <tr>\n      <th rowspan=\"2\" valign=\"top\">NOUN</th>\n      <th rowspan=\"2\" valign=\"top\">40.0 %</th>\n      <th>hmm</th>\n      <td>0.333</td>\n      <td>0.195</td>\n      <td>0.246</td>\n    </tr>\n    <tr>\n      <th>mv</th>\n      <td>0.387</td>\n      <td>0.440</td>\n      <td>0.412</td>\n    </tr>\n    <tr>\n      <th rowspan=\"2\" valign=\"top\">NUM</th>\n      <th rowspan=\"2\" valign=\"top\">5.2 %</th>\n      <th>hmm</th>\n      <td>0.622</td>\n      <td>0.157</td>\n      <td>0.250</td>\n    </tr>\n    <tr>\n      <th>mv</th>\n      <td>0.866</td>\n      <td>0.724</td>\n      <td>0.788</td>\n    </tr>\n    <tr>\n      <th rowspan=\"2\" valign=\"top\">PROPN</th>\n      <th rowspan=\"2\" valign=\"top\">20.1 %</th>\n      <th>hmm</th>\n      <td>0.610</td>\n      <td>0.258</td>\n      <td>0.362</td>\n    </tr>\n    <tr>\n      <th>mv</th>\n      <td>0.579</td>\n      <td>0.462</td>\n      <td>0.514</td>\n    </tr>\n    <tr>\n      <th rowspan=\"2\" valign=\"top\">macro</th>\n      <th rowspan=\"2\" valign=\"top\"></th>\n      <th>hmm</th>\n      <td>0.488</td>\n      <td>0.376</td>\n      <td>0.424</td>\n    </tr>\n    <tr>\n      <th>mv</th>\n      <td>0.593</td>\n      <td>0.583</td>\n      <td>0.588</td>\n    </tr>\n    <tr>\n      <th rowspan=\"2\" valign=\"top\">micro</th>\n      <th rowspan=\"2\" valign=\"top\"></th>\n      <th>hmm</th>\n      <td>0.418</td>\n      <td>0.365</td>\n      <td>0.390</td>\n    </tr>\n    <tr>\n      <th>mv</th>\n      <td>0.509</td>\n      <td>0.534</td>\n      <td>0.522</td>\n    </tr>\n    <tr>\n      <th rowspan=\"2\" valign=\"top\">weighted</th>\n      <th rowspan=\"2\" valign=\"top\"></th>\n      <th>hmm</th>\n      <td>0.445</td>\n      <td>0.365</td>\n      <td>0.402</td>\n    </tr>\n    <tr>\n      <th>mv</th>\n      <td>0.516</td>\n      <td>0.534</td>\n      <td>0.524</td>\n    </tr>\n  </tbody>\n</table>\n</div>"
     },
     "execution_count": 30,
     "metadata": {},
     "output_type": "execute_result"
    }
   ],
   "source": [
    "df"
   ]
  },
  {
   "cell_type": "markdown",
   "source": [
    "## Using Libraries as Labelling functions\n",
    "\n",
    "\n",
    "In this part, we use popular NLP libraries to create labeling functions. They include Spacy, NLTK, Textblob.\n",
    "We use the Majority Voter and HMM as aggregation functions\n",
    "Optionally, you can train your own model on the data.\n",
    "\n",
    "Learning goals:\n",
    "- Understand how to use external libraries as labeling functions\n",
    "- Understand the Spacy object and how to use it for annotation\n",
    "\n",
    "First, read and understand the two functions below."
   ],
   "metadata": {
    "collapsed": false
   },
   "id": "b66869e214b73e10"
  },
  {
   "cell_type": "code",
   "execution_count": 41,
   "outputs": [],
   "source": [
    "\n",
    "# Sometimes data formats (here POS tags) differ. We load the data and convert it to the format we need. \n",
    "# Surely, there is some loss of information\n",
    "def nltk_tagger(doc):\n",
    "    for token in doc:\n",
    "        if not token.is_punct:\n",
    "            # Tag token with nltk\n",
    "            nltk_pos = nltk.pos_tag([token.text])[0][1]\n",
    "            # Map nltk pos tags to ours\n",
    "            if nltk_pos == \"DT\":\n",
    "                yield token.i, token.i + 1, \"DET\"\n",
    "            elif nltk_pos == \"CD\":\n",
    "                yield token.i, token.i + 1, \"NUM\"\n",
    "            elif nltk_pos == \"NNP\" or nltk_pos == \"NNPS\":\n",
    "                yield token.i, token.i + 1, \"PROPN\"\n",
    "            elif nltk_pos == \"JJ\" or nltk_pos == \"JJR\" or nltk_pos == \"JJS\":\n",
    "                yield token.i, token.i + 1, \"ADJ\"\n",
    "            elif nltk_pos == \"NN\" or nltk_pos == \"NNS\":\n",
    "                yield token.i, token.i + 1, \"NOUN\"\n",
    "            elif nltk_pos == \"VB\" or nltk_pos == \"VBD\" or nltk_pos == \"VBG\" or nltk_pos == \"VBN\" or nltk_pos == \"VBP\" or nltk_pos == \"VBZ\":\n",
    "                yield token.i, token.i + 1, \"VERB\"\n",
    "\n",
    "\n",
    "# We cn also use the Textblob library to get POS tags\n",
    "# Under the hood, it uses the Pattern library. Once again, a transformation of the tag-labels is needed\n",
    "def textblob_tagger(doc):\n",
    "    for token in doc:\n",
    "        if not token.is_punct:\n",
    "            textblob_pos = TextBlob(token.text, pos_tagger=PatternTagger()).tags\n",
    "            if len(textblob_pos) > 0:\n",
    "                yield token.i, token.i + 1, penntreebank2universal(textblob_pos[0][1])\n"
   ],
   "metadata": {
    "collapsed": false,
    "ExecuteTime": {
     "end_time": "2023-09-27T15:44:01.284808Z",
     "start_time": "2023-09-27T15:44:01.185146Z"
    }
   },
   "id": "d26ad3f38fb269a2"
  },
  {
   "cell_type": "markdown",
   "source": [
    "## Write the Spacy Labeling Functions\n",
    "\n",
    "Use the two english Spacy models \"en_core_web_sm\", \"en_core_web_md\" to create labeling functions.\n",
    "The challenge is that they use different tokens, i.e. the atomic units of a sentence. Our simple tokenization just splits the words by whitespace.\n",
    "Your task it to design an algorithm that maps the tokens of the simple tokenization to the tokens of the Spacy tokenization, and use the token available there to create labeling functions.\n",
    "\n",
    "Hints:\n",
    "1) Access token i by `token=doc[i]` or obtain its poition by `i=token.i`\n",
    "2) Access the Spacy POS token (its ground truth) by `pos=token.pos_`"
   ],
   "metadata": {
    "collapsed": false
   },
   "id": "e63c9785e6266442"
  },
  {
   "cell_type": "code",
   "execution_count": 42,
   "outputs": [],
   "source": [
    "eng_nlp_sm = spacy.load(\"en_core_web_sm\")\n",
    "eng_nlp_md = spacy.load(\"en_core_web_md\")\n",
    "\n",
    "# ***********************************\n",
    "\n",
    "def eng_spacy_tagger_sm(doc):\n",
    "    other_doc = eng_nlp_sm(doc.text)\n",
    "    i = 0\n",
    "    for token in doc:\n",
    "        labelled = False\n",
    "        for other_token in other_doc:\n",
    "            if other_doc[other_token.i:].text not in doc[token.i:].text:\n",
    "                continue\n",
    "            if token.text in other_token.text and not labelled:\n",
    "                labelled = True\n",
    "                yield token.i, token.i + 1, other_token.pos_.split(\"-\")[-1]\n",
    "\n",
    "\n",
    "def eng_spacy_tagger_md(doc):\n",
    "    other_doc = eng_nlp_md(doc.text)\n",
    "\n",
    "    for token in doc:\n",
    "        labelled = False\n",
    "        for other_token in other_doc:\n",
    "            if other_doc[other_token.i:].text not in doc[token.i:].text:\n",
    "                continue\n",
    "            if token.text in other_token.text and not labelled:\n",
    "                labelled = True\n",
    "                yield token.i, token.i + 1, other_token.pos_.split(\"-\")[-1]\n",
    "\n",
    "# ***********************************"
   ],
   "metadata": {
    "collapsed": false,
    "ExecuteTime": {
     "end_time": "2023-09-27T15:44:03.136255Z",
     "start_time": "2023-09-27T15:44:01.231963Z"
    }
   },
   "id": "98125255830b3c6"
  },
  {
   "cell_type": "code",
   "execution_count": 43,
   "outputs": [],
   "source": [
    "\n",
    "nltk_lf = skweak.heuristics.FunctionAnnotator(\"nltk\", nltk_tagger)\n",
    "textblob_lf = skweak.heuristics.FunctionAnnotator(\"textblob\", textblob_tagger)\n",
    "eng_spacy_sm_lf = skweak.heuristics.FunctionAnnotator(\"eng_spacy_sm\", eng_spacy_tagger_sm)\n",
    "eng_spacy_md_lf = skweak.heuristics.FunctionAnnotator(\"eng_spacy_md\", eng_spacy_tagger_md)"
   ],
   "metadata": {
    "collapsed": false,
    "ExecuteTime": {
     "end_time": "2023-09-27T15:44:03.183354Z",
     "start_time": "2023-09-27T15:44:03.137898Z"
    }
   },
   "id": "4e6a7847ca7f8599"
  },
  {
   "cell_type": "markdown",
   "source": [
    "### Load Data and apply Labeling functions\n",
    "\n",
    "Before and after applying the labeling functions, and the aggregation functions, we compute the recall and number of conflicts. For the sake of time, we use this time only a subset of the data."
   ],
   "metadata": {
    "collapsed": false
   },
   "id": "1f683e3635b65825"
  },
  {
   "cell_type": "code",
   "execution_count": 44,
   "outputs": [],
   "source": [
    "\n",
    "# load training and test data\n",
    "lfs = [nltk_lf, eng_spacy_sm_lf, textblob_lf, eng_spacy_md_lf]\n",
    "all_labels = [\"DET\", \"NUM\", \"PROPN\", \"NOUN\", \"ADJ\"]\n",
    "\n",
    "# small amount of data for the sake of time\n",
    "train_docs = load_data_split(\"train\", all_labels, 3000)\n",
    "\n",
    "# tag the training documents\n",
    "train_docs = tag_all(train_docs, lfs)\n",
    "\n"
   ],
   "metadata": {
    "collapsed": false,
    "ExecuteTime": {
     "end_time": "2023-09-27T15:45:33.676011Z",
     "start_time": "2023-09-27T15:44:03.177354Z"
    }
   },
   "id": "8cd4fbdc068b7a54"
  },
  {
   "cell_type": "code",
   "execution_count": 45,
   "outputs": [
    {
     "name": "stdout",
     "output_type": "stream",
     "text": [
      "Train recall 1.0\n",
      "Train conflicts 0.4051\n"
     ]
    }
   ],
   "source": [
    "recall = compute_recall(train_docs)\n",
    "num_conflicts = compute_num_conflicts(train_docs)\n",
    "print(\"Train recall\", recall)\n",
    "print(\"Train conflicts\", num_conflicts)"
   ],
   "metadata": {
    "collapsed": false,
    "ExecuteTime": {
     "end_time": "2023-09-27T15:45:34.176297Z",
     "start_time": "2023-09-27T15:45:33.675766Z"
    }
   },
   "id": "d2ccb283b5af19c0"
  },
  {
   "cell_type": "markdown",
   "source": [
    "We observe that the recall is very high. This is because the used libraries are quite well.\n",
    "Further, we observe that in 40.5% of the tokens there is a conflict."
   ],
   "metadata": {
    "collapsed": false
   },
   "id": "15a95f9bf687cbe8"
  },
  {
   "cell_type": "code",
   "execution_count": 46,
   "outputs": [
    {
     "name": "stdout",
     "output_type": "stream",
     "text": [
      "Starting iteration 1\n",
      "Number of processed documents: 1000\n",
      "Number of processed documents: 2000\n",
      "Finished E-step with 3000 documents\n",
      "Starting iteration 2\n"
     ]
    },
    {
     "name": "stderr",
     "output_type": "stream",
     "text": [
      "         1     -105487.6510             +nan\n"
     ]
    },
    {
     "name": "stdout",
     "output_type": "stream",
     "text": [
      "Number of processed documents: 1000\n",
      "Number of processed documents: 2000\n",
      "Finished E-step with 3000 documents\n",
      "Starting iteration 3\n"
     ]
    },
    {
     "name": "stderr",
     "output_type": "stream",
     "text": [
      "         2     -100521.0518       +4966.5992\n"
     ]
    },
    {
     "name": "stdout",
     "output_type": "stream",
     "text": [
      "Number of processed documents: 1000\n",
      "Number of processed documents: 2000\n",
      "Finished E-step with 3000 documents\n",
      "Starting iteration 4\n"
     ]
    },
    {
     "name": "stderr",
     "output_type": "stream",
     "text": [
      "         3      -99870.4155        +650.6362\n"
     ]
    },
    {
     "name": "stdout",
     "output_type": "stream",
     "text": [
      "Number of processed documents: 1000\n",
      "Number of processed documents: 2000\n",
      "Finished E-step with 3000 documents\n",
      "Starting iteration 5\n"
     ]
    },
    {
     "name": "stderr",
     "output_type": "stream",
     "text": [
      "         4      -99584.3244        +286.0912\n"
     ]
    },
    {
     "name": "stdout",
     "output_type": "stream",
     "text": [
      "Number of processed documents: 1000\n",
      "Number of processed documents: 2000\n",
      "Finished E-step with 3000 documents\n"
     ]
    },
    {
     "name": "stderr",
     "output_type": "stream",
     "text": [
      "         5      -99350.4815        +233.8429\n"
     ]
    }
   ],
   "source": [
    "# train the HMM\n",
    "hmm = skweak.aggregation.HMM(\"hmm\", all_labels)\n",
    "hmm=hmm.fit(train_docs)"
   ],
   "metadata": {
    "collapsed": false,
    "ExecuteTime": {
     "end_time": "2023-09-27T15:45:51.468743Z",
     "start_time": "2023-09-27T15:45:34.175941Z"
    }
   },
   "id": "3260766620d5732f"
  },
  {
   "cell_type": "markdown",
   "source": [
    "Now we compare how majority vote and HMM change the number of conflicts.\n",
    "Remember, that it's important to set Majority vote before HMM, otherwise Majority Vote takes the HMM predictions into account"
   ],
   "metadata": {
    "collapsed": false
   },
   "id": "bb8e5e369a339ea5"
  },
  {
   "cell_type": "code",
   "execution_count": 47,
   "outputs": [
    {
     "name": "stdout",
     "output_type": "stream",
     "text": [
      "Conflicts with MV on train set:  0.4051\n"
     ]
    }
   ],
   "source": [
    "mv = skweak.aggregation.MajorityVoter(\"mv\", all_labels)\n",
    "train_docs = tag_all(train_docs, [mv, hmm])\n",
    "\n",
    "num_conflicts = compute_num_conflicts(train_docs)\n",
    "print(\"Conflicts with MV on train set: \", num_conflicts)"
   ],
   "metadata": {
    "collapsed": false,
    "ExecuteTime": {
     "end_time": "2023-09-27T15:46:01.726209Z",
     "start_time": "2023-09-27T15:45:51.457430Z"
    }
   },
   "id": "5e97248010fd19f5"
  },
  {
   "cell_type": "markdown",
   "source": [
    "We observe that the number of token conflicts does not change. The reason is that both methods can not choose a class different from the labeling functions."
   ],
   "metadata": {
    "collapsed": false
   },
   "id": "85ce0ba37f42b099"
  },
  {
   "cell_type": "markdown",
   "source": [
    "## Evaluation\n",
    "\n",
    "Look at the Precision, Recall and F1-Score of the different aggregation functions. What do you observe?"
   ],
   "metadata": {
    "collapsed": false
   },
   "id": "de4459da2d558cc1"
  },
  {
   "cell_type": "code",
   "execution_count": 48,
   "outputs": [
    {
     "name": "stdout",
     "output_type": "stream",
     "text": [
      "Conflicts on test set 0.4215\n"
     ]
    }
   ],
   "source": [
    "# tag the test documents\n",
    "# Once again, it's important to set Majority vote before HMM, otherwise Majority Vote takes the HMM predictions into account\n",
    "test_docs = load_data_split(\"test\", all_labels, 1000)\n",
    "test_docs = tag_all(test_docs, lfs + [mv, hmm])\n",
    "\n",
    "num_conflicts = compute_num_conflicts(test_docs)\n",
    "print(\"Conflicts on test set\", num_conflicts)"
   ],
   "metadata": {
    "collapsed": false,
    "ExecuteTime": {
     "end_time": "2023-09-27T15:46:22.729638Z",
     "start_time": "2023-09-27T15:45:58.025888Z"
    }
   },
   "id": "a4e8b6728ab8f9fd"
  },
  {
   "cell_type": "code",
   "execution_count": 49,
   "outputs": [],
   "source": [
    "df = evaluate(test_docs, all_labels, [ \"mv\", \"hmm\"])"
   ],
   "metadata": {
    "collapsed": false,
    "ExecuteTime": {
     "end_time": "2023-09-27T15:46:24.264288Z",
     "start_time": "2023-09-27T15:46:22.728517Z"
    }
   },
   "id": "8489eca67920c19a"
  },
  {
   "cell_type": "code",
   "execution_count": 50,
   "outputs": [
    {
     "data": {
      "text/plain": "                           tok_precision  tok_recall  tok_f1\nlabel    proportion model                                   \nADJ      12.8 %     hmm            0.912       0.866   0.888\n                    mv             0.893       0.852   0.872\nDET      17.3 %     hmm            0.950       0.996   0.972\n                    mv             0.900       0.999   0.946\nNOUN     37.4 %     hmm            0.936       0.859   0.896\n                    mv             0.671       0.879   0.762\nNUM      7.3 %      hmm            0.964       0.927   0.946\n                    mv             0.969       0.848   0.904\nPROPN    25.2 %     hmm            0.806       0.950   0.872\n                    mv             0.808       0.947   0.872\nmacro               hmm            0.914       0.920   0.916\n                    mv             0.848       0.905   0.876\nmicro               hmm            0.899       0.911   0.904\n                    mv             0.783       0.911   0.842\nweighted            hmm            0.905       0.911   0.908\n                    mv             0.795       0.911   0.850",
      "text/html": "<div>\n<style scoped>\n    .dataframe tbody tr th:only-of-type {\n        vertical-align: middle;\n    }\n\n    .dataframe tbody tr th {\n        vertical-align: top;\n    }\n\n    .dataframe thead th {\n        text-align: right;\n    }\n</style>\n<table border=\"1\" class=\"dataframe\">\n  <thead>\n    <tr style=\"text-align: right;\">\n      <th></th>\n      <th></th>\n      <th></th>\n      <th>tok_precision</th>\n      <th>tok_recall</th>\n      <th>tok_f1</th>\n    </tr>\n    <tr>\n      <th>label</th>\n      <th>proportion</th>\n      <th>model</th>\n      <th></th>\n      <th></th>\n      <th></th>\n    </tr>\n  </thead>\n  <tbody>\n    <tr>\n      <th rowspan=\"2\" valign=\"top\">ADJ</th>\n      <th rowspan=\"2\" valign=\"top\">12.8 %</th>\n      <th>hmm</th>\n      <td>0.912</td>\n      <td>0.866</td>\n      <td>0.888</td>\n    </tr>\n    <tr>\n      <th>mv</th>\n      <td>0.893</td>\n      <td>0.852</td>\n      <td>0.872</td>\n    </tr>\n    <tr>\n      <th rowspan=\"2\" valign=\"top\">DET</th>\n      <th rowspan=\"2\" valign=\"top\">17.3 %</th>\n      <th>hmm</th>\n      <td>0.950</td>\n      <td>0.996</td>\n      <td>0.972</td>\n    </tr>\n    <tr>\n      <th>mv</th>\n      <td>0.900</td>\n      <td>0.999</td>\n      <td>0.946</td>\n    </tr>\n    <tr>\n      <th rowspan=\"2\" valign=\"top\">NOUN</th>\n      <th rowspan=\"2\" valign=\"top\">37.4 %</th>\n      <th>hmm</th>\n      <td>0.936</td>\n      <td>0.859</td>\n      <td>0.896</td>\n    </tr>\n    <tr>\n      <th>mv</th>\n      <td>0.671</td>\n      <td>0.879</td>\n      <td>0.762</td>\n    </tr>\n    <tr>\n      <th rowspan=\"2\" valign=\"top\">NUM</th>\n      <th rowspan=\"2\" valign=\"top\">7.3 %</th>\n      <th>hmm</th>\n      <td>0.964</td>\n      <td>0.927</td>\n      <td>0.946</td>\n    </tr>\n    <tr>\n      <th>mv</th>\n      <td>0.969</td>\n      <td>0.848</td>\n      <td>0.904</td>\n    </tr>\n    <tr>\n      <th rowspan=\"2\" valign=\"top\">PROPN</th>\n      <th rowspan=\"2\" valign=\"top\">25.2 %</th>\n      <th>hmm</th>\n      <td>0.806</td>\n      <td>0.950</td>\n      <td>0.872</td>\n    </tr>\n    <tr>\n      <th>mv</th>\n      <td>0.808</td>\n      <td>0.947</td>\n      <td>0.872</td>\n    </tr>\n    <tr>\n      <th rowspan=\"2\" valign=\"top\">macro</th>\n      <th rowspan=\"2\" valign=\"top\"></th>\n      <th>hmm</th>\n      <td>0.914</td>\n      <td>0.920</td>\n      <td>0.916</td>\n    </tr>\n    <tr>\n      <th>mv</th>\n      <td>0.848</td>\n      <td>0.905</td>\n      <td>0.876</td>\n    </tr>\n    <tr>\n      <th rowspan=\"2\" valign=\"top\">micro</th>\n      <th rowspan=\"2\" valign=\"top\"></th>\n      <th>hmm</th>\n      <td>0.899</td>\n      <td>0.911</td>\n      <td>0.904</td>\n    </tr>\n    <tr>\n      <th>mv</th>\n      <td>0.783</td>\n      <td>0.911</td>\n      <td>0.842</td>\n    </tr>\n    <tr>\n      <th rowspan=\"2\" valign=\"top\">weighted</th>\n      <th rowspan=\"2\" valign=\"top\"></th>\n      <th>hmm</th>\n      <td>0.905</td>\n      <td>0.911</td>\n      <td>0.908</td>\n    </tr>\n    <tr>\n      <th>mv</th>\n      <td>0.795</td>\n      <td>0.911</td>\n      <td>0.850</td>\n    </tr>\n  </tbody>\n</table>\n</div>"
     },
     "execution_count": 50,
     "metadata": {},
     "output_type": "execute_result"
    }
   ],
   "source": [
    "df"
   ],
   "metadata": {
    "collapsed": false,
    "ExecuteTime": {
     "end_time": "2023-09-27T15:46:24.321776Z",
     "start_time": "2023-09-27T15:46:24.264485Z"
    }
   },
   "id": "59bedaa1e417ad94"
  },
  {
   "cell_type": "markdown",
   "source": [
    "Contrary, to the first part, we observe that the HMM performs better than majority vote."
   ],
   "metadata": {
    "collapsed": false
   },
   "id": "975f4302a27e3a6b"
  }
 ],
 "metadata": {
  "kernelspec": {
   "display_name": "Python 3 (ipykernel)",
   "language": "python",
   "name": "python3"
  },
  "language_info": {
   "codemirror_mode": {
    "name": "ipython",
    "version": 3
   },
   "file_extension": ".py",
   "mimetype": "text/x-python",
   "name": "python",
   "nbconvert_exporter": "python",
   "pygments_lexer": "ipython3",
   "version": "3.8.17"
  }
 },
 "nbformat": 4,
 "nbformat_minor": 5
}
