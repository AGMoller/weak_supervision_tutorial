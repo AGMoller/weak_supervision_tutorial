{
 "cells": [
  {
   "cell_type": "markdown",
   "id": "8a9541d5-d3a0-4256-a8cf-8fa5a4fca705",
   "metadata": {},
   "source": [
    "# Part 3: Weakly supervised part-of-speech tagging\n",
    "\n",
    "_by Andreas Stephan (GitHub: @AndSt, Email: andreas.stephan@univie.ac.at) and Vasiliki Kougia (GitHub: @vasilikikou, Email: vasiliki.kougia@univie.ac.at)_\n",
    "\n",
    "In this part, we will work on a different type of task, which is called **sequence labeling**. Instead of having one label for an entire text, in sequence labeling, we assign a label to each token in the text.\n",
    "Specifically we chose **Part-of-speech (POS) tagging**, where the goal is to assign a POS tag that indicates a grammatical type, to a word based on its definition and context.\n",
    "\n",
    "\n",
    "<img src=\"../img/pos_tagging.png\" width=\"800\" style=\"display: block; margin: 0 auto\" />\n",
    "\n",
    "\n",
    "\n",
    "In order to perform weakly supervised POS tagging, we will employ the [skweak toolkit](https://github.com/NorskRegnesentral/skweak).\n",
    "We will create labeling functions to assign POS tags based on _syntactic analysis_ and _grammatical rules_.\n"
   ]
  },
  {
   "cell_type": "code",
   "execution_count": null,
   "id": "initial_id",
   "metadata": {},
   "outputs": [],
   "source": [
    "# Imports\n",
    "%load_ext autoreload\n",
    "%autoreload 2\n",
    "\n",
    "import re\n",
    "import os\n",
    "\n",
    "import pandas as pd\n",
    "\n",
    "import nltk\n",
    "import spacy\n",
    "\n",
    "from textblob import TextBlob\n",
    "from textblob.taggers import PatternTagger\n",
    "\n",
    "import skweak\n",
    "\n",
    "from scripts.skweak_ner_eval import evaluate\n",
    "from scripts.utils import load_data_split, get_frequent_words, tag_all, penntreebank2universal, compute_recall, compute_num_conflicts\n",
    "\n",
    "pd.set_option('display.max_rows', 500)"
   ]
  },
  {
   "cell_type": "code",
   "execution_count": null,
   "id": "4efa2381bdd1d1cb",
   "metadata": {
    "collapsed": false,
    "jupyter": {
     "outputs_hidden": false
    }
   },
   "outputs": [],
   "source": [
    "nltk.download('averaged_perceptron_tagger')\n",
    "nltk.download('universal_tagset')\n",
    "nltk.download('stopwords')\n",
    "!python -m spacy download en_core_web_sm\n",
    "!python -m spacy download en_core_web_md\n",
    "!python -m textblob.download_corpora"
   ]
  },
  {
   "cell_type": "markdown",
   "id": "8ccd374d-47a9-4d0a-abac-316250269587",
   "metadata": {},
   "source": [
    "## POS tags\n",
    "\n",
    "For this tutorial, we will use the following subset of the [universal POS tags](https://universaldependencies.org/u/pos/index.html):\n",
    "1. **DET**: determiner, which is a word that modifies nouns or noun phrases and expresses the reference of the noun phrase in context.\n",
    "2. **NUM**: numeral. It is a word that expresses a number and a relation to the number, such as quantity, sequence, frequency or fraction.\n",
    "3. **PROPN**: proper noun is a noun that is the name of a specific individual, place, or object.\n",
    "4. **ADJ**: adjective, which is a word that typically modifies nouns and specifies their properties or attributes.\n",
    "5. **NOUN**: noun, which is a part of speech typically denoting a person, place, thing, animal or idea."
   ]
  },
  {
   "cell_type": "code",
   "execution_count": null,
   "id": "5a21f417219cacde",
   "metadata": {},
   "outputs": [],
   "source": [
    "all_labels = [\"DET\", \"NUM\", \"PROPN\", \"ADJ\", \"NOUN\"]"
   ]
  },
  {
   "cell_type": "markdown",
   "id": "9b562f0c-c762-44c3-ab5e-c8d1e53227ee",
   "metadata": {},
   "source": [
    "## Load data\n",
    "\n",
    "We will use the [English corpus](https://universaldependencies.org/treebanks/en_ewt/index.html) from Universal Dependencies, a framework that contains consistent grammatical annotations across many different languages.\n",
    "The texts in the corpus come from five types of web media: weblogs, newsgroups, emails, reviews, and Yahoo! answers and consist of 254,825 words and 16,621 sentences.\n",
    "\n",
    "Skweak operates on spaCy ``doc`` objects, so the dataset is loaded in this format."
   ]
  },
  {
   "cell_type": "code",
   "execution_count": null,
   "id": "e61c0c38-5a9a-4a00-9649-b1b7464a59d1",
   "metadata": {},
   "outputs": [],
   "source": [
    "# Load training data\n",
    "train_docs = load_data_split(\"train\", all_labels)"
   ]
  },
  {
   "cell_type": "code",
   "execution_count": null,
   "id": "1068ab32-f22d-40ea-9cfd-2e34131dc608",
   "metadata": {},
   "outputs": [],
   "source": [
    "for doc in train_docs[:3]:\n",
    "    skweak.utils.display_entities(doc)"
   ]
  },
  {
   "cell_type": "markdown",
   "id": "5bbbfa7b-9fbf-4c26-9512-f92aa2b35c02",
   "metadata": {},
   "source": [
    "## 3.1 Labeling functions\n",
    "\n",
    "In the first step, we find the 200 most frequent words in our training corpus and use a lexicon to label these words. In the second step, we mannually annotate the 50 most frequent words.\n",
    "Finally, for each POS tag we will create the following labeling functions: \n",
    "\n",
    "*   DET --> Lexicon with determiners.\n",
    "*   NUM --> If the token is a number or a word indicating a number from 1 to 10.\n",
    "*   PROPN --> A word that is capitalized.\n",
    "*   ADJ --> List of prefixes and suffixes. Syntactic rules that check: 1. if the previous word is a form of \"be\" and 2. if the previous word is a determiner or numeral.\n",
    "*   NOUN --> List of prefixes and suffixes. Syntactic rule checking if the previous word is a determiner, numeral or adjective."
   ]
  },
  {
   "cell_type": "markdown",
   "id": "4071eda5-6faf-43dc-ad4f-169aaa94e251",
   "metadata": {},
   "source": [
    "#### Lexicon LF"
   ]
  },
  {
   "cell_type": "code",
   "execution_count": null,
   "id": "fb3ff73f-4151-4abf-975a-8139ceb7a10f",
   "metadata": {},
   "outputs": [],
   "source": [
    "# Get the 200 most frequent words in the training set\n",
    "frequent_words = get_frequent_words(train_docs, 200)\n",
    "print(frequent_words[:5])"
   ]
  },
  {
   "cell_type": "code",
   "execution_count": null,
   "id": "8e20d614-94d6-4f45-a006-f1e87a6f9361",
   "metadata": {},
   "outputs": [],
   "source": [
    "# Load the lexicon\n",
    "with open(\"noun_vb_adj_list.txt\") as f:\n",
    "    lines = f.readlines()\n",
    "\n",
    "# Create a dictionary with the words and their pos tags\n",
    "lexicon = {}\n",
    "for l in lines:\n",
    "    values = l.replace(\"\\n\", \"\").split(\"\\t\")\n",
    "    lexicon[values[0]] = values[1]"
   ]
  },
  {
   "cell_type": "code",
   "execution_count": null,
   "id": "6ad9db7c-35f2-488a-b0e7-c18e0aa94833",
   "metadata": {},
   "outputs": [],
   "source": [
    "print(\"There are\", len(lexicon), \"words in the lexicon.\")\n",
    "print(list(lexicon.items())[:5])"
   ]
  },
  {
   "cell_type": "code",
   "execution_count": null,
   "id": "db38ff17-3440-46f3-a017-ec7a0823c7ef",
   "metadata": {},
   "outputs": [],
   "source": [
    "# How many of the frequent words we found exist in the lexicon\n",
    "len((list(set(frequent_words) & set(list(lexicon.keys())))))"
   ]
  },
  {
   "cell_type": "code",
   "execution_count": null,
   "id": "722aefef-ed00-4c25-bf29-0d39a6db0701",
   "metadata": {},
   "outputs": [],
   "source": [
    "# Lexicon LF\n",
    "def frequent_word_detector(doc):\n",
    "    for token in doc:\n",
    "        # If the frequent word exists in the lexicon use its assigned pos tag\n",
    "        if token.text.lower() in frequent_words and token.text.lower() in list(lexicon.keys()):\n",
    "            yield token.i, token.i + 1, lexicon[token.text.lower()]\n",
    "\n",
    "\n",
    "lexicon_lf = skweak.heuristics.FunctionAnnotator(\"frequent_words\", frequent_word_detector)\n"
   ]
  },
  {
   "cell_type": "markdown",
   "id": "2252eb22-0fa6-4e01-b8a3-f28fdc909314",
   "metadata": {},
   "source": [
    "#### Manual annotation LF"
   ]
  },
  {
   "cell_type": "code",
   "execution_count": null,
   "id": "17544d20-5048-490f-afd8-b1a6b96e53a6",
   "metadata": {},
   "outputs": [],
   "source": [
    "# Manual annotation\n",
    "top50_words = get_frequent_words(train_docs, 50)\n",
    "print(top50_words)"
   ]
  },
  {
   "cell_type": "code",
   "execution_count": null,
   "id": "9bc491a1-0a9f-4a6f-88dd-76b4c65f1f9d",
   "metadata": {},
   "outputs": [],
   "source": [
    "# Annotate the words that their POS tag exists in our chosen tag subset\n",
    "manual_tags = {\n",
    "    \"one\": \"NUM\",\n",
    "    \"like\": \"VERB\",\n",
    "    \"time\": \"NOUN\",\n",
    "    \"get\": \"VERB\",\n",
    "    \"know\": \"VERB\",\n",
    "    \"good\": \"ADJ\",\n",
    "    \"could\": \"VERB\",\n",
    "    \"new\": \"ADJ\",\n",
    "    \"go\": \"VERB\",\n",
    "    \"please\": \"VERB\",\n",
    "    \"people\": \"NOUN\",\n",
    "    \"said\": \"VERB\",\n",
    "    \"work\": \"VERB\",\n",
    "    \"bush\": \"NOUN\",\n",
    "    \"want\": \"VERB\",\n",
    "    \"great\": \"ADJ\",\n",
    "    \"way\": \"NOUN\",\n",
    "    \"see\": \"VERB\",\n",
    "    \"best\": \"ADJ\",\n",
    "    \"place\": \"NOUN\",\n",
    "    \"take\": \"VERB\",\n",
    "    \"going\": \"VERB\",\n",
    "    \"service\": \"NOUN\",\n",
    "    \"need\": \"VERB\",\n",
    "    \"make\": \"VERB\",\n",
    "    \"year\": \"NOUN\",\n",
    "    \"number\": \"NOUN\",\n",
    "    \"day\": \"NOUN\",\n",
    "    \"two\": \"NUM\",\n",
    "    \"think\": \"VERB\",\n",
    "    \"food\": \"NOUN\",\n",
    "    \"let\": \"VERB\",\n",
    "    \"first\": \"ADJ\",\n",
    "    \"call\": \"VERB\",\n",
    "    \"2\": \"NUM\",\n",
    "    \"help\": \"VERB\"\n",
    "}"
   ]
  },
  {
   "cell_type": "code",
   "execution_count": null,
   "id": "9558b408-4ef9-4a2f-a3aa-fa22532b2f19",
   "metadata": {},
   "outputs": [],
   "source": [
    "# Manual POS tags LF\n",
    "def manual_pos_tagger(doc):\n",
    "    for token in doc:\n",
    "        if token.text.lower() in manual_tags:\n",
    "            yield token.i, token.i + 1, manual_tags[token.text.lower()]\n",
    "\n",
    "\n",
    "manual_pos_lf = skweak.heuristics.FunctionAnnotator(\"manual_pos\", manual_pos_tagger)\n"
   ]
  },
  {
   "cell_type": "markdown",
   "id": "155d654a-0f2e-4f7c-9b72-1a790de0e564",
   "metadata": {},
   "source": [
    "#### DET LF"
   ]
  },
  {
   "cell_type": "code",
   "execution_count": null,
   "id": "36f5808a-053e-4d82-87b7-c7a58d776087",
   "metadata": {},
   "outputs": [],
   "source": [
    "# Use a lexicon of determiners\n",
    "tries = skweak.gazetteers.extract_json_data(\"det.json\")\n",
    "det_lf = skweak.gazetteers.GazetteerAnnotator(\"determiners\", tries, case_sensitive=False)\n"
   ]
  },
  {
   "cell_type": "markdown",
   "id": "6fc7533e-b027-4753-8eae-03df346efa67",
   "metadata": {},
   "source": [
    "#### NUM LF"
   ]
  },
  {
   "cell_type": "code",
   "execution_count": null,
   "id": "6eeb92f1-b25d-4f8f-8d13-73ede592fa65",
   "metadata": {},
   "outputs": [],
   "source": [
    "# Use a regular expression pattern to look for digits\n",
    "def num_detector(doc):\n",
    "    for token in doc:\n",
    "        if re.search(\"\\d+\", token.text):\n",
    "            yield token.i, token.i + 1, \"NUM\"\n",
    "\n",
    "# Check if the token is the word of a number from 1 to 10\n",
    "def num_word_detector(doc):\n",
    "    for token in doc:\n",
    "        if token.text.lower() in [\"one\", \"two\", \"three\", \"four\", \"five\", \"six\", \"seven\", \"eight\", \"nine\", \"ten\"]:\n",
    "            yield token.i, token.i + 1, \"NUM\"\n",
    "\n",
    "num_lf1 = skweak.heuristics.FunctionAnnotator(\"numerals1\", num_detector)\n",
    "num_lf2 = skweak.heuristics.FunctionAnnotator(\"numerals2\", num_word_detector)\n"
   ]
  },
  {
   "cell_type": "markdown",
   "id": "19f6c463-33dc-45aa-a4c3-e206f01a1558",
   "metadata": {},
   "source": [
    "#### PROPN LF"
   ]
  },
  {
   "cell_type": "code",
   "execution_count": null,
   "id": "87790367-e082-4a2d-a794-24ed64ac55a8",
   "metadata": {},
   "outputs": [],
   "source": [
    "# Check if the fist letter of a word or the whole word is capitalized\n",
    "def propn_detector(doc):\n",
    "    for token in doc:\n",
    "        if token.i == 0:\n",
    "            # For the first word of a sentence, check if all letters are capitalized\n",
    "            if token.text.isupper():\n",
    "                yield token.i, token.i + 1, \"PROPN\"\n",
    "        else:\n",
    "            if token.text.isupper() or token.text[0].isupper():\n",
    "                yield token.i, token.i + 1, \"PROPN\"\n",
    "\n",
    "\n",
    "propn_lf = skweak.heuristics.FunctionAnnotator(\"proper_nouns\", propn_detector)\n"
   ]
  },
  {
   "cell_type": "markdown",
   "id": "30a8181f-da19-4c11-9636-79f95892025d",
   "metadata": {},
   "source": [
    "#### ADJ LFs"
   ]
  },
  {
   "cell_type": "code",
   "execution_count": null,
   "id": "4e24c251-3ec5-49e4-91fb-c1ed20848963",
   "metadata": {
    "scrolled": true
   },
   "outputs": [],
   "source": [
    "# Look for common suffixes and prefixes\n",
    "def adj_detector_suffixes(doc):\n",
    "    suffixes = (\"able\", \"al\", \"ful\", \"ic\", \"ive\", \"less\", \"ous\", \"y\", \"ish\", \"ible\", \"ent\", \"est\")\n",
    "    for token in doc:\n",
    "        if len(token.text) > 3 and token.text.endswith(suffixes):\n",
    "            yield token.i, token.i + 1, \"ADJ\"\n",
    "\n",
    "\n",
    "# Look for common prefixes\n",
    "def adj_detector_prefixes(doc):\n",
    "    prefixes = (\"un\", \"im\", \"in\", \"ir\", \"il\", \"non\", \"dis\")\n",
    "    for token in doc:\n",
    "        if len(token.text) > 3 and token.text.lower().startswith(prefixes):\n",
    "            yield token.i, token.i + 1, \"ADJ\"\n",
    "\n",
    "\n",
    "# If the previous word is a form of \"be\" and the current word does not end with \"ing\" and was not labeled as DET, then it's an adjective\n",
    "def adj_detector_synt1(doc):\n",
    "    weak_labels = [\"O\"] * len(doc)\n",
    "    for span in doc.spans[\"determiners\"]:\n",
    "        weak_labels[span.start] = span.label_\n",
    "\n",
    "    for token in doc[1:]:\n",
    "        if not token.is_punct:\n",
    "            prev = doc[token.i - 1].text.lower()\n",
    "            if prev in [\"be\", \"been\", \"being\", \"am\", \"is\", \"are\", \"was\", \"were\"] and (\n",
    "                    not token.text.endswith(\"ing\")) and weak_labels[token.i] == \"O\":\n",
    "                yield token.i, token.i + 1, \"ADJ\"\n",
    "\n",
    "\n",
    "# If the previous word is labeld as DET or NUM, then the current word is an adjective\n",
    "def adj_detector_synt2(doc):\n",
    "    weak_labels = [\"O\"] * len(doc)\n",
    "\n",
    "    for span in doc.spans[\"determiners\"]:\n",
    "        weak_labels[span.start] = span.label_\n",
    "\n",
    "    for span in doc.spans[\"numerals1\"]:\n",
    "        weak_labels[span.start] = span.label_\n",
    "\n",
    "    for span in doc.spans[\"numerals2\"]:\n",
    "        weak_labels[span.start] = span.label_\n",
    "\n",
    "    for token in doc[1:]:\n",
    "        if not token.is_punct:\n",
    "            if weak_labels[token.i - 1] != \"O\":\n",
    "                yield token.i, token.i + 1, \"ADJ\"\n",
    "\n",
    "\n",
    "adj_lf1 = skweak.heuristics.FunctionAnnotator(\"adjectives1\", adj_detector_suffixes)\n",
    "adj_lf2 = skweak.heuristics.FunctionAnnotator(\"adjectives2\", adj_detector_prefixes)\n",
    "adj_lf3 = skweak.heuristics.FunctionAnnotator(\"adjectives3\", adj_detector_synt1)\n",
    "adj_lf4 = skweak.heuristics.FunctionAnnotator(\"adjectives4\", adj_detector_synt2)\n"
   ]
  },
  {
   "cell_type": "markdown",
   "id": "33f2b5d4-9834-40f8-bad6-b5a347f4a457",
   "metadata": {},
   "source": [
    "#### NOUN LF"
   ]
  },
  {
   "cell_type": "markdown",
   "id": "25391729-012c-4069-b44f-426ce24f3c2d",
   "metadata": {},
   "source": [
    "Let's create a labeling function that looks for common noun suffixes. Can you think of some?"
   ]
  },
  {
   "cell_type": "code",
   "execution_count": null,
   "id": "0eceff82-36ec-4ac6-9aeb-64db0b57e573",
   "metadata": {},
   "outputs": [],
   "source": [
    "# ***********************************\n",
    "def noun_detector_suffixes(doc):\n",
    "    pass\n",
    "    # TODO\n",
    "    \n",
    "# ***********************************"
   ]
  },
  {
   "cell_type": "code",
   "execution_count": null,
   "id": "1c00243b-f55c-4b29-a3d2-bf6a23494253",
   "metadata": {},
   "outputs": [],
   "source": [
    "# Look for common prefixes\n",
    "def noun_detector_prefixes(doc):\n",
    "    prefixes = (\n",
    "        \"anti\", \"auto\", \"bi\", \"co\", \"counter\", \"dis\", \"ex\", \"hyper\", \"in\", \"inter\", \"kilo\", \"mal\", \"mega\", \"mis\",\n",
    "        \"mini\", \"mono\", \"neo\", \"out\", \"poly\", \"pseudo\", \"re\", \"semi\", \"sub\", \"super\", \"sur\", \"tele\", \"tri\", \"ultra\",\n",
    "        \"under\", \"vice\")\n",
    "    for token in doc:\n",
    "        if len(token.text) > 3 and token.text.lower().startswith(prefixes):\n",
    "            yield token.i, token.i + 1, \"NOUN\"\n",
    "\n",
    "\n",
    "# # If the previous word is labeld as DET, NUM or ADJ, then the current word is an noun\n",
    "def noun_detector_synt(doc):\n",
    "    weak_labels = [\"O\"] * len(doc)\n",
    "\n",
    "    for span in doc.spans[\"determiners\"]:\n",
    "        weak_labels[span.start] = span.label_\n",
    "\n",
    "    for span in doc.spans[\"numerals1\"]:\n",
    "        weak_labels[span.start] = span.label_\n",
    "\n",
    "    for span in doc.spans[\"numerals2\"]:\n",
    "        weak_labels[span.start] = span.label_\n",
    "\n",
    "    for span in doc.spans[\"adjectives1\"]:\n",
    "        weak_labels[span.start] = span.label_\n",
    "\n",
    "    for span in doc.spans[\"adjectives2\"]:\n",
    "        weak_labels[span.start] = span.label_\n",
    "\n",
    "    for span in doc.spans[\"adjectives3\"]:\n",
    "        weak_labels[span.start] = span.label_\n",
    "\n",
    "    for span in doc.spans[\"adjectives4\"]:\n",
    "        weak_labels[span.start] = span.label_\n",
    "\n",
    "    for token in doc[1:]:\n",
    "        if not token.is_punct:\n",
    "            if weak_labels[token.i - 1] != \"O\":\n",
    "                yield token.i, token.i + 1, \"NOUN\"\n",
    "\n",
    "\n",
    "noun_lf1 = skweak.heuristics.FunctionAnnotator(\"nouns1\", noun_detector_suffixes)\n",
    "noun_lf2 = skweak.heuristics.FunctionAnnotator(\"nouns2\", noun_detector_prefixes)\n",
    "noun_lf3 = skweak.heuristics.FunctionAnnotator(\"nouns3\", noun_detector_synt)\n"
   ]
  },
  {
   "cell_type": "markdown",
   "id": "b8993d97-1611-4048-8392-4d4abb89e645",
   "metadata": {},
   "source": [
    "## Apply LFs"
   ]
  },
  {
   "cell_type": "code",
   "execution_count": null,
   "id": "c62dd04d953cc2ea",
   "metadata": {
    "scrolled": true
   },
   "outputs": [],
   "source": [
    "# Put all LFs in a list\n",
    "lfs = [\n",
    "    lexicon_lf, manual_pos_lf, det_lf, \n",
    "    num_lf1, num_lf2, propn_lf,\n",
    "    adj_lf1, adj_lf2, adj_lf3, adj_lf4,\n",
    "    noun_lf2, noun_lf3\n",
    "]\n",
    "\n",
    "train_docs = tag_all(train_docs, lfs)"
   ]
  },
  {
   "cell_type": "code",
   "execution_count": null,
   "id": "a94d611f-e687-4e8e-8636-4b6bdbd818dc",
   "metadata": {},
   "outputs": [],
   "source": [
    "# Print some of the assigned weak labels\n",
    "for doc in train_docs[:3]:\n",
    "    skweak.utils.display_entities(doc, [\"determiners\", \"nouns2\"])"
   ]
  },
  {
   "cell_type": "code",
   "execution_count": null,
   "id": "41c269d6-1a2d-4ac6-8a2b-b78ce149f99b",
   "metadata": {},
   "outputs": [],
   "source": [
    "# Train HMM\n",
    "hmm = skweak.aggregation.HMM(\"hmm\", all_labels)\n",
    "hmm = hmm.fit(train_docs)"
   ]
  },
  {
   "cell_type": "code",
   "execution_count": null,
   "id": "cc0fe7d6-081c-4e01-96b5-45da566cbb81",
   "metadata": {},
   "outputs": [],
   "source": [
    "# Majority voting\n",
    "mv = skweak.aggregation.MajorityVoter(\"mv\", all_labels)"
   ]
  },
  {
   "cell_type": "code",
   "execution_count": null,
   "id": "9276ba55-6b54-4447-8d74-b14c3c3376c8",
   "metadata": {},
   "outputs": [],
   "source": [
    "# Apply LFs, HMM and MV to the test docs\n",
    "test_docs = load_data_split(\"test\", all_labels)\n",
    "test_docs = tag_all(test_docs, lfs + [mv, hmm])"
   ]
  },
  {
   "cell_type": "markdown",
   "id": "7408db9c-0773-4cbb-9d38-428fb4d66c52",
   "metadata": {},
   "source": [
    "## Evaluate"
   ]
  },
  {
   "cell_type": "markdown",
   "id": "0163aa41-49be-4f34-a72a-3272cab0fab9",
   "metadata": {},
   "source": [
    "#### Which POS tags are easier to detect?\n",
    "\n",
    "* We see that POS tags like determiners and numerals are easier to detect and we can achieve a good F1 score with just one or two simple LFs.\n"
   ]
  },
  {
   "cell_type": "code",
   "execution_count": null,
   "id": "7a2a542c-754b-4c74-a4c5-ce178e4434b2",
   "metadata": {},
   "outputs": [],
   "source": [
    "df = evaluate(test_docs, all_labels, [\n",
    "    \"determiners\", \"numerals1\", \"numerals2\", \"proper_nouns\"\n",
    "])"
   ]
  },
  {
   "cell_type": "code",
   "execution_count": null,
   "id": "2a140604-c1b9-4966-9c6e-36c7637794fd",
   "metadata": {},
   "outputs": [],
   "source": [
    "df.loc[[\"DET\", \"NUM\", \"PROPN\"]]"
   ]
  },
  {
   "cell_type": "markdown",
   "id": "518fb08f-26ba-47ba-983a-ab50500fb3ad",
   "metadata": {},
   "source": [
    "* Other POS tags like adjectives and nouns, which rely more on the context are harder to detect and require more complicated rules."
   ]
  },
  {
   "cell_type": "code",
   "execution_count": null,
   "id": "7c905080-6f03-4e32-9751-b7191d6969de",
   "metadata": {},
   "outputs": [],
   "source": [
    "df = evaluate(test_docs, all_labels, [\n",
    "    \"adjectives1\", \"adjectives2\", \"adjectives3\", \"adjectives4\",\n",
    "    \"nouns1\", \"nouns2\", \"nouns3\"\n",
    "])"
   ]
  },
  {
   "cell_type": "code",
   "execution_count": null,
   "id": "590567c9-b9de-42d6-9003-1497740fc7ee",
   "metadata": {},
   "outputs": [],
   "source": [
    "df.loc[[\"ADJ\", \"NOUN\"]]"
   ]
  },
  {
   "cell_type": "markdown",
   "id": "838acb79-8c93-41db-b41a-d85c1b41f9a7",
   "metadata": {},
   "source": [
    "#### Which type of LF works the best?\n",
    "\n",
    "* For adjectives the LF that uses suffixes works the best, while the syntactic rules are less accurate. On the contrary, for nouns the LF that is based on syntactic analysis has the best results. For both POS tags, the LFs that use prefixes do not yield good results."
   ]
  },
  {
   "cell_type": "markdown",
   "id": "9c0a0d51-ea4e-4e64-8eae-1c8f832fe6df",
   "metadata": {},
   "source": [
    "#### Which aggregator works best?\n",
    "\n",
    "* Despite its simplicity, majority voting outperforms HMM on almost all of the POS tags and overall achieves a higher macro F1 score."
   ]
  },
  {
   "cell_type": "code",
   "execution_count": null,
   "id": "9d269f07-026b-4349-80c5-bd9a04a4ba80",
   "metadata": {},
   "outputs": [],
   "source": [
    "df = evaluate(test_docs, all_labels, [\"mv\", \"hmm\"])"
   ]
  },
  {
   "cell_type": "code",
   "execution_count": null,
   "id": "cd763883-88c7-4517-a97c-91b691826a3b",
   "metadata": {},
   "outputs": [],
   "source": [
    "df"
   ]
  },
  {
   "cell_type": "markdown",
   "id": "b66869e214b73e10",
   "metadata": {
    "collapsed": false,
    "jupyter": {
     "outputs_hidden": false
    }
   },
   "source": [
    "## Using Libraries as Labelling functions\n",
    "\n",
    "\n",
    "In this part, we use popular NLP libraries to create labeling functions. They include Spacy, NLTK, Textblob.\n",
    "We use the Majority Voter and HMM as aggregation functions\n",
    "Optionally, you can train your own model on the data.\n",
    "\n",
    "Learning goals:\n",
    "- Understand how to use external libraries as labeling functions\n",
    "- Understand the Spacy object and how to use it for annotation\n",
    "\n",
    "First, read and understand the two functions below."
   ]
  },
  {
   "cell_type": "code",
   "execution_count": null,
   "id": "d26ad3f38fb269a2",
   "metadata": {
    "collapsed": false,
    "jupyter": {
     "outputs_hidden": false
    }
   },
   "outputs": [],
   "source": [
    "\n",
    "# Sometimes data formats (here POS tags) differ. We load the data and convert it to the format we need. \n",
    "# Surely, there is some loss of information\n",
    "def nltk_tagger(doc):\n",
    "    for token in doc:\n",
    "        if not token.is_punct:\n",
    "            # Tag token with nltk\n",
    "            nltk_pos = nltk.pos_tag([token.text])[0][1]\n",
    "            # Map nltk pos tags to ours\n",
    "            if nltk_pos == \"DT\":\n",
    "                yield token.i, token.i + 1, \"DET\"\n",
    "            elif nltk_pos == \"CD\":\n",
    "                yield token.i, token.i + 1, \"NUM\"\n",
    "            elif nltk_pos == \"NNP\" or nltk_pos == \"NNPS\":\n",
    "                yield token.i, token.i + 1, \"PROPN\"\n",
    "            elif nltk_pos == \"JJ\" or nltk_pos == \"JJR\" or nltk_pos == \"JJS\":\n",
    "                yield token.i, token.i + 1, \"ADJ\"\n",
    "            elif nltk_pos == \"NN\" or nltk_pos == \"NNS\":\n",
    "                yield token.i, token.i + 1, \"NOUN\"\n",
    "            elif nltk_pos == \"VB\" or nltk_pos == \"VBD\" or nltk_pos == \"VBG\" or nltk_pos == \"VBN\" or nltk_pos == \"VBP\" or nltk_pos == \"VBZ\":\n",
    "                yield token.i, token.i + 1, \"VERB\"\n",
    "\n",
    "\n",
    "# We cn also use the Textblob library to get POS tags\n",
    "# Under the hood, it uses the Pattern library. Once again, a transformation of the tag-labels is needed\n",
    "def textblob_tagger(doc):\n",
    "    for token in doc:\n",
    "        if not token.is_punct:\n",
    "            textblob_pos = TextBlob(token.text, pos_tagger=PatternTagger()).tags\n",
    "            if len(textblob_pos) > 0:\n",
    "                yield token.i, token.i + 1, penntreebank2universal(textblob_pos[0][1])\n"
   ]
  },
  {
   "cell_type": "markdown",
   "id": "e63c9785e6266442",
   "metadata": {
    "collapsed": false,
    "jupyter": {
     "outputs_hidden": false
    }
   },
   "source": [
    "## Write the Spacy Labeling Functions\n",
    "\n",
    "Use the two english Spacy models \"en_core_web_sm\", \"en_core_web_md\" to create labeling functions.\n",
    "The challenge is that they use different tokens, i.e. the atomic units of a sentence. Our simple tokenization just splits the words by whitespace.\n",
    "Your task it to design an algorithm that maps the tokens of the simple tokenization to the tokens of the Spacy tokenization, and use the token available there to create labeling functions.\n",
    "\n",
    "Hints:\n",
    "1) Access token i by `token=doc[i]` or obtain its poition by `i=token.i`\n",
    "2) Access the Spacy POS token (its ground truth) by `pos=token.pos_`"
   ]
  },
  {
   "cell_type": "code",
   "execution_count": null,
   "id": "98125255830b3c6",
   "metadata": {
    "collapsed": false,
    "jupyter": {
     "outputs_hidden": false
    }
   },
   "outputs": [],
   "source": [
    "eng_nlp_sm = spacy.load(\"en_core_web_sm\")\n",
    "eng_nlp_md = spacy.load(\"en_core_web_md\")\n",
    "\n",
    "# ***********************************\n",
    "\n",
    "def eng_spacy_tagger_sm(doc):\n",
    "    other_doc = eng_nlp_sm(doc.text)\n",
    "    # TODO\n",
    "\n",
    "\n",
    "def eng_spacy_tagger_md(doc):\n",
    "    pass\n",
    "    # TODO\n",
    "\n",
    "# ***********************************"
   ]
  },
  {
   "cell_type": "code",
   "execution_count": null,
   "id": "4e6a7847ca7f8599",
   "metadata": {
    "collapsed": false,
    "jupyter": {
     "outputs_hidden": false
    }
   },
   "outputs": [],
   "source": [
    "\n",
    "nltk_lf = skweak.heuristics.FunctionAnnotator(\"nltk\", nltk_tagger)\n",
    "textblob_lf = skweak.heuristics.FunctionAnnotator(\"textblob\", textblob_tagger)\n",
    "eng_spacy_sm_lf = skweak.heuristics.FunctionAnnotator(\"eng_spacy_sm\", eng_spacy_tagger_sm)\n",
    "eng_spacy_md_lf = skweak.heuristics.FunctionAnnotator(\"eng_spacy_md\", eng_spacy_tagger_md)"
   ]
  },
  {
   "cell_type": "markdown",
   "id": "1f683e3635b65825",
   "metadata": {
    "collapsed": false,
    "jupyter": {
     "outputs_hidden": false
    }
   },
   "source": [
    "### Load Data and apply Labeling functions\n",
    "\n",
    "Before and after applying the labeling functions, and the aggregation functions, we compute the recall and number of conflicts. For the sake of time, we use this time only a subset of the data."
   ]
  },
  {
   "cell_type": "code",
   "execution_count": null,
   "id": "8cd4fbdc068b7a54",
   "metadata": {
    "collapsed": false,
    "jupyter": {
     "outputs_hidden": false
    }
   },
   "outputs": [],
   "source": [
    "\n",
    "# load training and test data\n",
    "lfs = [nltk_lf, eng_spacy_sm_lf, textblob_lf, eng_spacy_md_lf]\n",
    "all_labels = [\"DET\", \"NUM\", \"PROPN\", \"NOUN\", \"ADJ\"]\n",
    "\n",
    "# small amount of data for the sake of time\n",
    "train_docs = load_data_split(\"train\", all_labels, 3000)\n",
    "\n",
    "# tag the training documents\n",
    "train_docs = tag_all(train_docs, lfs)\n",
    "\n"
   ]
  },
  {
   "cell_type": "code",
   "execution_count": null,
   "id": "d2ccb283b5af19c0",
   "metadata": {
    "collapsed": false,
    "jupyter": {
     "outputs_hidden": false
    }
   },
   "outputs": [],
   "source": [
    "recall = compute_recall(train_docs)\n",
    "num_conflicts = compute_num_conflicts(train_docs)\n",
    "print(\"Train recall\", recall)\n",
    "print(\"Train conflicts\", num_conflicts)"
   ]
  },
  {
   "cell_type": "markdown",
   "id": "15a95f9bf687cbe8",
   "metadata": {
    "collapsed": false,
    "jupyter": {
     "outputs_hidden": false
    }
   },
   "source": [
    "We observe that the recall is very high. This is because the used libraries are quite well.\n",
    "Further, we observe that in 40.5% of the tokens there is a conflict."
   ]
  },
  {
   "cell_type": "code",
   "execution_count": null,
   "id": "3260766620d5732f",
   "metadata": {
    "collapsed": false,
    "jupyter": {
     "outputs_hidden": false
    }
   },
   "outputs": [],
   "source": [
    "# train the HMM\n",
    "hmm = skweak.aggregation.HMM(\"hmm\", all_labels)\n",
    "hmm=hmm.fit(train_docs)"
   ]
  },
  {
   "cell_type": "markdown",
   "id": "bb8e5e369a339ea5",
   "metadata": {
    "collapsed": false,
    "jupyter": {
     "outputs_hidden": false
    }
   },
   "source": [
    "Now we compare how majority vote and HMM change the number of conflicts.\n",
    "Remember, that it's important to set Majority vote before HMM, otherwise Majority Vote takes the HMM predictions into account"
   ]
  },
  {
   "cell_type": "code",
   "execution_count": null,
   "id": "5e97248010fd19f5",
   "metadata": {
    "collapsed": false,
    "jupyter": {
     "outputs_hidden": false
    }
   },
   "outputs": [],
   "source": [
    "mv = skweak.aggregation.MajorityVoter(\"mv\", all_labels)\n",
    "train_docs = tag_all(train_docs, [mv, hmm])\n",
    "\n",
    "num_conflicts = compute_num_conflicts(train_docs)\n",
    "print(\"Conflicts with MV on train set: \", num_conflicts)"
   ]
  },
  {
   "cell_type": "markdown",
   "id": "85ce0ba37f42b099",
   "metadata": {
    "collapsed": false,
    "jupyter": {
     "outputs_hidden": false
    }
   },
   "source": [
    "We observe that the number of token conflicts does not change. The reason is that both methods can not choose a class different from the labeling functions."
   ]
  },
  {
   "cell_type": "markdown",
   "id": "de4459da2d558cc1",
   "metadata": {
    "collapsed": false,
    "jupyter": {
     "outputs_hidden": false
    }
   },
   "source": [
    "## Evaluation\n",
    "\n",
    "Look at the Precision, Recall and F1-Score of the different aggregation functions. What do you observe?"
   ]
  },
  {
   "cell_type": "code",
   "execution_count": null,
   "id": "a4e8b6728ab8f9fd",
   "metadata": {
    "collapsed": false,
    "jupyter": {
     "outputs_hidden": false
    }
   },
   "outputs": [],
   "source": [
    "# tag the test documents\n",
    "# Once again, it's important to set Majority vote before HMM, otherwise Majority Vote takes the HMM predictions into account\n",
    "test_docs = load_data_split(\"test\", all_labels, 1000)\n",
    "test_docs = tag_all(test_docs, lfs + [mv, hmm])\n",
    "\n",
    "num_conflicts = compute_num_conflicts(test_docs)\n",
    "print(\"Conflicts on test set\", num_conflicts)"
   ]
  },
  {
   "cell_type": "code",
   "execution_count": null,
   "id": "8489eca67920c19a",
   "metadata": {
    "collapsed": false,
    "jupyter": {
     "outputs_hidden": false
    }
   },
   "outputs": [],
   "source": [
    "df = evaluate(test_docs, all_labels, [ \"mv\", \"hmm\"])"
   ]
  },
  {
   "cell_type": "code",
   "execution_count": null,
   "id": "59bedaa1e417ad94",
   "metadata": {
    "collapsed": false,
    "jupyter": {
     "outputs_hidden": false
    }
   },
   "outputs": [],
   "source": [
    "df"
   ]
  },
  {
   "cell_type": "markdown",
   "id": "975f4302a27e3a6b",
   "metadata": {
    "collapsed": false,
    "jupyter": {
     "outputs_hidden": false
    }
   },
   "source": [
    "Contrary, to the first part, we observe that the HMM performs better than majority vote."
   ]
  }
 ],
 "metadata": {
  "kernelspec": {
   "display_name": "Python 3 (ipykernel)",
   "language": "python",
   "name": "python3"
  },
  "language_info": {
   "codemirror_mode": {
    "name": "ipython",
    "version": 3
   },
   "file_extension": ".py",
   "mimetype": "text/x-python",
   "name": "python",
   "nbconvert_exporter": "python",
   "pygments_lexer": "ipython3",
   "version": "3.8.17"
  }
 },
 "nbformat": 4,
 "nbformat_minor": 5
}
