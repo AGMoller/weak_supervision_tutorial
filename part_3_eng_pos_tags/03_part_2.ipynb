{
 "cells": [
  {
   "cell_type": "code",
   "execution_count": 4,
   "id": "initial_id",
   "metadata": {
    "ExecuteTime": {
     "end_time": "2023-09-18T11:22:02.215540Z",
     "start_time": "2023-09-18T11:22:02.132334Z"
    }
   },
   "outputs": [
    {
     "name": "stdout",
     "output_type": "stream",
     "text": [
      "The autoreload extension is already loaded. To reload it, use:\n",
      "  %reload_ext autoreload\n"
     ]
    }
   ],
   "source": [
    "%load_ext autoreload\n",
    "%autoreload 2\n",
    "\n",
    "import re\n",
    "import os\n",
    "import sys\n",
    "import nltk\n",
    "import spacy\n",
    "import skweak\n",
    "import numpy as np\n",
    "import pandas as pd\n",
    "\n",
    "from utils.skweak_ner_eval_utils import evaluate\n",
    "\n",
    "from textblob import TextBlob\n",
    "from textblob.taggers import PatternTagger\n",
    "\n",
    "from part_3_eng_pos_tags.scripts.utils import penntreebank2universal\n",
    "\n",
    "# from skweak import heuristics, gazetteers, aggregation, utils\n",
    "\n",
    "sys.path.append('../')"
   ]
  },
  {
   "cell_type": "code",
   "execution_count": 123,
   "outputs": [
    {
     "name": "stderr",
     "output_type": "stream",
     "text": [
      "[nltk_data] Downloading package averaged_perceptron_tagger to\n",
      "[nltk_data]     /Users/andst/nltk_data...\n",
      "[nltk_data]   Package averaged_perceptron_tagger is already up-to-\n",
      "[nltk_data]       date!\n",
      "[nltk_data] Downloading package universal_tagset to\n",
      "[nltk_data]     /Users/andst/nltk_data...\n",
      "[nltk_data]   Package universal_tagset is already up-to-date!\n",
      "[nltk_data] Downloading package stopwords to /Users/andst/nltk_data...\n",
      "[nltk_data]   Package stopwords is already up-to-date!\n"
     ]
    },
    {
     "name": "stdout",
     "output_type": "stream",
     "text": [
      "Collecting en-core-web-sm==3.6.0\r\n",
      "  Downloading https://github.com/explosion/spacy-models/releases/download/en_core_web_sm-3.6.0/en_core_web_sm-3.6.0-py3-none-any.whl (12.8 MB)\r\n",
      "\u001B[2K     \u001B[90m━━━━━━━━━━━━━━━━━━━━━━━━━━━━━━━━━━━━━━━━\u001B[0m \u001B[32m12.8/12.8 MB\u001B[0m \u001B[31m13.9 MB/s\u001B[0m eta \u001B[36m0:00:00\u001B[0m00:01\u001B[0m00:01\u001B[0m\r\n",
      "\u001B[?25hRequirement already satisfied: spacy<3.7.0,>=3.6.0 in /Users/andst/.cache/conda_envs/WS_tutorial/lib/python3.8/site-packages (from en-core-web-sm==3.6.0) (3.6.1)\r\n",
      "Requirement already satisfied: spacy-legacy<3.1.0,>=3.0.11 in /Users/andst/.cache/conda_envs/WS_tutorial/lib/python3.8/site-packages (from spacy<3.7.0,>=3.6.0->en-core-web-sm==3.6.0) (3.0.12)\r\n",
      "Requirement already satisfied: spacy-loggers<2.0.0,>=1.0.0 in /Users/andst/.cache/conda_envs/WS_tutorial/lib/python3.8/site-packages (from spacy<3.7.0,>=3.6.0->en-core-web-sm==3.6.0) (1.0.4)\r\n",
      "Requirement already satisfied: murmurhash<1.1.0,>=0.28.0 in /Users/andst/.cache/conda_envs/WS_tutorial/lib/python3.8/site-packages (from spacy<3.7.0,>=3.6.0->en-core-web-sm==3.6.0) (1.0.9)\r\n",
      "Requirement already satisfied: cymem<2.1.0,>=2.0.2 in /Users/andst/.cache/conda_envs/WS_tutorial/lib/python3.8/site-packages (from spacy<3.7.0,>=3.6.0->en-core-web-sm==3.6.0) (2.0.7)\r\n",
      "Requirement already satisfied: preshed<3.1.0,>=3.0.2 in /Users/andst/.cache/conda_envs/WS_tutorial/lib/python3.8/site-packages (from spacy<3.7.0,>=3.6.0->en-core-web-sm==3.6.0) (3.0.8)\r\n",
      "Requirement already satisfied: thinc<8.2.0,>=8.1.8 in /Users/andst/.cache/conda_envs/WS_tutorial/lib/python3.8/site-packages (from spacy<3.7.0,>=3.6.0->en-core-web-sm==3.6.0) (8.1.11)\r\n",
      "Requirement already satisfied: wasabi<1.2.0,>=0.9.1 in /Users/andst/.cache/conda_envs/WS_tutorial/lib/python3.8/site-packages (from spacy<3.7.0,>=3.6.0->en-core-web-sm==3.6.0) (1.1.2)\r\n",
      "Requirement already satisfied: srsly<3.0.0,>=2.4.3 in /Users/andst/.cache/conda_envs/WS_tutorial/lib/python3.8/site-packages (from spacy<3.7.0,>=3.6.0->en-core-web-sm==3.6.0) (2.4.7)\r\n",
      "Requirement already satisfied: catalogue<2.1.0,>=2.0.6 in /Users/andst/.cache/conda_envs/WS_tutorial/lib/python3.8/site-packages (from spacy<3.7.0,>=3.6.0->en-core-web-sm==3.6.0) (2.0.9)\r\n",
      "Requirement already satisfied: typer<0.10.0,>=0.3.0 in /Users/andst/.cache/conda_envs/WS_tutorial/lib/python3.8/site-packages (from spacy<3.7.0,>=3.6.0->en-core-web-sm==3.6.0) (0.9.0)\r\n",
      "Requirement already satisfied: pathy>=0.10.0 in /Users/andst/.cache/conda_envs/WS_tutorial/lib/python3.8/site-packages (from spacy<3.7.0,>=3.6.0->en-core-web-sm==3.6.0) (0.10.2)\r\n",
      "Requirement already satisfied: smart-open<7.0.0,>=5.2.1 in /Users/andst/.cache/conda_envs/WS_tutorial/lib/python3.8/site-packages (from spacy<3.7.0,>=3.6.0->en-core-web-sm==3.6.0) (6.3.0)\r\n",
      "Requirement already satisfied: tqdm<5.0.0,>=4.38.0 in /Users/andst/.cache/conda_envs/WS_tutorial/lib/python3.8/site-packages (from spacy<3.7.0,>=3.6.0->en-core-web-sm==3.6.0) (4.66.0)\r\n",
      "Requirement already satisfied: numpy>=1.15.0 in /Users/andst/.cache/conda_envs/WS_tutorial/lib/python3.8/site-packages (from spacy<3.7.0,>=3.6.0->en-core-web-sm==3.6.0) (1.19.5)\r\n",
      "Requirement already satisfied: requests<3.0.0,>=2.13.0 in /Users/andst/.cache/conda_envs/WS_tutorial/lib/python3.8/site-packages (from spacy<3.7.0,>=3.6.0->en-core-web-sm==3.6.0) (2.31.0)\r\n",
      "Requirement already satisfied: pydantic!=1.8,!=1.8.1,<3.0.0,>=1.7.4 in /Users/andst/.cache/conda_envs/WS_tutorial/lib/python3.8/site-packages (from spacy<3.7.0,>=3.6.0->en-core-web-sm==3.6.0) (2.1.1)\r\n",
      "Requirement already satisfied: jinja2 in /Users/andst/.cache/conda_envs/WS_tutorial/lib/python3.8/site-packages (from spacy<3.7.0,>=3.6.0->en-core-web-sm==3.6.0) (3.1.2)\r\n",
      "Requirement already satisfied: setuptools in /Users/andst/.cache/conda_envs/WS_tutorial/lib/python3.8/site-packages (from spacy<3.7.0,>=3.6.0->en-core-web-sm==3.6.0) (68.0.0)\r\n",
      "Requirement already satisfied: packaging>=20.0 in /Users/andst/.cache/conda_envs/WS_tutorial/lib/python3.8/site-packages (from spacy<3.7.0,>=3.6.0->en-core-web-sm==3.6.0) (23.1)\r\n",
      "Requirement already satisfied: langcodes<4.0.0,>=3.2.0 in /Users/andst/.cache/conda_envs/WS_tutorial/lib/python3.8/site-packages (from spacy<3.7.0,>=3.6.0->en-core-web-sm==3.6.0) (3.3.0)\r\n",
      "Requirement already satisfied: annotated-types>=0.4.0 in /Users/andst/.cache/conda_envs/WS_tutorial/lib/python3.8/site-packages (from pydantic!=1.8,!=1.8.1,<3.0.0,>=1.7.4->spacy<3.7.0,>=3.6.0->en-core-web-sm==3.6.0) (0.5.0)\r\n",
      "Requirement already satisfied: pydantic-core==2.4.0 in /Users/andst/.cache/conda_envs/WS_tutorial/lib/python3.8/site-packages (from pydantic!=1.8,!=1.8.1,<3.0.0,>=1.7.4->spacy<3.7.0,>=3.6.0->en-core-web-sm==3.6.0) (2.4.0)\r\n",
      "Requirement already satisfied: typing-extensions>=4.6.1 in /Users/andst/.cache/conda_envs/WS_tutorial/lib/python3.8/site-packages (from pydantic!=1.8,!=1.8.1,<3.0.0,>=1.7.4->spacy<3.7.0,>=3.6.0->en-core-web-sm==3.6.0) (4.7.1)\r\n",
      "Requirement already satisfied: charset-normalizer<4,>=2 in /Users/andst/.cache/conda_envs/WS_tutorial/lib/python3.8/site-packages (from requests<3.0.0,>=2.13.0->spacy<3.7.0,>=3.6.0->en-core-web-sm==3.6.0) (3.2.0)\r\n",
      "Requirement already satisfied: idna<4,>=2.5 in /Users/andst/.cache/conda_envs/WS_tutorial/lib/python3.8/site-packages (from requests<3.0.0,>=2.13.0->spacy<3.7.0,>=3.6.0->en-core-web-sm==3.6.0) (3.4)\r\n",
      "Requirement already satisfied: urllib3<3,>=1.21.1 in /Users/andst/.cache/conda_envs/WS_tutorial/lib/python3.8/site-packages (from requests<3.0.0,>=2.13.0->spacy<3.7.0,>=3.6.0->en-core-web-sm==3.6.0) (2.0.4)\r\n",
      "Requirement already satisfied: certifi>=2017.4.17 in /Users/andst/.cache/conda_envs/WS_tutorial/lib/python3.8/site-packages (from requests<3.0.0,>=2.13.0->spacy<3.7.0,>=3.6.0->en-core-web-sm==3.6.0) (2023.7.22)\r\n",
      "Requirement already satisfied: blis<0.8.0,>=0.7.8 in /Users/andst/.cache/conda_envs/WS_tutorial/lib/python3.8/site-packages (from thinc<8.2.0,>=8.1.8->spacy<3.7.0,>=3.6.0->en-core-web-sm==3.6.0) (0.7.10)\r\n",
      "Requirement already satisfied: confection<1.0.0,>=0.0.1 in /Users/andst/.cache/conda_envs/WS_tutorial/lib/python3.8/site-packages (from thinc<8.2.0,>=8.1.8->spacy<3.7.0,>=3.6.0->en-core-web-sm==3.6.0) (0.1.1)\r\n",
      "Requirement already satisfied: click<9.0.0,>=7.1.1 in /Users/andst/.cache/conda_envs/WS_tutorial/lib/python3.8/site-packages (from typer<0.10.0,>=0.3.0->spacy<3.7.0,>=3.6.0->en-core-web-sm==3.6.0) (8.1.6)\r\n",
      "Requirement already satisfied: MarkupSafe>=2.0 in /Users/andst/.cache/conda_envs/WS_tutorial/lib/python3.8/site-packages (from jinja2->spacy<3.7.0,>=3.6.0->en-core-web-sm==3.6.0) (2.1.3)\r\n",
      "\u001B[38;5;2m✔ Download and installation successful\u001B[0m\r\n",
      "You can now load the package via spacy.load('en_core_web_sm')\r\n",
      "Collecting en-core-web-md==3.6.0\r\n",
      "  Downloading https://github.com/explosion/spacy-models/releases/download/en_core_web_md-3.6.0/en_core_web_md-3.6.0-py3-none-any.whl (42.8 MB)\r\n",
      "\u001B[2K     \u001B[90m━━━━━━━━━━━━━━━━━━━━━━━━━━━━━━━━━━━━━━━━\u001B[0m \u001B[32m42.8/42.8 MB\u001B[0m \u001B[31m7.3 MB/s\u001B[0m eta \u001B[36m0:00:00\u001B[0m00:01\u001B[0m00:01\u001B[0mm\r\n",
      "\u001B[?25hRequirement already satisfied: spacy<3.7.0,>=3.6.0 in /Users/andst/.cache/conda_envs/WS_tutorial/lib/python3.8/site-packages (from en-core-web-md==3.6.0) (3.6.1)\r\n",
      "Requirement already satisfied: spacy-legacy<3.1.0,>=3.0.11 in /Users/andst/.cache/conda_envs/WS_tutorial/lib/python3.8/site-packages (from spacy<3.7.0,>=3.6.0->en-core-web-md==3.6.0) (3.0.12)\r\n",
      "Requirement already satisfied: spacy-loggers<2.0.0,>=1.0.0 in /Users/andst/.cache/conda_envs/WS_tutorial/lib/python3.8/site-packages (from spacy<3.7.0,>=3.6.0->en-core-web-md==3.6.0) (1.0.4)\r\n",
      "Requirement already satisfied: murmurhash<1.1.0,>=0.28.0 in /Users/andst/.cache/conda_envs/WS_tutorial/lib/python3.8/site-packages (from spacy<3.7.0,>=3.6.0->en-core-web-md==3.6.0) (1.0.9)\r\n",
      "Requirement already satisfied: cymem<2.1.0,>=2.0.2 in /Users/andst/.cache/conda_envs/WS_tutorial/lib/python3.8/site-packages (from spacy<3.7.0,>=3.6.0->en-core-web-md==3.6.0) (2.0.7)\r\n",
      "Requirement already satisfied: preshed<3.1.0,>=3.0.2 in /Users/andst/.cache/conda_envs/WS_tutorial/lib/python3.8/site-packages (from spacy<3.7.0,>=3.6.0->en-core-web-md==3.6.0) (3.0.8)\r\n",
      "Requirement already satisfied: thinc<8.2.0,>=8.1.8 in /Users/andst/.cache/conda_envs/WS_tutorial/lib/python3.8/site-packages (from spacy<3.7.0,>=3.6.0->en-core-web-md==3.6.0) (8.1.11)\r\n",
      "Requirement already satisfied: wasabi<1.2.0,>=0.9.1 in /Users/andst/.cache/conda_envs/WS_tutorial/lib/python3.8/site-packages (from spacy<3.7.0,>=3.6.0->en-core-web-md==3.6.0) (1.1.2)\r\n",
      "Requirement already satisfied: srsly<3.0.0,>=2.4.3 in /Users/andst/.cache/conda_envs/WS_tutorial/lib/python3.8/site-packages (from spacy<3.7.0,>=3.6.0->en-core-web-md==3.6.0) (2.4.7)\r\n",
      "Requirement already satisfied: catalogue<2.1.0,>=2.0.6 in /Users/andst/.cache/conda_envs/WS_tutorial/lib/python3.8/site-packages (from spacy<3.7.0,>=3.6.0->en-core-web-md==3.6.0) (2.0.9)\r\n",
      "Requirement already satisfied: typer<0.10.0,>=0.3.0 in /Users/andst/.cache/conda_envs/WS_tutorial/lib/python3.8/site-packages (from spacy<3.7.0,>=3.6.0->en-core-web-md==3.6.0) (0.9.0)\r\n",
      "Requirement already satisfied: pathy>=0.10.0 in /Users/andst/.cache/conda_envs/WS_tutorial/lib/python3.8/site-packages (from spacy<3.7.0,>=3.6.0->en-core-web-md==3.6.0) (0.10.2)\r\n",
      "Requirement already satisfied: smart-open<7.0.0,>=5.2.1 in /Users/andst/.cache/conda_envs/WS_tutorial/lib/python3.8/site-packages (from spacy<3.7.0,>=3.6.0->en-core-web-md==3.6.0) (6.3.0)\r\n",
      "Requirement already satisfied: tqdm<5.0.0,>=4.38.0 in /Users/andst/.cache/conda_envs/WS_tutorial/lib/python3.8/site-packages (from spacy<3.7.0,>=3.6.0->en-core-web-md==3.6.0) (4.66.0)\r\n",
      "Requirement already satisfied: numpy>=1.15.0 in /Users/andst/.cache/conda_envs/WS_tutorial/lib/python3.8/site-packages (from spacy<3.7.0,>=3.6.0->en-core-web-md==3.6.0) (1.19.5)\r\n",
      "Requirement already satisfied: requests<3.0.0,>=2.13.0 in /Users/andst/.cache/conda_envs/WS_tutorial/lib/python3.8/site-packages (from spacy<3.7.0,>=3.6.0->en-core-web-md==3.6.0) (2.31.0)\r\n",
      "Requirement already satisfied: pydantic!=1.8,!=1.8.1,<3.0.0,>=1.7.4 in /Users/andst/.cache/conda_envs/WS_tutorial/lib/python3.8/site-packages (from spacy<3.7.0,>=3.6.0->en-core-web-md==3.6.0) (2.1.1)\r\n",
      "Requirement already satisfied: jinja2 in /Users/andst/.cache/conda_envs/WS_tutorial/lib/python3.8/site-packages (from spacy<3.7.0,>=3.6.0->en-core-web-md==3.6.0) (3.1.2)\r\n",
      "Requirement already satisfied: setuptools in /Users/andst/.cache/conda_envs/WS_tutorial/lib/python3.8/site-packages (from spacy<3.7.0,>=3.6.0->en-core-web-md==3.6.0) (68.0.0)\r\n",
      "Requirement already satisfied: packaging>=20.0 in /Users/andst/.cache/conda_envs/WS_tutorial/lib/python3.8/site-packages (from spacy<3.7.0,>=3.6.0->en-core-web-md==3.6.0) (23.1)\r\n",
      "Requirement already satisfied: langcodes<4.0.0,>=3.2.0 in /Users/andst/.cache/conda_envs/WS_tutorial/lib/python3.8/site-packages (from spacy<3.7.0,>=3.6.0->en-core-web-md==3.6.0) (3.3.0)\r\n",
      "Requirement already satisfied: annotated-types>=0.4.0 in /Users/andst/.cache/conda_envs/WS_tutorial/lib/python3.8/site-packages (from pydantic!=1.8,!=1.8.1,<3.0.0,>=1.7.4->spacy<3.7.0,>=3.6.0->en-core-web-md==3.6.0) (0.5.0)\r\n",
      "Requirement already satisfied: pydantic-core==2.4.0 in /Users/andst/.cache/conda_envs/WS_tutorial/lib/python3.8/site-packages (from pydantic!=1.8,!=1.8.1,<3.0.0,>=1.7.4->spacy<3.7.0,>=3.6.0->en-core-web-md==3.6.0) (2.4.0)\r\n",
      "Requirement already satisfied: typing-extensions>=4.6.1 in /Users/andst/.cache/conda_envs/WS_tutorial/lib/python3.8/site-packages (from pydantic!=1.8,!=1.8.1,<3.0.0,>=1.7.4->spacy<3.7.0,>=3.6.0->en-core-web-md==3.6.0) (4.7.1)\r\n",
      "Requirement already satisfied: charset-normalizer<4,>=2 in /Users/andst/.cache/conda_envs/WS_tutorial/lib/python3.8/site-packages (from requests<3.0.0,>=2.13.0->spacy<3.7.0,>=3.6.0->en-core-web-md==3.6.0) (3.2.0)\r\n",
      "Requirement already satisfied: idna<4,>=2.5 in /Users/andst/.cache/conda_envs/WS_tutorial/lib/python3.8/site-packages (from requests<3.0.0,>=2.13.0->spacy<3.7.0,>=3.6.0->en-core-web-md==3.6.0) (3.4)\r\n",
      "Requirement already satisfied: urllib3<3,>=1.21.1 in /Users/andst/.cache/conda_envs/WS_tutorial/lib/python3.8/site-packages (from requests<3.0.0,>=2.13.0->spacy<3.7.0,>=3.6.0->en-core-web-md==3.6.0) (2.0.4)\r\n",
      "Requirement already satisfied: certifi>=2017.4.17 in /Users/andst/.cache/conda_envs/WS_tutorial/lib/python3.8/site-packages (from requests<3.0.0,>=2.13.0->spacy<3.7.0,>=3.6.0->en-core-web-md==3.6.0) (2023.7.22)\r\n",
      "Requirement already satisfied: blis<0.8.0,>=0.7.8 in /Users/andst/.cache/conda_envs/WS_tutorial/lib/python3.8/site-packages (from thinc<8.2.0,>=8.1.8->spacy<3.7.0,>=3.6.0->en-core-web-md==3.6.0) (0.7.10)\r\n",
      "Requirement already satisfied: confection<1.0.0,>=0.0.1 in /Users/andst/.cache/conda_envs/WS_tutorial/lib/python3.8/site-packages (from thinc<8.2.0,>=8.1.8->spacy<3.7.0,>=3.6.0->en-core-web-md==3.6.0) (0.1.1)\r\n",
      "Requirement already satisfied: click<9.0.0,>=7.1.1 in /Users/andst/.cache/conda_envs/WS_tutorial/lib/python3.8/site-packages (from typer<0.10.0,>=0.3.0->spacy<3.7.0,>=3.6.0->en-core-web-md==3.6.0) (8.1.6)\r\n",
      "Requirement already satisfied: MarkupSafe>=2.0 in /Users/andst/.cache/conda_envs/WS_tutorial/lib/python3.8/site-packages (from jinja2->spacy<3.7.0,>=3.6.0->en-core-web-md==3.6.0) (2.1.3)\r\n",
      "\u001B[38;5;2m✔ Download and installation successful\u001B[0m\r\n",
      "You can now load the package via spacy.load('en_core_web_md')\r\n"
     ]
    }
   ],
   "source": [
    "!python --version\n",
    "#!pip install textblob\n",
    "!pip freeze > requirements_test.txt\n",
    "# TODO: add textblob==0.17.1 to \n",
    "\n",
    "\n",
    "nltk.download('averaged_perceptron_tagger')\n",
    "nltk.download('universal_tagset')\n",
    "nltk.download('stopwords')\n",
    "!python -m spacy download en_core_web_sm\n",
    "!python -m spacy download en_core_web_md\n",
    "! python -m textblob.download_corpora"
   ],
   "metadata": {
    "collapsed": false,
    "ExecuteTime": {
     "end_time": "2023-09-13T21:13:00.733065Z",
     "start_time": "2023-09-13T21:12:48.164645Z"
    }
   },
   "id": "877c6764-fbd0-4de2-9834-d8f7ac23401f"
  },
  {
   "cell_type": "code",
   "execution_count": null,
   "id": "bbbaff927095230a",
   "metadata": {},
   "outputs": [],
   "source": [
    "# Weakly Supervised Named Entity Tagging with Learnable Logical Rules\n",
    "# https://universaldependencies.org/format.html\n",
    "# https://aclanthology.org/2021.acl-long.352.pdf\n",
    "\n",
    "# Get data from https://github.com/explosion/projects/tree/v3/benchmarks/ud_benchmark\n",
    "# by using assets command, or downloading https://lindat.mff.cuni.cz/repository/xmlui/bitstream/handle/11234/1-3105/ud-treebanks-v2.5.tgz\n",
    "\n",
    "\n"
   ]
  },
  {
   "cell_type": "markdown",
   "source": [
    "## Using Libraries as Labelling functions"
   ],
   "metadata": {
    "collapsed": false
   },
   "id": "e1c82819010da668"
  },
  {
   "cell_type": "markdown",
   "source": [
    "\n",
    "In this part, we use popular NLP libraries to create labeling functions. They include Spacy, NLTK, Textblob.\n",
    "We use the Majority Voter and HMM as aggregation functions\n",
    "Optionally, you can train your own model on the data.\n",
    "\n",
    "Learning goals:\n",
    "- Understand how to use external libraries as labeling functions\n",
    "- Understand the Spacy object and how to use it for annotation\n",
    "- Understand the impact of Majority Voter and HMM as aggregation functions, and get a feeling for their performance\n",
    "\n",
    "First, read and understand the two functions below."
   ],
   "metadata": {
    "collapsed": false
   },
   "id": "77005834bde48ac8"
  },
  {
   "cell_type": "code",
   "execution_count": 6,
   "outputs": [],
   "source": [
    "\n",
    "# Sometimes data formats (here POS tags) differ. We load the data and convert it to the format we need. \n",
    "# Surely, there is some loss of information\n",
    "def nltk_tagger(doc):\n",
    "    for token in doc:\n",
    "        if not token.is_punct:\n",
    "            # Tag token with nltk\n",
    "            nltk_pos = nltk.pos_tag([token.text])[0][1]\n",
    "            # Map nltk pos tags to ours\n",
    "            if nltk_pos == \"DT\":\n",
    "                yield token.i, token.i + 1, \"DET\"\n",
    "            elif nltk_pos == \"CD\":\n",
    "                yield token.i, token.i + 1, \"NUM\"\n",
    "            elif nltk_pos == \"NNP\" or nltk_pos == \"NNPS\":\n",
    "                yield token.i, token.i + 1, \"PROPN\"\n",
    "            elif nltk_pos == \"JJ\" or nltk_pos == \"JJR\" or nltk_pos == \"JJS\":\n",
    "                yield token.i, token.i + 1, \"ADJ\"\n",
    "            elif nltk_pos == \"NN\" or nltk_pos == \"NNS\":\n",
    "                yield token.i, token.i + 1, \"NOUN\"\n",
    "            elif nltk_pos == \"VB\" or nltk_pos == \"VBD\" or nltk_pos == \"VBG\" or nltk_pos == \"VBN\" or nltk_pos == \"VBP\" or nltk_pos == \"VBZ\":\n",
    "                yield token.i, token.i + 1, \"VERB\"\n",
    "\n",
    "\n",
    "# We cn also use the Textblob library to get POS tags\n",
    "# Under the hood, it uses the Pattern library. Once again, a transformation of the tag-labels is needed\n",
    "def textblob_tagger(doc):\n",
    "    for token in doc:\n",
    "        if not token.is_punct:\n",
    "            textblob_pos = TextBlob(token.text, pos_tagger=PatternTagger()).tags\n",
    "            if len(textblob_pos) > 0:\n",
    "                yield token.i, token.i + 1, penntreebank2universal(textblob_pos[0][1])\n"
   ],
   "metadata": {
    "collapsed": false,
    "ExecuteTime": {
     "end_time": "2023-09-18T11:22:09.915804Z",
     "start_time": "2023-09-18T11:22:09.847412Z"
    }
   },
   "id": "507d07962ce9132e"
  },
  {
   "cell_type": "markdown",
   "source": [
    "## Write the Spacy Labeling Functions\n",
    "\n",
    "Use the two english Spacy models \"en_core_web_sm\", \"en_core_web_md\" to create labeling functions.\n",
    "The challenge is that they use different tokens, i.e. the atomic units of a sentence. Our simple tokenization just splits the words by whitespace.\n",
    "Your task it to design an algorithm that maps the tokens of the simple tokenization to the tokens of the Spacy tokenization, and use the token available there to create labeling functions.\n",
    "\n",
    "Hints:\n",
    "1) Access token i by `token=doc[i]` or obtain its poition by `i=token.i`\n",
    "2) Access the Spacy POS token by `pos=token.pos_`"
   ],
   "metadata": {
    "collapsed": false
   },
   "id": "4d4348a2397f6a49"
  },
  {
   "cell_type": "code",
   "execution_count": null,
   "outputs": [],
   "source": [
    "eng_nlp_sm = spacy.load(\"en_core_web_sm\")\n",
    "eng_nlp_md = spacy.load(\"en_core_web_md\")\n",
    "\n",
    "\n",
    "def eng_spacy_tagger_sm(doc):\n",
    "    other_doc = eng_nlp_sm(doc.text)\n",
    "    i = 0\n",
    "    for token in doc:\n",
    "        labelled = False\n",
    "        for other_token in other_doc:\n",
    "            if other_doc[other_token.i:].text not in doc[token.i:].text:\n",
    "                continue\n",
    "            if token.text in other_token.text and not labelled:\n",
    "                labelled = True\n",
    "                yield token.i, token.i + 1, other_token.pos_.split(\"-\")[-1]\n",
    "\n",
    "\n",
    "def eng_spacy_tagger_md(doc):\n",
    "    other_doc = eng_nlp_md(doc.text)\n",
    "\n",
    "    for token in doc:\n",
    "        labelled = False\n",
    "        for other_token in other_doc:\n",
    "            if other_doc[other_token.i:].text not in doc[token.i:].text:\n",
    "                continue\n",
    "            if token.text in other_token.text and not labelled:\n",
    "                labelled = True\n",
    "                yield token.i, token.i + 1, other_token.pos_.split(\"-\")[-1]"
   ],
   "metadata": {
    "collapsed": false
   },
   "id": "5d0cb7b0baabc0dd"
  },
  {
   "cell_type": "code",
   "execution_count": null,
   "outputs": [],
   "source": [
    "\n",
    "nltk_lf = skweak.heuristics.FunctionAnnotator(\"nltk1\", nltk_tagger)\n",
    "textblob_lf = skweak.heuristics.FunctionAnnotator(\"textblob\", textblob_tagger)\n",
    "eng_spacy_sm_lf = skweak.heuristics.FunctionAnnotator(\"eng_spacy_sm\", eng_spacy_tagger_sm)\n",
    "eng_spacy_md_lf = skweak.heuristics.FunctionAnnotator(\"eng_spacy_md\", eng_spacy_tagger_md)"
   ],
   "metadata": {
    "collapsed": false
   },
   "id": "b3f68796512fc640"
  },
  {
   "cell_type": "code",
   "execution_count": 63,
   "outputs": [],
   "source": [
    "\n",
    "def compute_recall_num_conflicts(docs):\n",
    "    recalls, num_conflicts = [], []\n",
    "\n",
    "    for doc in docs:\n",
    "\n",
    "        recalls, num_conflicts = [], []\n",
    "        doc_conflicts = {}\n",
    "        for name, val in doc.spans.items():\n",
    "            for v in val:\n",
    "                for i in range(v.start, v.end):\n",
    "                    if i in doc_conflicts:\n",
    "                        doc_conflicts[i].append(v.label)\n",
    "                    else:\n",
    "                        doc_conflicts[i] = [v.label]\n",
    "\n",
    "        doc_recall = len(doc_conflicts) / len(doc)\n",
    "        doc_num_conflicts = np.where([len(set(v)) > 1 for v in doc_conflicts.values()])[0]\n",
    "        doc_num_conflicts = len(doc_num_conflicts) / len(doc_conflicts) if len(doc_conflicts) > 0 else 0\n",
    "\n",
    "        recalls.append(doc_recall)\n",
    "        num_conflicts.append(doc_num_conflicts)\n",
    "\n",
    "    recall = np.mean(recalls)\n",
    "    num_conflicts = np.mean(num_conflicts)\n",
    "    return recall, num_conflicts"
   ],
   "metadata": {
    "collapsed": false,
    "ExecuteTime": {
     "end_time": "2023-09-18T12:02:47.490335Z",
     "start_time": "2023-09-18T12:02:47.423532Z"
    }
   },
   "id": "33c5b84e33eb43f"
  },
  {
   "cell_type": "code",
   "execution_count": 64,
   "outputs": [
    {
     "name": "stdout",
     "output_type": "stream",
     "text": [
      "1.0 0.2692307692307692\n",
      "1.0 0.45\n"
     ]
    }
   ],
   "source": [
    "recall, num_conflicts = compute_recall_num_conflicts(train_docs)\n",
    "print(recall, num_conflicts)\n",
    "recall, num_conflicts = compute_recall_num_conflicts(test_docs)\n",
    "print(recall, num_conflicts)"
   ],
   "metadata": {
    "collapsed": false,
    "ExecuteTime": {
     "end_time": "2023-09-18T12:02:49.955814Z",
     "start_time": "2023-09-18T12:02:48.806740Z"
    }
   },
   "id": "d194e76aae828a58"
  },
  {
   "cell_type": "code",
   "execution_count": 46,
   "outputs": [
    {
     "name": "stdout",
     "output_type": "stream",
     "text": [
      "1.0 0.4482758620689655\n"
     ]
    }
   ],
   "source": [
    "print(recall, num_conflicts)"
   ],
   "metadata": {
    "collapsed": false,
    "ExecuteTime": {
     "end_time": "2023-09-18T11:43:01.342275Z",
     "start_time": "2023-09-18T11:43:01.302556Z"
    }
   },
   "id": "87897cd64a9f6308"
  },
  {
   "cell_type": "code",
   "execution_count": 40,
   "outputs": [
    {
     "name": "stdout",
     "output_type": "stream",
     "text": [
      "{0: ['', '', '', ''], 2: ['', '', '', ''], 4: ['ADJ', 'ADJ', 'ADJ', 'ADJ'], 5: ['NOUN', 'NOUN', 'NOUN', 'NOUN'], 6: ['', '', '', ''], 7: ['', '', '', ''], 8: ['', '', '', ''], 9: ['', '', '', ''], 11: ['', '', '', ''], 13: ['DET', 'DET', 'DET', 'DET'], 14: ['NOUN', 'NOUN', 'NOUN', 'NOUN'], 16: ['DET', 'DET', 'DET', 'DET'], 17: ['NOUN', 'NOUN', 'NOUN', 'NOUN'], 19: ['DET', 'DET', 'DET', 'DET'], 20: ['NOUN', 'NOUN', 'NOUN', 'NOUN'], 22: ['', '', '', ''], 25: ['DET', 'DET', 'DET', 'DET'], 26: ['ADJ', 'ADJ', 'ADJ', 'ADJ'], 27: ['NOUN', 'NOUN', 'NOUN', 'NOUN'], 1: ['', ''], 3: ['', ''], 10: ['', ''], 12: ['', ''], 15: ['', '', ''], 18: ['', '', ''], 21: ['', '', ''], 23: ['', ''], 24: ['', '', ''], 28: ['', '']}\n"
     ]
    }
   ],
   "source": [
    "print(conflicts)"
   ],
   "metadata": {
    "collapsed": false,
    "ExecuteTime": {
     "end_time": "2023-09-18T11:41:39.968316Z",
     "start_time": "2023-09-18T11:41:39.927776Z"
    }
   },
   "id": "7483eafddcd4c3e8"
  },
  {
   "cell_type": "markdown",
   "source": [
    "### Load Data and apply Labeling functions\n",
    "\n"
   ],
   "metadata": {
    "collapsed": false
   },
   "id": "f5d8b210e20343af"
  },
  {
   "cell_type": "code",
   "execution_count": 68,
   "outputs": [
    {
     "name": "stdout",
     "output_type": "stream",
     "text": [
      "Starting iteration 1\n",
      "Number of processed documents: 1000\n",
      "Number of processed documents: 2000\n",
      "Finished E-step with 3000 documents\n",
      "Starting iteration 2\n"
     ]
    },
    {
     "name": "stderr",
     "output_type": "stream",
     "text": [
      "         1     -105487.6510             +nan\n"
     ]
    },
    {
     "name": "stdout",
     "output_type": "stream",
     "text": [
      "Number of processed documents: 1000\n",
      "Number of processed documents: 2000\n",
      "Finished E-step with 3000 documents\n",
      "Starting iteration 3\n"
     ]
    },
    {
     "name": "stderr",
     "output_type": "stream",
     "text": [
      "         2     -100521.0518       +4966.5992\n"
     ]
    },
    {
     "name": "stdout",
     "output_type": "stream",
     "text": [
      "Number of processed documents: 1000\n",
      "Number of processed documents: 2000\n",
      "Finished E-step with 3000 documents\n",
      "Starting iteration 4\n"
     ]
    },
    {
     "name": "stderr",
     "output_type": "stream",
     "text": [
      "         3      -99870.4155        +650.6362\n"
     ]
    },
    {
     "name": "stdout",
     "output_type": "stream",
     "text": [
      "Number of processed documents: 1000\n",
      "Number of processed documents: 2000\n",
      "Finished E-step with 3000 documents\n",
      "Starting iteration 5\n"
     ]
    },
    {
     "name": "stderr",
     "output_type": "stream",
     "text": [
      "         4      -99584.3244        +286.0912\n"
     ]
    },
    {
     "name": "stdout",
     "output_type": "stream",
     "text": [
      "Number of processed documents: 1000\n",
      "Number of processed documents: 2000\n",
      "Finished E-step with 3000 documents\n"
     ]
    },
    {
     "name": "stderr",
     "output_type": "stream",
     "text": [
      "         5      -99350.4815        +233.8429\n"
     ]
    }
   ],
   "source": [
    "from part_3_eng_pos_tags.scripts.utils import load_data_split, tag_all\n",
    "\n",
    "lfs = [nltk_lf_2, eng_spacy_sm_lf, textblob_lf, eng_spacy_md_lf]\n",
    "\n",
    "# load training and test data\n",
    "all_labels = [\"DET\", \"NUM\", \"PROPN\", \"NOUN\", \"ADJ\"]\n",
    "train_docs = load_data_split(\"train\", all_labels, 3000)\n",
    "test_docs = load_data_split(\"test\", all_labels, 1000)\n",
    "\n",
    "# tag the training documents\n",
    "train_docs = tag_all(train_docs, lfs)\n",
    "\n",
    "# train the HMM\n",
    "mv = skweak.aggregation.MajorityVoter(\"mv\", all_labels)\n",
    "hmm = skweak.aggregation.HMM(\"hmm\", all_labels)\n",
    "hmm.fit(train_docs)\n",
    "\n",
    "# tag the test documents\n",
    "# it's important to set Majority vote before HMM, otherwise Majority Vote takes the HMM predictions into account\n",
    "test_docs = tag_all(test_docs, lfs + [mv, hmm])\n"
   ],
   "metadata": {
    "collapsed": false,
    "ExecuteTime": {
     "end_time": "2023-09-18T09:40:07.536769Z",
     "start_time": "2023-09-18T09:34:22.350135Z"
    }
   },
   "id": "7b0ec18fe8aaaa40"
  },
  {
   "cell_type": "code",
   "execution_count": null,
   "outputs": [],
   "source": [
    "# conflicts per sentence?"
   ],
   "metadata": {
    "collapsed": false
   },
   "id": "162e2897eac2b483"
  },
  {
   "cell_type": "code",
   "execution_count": 70,
   "outputs": [],
   "source": [
    "df = evaluate(test_docs, all_labels, [\"nltk2\", \"eng_spacy_sm\", \"eng_spacy_md\", \"textblob\", \"mv\", \"hmm\"])"
   ],
   "metadata": {
    "collapsed": false,
    "ExecuteTime": {
     "end_time": "2023-09-18T09:40:24.440280Z",
     "start_time": "2023-09-18T09:40:07.677451Z"
    }
   },
   "id": "bd9cc2af3f299780"
  },
  {
   "cell_type": "markdown",
   "source": [
    "## Evaluation\n",
    "\n",
    "Look at the Precision, Recall and F1-Score of the different aggregation functions. What do you observe?"
   ],
   "metadata": {
    "collapsed": false
   },
   "id": "f1dd12ea303ccb36"
  },
  {
   "cell_type": "code",
   "execution_count": 71,
   "outputs": [
    {
     "data": {
      "text/plain": "                                  tok_precision  tok_recall  tok_f1 tok_cee  \\\nlabel    proportion model                                                     \nADJ      12.8 %     eng_spacy_md          0.925       0.852   0.888           \n                    eng_spacy_sm          0.921       0.852   0.886           \n                    hmm                   0.912       0.866   0.888           \n                    mv                    0.893       0.852   0.872           \n                    nltk2                 0.793       0.595   0.680           \n                    textblob              0.835       0.825   0.830           \nDET      17.3 %     eng_spacy_md          0.997       0.980   0.988           \n                    eng_spacy_sm          0.996       0.979   0.988           \n                    hmm                   0.950       0.996   0.972           \n                    mv                    0.900       0.999   0.946           \n                    nltk2                 0.949       0.979   0.964           \n                    textblob              0.899       0.979   0.938           \nNOUN     37.4 %     eng_spacy_md          0.943       0.848   0.892           \n                    eng_spacy_sm          0.933       0.847   0.888           \n                    hmm                   0.936       0.859   0.896           \n                    mv                    0.671       0.879   0.762           \n                    nltk2                 0.504       0.966   0.662           \n                    textblob              0.774       0.861   0.816           \nNUM      7.3 %      eng_spacy_md          0.967       0.797   0.874           \n                    eng_spacy_sm          0.979       0.795   0.878           \n                    hmm                   0.964       0.927   0.946           \n                    mv                    0.969       0.848   0.904           \n                    nltk2                 0.945       0.836   0.888           \n                    textblob              0.977       0.919   0.948           \nPROPN    25.2 %     eng_spacy_md          0.799       0.948   0.868           \n                    eng_spacy_sm          0.796       0.938   0.862           \n                    hmm                   0.806       0.950   0.872           \n                    mv                    0.808       0.947   0.872           \n                    nltk2                 0.930       0.264   0.412           \n                    textblob              0.817       0.812   0.814           \nmacro               eng_spacy_md          0.926       0.885   0.906           \n                    eng_spacy_sm          0.925       0.882   0.902           \n                    hmm                   0.914       0.920   0.916           \n                    mv                    0.848       0.905   0.876           \n                    nltk2                 0.824       0.728   0.774           \n                    textblob              0.860       0.879   0.870           \nmicro               eng_spacy_md          0.908       0.893   0.900  14.688   \n                    eng_spacy_sm          0.904       0.889   0.896  14.688   \n                    hmm                   0.899       0.911   0.904   0.524   \n                    mv                    0.783       0.911   0.842   0.381   \n                    nltk2                 0.651       0.734   0.690  14.688   \n                    textblob              0.827       0.869   0.848  14.688   \nweighted            eng_spacy_md          0.915       0.893   0.904           \n                    eng_spacy_sm          0.911       0.890   0.900           \n                    hmm                   0.905       0.911   0.908           \n                    mv                    0.795       0.911   0.850           \n                    nltk2                 0.757       0.734   0.746           \n                    textblob              0.829       0.869   0.848           \n\n                                 tok_acc coverage  ent_precision  ent_recall  \\\nlabel    proportion model                                                      \nADJ      12.8 %     eng_spacy_md                           0.925       0.852   \n                    eng_spacy_sm                           0.921       0.852   \n                    hmm                                    0.912       0.866   \n                    mv                                     0.893       0.852   \n                    nltk2                                  0.793       0.595   \n                    textblob                               0.835       0.825   \nDET      17.3 %     eng_spacy_md                           0.997       0.980   \n                    eng_spacy_sm                           0.996       0.979   \n                    hmm                                    0.950       0.996   \n                    mv                                     0.900       0.999   \n                    nltk2                                  0.949       0.979   \n                    textblob                               0.899       0.979   \nNOUN     37.4 %     eng_spacy_md                           0.943       0.848   \n                    eng_spacy_sm                           0.933       0.847   \n                    hmm                                    0.936       0.859   \n                    mv                                     0.671       0.879   \n                    nltk2                                  0.504       0.966   \n                    textblob                               0.774       0.861   \nNUM      7.3 %      eng_spacy_md                           0.967       0.797   \n                    eng_spacy_sm                           0.979       0.795   \n                    hmm                                    0.964       0.927   \n                    mv                                     0.969       0.848   \n                    nltk2                                  0.945       0.836   \n                    textblob                               0.977       0.919   \nPROPN    25.2 %     eng_spacy_md                           0.799       0.948   \n                    eng_spacy_sm                           0.796       0.938   \n                    hmm                                    0.806       0.950   \n                    mv                                     0.808       0.947   \n                    nltk2                                  0.930       0.264   \n                    textblob                               0.817       0.812   \nmacro               eng_spacy_md                           0.926       0.885   \n                    eng_spacy_sm                           0.925       0.882   \n                    hmm                                    0.914       0.920   \n                    mv                                     0.848       0.905   \n                    nltk2                                  0.824       0.728   \n                    textblob                               0.860       0.879   \nmicro               eng_spacy_md   0.575    0.983          0.908       0.893   \n                    eng_spacy_sm   0.575    0.984          0.904       0.889   \n                    hmm            0.946    1.013          0.899       0.911   \n                    mv             0.887    1.163          0.783       0.911   \n                    nltk2          0.575    1.128          0.651       0.734   \n                    textblob       0.575     1.05          0.827       0.869   \nweighted            eng_spacy_md                           0.915       0.893   \n                    eng_spacy_sm                           0.911       0.890   \n                    hmm                                    0.905       0.911   \n                    mv                                     0.795       0.911   \n                    nltk2                                  0.757       0.734   \n                    textblob                               0.829       0.869   \n\n                                  ent_f1  \nlabel    proportion model                 \nADJ      12.8 %     eng_spacy_md   0.888  \n                    eng_spacy_sm   0.886  \n                    hmm            0.888  \n                    mv             0.872  \n                    nltk2          0.680  \n                    textblob       0.830  \nDET      17.3 %     eng_spacy_md   0.988  \n                    eng_spacy_sm   0.988  \n                    hmm            0.972  \n                    mv             0.946  \n                    nltk2          0.964  \n                    textblob       0.938  \nNOUN     37.4 %     eng_spacy_md   0.892  \n                    eng_spacy_sm   0.888  \n                    hmm            0.896  \n                    mv             0.762  \n                    nltk2          0.662  \n                    textblob       0.816  \nNUM      7.3 %      eng_spacy_md   0.874  \n                    eng_spacy_sm   0.878  \n                    hmm            0.946  \n                    mv             0.904  \n                    nltk2          0.888  \n                    textblob       0.948  \nPROPN    25.2 %     eng_spacy_md   0.868  \n                    eng_spacy_sm   0.862  \n                    hmm            0.872  \n                    mv             0.872  \n                    nltk2          0.412  \n                    textblob       0.814  \nmacro               eng_spacy_md   0.906  \n                    eng_spacy_sm   0.902  \n                    hmm            0.916  \n                    mv             0.876  \n                    nltk2          0.774  \n                    textblob       0.870  \nmicro               eng_spacy_md   0.900  \n                    eng_spacy_sm   0.896  \n                    hmm            0.904  \n                    mv             0.842  \n                    nltk2          0.690  \n                    textblob       0.848  \nweighted            eng_spacy_md   0.904  \n                    eng_spacy_sm   0.900  \n                    hmm            0.908  \n                    mv             0.850  \n                    nltk2          0.746  \n                    textblob       0.848  ",
      "text/html": "<div>\n<style scoped>\n    .dataframe tbody tr th:only-of-type {\n        vertical-align: middle;\n    }\n\n    .dataframe tbody tr th {\n        vertical-align: top;\n    }\n\n    .dataframe thead th {\n        text-align: right;\n    }\n</style>\n<table border=\"1\" class=\"dataframe\">\n  <thead>\n    <tr style=\"text-align: right;\">\n      <th></th>\n      <th></th>\n      <th></th>\n      <th>tok_precision</th>\n      <th>tok_recall</th>\n      <th>tok_f1</th>\n      <th>tok_cee</th>\n      <th>tok_acc</th>\n      <th>coverage</th>\n      <th>ent_precision</th>\n      <th>ent_recall</th>\n      <th>ent_f1</th>\n    </tr>\n    <tr>\n      <th>label</th>\n      <th>proportion</th>\n      <th>model</th>\n      <th></th>\n      <th></th>\n      <th></th>\n      <th></th>\n      <th></th>\n      <th></th>\n      <th></th>\n      <th></th>\n      <th></th>\n    </tr>\n  </thead>\n  <tbody>\n    <tr>\n      <th rowspan=\"6\" valign=\"top\">ADJ</th>\n      <th rowspan=\"6\" valign=\"top\">12.8 %</th>\n      <th>eng_spacy_md</th>\n      <td>0.925</td>\n      <td>0.852</td>\n      <td>0.888</td>\n      <td></td>\n      <td></td>\n      <td></td>\n      <td>0.925</td>\n      <td>0.852</td>\n      <td>0.888</td>\n    </tr>\n    <tr>\n      <th>eng_spacy_sm</th>\n      <td>0.921</td>\n      <td>0.852</td>\n      <td>0.886</td>\n      <td></td>\n      <td></td>\n      <td></td>\n      <td>0.921</td>\n      <td>0.852</td>\n      <td>0.886</td>\n    </tr>\n    <tr>\n      <th>hmm</th>\n      <td>0.912</td>\n      <td>0.866</td>\n      <td>0.888</td>\n      <td></td>\n      <td></td>\n      <td></td>\n      <td>0.912</td>\n      <td>0.866</td>\n      <td>0.888</td>\n    </tr>\n    <tr>\n      <th>mv</th>\n      <td>0.893</td>\n      <td>0.852</td>\n      <td>0.872</td>\n      <td></td>\n      <td></td>\n      <td></td>\n      <td>0.893</td>\n      <td>0.852</td>\n      <td>0.872</td>\n    </tr>\n    <tr>\n      <th>nltk2</th>\n      <td>0.793</td>\n      <td>0.595</td>\n      <td>0.680</td>\n      <td></td>\n      <td></td>\n      <td></td>\n      <td>0.793</td>\n      <td>0.595</td>\n      <td>0.680</td>\n    </tr>\n    <tr>\n      <th>textblob</th>\n      <td>0.835</td>\n      <td>0.825</td>\n      <td>0.830</td>\n      <td></td>\n      <td></td>\n      <td></td>\n      <td>0.835</td>\n      <td>0.825</td>\n      <td>0.830</td>\n    </tr>\n    <tr>\n      <th rowspan=\"6\" valign=\"top\">DET</th>\n      <th rowspan=\"6\" valign=\"top\">17.3 %</th>\n      <th>eng_spacy_md</th>\n      <td>0.997</td>\n      <td>0.980</td>\n      <td>0.988</td>\n      <td></td>\n      <td></td>\n      <td></td>\n      <td>0.997</td>\n      <td>0.980</td>\n      <td>0.988</td>\n    </tr>\n    <tr>\n      <th>eng_spacy_sm</th>\n      <td>0.996</td>\n      <td>0.979</td>\n      <td>0.988</td>\n      <td></td>\n      <td></td>\n      <td></td>\n      <td>0.996</td>\n      <td>0.979</td>\n      <td>0.988</td>\n    </tr>\n    <tr>\n      <th>hmm</th>\n      <td>0.950</td>\n      <td>0.996</td>\n      <td>0.972</td>\n      <td></td>\n      <td></td>\n      <td></td>\n      <td>0.950</td>\n      <td>0.996</td>\n      <td>0.972</td>\n    </tr>\n    <tr>\n      <th>mv</th>\n      <td>0.900</td>\n      <td>0.999</td>\n      <td>0.946</td>\n      <td></td>\n      <td></td>\n      <td></td>\n      <td>0.900</td>\n      <td>0.999</td>\n      <td>0.946</td>\n    </tr>\n    <tr>\n      <th>nltk2</th>\n      <td>0.949</td>\n      <td>0.979</td>\n      <td>0.964</td>\n      <td></td>\n      <td></td>\n      <td></td>\n      <td>0.949</td>\n      <td>0.979</td>\n      <td>0.964</td>\n    </tr>\n    <tr>\n      <th>textblob</th>\n      <td>0.899</td>\n      <td>0.979</td>\n      <td>0.938</td>\n      <td></td>\n      <td></td>\n      <td></td>\n      <td>0.899</td>\n      <td>0.979</td>\n      <td>0.938</td>\n    </tr>\n    <tr>\n      <th rowspan=\"6\" valign=\"top\">NOUN</th>\n      <th rowspan=\"6\" valign=\"top\">37.4 %</th>\n      <th>eng_spacy_md</th>\n      <td>0.943</td>\n      <td>0.848</td>\n      <td>0.892</td>\n      <td></td>\n      <td></td>\n      <td></td>\n      <td>0.943</td>\n      <td>0.848</td>\n      <td>0.892</td>\n    </tr>\n    <tr>\n      <th>eng_spacy_sm</th>\n      <td>0.933</td>\n      <td>0.847</td>\n      <td>0.888</td>\n      <td></td>\n      <td></td>\n      <td></td>\n      <td>0.933</td>\n      <td>0.847</td>\n      <td>0.888</td>\n    </tr>\n    <tr>\n      <th>hmm</th>\n      <td>0.936</td>\n      <td>0.859</td>\n      <td>0.896</td>\n      <td></td>\n      <td></td>\n      <td></td>\n      <td>0.936</td>\n      <td>0.859</td>\n      <td>0.896</td>\n    </tr>\n    <tr>\n      <th>mv</th>\n      <td>0.671</td>\n      <td>0.879</td>\n      <td>0.762</td>\n      <td></td>\n      <td></td>\n      <td></td>\n      <td>0.671</td>\n      <td>0.879</td>\n      <td>0.762</td>\n    </tr>\n    <tr>\n      <th>nltk2</th>\n      <td>0.504</td>\n      <td>0.966</td>\n      <td>0.662</td>\n      <td></td>\n      <td></td>\n      <td></td>\n      <td>0.504</td>\n      <td>0.966</td>\n      <td>0.662</td>\n    </tr>\n    <tr>\n      <th>textblob</th>\n      <td>0.774</td>\n      <td>0.861</td>\n      <td>0.816</td>\n      <td></td>\n      <td></td>\n      <td></td>\n      <td>0.774</td>\n      <td>0.861</td>\n      <td>0.816</td>\n    </tr>\n    <tr>\n      <th rowspan=\"6\" valign=\"top\">NUM</th>\n      <th rowspan=\"6\" valign=\"top\">7.3 %</th>\n      <th>eng_spacy_md</th>\n      <td>0.967</td>\n      <td>0.797</td>\n      <td>0.874</td>\n      <td></td>\n      <td></td>\n      <td></td>\n      <td>0.967</td>\n      <td>0.797</td>\n      <td>0.874</td>\n    </tr>\n    <tr>\n      <th>eng_spacy_sm</th>\n      <td>0.979</td>\n      <td>0.795</td>\n      <td>0.878</td>\n      <td></td>\n      <td></td>\n      <td></td>\n      <td>0.979</td>\n      <td>0.795</td>\n      <td>0.878</td>\n    </tr>\n    <tr>\n      <th>hmm</th>\n      <td>0.964</td>\n      <td>0.927</td>\n      <td>0.946</td>\n      <td></td>\n      <td></td>\n      <td></td>\n      <td>0.964</td>\n      <td>0.927</td>\n      <td>0.946</td>\n    </tr>\n    <tr>\n      <th>mv</th>\n      <td>0.969</td>\n      <td>0.848</td>\n      <td>0.904</td>\n      <td></td>\n      <td></td>\n      <td></td>\n      <td>0.969</td>\n      <td>0.848</td>\n      <td>0.904</td>\n    </tr>\n    <tr>\n      <th>nltk2</th>\n      <td>0.945</td>\n      <td>0.836</td>\n      <td>0.888</td>\n      <td></td>\n      <td></td>\n      <td></td>\n      <td>0.945</td>\n      <td>0.836</td>\n      <td>0.888</td>\n    </tr>\n    <tr>\n      <th>textblob</th>\n      <td>0.977</td>\n      <td>0.919</td>\n      <td>0.948</td>\n      <td></td>\n      <td></td>\n      <td></td>\n      <td>0.977</td>\n      <td>0.919</td>\n      <td>0.948</td>\n    </tr>\n    <tr>\n      <th rowspan=\"6\" valign=\"top\">PROPN</th>\n      <th rowspan=\"6\" valign=\"top\">25.2 %</th>\n      <th>eng_spacy_md</th>\n      <td>0.799</td>\n      <td>0.948</td>\n      <td>0.868</td>\n      <td></td>\n      <td></td>\n      <td></td>\n      <td>0.799</td>\n      <td>0.948</td>\n      <td>0.868</td>\n    </tr>\n    <tr>\n      <th>eng_spacy_sm</th>\n      <td>0.796</td>\n      <td>0.938</td>\n      <td>0.862</td>\n      <td></td>\n      <td></td>\n      <td></td>\n      <td>0.796</td>\n      <td>0.938</td>\n      <td>0.862</td>\n    </tr>\n    <tr>\n      <th>hmm</th>\n      <td>0.806</td>\n      <td>0.950</td>\n      <td>0.872</td>\n      <td></td>\n      <td></td>\n      <td></td>\n      <td>0.806</td>\n      <td>0.950</td>\n      <td>0.872</td>\n    </tr>\n    <tr>\n      <th>mv</th>\n      <td>0.808</td>\n      <td>0.947</td>\n      <td>0.872</td>\n      <td></td>\n      <td></td>\n      <td></td>\n      <td>0.808</td>\n      <td>0.947</td>\n      <td>0.872</td>\n    </tr>\n    <tr>\n      <th>nltk2</th>\n      <td>0.930</td>\n      <td>0.264</td>\n      <td>0.412</td>\n      <td></td>\n      <td></td>\n      <td></td>\n      <td>0.930</td>\n      <td>0.264</td>\n      <td>0.412</td>\n    </tr>\n    <tr>\n      <th>textblob</th>\n      <td>0.817</td>\n      <td>0.812</td>\n      <td>0.814</td>\n      <td></td>\n      <td></td>\n      <td></td>\n      <td>0.817</td>\n      <td>0.812</td>\n      <td>0.814</td>\n    </tr>\n    <tr>\n      <th rowspan=\"6\" valign=\"top\">macro</th>\n      <th rowspan=\"6\" valign=\"top\"></th>\n      <th>eng_spacy_md</th>\n      <td>0.926</td>\n      <td>0.885</td>\n      <td>0.906</td>\n      <td></td>\n      <td></td>\n      <td></td>\n      <td>0.926</td>\n      <td>0.885</td>\n      <td>0.906</td>\n    </tr>\n    <tr>\n      <th>eng_spacy_sm</th>\n      <td>0.925</td>\n      <td>0.882</td>\n      <td>0.902</td>\n      <td></td>\n      <td></td>\n      <td></td>\n      <td>0.925</td>\n      <td>0.882</td>\n      <td>0.902</td>\n    </tr>\n    <tr>\n      <th>hmm</th>\n      <td>0.914</td>\n      <td>0.920</td>\n      <td>0.916</td>\n      <td></td>\n      <td></td>\n      <td></td>\n      <td>0.914</td>\n      <td>0.920</td>\n      <td>0.916</td>\n    </tr>\n    <tr>\n      <th>mv</th>\n      <td>0.848</td>\n      <td>0.905</td>\n      <td>0.876</td>\n      <td></td>\n      <td></td>\n      <td></td>\n      <td>0.848</td>\n      <td>0.905</td>\n      <td>0.876</td>\n    </tr>\n    <tr>\n      <th>nltk2</th>\n      <td>0.824</td>\n      <td>0.728</td>\n      <td>0.774</td>\n      <td></td>\n      <td></td>\n      <td></td>\n      <td>0.824</td>\n      <td>0.728</td>\n      <td>0.774</td>\n    </tr>\n    <tr>\n      <th>textblob</th>\n      <td>0.860</td>\n      <td>0.879</td>\n      <td>0.870</td>\n      <td></td>\n      <td></td>\n      <td></td>\n      <td>0.860</td>\n      <td>0.879</td>\n      <td>0.870</td>\n    </tr>\n    <tr>\n      <th rowspan=\"6\" valign=\"top\">micro</th>\n      <th rowspan=\"6\" valign=\"top\"></th>\n      <th>eng_spacy_md</th>\n      <td>0.908</td>\n      <td>0.893</td>\n      <td>0.900</td>\n      <td>14.688</td>\n      <td>0.575</td>\n      <td>0.983</td>\n      <td>0.908</td>\n      <td>0.893</td>\n      <td>0.900</td>\n    </tr>\n    <tr>\n      <th>eng_spacy_sm</th>\n      <td>0.904</td>\n      <td>0.889</td>\n      <td>0.896</td>\n      <td>14.688</td>\n      <td>0.575</td>\n      <td>0.984</td>\n      <td>0.904</td>\n      <td>0.889</td>\n      <td>0.896</td>\n    </tr>\n    <tr>\n      <th>hmm</th>\n      <td>0.899</td>\n      <td>0.911</td>\n      <td>0.904</td>\n      <td>0.524</td>\n      <td>0.946</td>\n      <td>1.013</td>\n      <td>0.899</td>\n      <td>0.911</td>\n      <td>0.904</td>\n    </tr>\n    <tr>\n      <th>mv</th>\n      <td>0.783</td>\n      <td>0.911</td>\n      <td>0.842</td>\n      <td>0.381</td>\n      <td>0.887</td>\n      <td>1.163</td>\n      <td>0.783</td>\n      <td>0.911</td>\n      <td>0.842</td>\n    </tr>\n    <tr>\n      <th>nltk2</th>\n      <td>0.651</td>\n      <td>0.734</td>\n      <td>0.690</td>\n      <td>14.688</td>\n      <td>0.575</td>\n      <td>1.128</td>\n      <td>0.651</td>\n      <td>0.734</td>\n      <td>0.690</td>\n    </tr>\n    <tr>\n      <th>textblob</th>\n      <td>0.827</td>\n      <td>0.869</td>\n      <td>0.848</td>\n      <td>14.688</td>\n      <td>0.575</td>\n      <td>1.05</td>\n      <td>0.827</td>\n      <td>0.869</td>\n      <td>0.848</td>\n    </tr>\n    <tr>\n      <th rowspan=\"6\" valign=\"top\">weighted</th>\n      <th rowspan=\"6\" valign=\"top\"></th>\n      <th>eng_spacy_md</th>\n      <td>0.915</td>\n      <td>0.893</td>\n      <td>0.904</td>\n      <td></td>\n      <td></td>\n      <td></td>\n      <td>0.915</td>\n      <td>0.893</td>\n      <td>0.904</td>\n    </tr>\n    <tr>\n      <th>eng_spacy_sm</th>\n      <td>0.911</td>\n      <td>0.890</td>\n      <td>0.900</td>\n      <td></td>\n      <td></td>\n      <td></td>\n      <td>0.911</td>\n      <td>0.890</td>\n      <td>0.900</td>\n    </tr>\n    <tr>\n      <th>hmm</th>\n      <td>0.905</td>\n      <td>0.911</td>\n      <td>0.908</td>\n      <td></td>\n      <td></td>\n      <td></td>\n      <td>0.905</td>\n      <td>0.911</td>\n      <td>0.908</td>\n    </tr>\n    <tr>\n      <th>mv</th>\n      <td>0.795</td>\n      <td>0.911</td>\n      <td>0.850</td>\n      <td></td>\n      <td></td>\n      <td></td>\n      <td>0.795</td>\n      <td>0.911</td>\n      <td>0.850</td>\n    </tr>\n    <tr>\n      <th>nltk2</th>\n      <td>0.757</td>\n      <td>0.734</td>\n      <td>0.746</td>\n      <td></td>\n      <td></td>\n      <td></td>\n      <td>0.757</td>\n      <td>0.734</td>\n      <td>0.746</td>\n    </tr>\n    <tr>\n      <th>textblob</th>\n      <td>0.829</td>\n      <td>0.869</td>\n      <td>0.848</td>\n      <td></td>\n      <td></td>\n      <td></td>\n      <td>0.829</td>\n      <td>0.869</td>\n      <td>0.848</td>\n    </tr>\n  </tbody>\n</table>\n</div>"
     },
     "execution_count": 71,
     "metadata": {},
     "output_type": "execute_result"
    }
   ],
   "source": [
    "df"
   ],
   "metadata": {
    "collapsed": false,
    "ExecuteTime": {
     "start_time": "2023-09-18T09:40:24.445232Z"
    }
   },
   "id": "1ce891a5d07df2bf"
  },
  {
   "cell_type": "code",
   "execution_count": 74,
   "outputs": [
    {
     "data": {
      "text/plain": "                           tok_precision  tok_recall  tok_f1 tok_cee tok_acc  \\\nlabel    proportion model                                                      \nADJ      12.8 %     hmm            0.912       0.866   0.888                   \n                    mv             0.893       0.852   0.872                   \nDET      17.3 %     hmm            0.950       0.996   0.972                   \n                    mv             0.900       0.999   0.946                   \nNOUN     37.4 %     hmm            0.936       0.859   0.896                   \n                    mv             0.671       0.879   0.762                   \nNUM      7.3 %      hmm            0.964       0.927   0.946                   \n                    mv             0.969       0.848   0.904                   \nPROPN    25.2 %     hmm            0.806       0.950   0.872                   \n                    mv             0.808       0.947   0.872                   \nmacro               hmm            0.914       0.920   0.916                   \n                    mv             0.848       0.905   0.876                   \nmicro               hmm            0.899       0.911   0.904   0.524   0.946   \n                    mv             0.783       0.911   0.842   0.381   0.887   \nweighted            hmm            0.905       0.911   0.908                   \n                    mv             0.795       0.911   0.850                   \n\n                          coverage  ent_precision  ent_recall  ent_f1  \nlabel    proportion model                                              \nADJ      12.8 %     hmm                     0.912       0.866   0.888  \n                    mv                      0.893       0.852   0.872  \nDET      17.3 %     hmm                     0.950       0.996   0.972  \n                    mv                      0.900       0.999   0.946  \nNOUN     37.4 %     hmm                     0.936       0.859   0.896  \n                    mv                      0.671       0.879   0.762  \nNUM      7.3 %      hmm                     0.964       0.927   0.946  \n                    mv                      0.969       0.848   0.904  \nPROPN    25.2 %     hmm                     0.806       0.950   0.872  \n                    mv                      0.808       0.947   0.872  \nmacro               hmm                     0.914       0.920   0.916  \n                    mv                      0.848       0.905   0.876  \nmicro               hmm      1.013          0.899       0.911   0.904  \n                    mv       1.163          0.783       0.911   0.842  \nweighted            hmm                     0.905       0.911   0.908  \n                    mv                      0.795       0.911   0.850  ",
      "text/html": "<div>\n<style scoped>\n    .dataframe tbody tr th:only-of-type {\n        vertical-align: middle;\n    }\n\n    .dataframe tbody tr th {\n        vertical-align: top;\n    }\n\n    .dataframe thead th {\n        text-align: right;\n    }\n</style>\n<table border=\"1\" class=\"dataframe\">\n  <thead>\n    <tr style=\"text-align: right;\">\n      <th></th>\n      <th></th>\n      <th></th>\n      <th>tok_precision</th>\n      <th>tok_recall</th>\n      <th>tok_f1</th>\n      <th>tok_cee</th>\n      <th>tok_acc</th>\n      <th>coverage</th>\n      <th>ent_precision</th>\n      <th>ent_recall</th>\n      <th>ent_f1</th>\n    </tr>\n    <tr>\n      <th>label</th>\n      <th>proportion</th>\n      <th>model</th>\n      <th></th>\n      <th></th>\n      <th></th>\n      <th></th>\n      <th></th>\n      <th></th>\n      <th></th>\n      <th></th>\n      <th></th>\n    </tr>\n  </thead>\n  <tbody>\n    <tr>\n      <th rowspan=\"2\" valign=\"top\">ADJ</th>\n      <th rowspan=\"2\" valign=\"top\">12.8 %</th>\n      <th>hmm</th>\n      <td>0.912</td>\n      <td>0.866</td>\n      <td>0.888</td>\n      <td></td>\n      <td></td>\n      <td></td>\n      <td>0.912</td>\n      <td>0.866</td>\n      <td>0.888</td>\n    </tr>\n    <tr>\n      <th>mv</th>\n      <td>0.893</td>\n      <td>0.852</td>\n      <td>0.872</td>\n      <td></td>\n      <td></td>\n      <td></td>\n      <td>0.893</td>\n      <td>0.852</td>\n      <td>0.872</td>\n    </tr>\n    <tr>\n      <th rowspan=\"2\" valign=\"top\">DET</th>\n      <th rowspan=\"2\" valign=\"top\">17.3 %</th>\n      <th>hmm</th>\n      <td>0.950</td>\n      <td>0.996</td>\n      <td>0.972</td>\n      <td></td>\n      <td></td>\n      <td></td>\n      <td>0.950</td>\n      <td>0.996</td>\n      <td>0.972</td>\n    </tr>\n    <tr>\n      <th>mv</th>\n      <td>0.900</td>\n      <td>0.999</td>\n      <td>0.946</td>\n      <td></td>\n      <td></td>\n      <td></td>\n      <td>0.900</td>\n      <td>0.999</td>\n      <td>0.946</td>\n    </tr>\n    <tr>\n      <th rowspan=\"2\" valign=\"top\">NOUN</th>\n      <th rowspan=\"2\" valign=\"top\">37.4 %</th>\n      <th>hmm</th>\n      <td>0.936</td>\n      <td>0.859</td>\n      <td>0.896</td>\n      <td></td>\n      <td></td>\n      <td></td>\n      <td>0.936</td>\n      <td>0.859</td>\n      <td>0.896</td>\n    </tr>\n    <tr>\n      <th>mv</th>\n      <td>0.671</td>\n      <td>0.879</td>\n      <td>0.762</td>\n      <td></td>\n      <td></td>\n      <td></td>\n      <td>0.671</td>\n      <td>0.879</td>\n      <td>0.762</td>\n    </tr>\n    <tr>\n      <th rowspan=\"2\" valign=\"top\">NUM</th>\n      <th rowspan=\"2\" valign=\"top\">7.3 %</th>\n      <th>hmm</th>\n      <td>0.964</td>\n      <td>0.927</td>\n      <td>0.946</td>\n      <td></td>\n      <td></td>\n      <td></td>\n      <td>0.964</td>\n      <td>0.927</td>\n      <td>0.946</td>\n    </tr>\n    <tr>\n      <th>mv</th>\n      <td>0.969</td>\n      <td>0.848</td>\n      <td>0.904</td>\n      <td></td>\n      <td></td>\n      <td></td>\n      <td>0.969</td>\n      <td>0.848</td>\n      <td>0.904</td>\n    </tr>\n    <tr>\n      <th rowspan=\"2\" valign=\"top\">PROPN</th>\n      <th rowspan=\"2\" valign=\"top\">25.2 %</th>\n      <th>hmm</th>\n      <td>0.806</td>\n      <td>0.950</td>\n      <td>0.872</td>\n      <td></td>\n      <td></td>\n      <td></td>\n      <td>0.806</td>\n      <td>0.950</td>\n      <td>0.872</td>\n    </tr>\n    <tr>\n      <th>mv</th>\n      <td>0.808</td>\n      <td>0.947</td>\n      <td>0.872</td>\n      <td></td>\n      <td></td>\n      <td></td>\n      <td>0.808</td>\n      <td>0.947</td>\n      <td>0.872</td>\n    </tr>\n    <tr>\n      <th rowspan=\"2\" valign=\"top\">macro</th>\n      <th rowspan=\"2\" valign=\"top\"></th>\n      <th>hmm</th>\n      <td>0.914</td>\n      <td>0.920</td>\n      <td>0.916</td>\n      <td></td>\n      <td></td>\n      <td></td>\n      <td>0.914</td>\n      <td>0.920</td>\n      <td>0.916</td>\n    </tr>\n    <tr>\n      <th>mv</th>\n      <td>0.848</td>\n      <td>0.905</td>\n      <td>0.876</td>\n      <td></td>\n      <td></td>\n      <td></td>\n      <td>0.848</td>\n      <td>0.905</td>\n      <td>0.876</td>\n    </tr>\n    <tr>\n      <th rowspan=\"2\" valign=\"top\">micro</th>\n      <th rowspan=\"2\" valign=\"top\"></th>\n      <th>hmm</th>\n      <td>0.899</td>\n      <td>0.911</td>\n      <td>0.904</td>\n      <td>0.524</td>\n      <td>0.946</td>\n      <td>1.013</td>\n      <td>0.899</td>\n      <td>0.911</td>\n      <td>0.904</td>\n    </tr>\n    <tr>\n      <th>mv</th>\n      <td>0.783</td>\n      <td>0.911</td>\n      <td>0.842</td>\n      <td>0.381</td>\n      <td>0.887</td>\n      <td>1.163</td>\n      <td>0.783</td>\n      <td>0.911</td>\n      <td>0.842</td>\n    </tr>\n    <tr>\n      <th rowspan=\"2\" valign=\"top\">weighted</th>\n      <th rowspan=\"2\" valign=\"top\"></th>\n      <th>hmm</th>\n      <td>0.905</td>\n      <td>0.911</td>\n      <td>0.908</td>\n      <td></td>\n      <td></td>\n      <td></td>\n      <td>0.905</td>\n      <td>0.911</td>\n      <td>0.908</td>\n    </tr>\n    <tr>\n      <th>mv</th>\n      <td>0.795</td>\n      <td>0.911</td>\n      <td>0.850</td>\n      <td></td>\n      <td></td>\n      <td></td>\n      <td>0.795</td>\n      <td>0.911</td>\n      <td>0.850</td>\n    </tr>\n  </tbody>\n</table>\n</div>"
     },
     "execution_count": 74,
     "metadata": {},
     "output_type": "execute_result"
    }
   ],
   "source": [
    "df[np.in1d(df.index.get_level_values(2), ['mv', \"hmm\"])]"
   ],
   "metadata": {
    "collapsed": false,
    "ExecuteTime": {
     "end_time": "2023-09-18T09:42:32.721788Z",
     "start_time": "2023-09-18T09:42:32.471443Z"
    }
   },
   "id": "7a27546af4001313"
  },
  {
   "cell_type": "code",
   "execution_count": null,
   "outputs": [],
   "source": [],
   "metadata": {
    "collapsed": false
   },
   "id": "9221efd8dd00e691"
  },
  {
   "cell_type": "markdown",
   "source": [],
   "metadata": {
    "collapsed": false
   },
   "id": "54b53ffadb0bc88b"
  }
 ],
 "metadata": {
  "kernelspec": {
   "display_name": "Python 3 (ipykernel)",
   "language": "python",
   "name": "python3"
  },
  "language_info": {
   "codemirror_mode": {
    "name": "ipython",
    "version": 3
   },
   "file_extension": ".py",
   "mimetype": "text/x-python",
   "name": "python",
   "nbconvert_exporter": "python",
   "pygments_lexer": "ipython3",
   "version": "3.8.17"
  }
 },
 "nbformat": 4,
 "nbformat_minor": 5
}
