{
 "cells": [
  {
   "cell_type": "code",
   "execution_count": 2,
   "id": "initial_id",
   "metadata": {
    "ExecuteTime": {
     "end_time": "2023-09-14T08:08:03.555578Z",
     "start_time": "2023-09-14T08:08:03.419780Z"
    }
   },
   "outputs": [
    {
     "name": "stdout",
     "output_type": "stream",
     "text": [
      "The autoreload extension is already loaded. To reload it, use:\n",
      "  %reload_ext autoreload\n"
     ]
    }
   ],
   "source": [
    "%load_ext autoreload\n",
    "%autoreload 2\n",
    "\n",
    "import re\n",
    "import os\n",
    "import sys\n",
    "import nltk\n",
    "import spacy\n",
    "import joblib\n",
    "import skweak\n",
    "import numpy as np\n",
    "import pandas as pd\n",
    "\n",
    "from spacy.tokens import Span\n",
    "from spacy.tokens import DocBin\n",
    "from collections import Counter\n",
    "from spacy.training import Corpus\n",
    "from nltk.corpus import stopwords\n",
    "from nltk.stem import WordNetLemmatizer\n",
    "from nltk.tokenize import word_tokenize\n",
    "from utils.skweak_ner_eval_utils import evaluate\n",
    "\n",
    "# from skweak import heuristics, gazetteers, aggregation, utils\n",
    "\n",
    "sys.path.append('../')"
   ]
  },
  {
   "cell_type": "code",
   "execution_count": 123,
   "outputs": [
    {
     "name": "stderr",
     "output_type": "stream",
     "text": [
      "[nltk_data] Downloading package averaged_perceptron_tagger to\n",
      "[nltk_data]     /Users/andst/nltk_data...\n",
      "[nltk_data]   Package averaged_perceptron_tagger is already up-to-\n",
      "[nltk_data]       date!\n",
      "[nltk_data] Downloading package universal_tagset to\n",
      "[nltk_data]     /Users/andst/nltk_data...\n",
      "[nltk_data]   Package universal_tagset is already up-to-date!\n",
      "[nltk_data] Downloading package stopwords to /Users/andst/nltk_data...\n",
      "[nltk_data]   Package stopwords is already up-to-date!\n"
     ]
    },
    {
     "name": "stdout",
     "output_type": "stream",
     "text": [
      "Collecting en-core-web-sm==3.6.0\r\n",
      "  Downloading https://github.com/explosion/spacy-models/releases/download/en_core_web_sm-3.6.0/en_core_web_sm-3.6.0-py3-none-any.whl (12.8 MB)\r\n",
      "\u001B[2K     \u001B[90m━━━━━━━━━━━━━━━━━━━━━━━━━━━━━━━━━━━━━━━━\u001B[0m \u001B[32m12.8/12.8 MB\u001B[0m \u001B[31m13.9 MB/s\u001B[0m eta \u001B[36m0:00:00\u001B[0m00:01\u001B[0m00:01\u001B[0m\r\n",
      "\u001B[?25hRequirement already satisfied: spacy<3.7.0,>=3.6.0 in /Users/andst/.cache/conda_envs/WS_tutorial/lib/python3.8/site-packages (from en-core-web-sm==3.6.0) (3.6.1)\r\n",
      "Requirement already satisfied: spacy-legacy<3.1.0,>=3.0.11 in /Users/andst/.cache/conda_envs/WS_tutorial/lib/python3.8/site-packages (from spacy<3.7.0,>=3.6.0->en-core-web-sm==3.6.0) (3.0.12)\r\n",
      "Requirement already satisfied: spacy-loggers<2.0.0,>=1.0.0 in /Users/andst/.cache/conda_envs/WS_tutorial/lib/python3.8/site-packages (from spacy<3.7.0,>=3.6.0->en-core-web-sm==3.6.0) (1.0.4)\r\n",
      "Requirement already satisfied: murmurhash<1.1.0,>=0.28.0 in /Users/andst/.cache/conda_envs/WS_tutorial/lib/python3.8/site-packages (from spacy<3.7.0,>=3.6.0->en-core-web-sm==3.6.0) (1.0.9)\r\n",
      "Requirement already satisfied: cymem<2.1.0,>=2.0.2 in /Users/andst/.cache/conda_envs/WS_tutorial/lib/python3.8/site-packages (from spacy<3.7.0,>=3.6.0->en-core-web-sm==3.6.0) (2.0.7)\r\n",
      "Requirement already satisfied: preshed<3.1.0,>=3.0.2 in /Users/andst/.cache/conda_envs/WS_tutorial/lib/python3.8/site-packages (from spacy<3.7.0,>=3.6.0->en-core-web-sm==3.6.0) (3.0.8)\r\n",
      "Requirement already satisfied: thinc<8.2.0,>=8.1.8 in /Users/andst/.cache/conda_envs/WS_tutorial/lib/python3.8/site-packages (from spacy<3.7.0,>=3.6.0->en-core-web-sm==3.6.0) (8.1.11)\r\n",
      "Requirement already satisfied: wasabi<1.2.0,>=0.9.1 in /Users/andst/.cache/conda_envs/WS_tutorial/lib/python3.8/site-packages (from spacy<3.7.0,>=3.6.0->en-core-web-sm==3.6.0) (1.1.2)\r\n",
      "Requirement already satisfied: srsly<3.0.0,>=2.4.3 in /Users/andst/.cache/conda_envs/WS_tutorial/lib/python3.8/site-packages (from spacy<3.7.0,>=3.6.0->en-core-web-sm==3.6.0) (2.4.7)\r\n",
      "Requirement already satisfied: catalogue<2.1.0,>=2.0.6 in /Users/andst/.cache/conda_envs/WS_tutorial/lib/python3.8/site-packages (from spacy<3.7.0,>=3.6.0->en-core-web-sm==3.6.0) (2.0.9)\r\n",
      "Requirement already satisfied: typer<0.10.0,>=0.3.0 in /Users/andst/.cache/conda_envs/WS_tutorial/lib/python3.8/site-packages (from spacy<3.7.0,>=3.6.0->en-core-web-sm==3.6.0) (0.9.0)\r\n",
      "Requirement already satisfied: pathy>=0.10.0 in /Users/andst/.cache/conda_envs/WS_tutorial/lib/python3.8/site-packages (from spacy<3.7.0,>=3.6.0->en-core-web-sm==3.6.0) (0.10.2)\r\n",
      "Requirement already satisfied: smart-open<7.0.0,>=5.2.1 in /Users/andst/.cache/conda_envs/WS_tutorial/lib/python3.8/site-packages (from spacy<3.7.0,>=3.6.0->en-core-web-sm==3.6.0) (6.3.0)\r\n",
      "Requirement already satisfied: tqdm<5.0.0,>=4.38.0 in /Users/andst/.cache/conda_envs/WS_tutorial/lib/python3.8/site-packages (from spacy<3.7.0,>=3.6.0->en-core-web-sm==3.6.0) (4.66.0)\r\n",
      "Requirement already satisfied: numpy>=1.15.0 in /Users/andst/.cache/conda_envs/WS_tutorial/lib/python3.8/site-packages (from spacy<3.7.0,>=3.6.0->en-core-web-sm==3.6.0) (1.19.5)\r\n",
      "Requirement already satisfied: requests<3.0.0,>=2.13.0 in /Users/andst/.cache/conda_envs/WS_tutorial/lib/python3.8/site-packages (from spacy<3.7.0,>=3.6.0->en-core-web-sm==3.6.0) (2.31.0)\r\n",
      "Requirement already satisfied: pydantic!=1.8,!=1.8.1,<3.0.0,>=1.7.4 in /Users/andst/.cache/conda_envs/WS_tutorial/lib/python3.8/site-packages (from spacy<3.7.0,>=3.6.0->en-core-web-sm==3.6.0) (2.1.1)\r\n",
      "Requirement already satisfied: jinja2 in /Users/andst/.cache/conda_envs/WS_tutorial/lib/python3.8/site-packages (from spacy<3.7.0,>=3.6.0->en-core-web-sm==3.6.0) (3.1.2)\r\n",
      "Requirement already satisfied: setuptools in /Users/andst/.cache/conda_envs/WS_tutorial/lib/python3.8/site-packages (from spacy<3.7.0,>=3.6.0->en-core-web-sm==3.6.0) (68.0.0)\r\n",
      "Requirement already satisfied: packaging>=20.0 in /Users/andst/.cache/conda_envs/WS_tutorial/lib/python3.8/site-packages (from spacy<3.7.0,>=3.6.0->en-core-web-sm==3.6.0) (23.1)\r\n",
      "Requirement already satisfied: langcodes<4.0.0,>=3.2.0 in /Users/andst/.cache/conda_envs/WS_tutorial/lib/python3.8/site-packages (from spacy<3.7.0,>=3.6.0->en-core-web-sm==3.6.0) (3.3.0)\r\n",
      "Requirement already satisfied: annotated-types>=0.4.0 in /Users/andst/.cache/conda_envs/WS_tutorial/lib/python3.8/site-packages (from pydantic!=1.8,!=1.8.1,<3.0.0,>=1.7.4->spacy<3.7.0,>=3.6.0->en-core-web-sm==3.6.0) (0.5.0)\r\n",
      "Requirement already satisfied: pydantic-core==2.4.0 in /Users/andst/.cache/conda_envs/WS_tutorial/lib/python3.8/site-packages (from pydantic!=1.8,!=1.8.1,<3.0.0,>=1.7.4->spacy<3.7.0,>=3.6.0->en-core-web-sm==3.6.0) (2.4.0)\r\n",
      "Requirement already satisfied: typing-extensions>=4.6.1 in /Users/andst/.cache/conda_envs/WS_tutorial/lib/python3.8/site-packages (from pydantic!=1.8,!=1.8.1,<3.0.0,>=1.7.4->spacy<3.7.0,>=3.6.0->en-core-web-sm==3.6.0) (4.7.1)\r\n",
      "Requirement already satisfied: charset-normalizer<4,>=2 in /Users/andst/.cache/conda_envs/WS_tutorial/lib/python3.8/site-packages (from requests<3.0.0,>=2.13.0->spacy<3.7.0,>=3.6.0->en-core-web-sm==3.6.0) (3.2.0)\r\n",
      "Requirement already satisfied: idna<4,>=2.5 in /Users/andst/.cache/conda_envs/WS_tutorial/lib/python3.8/site-packages (from requests<3.0.0,>=2.13.0->spacy<3.7.0,>=3.6.0->en-core-web-sm==3.6.0) (3.4)\r\n",
      "Requirement already satisfied: urllib3<3,>=1.21.1 in /Users/andst/.cache/conda_envs/WS_tutorial/lib/python3.8/site-packages (from requests<3.0.0,>=2.13.0->spacy<3.7.0,>=3.6.0->en-core-web-sm==3.6.0) (2.0.4)\r\n",
      "Requirement already satisfied: certifi>=2017.4.17 in /Users/andst/.cache/conda_envs/WS_tutorial/lib/python3.8/site-packages (from requests<3.0.0,>=2.13.0->spacy<3.7.0,>=3.6.0->en-core-web-sm==3.6.0) (2023.7.22)\r\n",
      "Requirement already satisfied: blis<0.8.0,>=0.7.8 in /Users/andst/.cache/conda_envs/WS_tutorial/lib/python3.8/site-packages (from thinc<8.2.0,>=8.1.8->spacy<3.7.0,>=3.6.0->en-core-web-sm==3.6.0) (0.7.10)\r\n",
      "Requirement already satisfied: confection<1.0.0,>=0.0.1 in /Users/andst/.cache/conda_envs/WS_tutorial/lib/python3.8/site-packages (from thinc<8.2.0,>=8.1.8->spacy<3.7.0,>=3.6.0->en-core-web-sm==3.6.0) (0.1.1)\r\n",
      "Requirement already satisfied: click<9.0.0,>=7.1.1 in /Users/andst/.cache/conda_envs/WS_tutorial/lib/python3.8/site-packages (from typer<0.10.0,>=0.3.0->spacy<3.7.0,>=3.6.0->en-core-web-sm==3.6.0) (8.1.6)\r\n",
      "Requirement already satisfied: MarkupSafe>=2.0 in /Users/andst/.cache/conda_envs/WS_tutorial/lib/python3.8/site-packages (from jinja2->spacy<3.7.0,>=3.6.0->en-core-web-sm==3.6.0) (2.1.3)\r\n",
      "\u001B[38;5;2m✔ Download and installation successful\u001B[0m\r\n",
      "You can now load the package via spacy.load('en_core_web_sm')\r\n",
      "Collecting en-core-web-md==3.6.0\r\n",
      "  Downloading https://github.com/explosion/spacy-models/releases/download/en_core_web_md-3.6.0/en_core_web_md-3.6.0-py3-none-any.whl (42.8 MB)\r\n",
      "\u001B[2K     \u001B[90m━━━━━━━━━━━━━━━━━━━━━━━━━━━━━━━━━━━━━━━━\u001B[0m \u001B[32m42.8/42.8 MB\u001B[0m \u001B[31m7.3 MB/s\u001B[0m eta \u001B[36m0:00:00\u001B[0m00:01\u001B[0m00:01\u001B[0mm\r\n",
      "\u001B[?25hRequirement already satisfied: spacy<3.7.0,>=3.6.0 in /Users/andst/.cache/conda_envs/WS_tutorial/lib/python3.8/site-packages (from en-core-web-md==3.6.0) (3.6.1)\r\n",
      "Requirement already satisfied: spacy-legacy<3.1.0,>=3.0.11 in /Users/andst/.cache/conda_envs/WS_tutorial/lib/python3.8/site-packages (from spacy<3.7.0,>=3.6.0->en-core-web-md==3.6.0) (3.0.12)\r\n",
      "Requirement already satisfied: spacy-loggers<2.0.0,>=1.0.0 in /Users/andst/.cache/conda_envs/WS_tutorial/lib/python3.8/site-packages (from spacy<3.7.0,>=3.6.0->en-core-web-md==3.6.0) (1.0.4)\r\n",
      "Requirement already satisfied: murmurhash<1.1.0,>=0.28.0 in /Users/andst/.cache/conda_envs/WS_tutorial/lib/python3.8/site-packages (from spacy<3.7.0,>=3.6.0->en-core-web-md==3.6.0) (1.0.9)\r\n",
      "Requirement already satisfied: cymem<2.1.0,>=2.0.2 in /Users/andst/.cache/conda_envs/WS_tutorial/lib/python3.8/site-packages (from spacy<3.7.0,>=3.6.0->en-core-web-md==3.6.0) (2.0.7)\r\n",
      "Requirement already satisfied: preshed<3.1.0,>=3.0.2 in /Users/andst/.cache/conda_envs/WS_tutorial/lib/python3.8/site-packages (from spacy<3.7.0,>=3.6.0->en-core-web-md==3.6.0) (3.0.8)\r\n",
      "Requirement already satisfied: thinc<8.2.0,>=8.1.8 in /Users/andst/.cache/conda_envs/WS_tutorial/lib/python3.8/site-packages (from spacy<3.7.0,>=3.6.0->en-core-web-md==3.6.0) (8.1.11)\r\n",
      "Requirement already satisfied: wasabi<1.2.0,>=0.9.1 in /Users/andst/.cache/conda_envs/WS_tutorial/lib/python3.8/site-packages (from spacy<3.7.0,>=3.6.0->en-core-web-md==3.6.0) (1.1.2)\r\n",
      "Requirement already satisfied: srsly<3.0.0,>=2.4.3 in /Users/andst/.cache/conda_envs/WS_tutorial/lib/python3.8/site-packages (from spacy<3.7.0,>=3.6.0->en-core-web-md==3.6.0) (2.4.7)\r\n",
      "Requirement already satisfied: catalogue<2.1.0,>=2.0.6 in /Users/andst/.cache/conda_envs/WS_tutorial/lib/python3.8/site-packages (from spacy<3.7.0,>=3.6.0->en-core-web-md==3.6.0) (2.0.9)\r\n",
      "Requirement already satisfied: typer<0.10.0,>=0.3.0 in /Users/andst/.cache/conda_envs/WS_tutorial/lib/python3.8/site-packages (from spacy<3.7.0,>=3.6.0->en-core-web-md==3.6.0) (0.9.0)\r\n",
      "Requirement already satisfied: pathy>=0.10.0 in /Users/andst/.cache/conda_envs/WS_tutorial/lib/python3.8/site-packages (from spacy<3.7.0,>=3.6.0->en-core-web-md==3.6.0) (0.10.2)\r\n",
      "Requirement already satisfied: smart-open<7.0.0,>=5.2.1 in /Users/andst/.cache/conda_envs/WS_tutorial/lib/python3.8/site-packages (from spacy<3.7.0,>=3.6.0->en-core-web-md==3.6.0) (6.3.0)\r\n",
      "Requirement already satisfied: tqdm<5.0.0,>=4.38.0 in /Users/andst/.cache/conda_envs/WS_tutorial/lib/python3.8/site-packages (from spacy<3.7.0,>=3.6.0->en-core-web-md==3.6.0) (4.66.0)\r\n",
      "Requirement already satisfied: numpy>=1.15.0 in /Users/andst/.cache/conda_envs/WS_tutorial/lib/python3.8/site-packages (from spacy<3.7.0,>=3.6.0->en-core-web-md==3.6.0) (1.19.5)\r\n",
      "Requirement already satisfied: requests<3.0.0,>=2.13.0 in /Users/andst/.cache/conda_envs/WS_tutorial/lib/python3.8/site-packages (from spacy<3.7.0,>=3.6.0->en-core-web-md==3.6.0) (2.31.0)\r\n",
      "Requirement already satisfied: pydantic!=1.8,!=1.8.1,<3.0.0,>=1.7.4 in /Users/andst/.cache/conda_envs/WS_tutorial/lib/python3.8/site-packages (from spacy<3.7.0,>=3.6.0->en-core-web-md==3.6.0) (2.1.1)\r\n",
      "Requirement already satisfied: jinja2 in /Users/andst/.cache/conda_envs/WS_tutorial/lib/python3.8/site-packages (from spacy<3.7.0,>=3.6.0->en-core-web-md==3.6.0) (3.1.2)\r\n",
      "Requirement already satisfied: setuptools in /Users/andst/.cache/conda_envs/WS_tutorial/lib/python3.8/site-packages (from spacy<3.7.0,>=3.6.0->en-core-web-md==3.6.0) (68.0.0)\r\n",
      "Requirement already satisfied: packaging>=20.0 in /Users/andst/.cache/conda_envs/WS_tutorial/lib/python3.8/site-packages (from spacy<3.7.0,>=3.6.0->en-core-web-md==3.6.0) (23.1)\r\n",
      "Requirement already satisfied: langcodes<4.0.0,>=3.2.0 in /Users/andst/.cache/conda_envs/WS_tutorial/lib/python3.8/site-packages (from spacy<3.7.0,>=3.6.0->en-core-web-md==3.6.0) (3.3.0)\r\n",
      "Requirement already satisfied: annotated-types>=0.4.0 in /Users/andst/.cache/conda_envs/WS_tutorial/lib/python3.8/site-packages (from pydantic!=1.8,!=1.8.1,<3.0.0,>=1.7.4->spacy<3.7.0,>=3.6.0->en-core-web-md==3.6.0) (0.5.0)\r\n",
      "Requirement already satisfied: pydantic-core==2.4.0 in /Users/andst/.cache/conda_envs/WS_tutorial/lib/python3.8/site-packages (from pydantic!=1.8,!=1.8.1,<3.0.0,>=1.7.4->spacy<3.7.0,>=3.6.0->en-core-web-md==3.6.0) (2.4.0)\r\n",
      "Requirement already satisfied: typing-extensions>=4.6.1 in /Users/andst/.cache/conda_envs/WS_tutorial/lib/python3.8/site-packages (from pydantic!=1.8,!=1.8.1,<3.0.0,>=1.7.4->spacy<3.7.0,>=3.6.0->en-core-web-md==3.6.0) (4.7.1)\r\n",
      "Requirement already satisfied: charset-normalizer<4,>=2 in /Users/andst/.cache/conda_envs/WS_tutorial/lib/python3.8/site-packages (from requests<3.0.0,>=2.13.0->spacy<3.7.0,>=3.6.0->en-core-web-md==3.6.0) (3.2.0)\r\n",
      "Requirement already satisfied: idna<4,>=2.5 in /Users/andst/.cache/conda_envs/WS_tutorial/lib/python3.8/site-packages (from requests<3.0.0,>=2.13.0->spacy<3.7.0,>=3.6.0->en-core-web-md==3.6.0) (3.4)\r\n",
      "Requirement already satisfied: urllib3<3,>=1.21.1 in /Users/andst/.cache/conda_envs/WS_tutorial/lib/python3.8/site-packages (from requests<3.0.0,>=2.13.0->spacy<3.7.0,>=3.6.0->en-core-web-md==3.6.0) (2.0.4)\r\n",
      "Requirement already satisfied: certifi>=2017.4.17 in /Users/andst/.cache/conda_envs/WS_tutorial/lib/python3.8/site-packages (from requests<3.0.0,>=2.13.0->spacy<3.7.0,>=3.6.0->en-core-web-md==3.6.0) (2023.7.22)\r\n",
      "Requirement already satisfied: blis<0.8.0,>=0.7.8 in /Users/andst/.cache/conda_envs/WS_tutorial/lib/python3.8/site-packages (from thinc<8.2.0,>=8.1.8->spacy<3.7.0,>=3.6.0->en-core-web-md==3.6.0) (0.7.10)\r\n",
      "Requirement already satisfied: confection<1.0.0,>=0.0.1 in /Users/andst/.cache/conda_envs/WS_tutorial/lib/python3.8/site-packages (from thinc<8.2.0,>=8.1.8->spacy<3.7.0,>=3.6.0->en-core-web-md==3.6.0) (0.1.1)\r\n",
      "Requirement already satisfied: click<9.0.0,>=7.1.1 in /Users/andst/.cache/conda_envs/WS_tutorial/lib/python3.8/site-packages (from typer<0.10.0,>=0.3.0->spacy<3.7.0,>=3.6.0->en-core-web-md==3.6.0) (8.1.6)\r\n",
      "Requirement already satisfied: MarkupSafe>=2.0 in /Users/andst/.cache/conda_envs/WS_tutorial/lib/python3.8/site-packages (from jinja2->spacy<3.7.0,>=3.6.0->en-core-web-md==3.6.0) (2.1.3)\r\n",
      "\u001B[38;5;2m✔ Download and installation successful\u001B[0m\r\n",
      "You can now load the package via spacy.load('en_core_web_md')\r\n"
     ]
    }
   ],
   "source": [
    "!python --version\n",
    "#!pip install textblob\n",
    "!pip freeze > requirements_test.txt\n",
    "# TODO: add textblob==0.17.1 to \n",
    "\n",
    "\n",
    "nltk.download('averaged_perceptron_tagger')\n",
    "nltk.download('universal_tagset')\n",
    "nltk.download('stopwords')\n",
    "!python -m spacy download en_core_web_sm\n",
    "!python -m spacy download en_core_web_md\n",
    "! python -m textblob.download_corpora"
   ],
   "metadata": {
    "collapsed": false,
    "ExecuteTime": {
     "end_time": "2023-09-13T21:13:00.733065Z",
     "start_time": "2023-09-13T21:12:48.164645Z"
    }
   },
   "id": "877c6764-fbd0-4de2-9834-d8f7ac23401f"
  },
  {
   "cell_type": "code",
   "execution_count": null,
   "id": "bbbaff927095230a",
   "metadata": {},
   "outputs": [],
   "source": [
    "# Weakly Supervised Named Entity Tagging with Learnable Logical Rules\n",
    "# https://universaldependencies.org/format.html\n",
    "# https://aclanthology.org/2021.acl-long.352.pdf\n",
    "\n",
    "# Get data from https://github.com/explosion/projects/tree/v3/benchmarks/ud_benchmark\n",
    "# by using assets command, or downloading https://lindat.mff.cuni.cz/repository/xmlui/bitstream/handle/11234/1-3105/ud-treebanks-v2.5.tgz\n",
    "\n",
    "# for each file run with vars.ud_treebank being the treebank you want to use, e.g. (\"UD_English-EWT\")\n",
    "# python scripts/copy_files.py train conllu assets/ud-treebanks-v2.5/${vars.ud_treebank}/ corpus/${vars.ud_treebank}/train/\n",
    "# python -m spacy convert corpus/${vars.ud_treebank}/train/ corpus/${vars.ud_treebank}/ --converter conllu -n 1 -T -C\n",
    "\n"
   ]
  },
  {
   "cell_type": "code",
   "execution_count": 13,
   "outputs": [],
   "source": [
    "eng_nlp_sm = spacy.load(\"en_core_web_sm\")\n",
    "eng_nlp_md = spacy.load(\"en_core_web_md\")"
   ],
   "metadata": {
    "collapsed": false,
    "ExecuteTime": {
     "end_time": "2023-09-14T08:10:48.955447Z",
     "start_time": "2023-09-14T08:10:47.129383Z"
    }
   },
   "id": "257a87cfaf7045aa"
  },
  {
   "cell_type": "code",
   "execution_count": 57,
   "outputs": [],
   "source": [
    "from textblob import TextBlob\n",
    "from textblob.taggers import PatternTagger\n",
    "\n",
    "from part_3_eng_pos_tags.scripts.utils import penntreebank2universal\n",
    "\n",
    "\n",
    "def ground_truth_tagger(doc):\n",
    "    for token in doc:\n",
    "        yield token.i, token.i + 1, token.pos_\n",
    "\n",
    "\n",
    "def nltk_tagger(doc):\n",
    "    for token in doc:\n",
    "        if not token.is_punct:\n",
    "            # Tag token with nltk\n",
    "            nltk_pos = nltk.pos_tag([token.text], tagset='universal')[0][1]\n",
    "            yield token.i, token.i + 1, nltk_pos\n",
    "\n",
    "def nltk_tagger_2(doc):\n",
    "    for token in doc:\n",
    "        if not token.is_punct:\n",
    "            # Tag token with nltk\n",
    "            nltk_pos = nltk.pos_tag([token.text])[0][1]\n",
    "            # Map nltk pos tags to ours\n",
    "            if nltk_pos == \"DT\":\n",
    "                yield token.i, token.i+1, \"DET\"\n",
    "            elif nltk_pos == \"CD\":\n",
    "                yield token.i, token.i+1, \"NUM\"\n",
    "            elif nltk_pos == \"NNP\" or nltk_pos == \"NNPS\":\n",
    "                yield token.i, token.i+1,\"PROPN\"\n",
    "            elif nltk_pos == \"JJ\" or nltk_pos == \"JJR\" or nltk_pos == \"JJS\":\n",
    "                yield token.i, token.i+1, \"ADJ\"\n",
    "            elif nltk_pos == \"NN\" or nltk_pos == \"NNS\":\n",
    "                yield token.i, token.i+1, \"NOUN\"\n",
    "            elif nltk_pos == \"VB\" or nltk_pos == \"VBD\" or nltk_pos == \"VBG\" or nltk_pos == \"VBN\" or nltk_pos == \"VBP\" or nltk_pos == \"VBZ\":\n",
    "                yield token.i, token.i+1, \"VERB\"\n",
    "\n",
    "\n",
    "def textblob_tagger(doc):\n",
    "    for token in doc:\n",
    "        if not token.is_punct:\n",
    "            textblob_pos = TextBlob(token.text, pos_tagger=PatternTagger()).tags\n",
    "            if len(textblob_pos) > 0:\n",
    "                yield token.i, token.i + 1, penntreebank2universal(textblob_pos[0][1])\n",
    "\n",
    "\n",
    "def eng_spacy_tagger_sm(doc):\n",
    "    other_doc = eng_nlp_sm(doc.text)\n",
    "    i = 0\n",
    "    for token in doc:\n",
    "        labelled = False\n",
    "        for other_token in other_doc:\n",
    "            if other_doc[other_token.i:].text not in doc[token.i:].text:\n",
    "                continue\n",
    "            if token.text in other_token.text and not labelled:\n",
    "                labelled = True\n",
    "                yield token.i, token.i + 1, other_token.pos_.split(\"-\")[-1]\n",
    "\n",
    "\n",
    "def eng_spacy_tagger_md(doc):\n",
    "    other_doc = eng_nlp_md(doc.text)\n",
    "\n",
    "    for token in doc:\n",
    "        labelled = False\n",
    "        for other_token in other_doc:\n",
    "            if other_doc[other_token.i:].text not in doc[token.i:].text:\n",
    "                continue\n",
    "            if token.text in other_token.text and not labelled:\n",
    "                labelled = True\n",
    "                yield token.i, token.i + 1, other_token.pos_.split(\"-\")[-1]\n",
    "\n",
    "\n",
    "ground_truth_lf = skweak.heuristics.FunctionAnnotator(\"v\", ground_truth_tagger)\n",
    "\n",
    "nltk_lf = skweak.heuristics.FunctionAnnotator(\"nltk\", nltk_tagger)\n",
    "nltk_lf_2 = skweak.heuristics.FunctionAnnotator(\"nltk_tags\", nltk_tagger)\n",
    "\n",
    "textblob_lf = skweak.heuristics.FunctionAnnotator(\"textblob\", textblob_tagger)\n",
    "eng_spacy_sm_lf = skweak.heuristics.FunctionAnnotator(\"eng_spacy_sm\", eng_spacy_tagger_sm)\n",
    "eng_spacy_md_lf = skweak.heuristics.FunctionAnnotator(\"eng_spacy_md\", eng_spacy_tagger_md)\n"
   ],
   "metadata": {
    "collapsed": false,
    "ExecuteTime": {
     "end_time": "2023-09-15T12:03:18.244800Z",
     "start_time": "2023-09-15T12:03:18.178637Z"
    }
   },
   "id": "507d07962ce9132e"
  },
  {
   "cell_type": "code",
   "execution_count": null,
   "outputs": [
    {
     "name": "stdout",
     "output_type": "stream",
     "text": [
      "Starting iteration 1\n",
      "Finished E-step with 200 documents\n"
     ]
    },
    {
     "name": "stderr",
     "output_type": "stream",
     "text": [
      "         1       -8401.0903             +nan\n"
     ]
    },
    {
     "name": "stdout",
     "output_type": "stream",
     "text": [
      "Starting iteration 2\n",
      "Finished E-step with 200 documents\n",
      "Starting iteration 3\n"
     ]
    },
    {
     "name": "stderr",
     "output_type": "stream",
     "text": [
      "         2       -8259.8945        +141.1958\n"
     ]
    },
    {
     "name": "stdout",
     "output_type": "stream",
     "text": [
      "Finished E-step with 200 documents\n",
      "Starting iteration 4\n"
     ]
    },
    {
     "name": "stderr",
     "output_type": "stream",
     "text": [
      "         3       -8248.2718         +11.6227\n"
     ]
    },
    {
     "name": "stdout",
     "output_type": "stream",
     "text": [
      "Finished E-step with 200 documents\n",
      "Starting iteration 5\n"
     ]
    },
    {
     "name": "stderr",
     "output_type": "stream",
     "text": [
      "         4       -8245.6861          +2.5858\n"
     ]
    },
    {
     "name": "stdout",
     "output_type": "stream",
     "text": [
      "Finished E-step with 200 documents\n"
     ]
    },
    {
     "name": "stderr",
     "output_type": "stream",
     "text": [
      "         5       -8245.1158          +0.5703\n"
     ]
    }
   ],
   "source": [
    "from part_3_eng_pos_tags.scripts.utils import load_data_split, tag_all\n",
    "\n",
    "\n",
    "lfs = [nltk_lf, eng_spacy_sm_lf, eng_spacy_md_lf, textblob_lf]\n",
    "\n",
    "# load training and test data\n",
    "all_labels = [\"DET\", \"NUM\", \"ADJ\", \"NOUN\"]\n",
    "train_docs = load_data_split(\"train\", all_labels, 200)\n",
    "test_docs = load_data_split(\"dev\", all_labels, 150)\n",
    "\n",
    "# tag the training documents\n",
    "train_docs = tag_all(train_docs, lfs)\n",
    "\n",
    "# train the HMM\n",
    "mv = skweak.aggregation.MajorityVoter(\"mv\", all_labels)\n",
    "hmm = skweak.aggregation.HMM(\"hmm\", all_labels)\n",
    "hmm.fit(train_docs)\n",
    "\n",
    "# tag the test documents\n",
    "# it's important to set Majority vote before HMM, otherwise Majority Vote takes the HMM predictions into account\n",
    "test_docs = tag_all(test_docs, lfs + [mv, hmm])\n"
   ],
   "metadata": {
    "collapsed": false,
    "is_executing": true,
    "ExecuteTime": {
     "start_time": "2023-09-15T12:03:25.439822Z"
    }
   },
   "id": "7b0ec18fe8aaaa40"
  },
  {
   "cell_type": "code",
   "execution_count": null,
   "outputs": [],
   "source": [
    "print(test_docs[0].ents, test_docs[0].text)\n",
    "for tok in test_docs[0]:\n",
    "    print(tok.text, tok.pos_, tok.ent_type_)"
   ],
   "metadata": {
    "collapsed": false,
    "is_executing": true
   },
   "id": "92f9c43ee5e26794"
  },
  {
   "cell_type": "code",
   "execution_count": 52,
   "outputs": [
    {
     "data": {
      "text/plain": "                                  tok_precision  tok_recall  tok_f1 tok_cee  \\\nlabel    proportion model                                                     \nDET      22.4 %     eng_spacy_md          0.992       0.956   0.974           \n                    eng_spacy_sm          0.991       0.956   0.974           \n                    hmm                   0.915       0.992   0.952           \n                    mv                    0.885       0.995   0.936           \n                    nltk                  0.913       0.982   0.946           \n                    textblob              0.884       0.982   0.930           \nNOUN     48.2 %     eng_spacy_md          0.931       0.895   0.912           \n                    eng_spacy_sm          0.922       0.889   0.906           \n                    hmm                   0.905       0.908   0.906           \n                    mv                    0.612       0.934   0.740           \n                    nltk                  0.491       0.969   0.652           \n                    textblob              0.570       0.940   0.710           \nNUM      4.9 %      eng_spacy_md          0.961       0.884   0.920           \n                    eng_spacy_sm          0.952       0.887   0.918           \n                    hmm                   0.952       0.949   0.950           \n                    mv                    0.946       0.988   0.966           \n                    nltk                  0.930       0.946   0.938           \n                    textblob              0.964       0.952   0.958           \nPROPN    24.4 %     eng_spacy_md          0.810       0.920   0.862           \n                    eng_spacy_sm          0.811       0.914   0.860           \n                    hmm                   0.822       0.900   0.860           \n                    mv                    0.836       0.892   0.864           \n                    nltk                  0.000       0.000   0.000           \n                    textblob              0.000       0.000   0.000           \nmacro               eng_spacy_md          0.924       0.914   0.918           \n                    eng_spacy_sm          0.919       0.912   0.916           \n                    hmm                   0.899       0.937   0.918           \n                    mv                    0.820       0.952   0.882           \n                    nltk                  0.584       0.724   0.646           \n                    textblob              0.604       0.718   0.656           \nmicro               eng_spacy_md          0.912       0.914   0.912  11.668   \n                    eng_spacy_sm          0.908       0.910   0.908  11.668   \n                    hmm                   0.888       0.927   0.908   0.347   \n                    mv                    0.723       0.940   0.818   0.289   \n                    nltk                  0.590       0.734   0.654  11.668   \n                    textblob              0.659       0.720   0.688  11.668   \nweighted            eng_spacy_md          0.917       0.914   0.916           \n                    eng_spacy_sm          0.912       0.910   0.910           \n                    hmm                   0.889       0.927   0.908           \n                    mv                    0.744       0.940   0.830           \n                    nltk                  0.487       0.734   0.586           \n                    textblob              0.520       0.720   0.604           \n\n                                 tok_acc coverage  ent_precision  ent_recall  \\\nlabel    proportion model                                                      \nDET      22.4 %     eng_spacy_md                           0.992       0.956   \n                    eng_spacy_sm                           0.991       0.956   \n                    hmm                                    0.915       0.992   \n                    mv                                     0.885       0.995   \n                    nltk                                   0.913       0.982   \n                    textblob                               0.884       0.982   \nNOUN     48.2 %     eng_spacy_md                           0.931       0.895   \n                    eng_spacy_sm                           0.922       0.889   \n                    hmm                                    0.905       0.908   \n                    mv                                     0.612       0.934   \n                    nltk                                   0.491       0.969   \n                    textblob                               0.570       0.940   \nNUM      4.9 %      eng_spacy_md                           0.961       0.884   \n                    eng_spacy_sm                           0.952       0.887   \n                    hmm                                    0.952       0.949   \n                    mv                                     0.946       0.988   \n                    nltk                                   0.930       0.946   \n                    textblob                               0.964       0.952   \nPROPN    24.4 %     eng_spacy_md                           0.810       0.920   \n                    eng_spacy_sm                           0.811       0.914   \n                    hmm                                    0.822       0.900   \n                    mv                                     0.836       0.892   \n                    nltk                                   0.000       0.000   \n                    textblob                               0.000       0.000   \nmacro               eng_spacy_md                           0.924       0.914   \n                    eng_spacy_sm                           0.919       0.912   \n                    hmm                                    0.899       0.937   \n                    mv                                     0.820       0.952   \n                    nltk                                   0.584       0.724   \n                    textblob                               0.604       0.718   \nmicro               eng_spacy_md   0.662    1.002          0.912       0.914   \n                    eng_spacy_sm   0.662    1.002          0.908       0.910   \n                    hmm            0.953    1.043          0.888       0.927   \n                    mv             0.875      1.3          0.723       0.940   \n                    nltk           0.662    1.244          0.590       0.734   \n                    textblob       0.662    1.092          0.659       0.720   \nweighted            eng_spacy_md                           0.917       0.914   \n                    eng_spacy_sm                           0.912       0.910   \n                    hmm                                    0.889       0.927   \n                    mv                                     0.744       0.940   \n                    nltk                                   0.487       0.734   \n                    textblob                               0.520       0.720   \n\n                                  ent_f1  \nlabel    proportion model                 \nDET      22.4 %     eng_spacy_md   0.974  \n                    eng_spacy_sm   0.974  \n                    hmm            0.952  \n                    mv             0.936  \n                    nltk           0.946  \n                    textblob       0.930  \nNOUN     48.2 %     eng_spacy_md   0.912  \n                    eng_spacy_sm   0.906  \n                    hmm            0.906  \n                    mv             0.740  \n                    nltk           0.652  \n                    textblob       0.710  \nNUM      4.9 %      eng_spacy_md   0.920  \n                    eng_spacy_sm   0.918  \n                    hmm            0.950  \n                    mv             0.966  \n                    nltk           0.938  \n                    textblob       0.958  \nPROPN    24.4 %     eng_spacy_md   0.862  \n                    eng_spacy_sm   0.860  \n                    hmm            0.860  \n                    mv             0.864  \n                    nltk           0.000  \n                    textblob       0.000  \nmacro               eng_spacy_md   0.918  \n                    eng_spacy_sm   0.916  \n                    hmm            0.918  \n                    mv             0.882  \n                    nltk           0.646  \n                    textblob       0.656  \nmicro               eng_spacy_md   0.912  \n                    eng_spacy_sm   0.908  \n                    hmm            0.908  \n                    mv             0.818  \n                    nltk           0.654  \n                    textblob       0.688  \nweighted            eng_spacy_md   0.916  \n                    eng_spacy_sm   0.910  \n                    hmm            0.908  \n                    mv             0.830  \n                    nltk           0.586  \n                    textblob       0.604  ",
      "text/html": "<div>\n<style scoped>\n    .dataframe tbody tr th:only-of-type {\n        vertical-align: middle;\n    }\n\n    .dataframe tbody tr th {\n        vertical-align: top;\n    }\n\n    .dataframe thead th {\n        text-align: right;\n    }\n</style>\n<table border=\"1\" class=\"dataframe\">\n  <thead>\n    <tr style=\"text-align: right;\">\n      <th></th>\n      <th></th>\n      <th></th>\n      <th>tok_precision</th>\n      <th>tok_recall</th>\n      <th>tok_f1</th>\n      <th>tok_cee</th>\n      <th>tok_acc</th>\n      <th>coverage</th>\n      <th>ent_precision</th>\n      <th>ent_recall</th>\n      <th>ent_f1</th>\n    </tr>\n    <tr>\n      <th>label</th>\n      <th>proportion</th>\n      <th>model</th>\n      <th></th>\n      <th></th>\n      <th></th>\n      <th></th>\n      <th></th>\n      <th></th>\n      <th></th>\n      <th></th>\n      <th></th>\n    </tr>\n  </thead>\n  <tbody>\n    <tr>\n      <th rowspan=\"6\" valign=\"top\">DET</th>\n      <th rowspan=\"6\" valign=\"top\">22.4 %</th>\n      <th>eng_spacy_md</th>\n      <td>0.992</td>\n      <td>0.956</td>\n      <td>0.974</td>\n      <td></td>\n      <td></td>\n      <td></td>\n      <td>0.992</td>\n      <td>0.956</td>\n      <td>0.974</td>\n    </tr>\n    <tr>\n      <th>eng_spacy_sm</th>\n      <td>0.991</td>\n      <td>0.956</td>\n      <td>0.974</td>\n      <td></td>\n      <td></td>\n      <td></td>\n      <td>0.991</td>\n      <td>0.956</td>\n      <td>0.974</td>\n    </tr>\n    <tr>\n      <th>hmm</th>\n      <td>0.915</td>\n      <td>0.992</td>\n      <td>0.952</td>\n      <td></td>\n      <td></td>\n      <td></td>\n      <td>0.915</td>\n      <td>0.992</td>\n      <td>0.952</td>\n    </tr>\n    <tr>\n      <th>mv</th>\n      <td>0.885</td>\n      <td>0.995</td>\n      <td>0.936</td>\n      <td></td>\n      <td></td>\n      <td></td>\n      <td>0.885</td>\n      <td>0.995</td>\n      <td>0.936</td>\n    </tr>\n    <tr>\n      <th>nltk</th>\n      <td>0.913</td>\n      <td>0.982</td>\n      <td>0.946</td>\n      <td></td>\n      <td></td>\n      <td></td>\n      <td>0.913</td>\n      <td>0.982</td>\n      <td>0.946</td>\n    </tr>\n    <tr>\n      <th>textblob</th>\n      <td>0.884</td>\n      <td>0.982</td>\n      <td>0.930</td>\n      <td></td>\n      <td></td>\n      <td></td>\n      <td>0.884</td>\n      <td>0.982</td>\n      <td>0.930</td>\n    </tr>\n    <tr>\n      <th rowspan=\"6\" valign=\"top\">NOUN</th>\n      <th rowspan=\"6\" valign=\"top\">48.2 %</th>\n      <th>eng_spacy_md</th>\n      <td>0.931</td>\n      <td>0.895</td>\n      <td>0.912</td>\n      <td></td>\n      <td></td>\n      <td></td>\n      <td>0.931</td>\n      <td>0.895</td>\n      <td>0.912</td>\n    </tr>\n    <tr>\n      <th>eng_spacy_sm</th>\n      <td>0.922</td>\n      <td>0.889</td>\n      <td>0.906</td>\n      <td></td>\n      <td></td>\n      <td></td>\n      <td>0.922</td>\n      <td>0.889</td>\n      <td>0.906</td>\n    </tr>\n    <tr>\n      <th>hmm</th>\n      <td>0.905</td>\n      <td>0.908</td>\n      <td>0.906</td>\n      <td></td>\n      <td></td>\n      <td></td>\n      <td>0.905</td>\n      <td>0.908</td>\n      <td>0.906</td>\n    </tr>\n    <tr>\n      <th>mv</th>\n      <td>0.612</td>\n      <td>0.934</td>\n      <td>0.740</td>\n      <td></td>\n      <td></td>\n      <td></td>\n      <td>0.612</td>\n      <td>0.934</td>\n      <td>0.740</td>\n    </tr>\n    <tr>\n      <th>nltk</th>\n      <td>0.491</td>\n      <td>0.969</td>\n      <td>0.652</td>\n      <td></td>\n      <td></td>\n      <td></td>\n      <td>0.491</td>\n      <td>0.969</td>\n      <td>0.652</td>\n    </tr>\n    <tr>\n      <th>textblob</th>\n      <td>0.570</td>\n      <td>0.940</td>\n      <td>0.710</td>\n      <td></td>\n      <td></td>\n      <td></td>\n      <td>0.570</td>\n      <td>0.940</td>\n      <td>0.710</td>\n    </tr>\n    <tr>\n      <th rowspan=\"6\" valign=\"top\">NUM</th>\n      <th rowspan=\"6\" valign=\"top\">4.9 %</th>\n      <th>eng_spacy_md</th>\n      <td>0.961</td>\n      <td>0.884</td>\n      <td>0.920</td>\n      <td></td>\n      <td></td>\n      <td></td>\n      <td>0.961</td>\n      <td>0.884</td>\n      <td>0.920</td>\n    </tr>\n    <tr>\n      <th>eng_spacy_sm</th>\n      <td>0.952</td>\n      <td>0.887</td>\n      <td>0.918</td>\n      <td></td>\n      <td></td>\n      <td></td>\n      <td>0.952</td>\n      <td>0.887</td>\n      <td>0.918</td>\n    </tr>\n    <tr>\n      <th>hmm</th>\n      <td>0.952</td>\n      <td>0.949</td>\n      <td>0.950</td>\n      <td></td>\n      <td></td>\n      <td></td>\n      <td>0.952</td>\n      <td>0.949</td>\n      <td>0.950</td>\n    </tr>\n    <tr>\n      <th>mv</th>\n      <td>0.946</td>\n      <td>0.988</td>\n      <td>0.966</td>\n      <td></td>\n      <td></td>\n      <td></td>\n      <td>0.946</td>\n      <td>0.988</td>\n      <td>0.966</td>\n    </tr>\n    <tr>\n      <th>nltk</th>\n      <td>0.930</td>\n      <td>0.946</td>\n      <td>0.938</td>\n      <td></td>\n      <td></td>\n      <td></td>\n      <td>0.930</td>\n      <td>0.946</td>\n      <td>0.938</td>\n    </tr>\n    <tr>\n      <th>textblob</th>\n      <td>0.964</td>\n      <td>0.952</td>\n      <td>0.958</td>\n      <td></td>\n      <td></td>\n      <td></td>\n      <td>0.964</td>\n      <td>0.952</td>\n      <td>0.958</td>\n    </tr>\n    <tr>\n      <th rowspan=\"6\" valign=\"top\">PROPN</th>\n      <th rowspan=\"6\" valign=\"top\">24.4 %</th>\n      <th>eng_spacy_md</th>\n      <td>0.810</td>\n      <td>0.920</td>\n      <td>0.862</td>\n      <td></td>\n      <td></td>\n      <td></td>\n      <td>0.810</td>\n      <td>0.920</td>\n      <td>0.862</td>\n    </tr>\n    <tr>\n      <th>eng_spacy_sm</th>\n      <td>0.811</td>\n      <td>0.914</td>\n      <td>0.860</td>\n      <td></td>\n      <td></td>\n      <td></td>\n      <td>0.811</td>\n      <td>0.914</td>\n      <td>0.860</td>\n    </tr>\n    <tr>\n      <th>hmm</th>\n      <td>0.822</td>\n      <td>0.900</td>\n      <td>0.860</td>\n      <td></td>\n      <td></td>\n      <td></td>\n      <td>0.822</td>\n      <td>0.900</td>\n      <td>0.860</td>\n    </tr>\n    <tr>\n      <th>mv</th>\n      <td>0.836</td>\n      <td>0.892</td>\n      <td>0.864</td>\n      <td></td>\n      <td></td>\n      <td></td>\n      <td>0.836</td>\n      <td>0.892</td>\n      <td>0.864</td>\n    </tr>\n    <tr>\n      <th>nltk</th>\n      <td>0.000</td>\n      <td>0.000</td>\n      <td>0.000</td>\n      <td></td>\n      <td></td>\n      <td></td>\n      <td>0.000</td>\n      <td>0.000</td>\n      <td>0.000</td>\n    </tr>\n    <tr>\n      <th>textblob</th>\n      <td>0.000</td>\n      <td>0.000</td>\n      <td>0.000</td>\n      <td></td>\n      <td></td>\n      <td></td>\n      <td>0.000</td>\n      <td>0.000</td>\n      <td>0.000</td>\n    </tr>\n    <tr>\n      <th rowspan=\"6\" valign=\"top\">macro</th>\n      <th rowspan=\"6\" valign=\"top\"></th>\n      <th>eng_spacy_md</th>\n      <td>0.924</td>\n      <td>0.914</td>\n      <td>0.918</td>\n      <td></td>\n      <td></td>\n      <td></td>\n      <td>0.924</td>\n      <td>0.914</td>\n      <td>0.918</td>\n    </tr>\n    <tr>\n      <th>eng_spacy_sm</th>\n      <td>0.919</td>\n      <td>0.912</td>\n      <td>0.916</td>\n      <td></td>\n      <td></td>\n      <td></td>\n      <td>0.919</td>\n      <td>0.912</td>\n      <td>0.916</td>\n    </tr>\n    <tr>\n      <th>hmm</th>\n      <td>0.899</td>\n      <td>0.937</td>\n      <td>0.918</td>\n      <td></td>\n      <td></td>\n      <td></td>\n      <td>0.899</td>\n      <td>0.937</td>\n      <td>0.918</td>\n    </tr>\n    <tr>\n      <th>mv</th>\n      <td>0.820</td>\n      <td>0.952</td>\n      <td>0.882</td>\n      <td></td>\n      <td></td>\n      <td></td>\n      <td>0.820</td>\n      <td>0.952</td>\n      <td>0.882</td>\n    </tr>\n    <tr>\n      <th>nltk</th>\n      <td>0.584</td>\n      <td>0.724</td>\n      <td>0.646</td>\n      <td></td>\n      <td></td>\n      <td></td>\n      <td>0.584</td>\n      <td>0.724</td>\n      <td>0.646</td>\n    </tr>\n    <tr>\n      <th>textblob</th>\n      <td>0.604</td>\n      <td>0.718</td>\n      <td>0.656</td>\n      <td></td>\n      <td></td>\n      <td></td>\n      <td>0.604</td>\n      <td>0.718</td>\n      <td>0.656</td>\n    </tr>\n    <tr>\n      <th rowspan=\"6\" valign=\"top\">micro</th>\n      <th rowspan=\"6\" valign=\"top\"></th>\n      <th>eng_spacy_md</th>\n      <td>0.912</td>\n      <td>0.914</td>\n      <td>0.912</td>\n      <td>11.668</td>\n      <td>0.662</td>\n      <td>1.002</td>\n      <td>0.912</td>\n      <td>0.914</td>\n      <td>0.912</td>\n    </tr>\n    <tr>\n      <th>eng_spacy_sm</th>\n      <td>0.908</td>\n      <td>0.910</td>\n      <td>0.908</td>\n      <td>11.668</td>\n      <td>0.662</td>\n      <td>1.002</td>\n      <td>0.908</td>\n      <td>0.910</td>\n      <td>0.908</td>\n    </tr>\n    <tr>\n      <th>hmm</th>\n      <td>0.888</td>\n      <td>0.927</td>\n      <td>0.908</td>\n      <td>0.347</td>\n      <td>0.953</td>\n      <td>1.043</td>\n      <td>0.888</td>\n      <td>0.927</td>\n      <td>0.908</td>\n    </tr>\n    <tr>\n      <th>mv</th>\n      <td>0.723</td>\n      <td>0.940</td>\n      <td>0.818</td>\n      <td>0.289</td>\n      <td>0.875</td>\n      <td>1.3</td>\n      <td>0.723</td>\n      <td>0.940</td>\n      <td>0.818</td>\n    </tr>\n    <tr>\n      <th>nltk</th>\n      <td>0.590</td>\n      <td>0.734</td>\n      <td>0.654</td>\n      <td>11.668</td>\n      <td>0.662</td>\n      <td>1.244</td>\n      <td>0.590</td>\n      <td>0.734</td>\n      <td>0.654</td>\n    </tr>\n    <tr>\n      <th>textblob</th>\n      <td>0.659</td>\n      <td>0.720</td>\n      <td>0.688</td>\n      <td>11.668</td>\n      <td>0.662</td>\n      <td>1.092</td>\n      <td>0.659</td>\n      <td>0.720</td>\n      <td>0.688</td>\n    </tr>\n    <tr>\n      <th rowspan=\"6\" valign=\"top\">weighted</th>\n      <th rowspan=\"6\" valign=\"top\"></th>\n      <th>eng_spacy_md</th>\n      <td>0.917</td>\n      <td>0.914</td>\n      <td>0.916</td>\n      <td></td>\n      <td></td>\n      <td></td>\n      <td>0.917</td>\n      <td>0.914</td>\n      <td>0.916</td>\n    </tr>\n    <tr>\n      <th>eng_spacy_sm</th>\n      <td>0.912</td>\n      <td>0.910</td>\n      <td>0.910</td>\n      <td></td>\n      <td></td>\n      <td></td>\n      <td>0.912</td>\n      <td>0.910</td>\n      <td>0.910</td>\n    </tr>\n    <tr>\n      <th>hmm</th>\n      <td>0.889</td>\n      <td>0.927</td>\n      <td>0.908</td>\n      <td></td>\n      <td></td>\n      <td></td>\n      <td>0.889</td>\n      <td>0.927</td>\n      <td>0.908</td>\n    </tr>\n    <tr>\n      <th>mv</th>\n      <td>0.744</td>\n      <td>0.940</td>\n      <td>0.830</td>\n      <td></td>\n      <td></td>\n      <td></td>\n      <td>0.744</td>\n      <td>0.940</td>\n      <td>0.830</td>\n    </tr>\n    <tr>\n      <th>nltk</th>\n      <td>0.487</td>\n      <td>0.734</td>\n      <td>0.586</td>\n      <td></td>\n      <td></td>\n      <td></td>\n      <td>0.487</td>\n      <td>0.734</td>\n      <td>0.586</td>\n    </tr>\n    <tr>\n      <th>textblob</th>\n      <td>0.520</td>\n      <td>0.720</td>\n      <td>0.604</td>\n      <td></td>\n      <td></td>\n      <td></td>\n      <td>0.520</td>\n      <td>0.720</td>\n      <td>0.604</td>\n    </tr>\n  </tbody>\n</table>\n</div>"
     },
     "execution_count": 52,
     "metadata": {},
     "output_type": "execute_result"
    }
   ],
   "source": [
    "evaluate(test_docs, all_labels, [\"nltk\", \"eng_spacy_sm\", \"eng_spacy_md\", \"textblob\", \"mv\", \"hmm\"])"
   ],
   "metadata": {
    "collapsed": false,
    "ExecuteTime": {
     "end_time": "2023-09-14T08:42:25.735927Z",
     "start_time": "2023-09-14T08:42:19.799142Z"
    }
   },
   "id": "bd9cc2af3f299780"
  },
  {
   "cell_type": "code",
   "execution_count": 53,
   "outputs": [
    {
     "name": "stdout",
     "output_type": "stream",
     "text": [
      "test\n"
     ]
    }
   ],
   "source": [
    "print(\"test\")"
   ],
   "metadata": {
    "collapsed": false,
    "ExecuteTime": {
     "end_time": "2023-09-14T08:42:25.827658Z",
     "start_time": "2023-09-14T08:42:25.734562Z"
    }
   },
   "id": "6cadee0b9e3c97fa"
  },
  {
   "cell_type": "code",
   "execution_count": 309,
   "outputs": [
    {
     "name": "stdout",
     "output_type": "stream",
     "text": [
      "Write to ./tmp/train.spacy...done\n",
      "Write to ./tmp/dev.spacy...done\n"
     ]
    }
   ],
   "source": [
    "from skweak.utils import docbin_writer\n",
    "\n",
    "for doc in train_docs:\n",
    "    doc.set_ents(doc.spans.get(\"nltk\", []))\n",
    "\n",
    "test_docs = load_data_split(\"dev\", all_labels, 1500)\n",
    "\n",
    "# Save the training and development data.\n",
    "os.makedirs(\"tmp\", exist_ok=True)\n",
    "docbin_writer(train_docs, \"./tmp/train.spacy\")\n",
    "docbin_writer(test_docs, \"./tmp/dev.spacy\")"
   ],
   "metadata": {
    "collapsed": false,
    "ExecuteTime": {
     "start_time": "2023-09-13T23:21:04.416146Z"
    }
   },
   "id": "334037ac4bfff852"
  },
  {
   "cell_type": "code",
   "execution_count": 219,
   "outputs": [
    {
     "name": "stdout",
     "output_type": "stream",
     "text": [
      "From ADP \n",
      "the DET DET\n",
      "AP PROPN PROPN\n",
      "comes VERB \n",
      "this DET DET\n",
      "story NOUN NOUN\n",
      ": PUNCT \n",
      "\n",
      "From \n",
      "the \n",
      "AP \n",
      "comes \n",
      "this \n",
      "story \n",
      ": \n"
     ]
    }
   ],
   "source": [
    "for tok in test_docs[0]:\n",
    "    print(tok, tok.pos_, tok.ent_type_)\n",
    "print(\"\")\n",
    "for tok in dev_eval_docs[0]:\n",
    "    print(tok, tok.ent_type_)"
   ],
   "metadata": {
    "collapsed": false,
    "ExecuteTime": {
     "start_time": "2023-09-13T22:54:24.727989Z"
    }
   },
   "id": "76ac7b51d76d7900"
  },
  {
   "cell_type": "code",
   "execution_count": 23,
   "outputs": [],
   "source": [
    "test_docs = load_data_split(\"dev\", all_labels, 1500)\n"
   ],
   "metadata": {
    "collapsed": false,
    "ExecuteTime": {
     "start_time": "2023-09-14T08:12:54.764794Z"
    }
   },
   "id": "9b4b8aec0d4d3737"
  },
  {
   "cell_type": "code",
   "execution_count": 24,
   "outputs": [
    {
     "data": {
      "text/plain": "(the, AP, this, story)"
     },
     "execution_count": 24,
     "metadata": {},
     "output_type": "execute_result"
    }
   ],
   "source": [
    "test_docs[0].ents"
   ],
   "metadata": {
    "collapsed": false,
    "ExecuteTime": {
     "start_time": "2023-09-14T08:12:56.284325Z"
    }
   },
   "id": "a141c3323c6ccb73"
  },
  {
   "cell_type": "code",
   "execution_count": 42,
   "outputs": [
    {
     "name": "stdout",
     "output_type": "stream",
     "text": [
      "0 Bush Bush 0 0\n",
      "0 nominated nominated 1 1\n",
      "0 Jennifer Jennifer 2 2\n",
      "0 M. M. 3 3\n",
      "0 Anderson Anderson 4 4\n",
      "0 for for 5 5\n",
      "0 a a 6 6\n",
      "0 15 15 7 7\n",
      "0 - - 8 8\n",
      "0 year year 9 9\n",
      "0 term term 10 10\n",
      "0 as as 11 11\n",
      "0 associate associate 12 12\n",
      "0 judge judge 13 13\n",
      "0 of of 14 14\n",
      "0 the the 15 15\n",
      "0 Superior Superior 16 16\n",
      "0 Court Court 17 17\n",
      "0 of of 18 18\n",
      "0 the the 19 19\n",
      "0 District District 20 20\n",
      "0 of of 21 21\n",
      "0 Columbia Columbia 22 22\n",
      "0 , , 23 23\n",
      "0 replacing replacing 24 24\n",
      "0 Steffen Steffen 25 25\n",
      "0 W. W. 26 26\n",
      "0 Graae Graae 27 27\n",
      "0 . . 28 28\n"
     ]
    }
   ],
   "source": [
    "d = eng_spacy_sm_lf(test_docs[2])\n",
    "d.set_ents(d.spans.get(\"eng_spacy_sm\", []))"
   ],
   "metadata": {
    "collapsed": false,
    "ExecuteTime": {
     "start_time": "2023-09-14T08:22:17.816215Z"
    }
   },
   "id": "b689f891c653d056"
  },
  {
   "cell_type": "code",
   "execution_count": 43,
   "outputs": [
    {
     "data": {
      "text/plain": "{Bush,\n nominated,\n Jennifer,\n M.,\n Anderson,\n for,\n a,\n 15,\n -,\n year,\n term,\n as,\n associate,\n judge,\n of,\n the,\n Superior,\n Court,\n of,\n the,\n District,\n of,\n Columbia,\n ,,\n replacing,\n Steffen,\n W.,\n Graae,\n .}"
     },
     "execution_count": 43,
     "metadata": {},
     "output_type": "execute_result"
    }
   ],
   "source": [
    "set(d.spans.get(\"eng_spacy_sm\", []))"
   ],
   "metadata": {
    "collapsed": false,
    "ExecuteTime": {
     "start_time": "2023-09-14T08:22:20.137859Z"
    }
   },
   "id": "85f6b5aa39172cd2"
  },
  {
   "cell_type": "code",
   "execution_count": 38,
   "outputs": [
    {
     "name": "stdout",
     "output_type": "stream",
     "text": [
      "Bush 0 1 PROPN\n",
      "nominated 1 2 VERB\n",
      "Jennifer 2 3 PROPN\n",
      "M. 3 4 PROPN\n",
      "Anderson 4 5 PROPN\n",
      "for 5 6 ADP\n",
      "a 6 7 DET\n",
      "a 6 7 NOUN\n",
      "a 6 7 ADP\n",
      "a 6 7 ADJ\n",
      "a 6 7 PROPN\n",
      "a 6 7 VERB\n",
      "a 6 7 PROPN\n",
      "15 7 8 NUM\n",
      "- 8 9 PUNCT\n",
      "year 9 10 NOUN\n",
      "term 10 11 NOUN\n",
      "as 11 12 ADP\n",
      "as 11 12 ADJ\n",
      "associate 12 13 ADJ\n",
      "judge 13 14 NOUN\n",
      "of 14 15 ADP\n",
      "of 14 15 ADP\n",
      "of 14 15 ADP\n",
      "the 15 16 DET\n",
      "the 15 16 DET\n",
      "Superior 16 17 PROPN\n",
      "Court 17 18 PROPN\n",
      "of 18 19 ADP\n",
      "of 18 19 ADP\n",
      "the 19 20 DET\n",
      "District 20 21 PROPN\n",
      "of 21 22 ADP\n",
      "Columbia 22 23 PROPN\n",
      ", 23 24 PUNCT\n",
      "replacing 24 25 VERB\n",
      "Steffen 25 26 PROPN\n",
      "W. 26 27 PROPN\n",
      "Graae 27 28 PROPN\n",
      ". 28 29 PUNCT\n"
     ]
    }
   ],
   "source": [
    "for a in d.spans.get(\"eng_spacy_sm\", []):\n",
    "    print(a.text, a.start, a.end, a.label_)"
   ],
   "metadata": {
    "collapsed": false,
    "ExecuteTime": {
     "start_time": "2023-09-14T08:17:32.650089Z"
    }
   },
   "id": "e2c5f06a751fd003"
  },
  {
   "cell_type": "code",
   "execution_count": 306,
   "outputs": [
    {
     "data": {
      "text/plain": "[Bush, nominated, Jennifer, M., Anderson, for, a, 15, year, term, as, associate, judge, of, the, Superior, Court, of, the, District, of, Columbia, replacing, Steffen, W., Graae]"
     },
     "execution_count": 306,
     "metadata": {},
     "output_type": "execute_result"
    }
   ],
   "source": [
    "d.spans.get(\"nltk\", [])"
   ],
   "metadata": {
    "collapsed": false,
    "ExecuteTime": {
     "start_time": "2023-09-13T23:19:18.780763Z"
    }
   },
   "id": "22bb63e53382bef"
  },
  {
   "cell_type": "code",
   "execution_count": 285,
   "outputs": [
    {
     "data": {
      "text/plain": "'Bush nominated Jennifer M. Anderson for a 15-year term as associate judge of the Superior Court of the District of Columbia, replacing Steffen W. Graae. '"
     },
     "execution_count": 285,
     "metadata": {},
     "output_type": "execute_result"
    }
   ],
   "source": [
    "d.text"
   ],
   "metadata": {
    "collapsed": false,
    "ExecuteTime": {
     "start_time": "2023-09-13T23:11:49.158004Z"
    }
   },
   "id": "9cff72644c458819"
  },
  {
   "cell_type": "markdown",
   "source": [],
   "metadata": {
    "collapsed": false
   },
   "id": "54b53ffadb0bc88b"
  },
  {
   "cell_type": "code",
   "execution_count": 313,
   "outputs": [
    {
     "data": {
      "text/plain": "   ents_p  ents_r  ents_f\n0   0.283   0.734   0.408",
      "text/html": "<div>\n<style scoped>\n    .dataframe tbody tr th:only-of-type {\n        vertical-align: middle;\n    }\n\n    .dataframe tbody tr th {\n        vertical-align: top;\n    }\n\n    .dataframe thead th {\n        text-align: right;\n    }\n</style>\n<table border=\"1\" class=\"dataframe\">\n  <thead>\n    <tr style=\"text-align: right;\">\n      <th></th>\n      <th>ents_p</th>\n      <th>ents_r</th>\n      <th>ents_f</th>\n    </tr>\n  </thead>\n  <tbody>\n    <tr>\n      <th>0</th>\n      <td>0.283</td>\n      <td>0.734</td>\n      <td>0.408</td>\n    </tr>\n  </tbody>\n</table>\n</div>"
     },
     "execution_count": 313,
     "metadata": {},
     "output_type": "execute_result"
    }
   ],
   "source": [
    "from spacy.training import Example\n",
    "from spacy.scorer import Scorer\n",
    "\n",
    "dev_eval_docs = load_data_split(\"dev\", all_labels, 1500)\n",
    "\n",
    "i = 0\n",
    "for doc in dev_eval_docs:\n",
    "    doc = nltk_lf(doc)\n",
    "    doc.set_ents(doc.spans.get(\"nltk\", []))\n",
    "\n",
    "scorer_object = Scorer()\n",
    "scores = scorer_object.score(\n",
    "    [Example(dev_eval_docs[i], test_docs[i]) for i in range(0, len(test_docs))]\n",
    ")\n",
    "\n",
    "pd.DataFrame(\n",
    "    [{k: v for k, v in scores.items() if k in [\"ents_p\", \"ents_r\", \"ents_f\", \"score\"]}]\n",
    ").round(3)"
   ],
   "metadata": {
    "collapsed": false,
    "ExecuteTime": {
     "start_time": "2023-09-13T23:31:07.343971Z"
    }
   },
   "id": "c874b8c6bf759870"
  },
  {
   "cell_type": "code",
   "execution_count": 311,
   "outputs": [
    {
     "name": "stdout",
     "output_type": "stream",
     "text": [
      "\u001B[38;5;4mℹ Saving to output directory: tmp/model\u001B[0m\r\n",
      "\u001B[38;5;4mℹ Using CPU\u001B[0m\r\n",
      "\u001B[1m\r\n",
      "=========================== Initializing pipeline ===========================\u001B[0m\r\n",
      "\u001B[38;5;2m✔ Initialized pipeline\u001B[0m\r\n",
      "\u001B[1m\r\n",
      "============================= Training pipeline =============================\u001B[0m\r\n",
      "\u001B[38;5;4mℹ Pipeline: ['tok2vec', 'ner']\u001B[0m\r\n",
      "\u001B[38;5;4mℹ Initial learn rate: 0.001\u001B[0m\r\n",
      "E    #       LOSS TOK2VEC  LOSS NER  ENTS_F  ENTS_P  ENTS_R  SCORE \r\n",
      "---  ------  ------------  --------  ------  ------  ------  ------\r\n",
      "  0       0          0.00     82.22    9.03    6.64   14.11    0.09\r\n",
      "  0     200         47.03   5068.15   39.32   27.23   70.70    0.39\r\n",
      "  1     400         64.09   1508.40   39.53   27.39   71.03    0.40\r\n",
      "\u001B[38;5;2m✔ Saved pipeline to output directory\u001B[0m\r\n",
      "tmp/model/model-last\r\n"
     ]
    }
   ],
   "source": [
    "!spacy init config - --lang xx --pipeline ner --optimize accuracy | \\\n",
    "    spacy train - \\\n",
    "    --training.max_steps 400 \\\n",
    "    --system.seed 42 \\\n",
    "    --paths.train./tmp/train.spacy \\\n",
    "    --paths.dev./tmp/dev.spacy \\\n",
    "    --output./tmp/model"
   ],
   "metadata": {
    "collapsed": false,
    "ExecuteTime": {
     "start_time": "2023-09-13T23:21:22.952677Z"
    }
   },
   "id": "e141d5b0bd58b765"
  }
 ],
 "metadata": {
  "kernelspec": {
   "display_name": "Python 3 (ipykernel)",
   "language": "python",
   "name": "python3"
  },
  "language_info": {
   "codemirror_mode": {
    "name": "ipython",
    "version": 3
   },
   "file_extension": ".py",
   "mimetype": "text/x-python",
   "name": "python",
   "nbconvert_exporter": "python",
   "pygments_lexer": "ipython3",
   "version": "3.8.17"
  }
 },
 "nbformat": 4,
 "nbformat_minor": 5
}
