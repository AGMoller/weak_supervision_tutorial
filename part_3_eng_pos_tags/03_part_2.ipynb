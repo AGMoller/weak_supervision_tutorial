{
 "cells": [
  {
   "cell_type": "code",
   "execution_count": 1,
   "id": "initial_id",
   "metadata": {
    "ExecuteTime": {
     "end_time": "2023-09-26T14:02:25.516181Z",
     "start_time": "2023-09-26T14:02:23.667120Z"
    }
   },
   "outputs": [],
   "source": [
    "%load_ext autoreload\n",
    "%autoreload 2\n",
    "\n",
    "import nltk\n",
    "import spacy\n",
    "import skweak\n",
    "\n",
    "from textblob import TextBlob\n",
    "from textblob.taggers import PatternTagger\n",
    "\n",
    "from scripts.skweak_ner_eval import evaluate\n",
    "from scripts.utils import penntreebank2universal, load_data_split, tag_all, compute_recall_num_conflicts\n"
   ]
  },
  {
   "cell_type": "code",
   "execution_count": 2,
   "id": "877c6764-fbd0-4de2-9834-d8f7ac23401f",
   "metadata": {
    "ExecuteTime": {
     "end_time": "2023-09-26T14:02:36.330006Z",
     "start_time": "2023-09-26T14:02:25.523481Z"
    },
    "collapsed": false
   },
   "outputs": [
    {
     "name": "stderr",
     "output_type": "stream",
     "text": [
      "[nltk_data] Downloading package averaged_perceptron_tagger to\n",
      "[nltk_data]     /mnt/data/stephana93dm/storage/cache/nltk_data...\n",
      "[nltk_data]   Package averaged_perceptron_tagger is already up-to-\n",
      "[nltk_data]       date!\n",
      "[nltk_data] Downloading package universal_tagset to\n",
      "[nltk_data]     /mnt/data/stephana93dm/storage/cache/nltk_data...\n",
      "[nltk_data]   Package universal_tagset is already up-to-date!\n",
      "[nltk_data] Downloading package stopwords to\n",
      "[nltk_data]     /mnt/data/stephana93dm/storage/cache/nltk_data...\n",
      "[nltk_data]   Package stopwords is already up-to-date!\n"
     ]
    },
    {
     "name": "stdout",
     "output_type": "stream",
     "text": [
      "Collecting en-core-web-sm==3.6.0\r\n",
      "  Downloading https://github.com/explosion/spacy-models/releases/download/en_core_web_sm-3.6.0/en_core_web_sm-3.6.0-py3-none-any.whl (12.8 MB)\r\n",
      "\u001b[2K     \u001b[90m━━━━━━━━━━━━━━━━━━━━━━━━━━━━━━━━━━━━━━━━\u001b[0m \u001b[32m12.8/12.8 MB\u001b[0m \u001b[31m19.8 MB/s\u001b[0m eta \u001b[36m0:00:00\u001b[0m00:01\u001b[0m00:01\u001b[0m\r\n",
      "\u001b[?25hRequirement already satisfied: spacy<3.7.0,>=3.6.0 in /mnt/data/stephana93dm/storage/conda_envs/WS_tutorial/lib/python3.8/site-packages (from en-core-web-sm==3.6.0) (3.6.1)\r\n",
      "Requirement already satisfied: spacy-legacy<3.1.0,>=3.0.11 in /mnt/data/stephana93dm/storage/conda_envs/WS_tutorial/lib/python3.8/site-packages (from spacy<3.7.0,>=3.6.0->en-core-web-sm==3.6.0) (3.0.12)\r\n",
      "Requirement already satisfied: spacy-loggers<2.0.0,>=1.0.0 in /mnt/data/stephana93dm/storage/conda_envs/WS_tutorial/lib/python3.8/site-packages (from spacy<3.7.0,>=3.6.0->en-core-web-sm==3.6.0) (1.0.4)\r\n",
      "Requirement already satisfied: murmurhash<1.1.0,>=0.28.0 in /mnt/data/stephana93dm/storage/conda_envs/WS_tutorial/lib/python3.8/site-packages (from spacy<3.7.0,>=3.6.0->en-core-web-sm==3.6.0) (1.0.9)\r\n",
      "Requirement already satisfied: cymem<2.1.0,>=2.0.2 in /mnt/data/stephana93dm/storage/conda_envs/WS_tutorial/lib/python3.8/site-packages (from spacy<3.7.0,>=3.6.0->en-core-web-sm==3.6.0) (2.0.7)\r\n",
      "Requirement already satisfied: preshed<3.1.0,>=3.0.2 in /mnt/data/stephana93dm/storage/conda_envs/WS_tutorial/lib/python3.8/site-packages (from spacy<3.7.0,>=3.6.0->en-core-web-sm==3.6.0) (3.0.8)\r\n",
      "Requirement already satisfied: thinc<8.2.0,>=8.1.8 in /mnt/data/stephana93dm/storage/conda_envs/WS_tutorial/lib/python3.8/site-packages (from spacy<3.7.0,>=3.6.0->en-core-web-sm==3.6.0) (8.1.11)\r\n",
      "Requirement already satisfied: wasabi<1.2.0,>=0.9.1 in /mnt/data/stephana93dm/storage/conda_envs/WS_tutorial/lib/python3.8/site-packages (from spacy<3.7.0,>=3.6.0->en-core-web-sm==3.6.0) (1.1.2)\r\n",
      "Requirement already satisfied: srsly<3.0.0,>=2.4.3 in /mnt/data/stephana93dm/storage/conda_envs/WS_tutorial/lib/python3.8/site-packages (from spacy<3.7.0,>=3.6.0->en-core-web-sm==3.6.0) (2.4.7)\r\n",
      "Requirement already satisfied: catalogue<2.1.0,>=2.0.6 in /mnt/data/stephana93dm/storage/conda_envs/WS_tutorial/lib/python3.8/site-packages (from spacy<3.7.0,>=3.6.0->en-core-web-sm==3.6.0) (2.0.9)\r\n",
      "Requirement already satisfied: typer<0.10.0,>=0.3.0 in /mnt/data/stephana93dm/storage/conda_envs/WS_tutorial/lib/python3.8/site-packages (from spacy<3.7.0,>=3.6.0->en-core-web-sm==3.6.0) (0.9.0)\r\n",
      "Requirement already satisfied: pathy>=0.10.0 in /mnt/data/stephana93dm/storage/conda_envs/WS_tutorial/lib/python3.8/site-packages (from spacy<3.7.0,>=3.6.0->en-core-web-sm==3.6.0) (0.10.2)\r\n",
      "Requirement already satisfied: smart-open<7.0.0,>=5.2.1 in /mnt/data/stephana93dm/storage/conda_envs/WS_tutorial/lib/python3.8/site-packages (from spacy<3.7.0,>=3.6.0->en-core-web-sm==3.6.0) (6.3.0)\r\n",
      "Requirement already satisfied: tqdm<5.0.0,>=4.38.0 in /mnt/data/stephana93dm/storage/conda_envs/WS_tutorial/lib/python3.8/site-packages (from spacy<3.7.0,>=3.6.0->en-core-web-sm==3.6.0) (4.66.0)\r\n",
      "Requirement already satisfied: numpy>=1.15.0 in /mnt/data/stephana93dm/storage/conda_envs/WS_tutorial/lib/python3.8/site-packages (from spacy<3.7.0,>=3.6.0->en-core-web-sm==3.6.0) (1.19.5)\r\n",
      "Requirement already satisfied: requests<3.0.0,>=2.13.0 in /mnt/data/stephana93dm/storage/conda_envs/WS_tutorial/lib/python3.8/site-packages (from spacy<3.7.0,>=3.6.0->en-core-web-sm==3.6.0) (2.31.0)\r\n",
      "Requirement already satisfied: pydantic!=1.8,!=1.8.1,<3.0.0,>=1.7.4 in /mnt/data/stephana93dm/storage/conda_envs/WS_tutorial/lib/python3.8/site-packages (from spacy<3.7.0,>=3.6.0->en-core-web-sm==3.6.0) (2.1.1)\r\n",
      "Requirement already satisfied: jinja2 in /mnt/data/stephana93dm/storage/conda_envs/WS_tutorial/lib/python3.8/site-packages (from spacy<3.7.0,>=3.6.0->en-core-web-sm==3.6.0) (3.1.2)\r\n",
      "Requirement already satisfied: setuptools in /mnt/data/stephana93dm/storage/conda_envs/WS_tutorial/lib/python3.8/site-packages (from spacy<3.7.0,>=3.6.0->en-core-web-sm==3.6.0) (68.0.0)\r\n",
      "Requirement already satisfied: packaging>=20.0 in /mnt/data/stephana93dm/storage/conda_envs/WS_tutorial/lib/python3.8/site-packages (from spacy<3.7.0,>=3.6.0->en-core-web-sm==3.6.0) (23.1)\r\n",
      "Requirement already satisfied: langcodes<4.0.0,>=3.2.0 in /mnt/data/stephana93dm/storage/conda_envs/WS_tutorial/lib/python3.8/site-packages (from spacy<3.7.0,>=3.6.0->en-core-web-sm==3.6.0) (3.3.0)\r\n",
      "Requirement already satisfied: annotated-types>=0.4.0 in /mnt/data/stephana93dm/storage/conda_envs/WS_tutorial/lib/python3.8/site-packages (from pydantic!=1.8,!=1.8.1,<3.0.0,>=1.7.4->spacy<3.7.0,>=3.6.0->en-core-web-sm==3.6.0) (0.5.0)\r\n",
      "Requirement already satisfied: pydantic-core==2.4.0 in /mnt/data/stephana93dm/storage/conda_envs/WS_tutorial/lib/python3.8/site-packages (from pydantic!=1.8,!=1.8.1,<3.0.0,>=1.7.4->spacy<3.7.0,>=3.6.0->en-core-web-sm==3.6.0) (2.4.0)\r\n",
      "Requirement already satisfied: typing-extensions>=4.6.1 in /mnt/data/stephana93dm/storage/conda_envs/WS_tutorial/lib/python3.8/site-packages (from pydantic!=1.8,!=1.8.1,<3.0.0,>=1.7.4->spacy<3.7.0,>=3.6.0->en-core-web-sm==3.6.0) (4.7.1)\r\n",
      "Requirement already satisfied: charset-normalizer<4,>=2 in /mnt/data/stephana93dm/storage/conda_envs/WS_tutorial/lib/python3.8/site-packages (from requests<3.0.0,>=2.13.0->spacy<3.7.0,>=3.6.0->en-core-web-sm==3.6.0) (3.2.0)\r\n",
      "Requirement already satisfied: idna<4,>=2.5 in /mnt/data/stephana93dm/storage/conda_envs/WS_tutorial/lib/python3.8/site-packages (from requests<3.0.0,>=2.13.0->spacy<3.7.0,>=3.6.0->en-core-web-sm==3.6.0) (3.4)\r\n",
      "Requirement already satisfied: urllib3<3,>=1.21.1 in /mnt/data/stephana93dm/storage/conda_envs/WS_tutorial/lib/python3.8/site-packages (from requests<3.0.0,>=2.13.0->spacy<3.7.0,>=3.6.0->en-core-web-sm==3.6.0) (2.0.4)\r\n",
      "Requirement already satisfied: certifi>=2017.4.17 in /mnt/data/stephana93dm/storage/conda_envs/WS_tutorial/lib/python3.8/site-packages (from requests<3.0.0,>=2.13.0->spacy<3.7.0,>=3.6.0->en-core-web-sm==3.6.0) (2023.7.22)\r\n",
      "Requirement already satisfied: blis<0.8.0,>=0.7.8 in /mnt/data/stephana93dm/storage/conda_envs/WS_tutorial/lib/python3.8/site-packages (from thinc<8.2.0,>=8.1.8->spacy<3.7.0,>=3.6.0->en-core-web-sm==3.6.0) (0.7.10)\r\n",
      "Requirement already satisfied: confection<1.0.0,>=0.0.1 in /mnt/data/stephana93dm/storage/conda_envs/WS_tutorial/lib/python3.8/site-packages (from thinc<8.2.0,>=8.1.8->spacy<3.7.0,>=3.6.0->en-core-web-sm==3.6.0) (0.1.1)\r\n",
      "Requirement already satisfied: click<9.0.0,>=7.1.1 in /mnt/data/stephana93dm/storage/conda_envs/WS_tutorial/lib/python3.8/site-packages (from typer<0.10.0,>=0.3.0->spacy<3.7.0,>=3.6.0->en-core-web-sm==3.6.0) (8.1.6)\r\n",
      "Requirement already satisfied: MarkupSafe>=2.0 in /mnt/data/stephana93dm/storage/conda_envs/WS_tutorial/lib/python3.8/site-packages (from jinja2->spacy<3.7.0,>=3.6.0->en-core-web-sm==3.6.0) (2.1.3)\r\n",
      "\u001b[38;5;2m✔ Download and installation successful\u001b[0m\r\n",
      "You can now load the package via spacy.load('en_core_web_sm')\r\n",
      "Collecting en-core-web-md==3.6.0\r\n",
      "  Downloading https://github.com/explosion/spacy-models/releases/download/en_core_web_md-3.6.0/en_core_web_md-3.6.0-py3-none-any.whl (42.8 MB)\r\n",
      "\u001b[2K     \u001b[90m━━━━━━━━━━━━━━━━━━━━━━━━━━━━━━━━━━━━━━━━\u001b[0m \u001b[32m42.8/42.8 MB\u001b[0m \u001b[31m10.5 MB/s\u001b[0m eta \u001b[36m0:00:00\u001b[0m00:01\u001b[0m00:01\u001b[0m\r\n",
      "\u001b[?25hRequirement already satisfied: spacy<3.7.0,>=3.6.0 in /mnt/data/stephana93dm/storage/conda_envs/WS_tutorial/lib/python3.8/site-packages (from en-core-web-md==3.6.0) (3.6.1)\r\n",
      "Requirement already satisfied: spacy-legacy<3.1.0,>=3.0.11 in /mnt/data/stephana93dm/storage/conda_envs/WS_tutorial/lib/python3.8/site-packages (from spacy<3.7.0,>=3.6.0->en-core-web-md==3.6.0) (3.0.12)\r\n",
      "Requirement already satisfied: spacy-loggers<2.0.0,>=1.0.0 in /mnt/data/stephana93dm/storage/conda_envs/WS_tutorial/lib/python3.8/site-packages (from spacy<3.7.0,>=3.6.0->en-core-web-md==3.6.0) (1.0.4)\r\n",
      "Requirement already satisfied: murmurhash<1.1.0,>=0.28.0 in /mnt/data/stephana93dm/storage/conda_envs/WS_tutorial/lib/python3.8/site-packages (from spacy<3.7.0,>=3.6.0->en-core-web-md==3.6.0) (1.0.9)\r\n",
      "Requirement already satisfied: cymem<2.1.0,>=2.0.2 in /mnt/data/stephana93dm/storage/conda_envs/WS_tutorial/lib/python3.8/site-packages (from spacy<3.7.0,>=3.6.0->en-core-web-md==3.6.0) (2.0.7)\r\n",
      "Requirement already satisfied: preshed<3.1.0,>=3.0.2 in /mnt/data/stephana93dm/storage/conda_envs/WS_tutorial/lib/python3.8/site-packages (from spacy<3.7.0,>=3.6.0->en-core-web-md==3.6.0) (3.0.8)\r\n",
      "Requirement already satisfied: thinc<8.2.0,>=8.1.8 in /mnt/data/stephana93dm/storage/conda_envs/WS_tutorial/lib/python3.8/site-packages (from spacy<3.7.0,>=3.6.0->en-core-web-md==3.6.0) (8.1.11)\r\n",
      "Requirement already satisfied: wasabi<1.2.0,>=0.9.1 in /mnt/data/stephana93dm/storage/conda_envs/WS_tutorial/lib/python3.8/site-packages (from spacy<3.7.0,>=3.6.0->en-core-web-md==3.6.0) (1.1.2)\r\n",
      "Requirement already satisfied: srsly<3.0.0,>=2.4.3 in /mnt/data/stephana93dm/storage/conda_envs/WS_tutorial/lib/python3.8/site-packages (from spacy<3.7.0,>=3.6.0->en-core-web-md==3.6.0) (2.4.7)\r\n",
      "Requirement already satisfied: catalogue<2.1.0,>=2.0.6 in /mnt/data/stephana93dm/storage/conda_envs/WS_tutorial/lib/python3.8/site-packages (from spacy<3.7.0,>=3.6.0->en-core-web-md==3.6.0) (2.0.9)\r\n",
      "Requirement already satisfied: typer<0.10.0,>=0.3.0 in /mnt/data/stephana93dm/storage/conda_envs/WS_tutorial/lib/python3.8/site-packages (from spacy<3.7.0,>=3.6.0->en-core-web-md==3.6.0) (0.9.0)\r\n",
      "Requirement already satisfied: pathy>=0.10.0 in /mnt/data/stephana93dm/storage/conda_envs/WS_tutorial/lib/python3.8/site-packages (from spacy<3.7.0,>=3.6.0->en-core-web-md==3.6.0) (0.10.2)\r\n",
      "Requirement already satisfied: smart-open<7.0.0,>=5.2.1 in /mnt/data/stephana93dm/storage/conda_envs/WS_tutorial/lib/python3.8/site-packages (from spacy<3.7.0,>=3.6.0->en-core-web-md==3.6.0) (6.3.0)\r\n",
      "Requirement already satisfied: tqdm<5.0.0,>=4.38.0 in /mnt/data/stephana93dm/storage/conda_envs/WS_tutorial/lib/python3.8/site-packages (from spacy<3.7.0,>=3.6.0->en-core-web-md==3.6.0) (4.66.0)\r\n",
      "Requirement already satisfied: numpy>=1.15.0 in /mnt/data/stephana93dm/storage/conda_envs/WS_tutorial/lib/python3.8/site-packages (from spacy<3.7.0,>=3.6.0->en-core-web-md==3.6.0) (1.19.5)\r\n",
      "Requirement already satisfied: requests<3.0.0,>=2.13.0 in /mnt/data/stephana93dm/storage/conda_envs/WS_tutorial/lib/python3.8/site-packages (from spacy<3.7.0,>=3.6.0->en-core-web-md==3.6.0) (2.31.0)\r\n",
      "Requirement already satisfied: pydantic!=1.8,!=1.8.1,<3.0.0,>=1.7.4 in /mnt/data/stephana93dm/storage/conda_envs/WS_tutorial/lib/python3.8/site-packages (from spacy<3.7.0,>=3.6.0->en-core-web-md==3.6.0) (2.1.1)\r\n",
      "Requirement already satisfied: jinja2 in /mnt/data/stephana93dm/storage/conda_envs/WS_tutorial/lib/python3.8/site-packages (from spacy<3.7.0,>=3.6.0->en-core-web-md==3.6.0) (3.1.2)\r\n",
      "Requirement already satisfied: setuptools in /mnt/data/stephana93dm/storage/conda_envs/WS_tutorial/lib/python3.8/site-packages (from spacy<3.7.0,>=3.6.0->en-core-web-md==3.6.0) (68.0.0)\r\n",
      "Requirement already satisfied: packaging>=20.0 in /mnt/data/stephana93dm/storage/conda_envs/WS_tutorial/lib/python3.8/site-packages (from spacy<3.7.0,>=3.6.0->en-core-web-md==3.6.0) (23.1)\r\n",
      "Requirement already satisfied: langcodes<4.0.0,>=3.2.0 in /mnt/data/stephana93dm/storage/conda_envs/WS_tutorial/lib/python3.8/site-packages (from spacy<3.7.0,>=3.6.0->en-core-web-md==3.6.0) (3.3.0)\r\n",
      "Requirement already satisfied: annotated-types>=0.4.0 in /mnt/data/stephana93dm/storage/conda_envs/WS_tutorial/lib/python3.8/site-packages (from pydantic!=1.8,!=1.8.1,<3.0.0,>=1.7.4->spacy<3.7.0,>=3.6.0->en-core-web-md==3.6.0) (0.5.0)\r\n",
      "Requirement already satisfied: pydantic-core==2.4.0 in /mnt/data/stephana93dm/storage/conda_envs/WS_tutorial/lib/python3.8/site-packages (from pydantic!=1.8,!=1.8.1,<3.0.0,>=1.7.4->spacy<3.7.0,>=3.6.0->en-core-web-md==3.6.0) (2.4.0)\r\n",
      "Requirement already satisfied: typing-extensions>=4.6.1 in /mnt/data/stephana93dm/storage/conda_envs/WS_tutorial/lib/python3.8/site-packages (from pydantic!=1.8,!=1.8.1,<3.0.0,>=1.7.4->spacy<3.7.0,>=3.6.0->en-core-web-md==3.6.0) (4.7.1)\r\n",
      "Requirement already satisfied: charset-normalizer<4,>=2 in /mnt/data/stephana93dm/storage/conda_envs/WS_tutorial/lib/python3.8/site-packages (from requests<3.0.0,>=2.13.0->spacy<3.7.0,>=3.6.0->en-core-web-md==3.6.0) (3.2.0)\r\n",
      "Requirement already satisfied: idna<4,>=2.5 in /mnt/data/stephana93dm/storage/conda_envs/WS_tutorial/lib/python3.8/site-packages (from requests<3.0.0,>=2.13.0->spacy<3.7.0,>=3.6.0->en-core-web-md==3.6.0) (3.4)\r\n",
      "Requirement already satisfied: urllib3<3,>=1.21.1 in /mnt/data/stephana93dm/storage/conda_envs/WS_tutorial/lib/python3.8/site-packages (from requests<3.0.0,>=2.13.0->spacy<3.7.0,>=3.6.0->en-core-web-md==3.6.0) (2.0.4)\r\n",
      "Requirement already satisfied: certifi>=2017.4.17 in /mnt/data/stephana93dm/storage/conda_envs/WS_tutorial/lib/python3.8/site-packages (from requests<3.0.0,>=2.13.0->spacy<3.7.0,>=3.6.0->en-core-web-md==3.6.0) (2023.7.22)\r\n",
      "Requirement already satisfied: blis<0.8.0,>=0.7.8 in /mnt/data/stephana93dm/storage/conda_envs/WS_tutorial/lib/python3.8/site-packages (from thinc<8.2.0,>=8.1.8->spacy<3.7.0,>=3.6.0->en-core-web-md==3.6.0) (0.7.10)\r\n",
      "Requirement already satisfied: confection<1.0.0,>=0.0.1 in /mnt/data/stephana93dm/storage/conda_envs/WS_tutorial/lib/python3.8/site-packages (from thinc<8.2.0,>=8.1.8->spacy<3.7.0,>=3.6.0->en-core-web-md==3.6.0) (0.1.1)\r\n",
      "Requirement already satisfied: click<9.0.0,>=7.1.1 in /mnt/data/stephana93dm/storage/conda_envs/WS_tutorial/lib/python3.8/site-packages (from typer<0.10.0,>=0.3.0->spacy<3.7.0,>=3.6.0->en-core-web-md==3.6.0) (8.1.6)\r\n",
      "Requirement already satisfied: MarkupSafe>=2.0 in /mnt/data/stephana93dm/storage/conda_envs/WS_tutorial/lib/python3.8/site-packages (from jinja2->spacy<3.7.0,>=3.6.0->en-core-web-md==3.6.0) (2.1.3)\r\n",
      "\u001b[38;5;2m✔ Download and installation successful\u001b[0m\r\n",
      "You can now load the package via spacy.load('en_core_web_md')\r\n",
      "[nltk_data] Downloading package brown to\r\n",
      "[nltk_data]     /mnt/data/stephana93dm/storage/cache/nltk_data...\r\n",
      "[nltk_data]   Package brown is already up-to-date!\r\n",
      "[nltk_data] Downloading package punkt to\r\n",
      "[nltk_data]     /mnt/data/stephana93dm/storage/cache/nltk_data...\r\n",
      "[nltk_data]   Package punkt is already up-to-date!\r\n",
      "[nltk_data] Downloading package wordnet to\r\n",
      "[nltk_data]     /mnt/data/stephana93dm/storage/cache/nltk_data...\r\n",
      "[nltk_data]   Package wordnet is already up-to-date!\r\n",
      "[nltk_data] Downloading package averaged_perceptron_tagger to\r\n",
      "[nltk_data]     /mnt/data/stephana93dm/storage/cache/nltk_data...\r\n",
      "[nltk_data]   Package averaged_perceptron_tagger is already up-to-\r\n",
      "[nltk_data]       date!\r\n",
      "[nltk_data] Downloading package conll2000 to\r\n",
      "[nltk_data]     /mnt/data/stephana93dm/storage/cache/nltk_data...\r\n",
      "[nltk_data]   Package conll2000 is already up-to-date!\r\n",
      "[nltk_data] Downloading package movie_reviews to\r\n",
      "[nltk_data]     /mnt/data/stephana93dm/storage/cache/nltk_data...\r\n",
      "[nltk_data]   Package movie_reviews is already up-to-date!\r\n",
      "Finished.\r\n"
     ]
    }
   ],
   "source": [
    "nltk.download('averaged_perceptron_tagger')\n",
    "nltk.download('universal_tagset')\n",
    "nltk.download('stopwords')\n",
    "!python -m spacy download en_core_web_sm\n",
    "!python -m spacy download en_core_web_md\n",
    "!python -m textblob.download_corpora"
   ]
  },
  {
   "cell_type": "markdown",
   "id": "e1c82819010da668",
   "metadata": {
    "collapsed": false
   },
   "source": [
    "## Using Libraries as Labelling functions"
   ]
  },
  {
   "cell_type": "markdown",
   "id": "77005834bde48ac8",
   "metadata": {
    "collapsed": false
   },
   "source": [
    "\n",
    "In this part, we use popular NLP libraries to create labeling functions. They include Spacy, NLTK, Textblob.\n",
    "We use the Majority Voter and HMM as aggregation functions\n",
    "Optionally, you can train your own model on the data.\n",
    "\n",
    "Learning goals:\n",
    "- Understand how to use external libraries as labeling functions\n",
    "- Understand the Spacy object and how to use it for annotation\n",
    "- Understand the impact of Majority Voter and HMM as aggregation functions, and get a feeling for their performance\n",
    "\n",
    "First, read and understand the two functions below."
   ]
  },
  {
   "cell_type": "code",
   "execution_count": 3,
   "id": "507d07962ce9132e",
   "metadata": {
    "ExecuteTime": {
     "end_time": "2023-09-26T14:02:36.406409Z",
     "start_time": "2023-09-26T14:02:36.339257Z"
    },
    "collapsed": false
   },
   "outputs": [],
   "source": [
    "\n",
    "# Sometimes data formats (here POS tags) differ. We load the data and convert it to the format we need. \n",
    "# Surely, there is some loss of information\n",
    "def nltk_tagger(doc):\n",
    "    for token in doc:\n",
    "        if not token.is_punct:\n",
    "            # Tag token with nltk\n",
    "            nltk_pos = nltk.pos_tag([token.text])[0][1]\n",
    "            # Map nltk pos tags to ours\n",
    "            if nltk_pos == \"DT\":\n",
    "                yield token.i, token.i + 1, \"DET\"\n",
    "            elif nltk_pos == \"CD\":\n",
    "                yield token.i, token.i + 1, \"NUM\"\n",
    "            elif nltk_pos == \"NNP\" or nltk_pos == \"NNPS\":\n",
    "                yield token.i, token.i + 1, \"PROPN\"\n",
    "            elif nltk_pos == \"JJ\" or nltk_pos == \"JJR\" or nltk_pos == \"JJS\":\n",
    "                yield token.i, token.i + 1, \"ADJ\"\n",
    "            elif nltk_pos == \"NN\" or nltk_pos == \"NNS\":\n",
    "                yield token.i, token.i + 1, \"NOUN\"\n",
    "            elif nltk_pos == \"VB\" or nltk_pos == \"VBD\" or nltk_pos == \"VBG\" or nltk_pos == \"VBN\" or nltk_pos == \"VBP\" or nltk_pos == \"VBZ\":\n",
    "                yield token.i, token.i + 1, \"VERB\"\n",
    "\n",
    "\n",
    "# We cn also use the Textblob library to get POS tags\n",
    "# Under the hood, it uses the Pattern library. Once again, a transformation of the tag-labels is needed\n",
    "def textblob_tagger(doc):\n",
    "    for token in doc:\n",
    "        if not token.is_punct:\n",
    "            textblob_pos = TextBlob(token.text, pos_tagger=PatternTagger()).tags\n",
    "            if len(textblob_pos) > 0:\n",
    "                yield token.i, token.i + 1, penntreebank2universal(textblob_pos[0][1])\n"
   ]
  },
  {
   "cell_type": "markdown",
   "id": "4d4348a2397f6a49",
   "metadata": {
    "collapsed": false
   },
   "source": [
    "## Write the Spacy Labeling Functions\n",
    "\n",
    "Use the two english Spacy models \"en_core_web_sm\", \"en_core_web_md\" to create labeling functions.\n",
    "The challenge is that they use different tokens, i.e. the atomic units of a sentence. Our simple tokenization just splits the words by whitespace.\n",
    "Your task it to design an algorithm that maps the tokens of the simple tokenization to the tokens of the Spacy tokenization, and use the token available there to create labeling functions.\n",
    "\n",
    "Hints:\n",
    "1) Access token i by `token=doc[i]` or obtain its poition by `i=token.i`\n",
    "2) Access the Spacy POS token by `pos=token.pos_`"
   ]
  },
  {
   "cell_type": "code",
   "execution_count": 4,
   "id": "5d0cb7b0baabc0dd",
   "metadata": {
    "ExecuteTime": {
     "end_time": "2023-09-26T14:02:38.129460Z",
     "start_time": "2023-09-26T14:02:36.416621Z"
    },
    "collapsed": false
   },
   "outputs": [],
   "source": [
    "eng_nlp_sm = spacy.load(\"en_core_web_sm\")\n",
    "eng_nlp_md = spacy.load(\"en_core_web_md\")\n",
    "\n",
    "#########################################################\n",
    "def eng_spacy_tagger_sm(doc):\n",
    "    other_doc = eng_nlp_sm(doc.text)\n",
    "    i = 0\n",
    "    for token in doc:\n",
    "        labelled = False\n",
    "        for other_token in other_doc:\n",
    "            if other_doc[other_token.i:].text not in doc[token.i:].text:\n",
    "                continue\n",
    "            if token.text in other_token.text and not labelled:\n",
    "                labelled = True\n",
    "                yield token.i, token.i + 1, other_token.pos_.split(\"-\")[-1]\n",
    "\n",
    "\n",
    "def eng_spacy_tagger_md(doc):\n",
    "    other_doc = eng_nlp_md(doc.text)\n",
    "\n",
    "    for token in doc:\n",
    "        labelled = False\n",
    "        for other_token in other_doc:\n",
    "            if other_doc[other_token.i:].text not in doc[token.i:].text:\n",
    "                continue\n",
    "            if token.text in other_token.text and not labelled:\n",
    "                labelled = True\n",
    "                yield token.i, token.i + 1, other_token.pos_.split(\"-\")[-1]\n",
    "\n",
    "#########################################################"
   ]
  },
  {
   "cell_type": "code",
   "execution_count": 5,
   "id": "b3f68796512fc640",
   "metadata": {
    "ExecuteTime": {
     "end_time": "2023-09-26T14:02:38.155977Z",
     "start_time": "2023-09-26T14:02:38.133654Z"
    },
    "collapsed": false
   },
   "outputs": [],
   "source": [
    "\n",
    "nltk_lf = skweak.heuristics.FunctionAnnotator(\"nltk\", nltk_tagger)\n",
    "textblob_lf = skweak.heuristics.FunctionAnnotator(\"textblob\", textblob_tagger)\n",
    "eng_spacy_sm_lf = skweak.heuristics.FunctionAnnotator(\"eng_spacy_sm\", eng_spacy_tagger_sm)\n",
    "eng_spacy_md_lf = skweak.heuristics.FunctionAnnotator(\"eng_spacy_md\", eng_spacy_tagger_md)"
   ]
  },
  {
   "cell_type": "markdown",
   "id": "f5d8b210e20343af",
   "metadata": {
    "collapsed": false
   },
   "source": [
    "### Load Data and apply Labeling functions\n",
    "\n",
    "Before and after applying the labeling functions, and the aggregation functions, we compute the recall and number of conflicts."
   ]
  },
  {
   "cell_type": "code",
   "execution_count": 6,
   "id": "7b0ec18fe8aaaa40",
   "metadata": {
    "ExecuteTime": {
     "end_time": "2023-09-26T14:03:53.449856Z",
     "start_time": "2023-09-26T14:02:38.159989Z"
    },
    "collapsed": false
   },
   "outputs": [],
   "source": [
    "\n",
    "# load training and test data\n",
    "lfs = [nltk_lf, eng_spacy_sm_lf, textblob_lf, eng_spacy_md_lf]\n",
    "all_labels = [\"DET\", \"NUM\", \"PROPN\", \"NOUN\", \"ADJ\"]\n",
    "\n",
    "# small amount of data for the sake of time\n",
    "train_docs = load_data_split(\"train\", all_labels, 3000)\n",
    "test_docs = load_data_split(\"test\", all_labels, 1000)\n",
    "\n",
    "# tag the training documents\n",
    "train_docs = tag_all(train_docs, lfs)\n",
    "\n"
   ]
  },
  {
   "cell_type": "code",
   "execution_count": 7,
   "id": "ce752ace93c8bb8b",
   "metadata": {
    "ExecuteTime": {
     "end_time": "2023-09-26T14:03:56.154814Z",
     "start_time": "2023-09-26T14:03:53.449731Z"
    },
    "collapsed": false
   },
   "outputs": [
    {
     "name": "stdout",
     "output_type": "stream",
     "text": [
      "Train 1.0 0.23076923076923078\n",
      "Train with MV 1.0 0.23076923076923078\n"
     ]
    }
   ],
   "source": [
    "recall, num_conflicts = compute_recall_num_conflicts(train_docs)\n",
    "print(\"Train\", recall, num_conflicts)\n",
    "\n",
    "# Add Majority Vote\n",
    "mv = skweak.aggregation.MajorityVoter(\"mv\", all_labels)\n",
    "train_docs = tag_all(train_docs, [mv])\n",
    "recall, num_conflicts = compute_recall_num_conflicts(train_docs)\n",
    "print(\"Train with MV\", recall, num_conflicts)"
   ]
  },
  {
   "cell_type": "code",
   "execution_count": 8,
   "id": "1f08f3ed08cedf82",
   "metadata": {
    "ExecuteTime": {
     "end_time": "2023-09-26T14:05:26.932645Z",
     "start_time": "2023-09-26T14:03:56.153608Z"
    },
    "collapsed": false
   },
   "outputs": [
    {
     "name": "stdout",
     "output_type": "stream",
     "text": [
      "Starting iteration 1\n",
      "Number of processed documents: 1000\n",
      "Number of processed documents: 2000\n",
      "Finished E-step with 3000 documents\n",
      "Starting iteration 2\n"
     ]
    },
    {
     "name": "stderr",
     "output_type": "stream",
     "text": [
      "         1     -105487.6510             +nan\n"
     ]
    },
    {
     "name": "stdout",
     "output_type": "stream",
     "text": [
      "Number of processed documents: 1000\n",
      "Number of processed documents: 2000\n",
      "Finished E-step with 3000 documents\n",
      "Starting iteration 3\n"
     ]
    },
    {
     "name": "stderr",
     "output_type": "stream",
     "text": [
      "         2     -100521.0518       +4966.5992\n"
     ]
    },
    {
     "name": "stdout",
     "output_type": "stream",
     "text": [
      "Number of processed documents: 1000\n",
      "Number of processed documents: 2000\n",
      "Finished E-step with 3000 documents\n",
      "Starting iteration 4\n"
     ]
    },
    {
     "name": "stderr",
     "output_type": "stream",
     "text": [
      "         3      -99870.4155        +650.6362\n"
     ]
    },
    {
     "name": "stdout",
     "output_type": "stream",
     "text": [
      "Number of processed documents: 1000\n",
      "Number of processed documents: 2000\n",
      "Finished E-step with 3000 documents\n",
      "Starting iteration 5\n"
     ]
    },
    {
     "name": "stderr",
     "output_type": "stream",
     "text": [
      "         4      -99584.3244        +286.0912\n"
     ]
    },
    {
     "name": "stdout",
     "output_type": "stream",
     "text": [
      "Number of processed documents: 1000\n",
      "Number of processed documents: 2000\n",
      "Finished E-step with 3000 documents\n"
     ]
    },
    {
     "name": "stderr",
     "output_type": "stream",
     "text": [
      "         5      -99350.4815        +233.8429\n"
     ]
    }
   ],
   "source": [
    "# train the HMM\n",
    "hmm = skweak.aggregation.HMM(\"hmm\", all_labels)\n",
    "hmm=hmm.fit(train_docs)\n",
    "\n",
    "# tag the test documents\n",
    "# it's important to set Majority vote before HMM, otherwise Majority Vote takes the HMM predictions into account\n",
    "train_docs = tag_all(train_docs, lfs + [mv, hmm])"
   ]
  },
  {
   "cell_type": "code",
   "execution_count": 9,
   "id": "6ddac7cfd7759b9",
   "metadata": {
    "ExecuteTime": {
     "end_time": "2023-09-26T14:05:27.204449Z",
     "start_time": "2023-09-26T14:05:26.936897Z"
    },
    "collapsed": false
   },
   "outputs": [
    {
     "name": "stdout",
     "output_type": "stream",
     "text": [
      "Train 1.0 0.23076923076923078\n"
     ]
    }
   ],
   "source": [
    "recall, num_conflicts = compute_recall_num_conflicts(train_docs)\n",
    "print(\"Train\", recall, num_conflicts)"
   ]
  },
  {
   "cell_type": "markdown",
   "id": "f1dd12ea303ccb36",
   "metadata": {
    "collapsed": false
   },
   "source": [
    "## Evaluation\n",
    "\n",
    "Look at the Precision, Recall and F1-Score of the different aggregation functions. What do you observe?"
   ]
  },
  {
   "cell_type": "code",
   "execution_count": 10,
   "id": "fd4b49144729e84",
   "metadata": {
    "ExecuteTime": {
     "end_time": "2023-09-26T14:05:47.617194Z",
     "start_time": "2023-09-26T14:05:27.205793Z"
    },
    "collapsed": false
   },
   "outputs": [
    {
     "name": "stdout",
     "output_type": "stream",
     "text": [
      "Train 1.0 0.23076923076923078\n"
     ]
    }
   ],
   "source": [
    "# tag the test documents\n",
    "# it's important to set Majority vote before HMM, otherwise Majority Vote takes the HMM predictions into account\n",
    "test_docs = tag_all(test_docs, lfs + [mv, hmm])\n",
    "\n",
    "recall, num_conflicts = compute_recall_num_conflicts(train_docs)\n",
    "print(\"Train\", recall, num_conflicts)"
   ]
  },
  {
   "cell_type": "code",
   "execution_count": 11,
   "id": "bd9cc2af3f299780",
   "metadata": {
    "ExecuteTime": {
     "end_time": "2023-09-26T14:05:48.680847Z",
     "start_time": "2023-09-26T14:05:47.619172Z"
    },
    "collapsed": false
   },
   "outputs": [],
   "source": [
    "df = evaluate(test_docs, all_labels, [ \"mv\", \"hmm\"])"
   ]
  },
  {
   "cell_type": "code",
   "execution_count": 12,
   "id": "348319704d33552a",
   "metadata": {
    "ExecuteTime": {
     "end_time": "2023-09-26T14:05:48.710395Z",
     "start_time": "2023-09-26T14:05:48.683126Z"
    },
    "collapsed": false
   },
   "outputs": [
    {
     "data": {
      "text/html": [
       "<div>\n",
       "<style scoped>\n",
       "    .dataframe tbody tr th:only-of-type {\n",
       "        vertical-align: middle;\n",
       "    }\n",
       "\n",
       "    .dataframe tbody tr th {\n",
       "        vertical-align: top;\n",
       "    }\n",
       "\n",
       "    .dataframe thead th {\n",
       "        text-align: right;\n",
       "    }\n",
       "</style>\n",
       "<table border=\"1\" class=\"dataframe\">\n",
       "  <thead>\n",
       "    <tr style=\"text-align: right;\">\n",
       "      <th></th>\n",
       "      <th></th>\n",
       "      <th></th>\n",
       "      <th>tok_precision</th>\n",
       "      <th>tok_recall</th>\n",
       "      <th>tok_f1</th>\n",
       "    </tr>\n",
       "    <tr>\n",
       "      <th>label</th>\n",
       "      <th>proportion</th>\n",
       "      <th>model</th>\n",
       "      <th></th>\n",
       "      <th></th>\n",
       "      <th></th>\n",
       "    </tr>\n",
       "  </thead>\n",
       "  <tbody>\n",
       "    <tr>\n",
       "      <th rowspan=\"2\" valign=\"top\">ADJ</th>\n",
       "      <th rowspan=\"2\" valign=\"top\">12.8 %</th>\n",
       "      <th>hmm</th>\n",
       "      <td>0.912</td>\n",
       "      <td>0.866</td>\n",
       "      <td>0.888</td>\n",
       "    </tr>\n",
       "    <tr>\n",
       "      <th>mv</th>\n",
       "      <td>0.893</td>\n",
       "      <td>0.852</td>\n",
       "      <td>0.872</td>\n",
       "    </tr>\n",
       "    <tr>\n",
       "      <th rowspan=\"2\" valign=\"top\">DET</th>\n",
       "      <th rowspan=\"2\" valign=\"top\">17.3 %</th>\n",
       "      <th>hmm</th>\n",
       "      <td>0.950</td>\n",
       "      <td>0.996</td>\n",
       "      <td>0.972</td>\n",
       "    </tr>\n",
       "    <tr>\n",
       "      <th>mv</th>\n",
       "      <td>0.900</td>\n",
       "      <td>0.999</td>\n",
       "      <td>0.946</td>\n",
       "    </tr>\n",
       "    <tr>\n",
       "      <th rowspan=\"2\" valign=\"top\">NOUN</th>\n",
       "      <th rowspan=\"2\" valign=\"top\">37.4 %</th>\n",
       "      <th>hmm</th>\n",
       "      <td>0.936</td>\n",
       "      <td>0.859</td>\n",
       "      <td>0.896</td>\n",
       "    </tr>\n",
       "    <tr>\n",
       "      <th>mv</th>\n",
       "      <td>0.671</td>\n",
       "      <td>0.879</td>\n",
       "      <td>0.762</td>\n",
       "    </tr>\n",
       "    <tr>\n",
       "      <th rowspan=\"2\" valign=\"top\">NUM</th>\n",
       "      <th rowspan=\"2\" valign=\"top\">7.3 %</th>\n",
       "      <th>hmm</th>\n",
       "      <td>0.964</td>\n",
       "      <td>0.927</td>\n",
       "      <td>0.946</td>\n",
       "    </tr>\n",
       "    <tr>\n",
       "      <th>mv</th>\n",
       "      <td>0.969</td>\n",
       "      <td>0.848</td>\n",
       "      <td>0.904</td>\n",
       "    </tr>\n",
       "    <tr>\n",
       "      <th rowspan=\"2\" valign=\"top\">PROPN</th>\n",
       "      <th rowspan=\"2\" valign=\"top\">25.2 %</th>\n",
       "      <th>hmm</th>\n",
       "      <td>0.806</td>\n",
       "      <td>0.950</td>\n",
       "      <td>0.872</td>\n",
       "    </tr>\n",
       "    <tr>\n",
       "      <th>mv</th>\n",
       "      <td>0.808</td>\n",
       "      <td>0.947</td>\n",
       "      <td>0.872</td>\n",
       "    </tr>\n",
       "    <tr>\n",
       "      <th rowspan=\"2\" valign=\"top\">macro</th>\n",
       "      <th rowspan=\"2\" valign=\"top\"></th>\n",
       "      <th>hmm</th>\n",
       "      <td>0.914</td>\n",
       "      <td>0.920</td>\n",
       "      <td>0.916</td>\n",
       "    </tr>\n",
       "    <tr>\n",
       "      <th>mv</th>\n",
       "      <td>0.848</td>\n",
       "      <td>0.905</td>\n",
       "      <td>0.876</td>\n",
       "    </tr>\n",
       "    <tr>\n",
       "      <th rowspan=\"2\" valign=\"top\">micro</th>\n",
       "      <th rowspan=\"2\" valign=\"top\"></th>\n",
       "      <th>hmm</th>\n",
       "      <td>0.899</td>\n",
       "      <td>0.911</td>\n",
       "      <td>0.904</td>\n",
       "    </tr>\n",
       "    <tr>\n",
       "      <th>mv</th>\n",
       "      <td>0.783</td>\n",
       "      <td>0.911</td>\n",
       "      <td>0.842</td>\n",
       "    </tr>\n",
       "    <tr>\n",
       "      <th rowspan=\"2\" valign=\"top\">weighted</th>\n",
       "      <th rowspan=\"2\" valign=\"top\"></th>\n",
       "      <th>hmm</th>\n",
       "      <td>0.905</td>\n",
       "      <td>0.911</td>\n",
       "      <td>0.908</td>\n",
       "    </tr>\n",
       "    <tr>\n",
       "      <th>mv</th>\n",
       "      <td>0.795</td>\n",
       "      <td>0.911</td>\n",
       "      <td>0.850</td>\n",
       "    </tr>\n",
       "  </tbody>\n",
       "</table>\n",
       "</div>"
      ],
      "text/plain": [
       "                           tok_precision  tok_recall  tok_f1\n",
       "label    proportion model                                   \n",
       "ADJ      12.8 %     hmm            0.912       0.866   0.888\n",
       "                    mv             0.893       0.852   0.872\n",
       "DET      17.3 %     hmm            0.950       0.996   0.972\n",
       "                    mv             0.900       0.999   0.946\n",
       "NOUN     37.4 %     hmm            0.936       0.859   0.896\n",
       "                    mv             0.671       0.879   0.762\n",
       "NUM      7.3 %      hmm            0.964       0.927   0.946\n",
       "                    mv             0.969       0.848   0.904\n",
       "PROPN    25.2 %     hmm            0.806       0.950   0.872\n",
       "                    mv             0.808       0.947   0.872\n",
       "macro               hmm            0.914       0.920   0.916\n",
       "                    mv             0.848       0.905   0.876\n",
       "micro               hmm            0.899       0.911   0.904\n",
       "                    mv             0.783       0.911   0.842\n",
       "weighted            hmm            0.905       0.911   0.908\n",
       "                    mv             0.795       0.911   0.850"
      ]
     },
     "execution_count": 12,
     "metadata": {},
     "output_type": "execute_result"
    }
   ],
   "source": [
    "df"
   ]
  },
  {
   "cell_type": "code",
   "execution_count": null,
   "id": "c6ceac4709d1263e",
   "metadata": {
    "collapsed": false
   },
   "outputs": [],
   "source": []
  },
  {
   "cell_type": "markdown",
   "id": "54b53ffadb0bc88b",
   "metadata": {
    "collapsed": false
   },
   "source": []
  }
 ],
 "metadata": {
  "kernelspec": {
   "display_name": "Python 3 (ipykernel)",
   "language": "python",
   "name": "python3"
  },
  "language_info": {
   "codemirror_mode": {
    "name": "ipython",
    "version": 3
   },
   "file_extension": ".py",
   "mimetype": "text/x-python",
   "name": "python",
   "nbconvert_exporter": "python",
   "pygments_lexer": "ipython3",
   "version": "3.8.17"
  }
 },
 "nbformat": 4,
 "nbformat_minor": 5
}
