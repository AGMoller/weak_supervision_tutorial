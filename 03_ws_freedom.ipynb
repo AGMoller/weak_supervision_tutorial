{
 "cells": [
  {
   "cell_type": "code",
   "execution_count": 1,
   "id": "initial_id",
   "metadata": {
    "collapsed": true,
    "ExecuteTime": {
     "end_time": "2023-08-24T06:45:48.772094Z",
     "start_time": "2023-08-24T06:45:48.354341Z"
    }
   },
   "outputs": [],
   "source": [
    "%load_ext autoreload\n",
    "%autoreload 2\n",
    "\n",
    "import sys\n",
    "import os\n",
    "import joblib\n",
    "\n",
    "import pandas as pd\n",
    "import numpy as np\n",
    "\n",
    "sys.path.append('../')"
   ]
  },
  {
   "cell_type": "code",
   "execution_count": 133,
   "outputs": [
    {
     "name": "stdout",
     "output_type": "stream",
     "text": [
      "Python 3.8.17\r\n"
     ]
    }
   ],
   "source": [
    "!python --version"
   ],
   "metadata": {
    "collapsed": false,
    "ExecuteTime": {
     "end_time": "2023-08-29T13:26:51.110943Z",
     "start_time": "2023-08-29T13:26:50.864869Z"
    }
   },
   "id": "fada96ec8f20e12"
  },
  {
   "cell_type": "code",
   "execution_count": null,
   "outputs": [],
   "source": [
    "!pip uninstall -y scikit-learn && pip install scikit-learn==1.0.2\n",
    "skweak==0.2.13\n",
    "hmmlearn==0.2.6"
   ],
   "metadata": {
    "collapsed": false
   },
   "id": "1c5e7ee4eaa2cb5e"
  },
  {
   "cell_type": "code",
   "execution_count": null,
   "outputs": [],
   "source": [],
   "metadata": {
    "collapsed": false
   },
   "id": "9c6382da49a1e270"
  },
  {
   "cell_type": "code",
   "execution_count": null,
   "outputs": [],
   "source": [
    "# Weakly Supervised Named Entity Tagging with Learnable Logical Rules\n",
    "# https://universaldependencies.org/format.html\n",
    "# https://aclanthology.org/2021.acl-long.352.pdf\n",
    "\n",
    "# Get data from https://github.com/explosion/projects/tree/v3/benchmarks/ud_benchmark\n",
    "# by using assets command, or downloading https://lindat.mff.cuni.cz/repository/xmlui/bitstream/handle/11234/1-3105/ud-treebanks-v2.5.tgz\n",
    "\n",
    "# for each file run with vars.ud_treebank being the treebank you want to use, e.g. (\"UD_English-EWT\")\n",
    "# python scripts/copy_files.py train conllu assets/ud-treebanks-v2.5/${vars.ud_treebank}/ corpus/${vars.ud_treebank}/train/\n",
    "# python -m spacy convert corpus/${vars.ud_treebank}/train/ corpus/${vars.ud_treebank}/ --converter conllu -n 1 -T -C\n",
    "\n"
   ],
   "metadata": {
    "collapsed": false
   },
   "id": "bbbaff927095230a"
  },
  {
   "cell_type": "code",
   "execution_count": 136,
   "outputs": [],
   "source": [
    "# conll u -> skweak -> wrench\n",
    "\n",
    "from spacy.tokens import DocBin\n",
    "from spacy.training import Corpus\n",
    "import os\n",
    "\n",
    "import spacy\n",
    "\n",
    "\n",
    "part3_path = \"/Users/andst/projects/WS_tutorial/part_3_pos_tags\"\n",
    "\n",
    "data_path = os.path.join(part3_path, \"corpus\", \"UD_English-EWT\")\n",
    "\n",
    "nlp = spacy.blank(\"xx\")\n",
    "reader = Corpus(os.path.join(data_path, \"train.spacy\"))\n",
    "dev_data = list(reader(nlp))"
   ],
   "metadata": {
    "collapsed": false,
    "ExecuteTime": {
     "end_time": "2023-08-29T13:33:21.815355Z",
     "start_time": "2023-08-29T13:33:17.349278Z"
    }
   },
   "id": "5384a7d18fdb0983"
  },
  {
   "cell_type": "code",
   "execution_count": 137,
   "outputs": [],
   "source": [
    "all_labels = [\"NOUN\", \"VERB\", \"ADV\", \"ADJ\"]\n",
    "\n"
   ],
   "metadata": {
    "collapsed": false,
    "ExecuteTime": {
     "end_time": "2023-08-29T13:33:24.466134Z",
     "start_time": "2023-08-29T13:33:24.427892Z"
    }
   },
   "id": "5a21f417219cacde"
  },
  {
   "cell_type": "code",
   "execution_count": 141,
   "outputs": [
    {
     "name": "stdout",
     "output_type": "stream",
     "text": [
      "ADJ\n",
      "NOUN\n",
      "VERB\n",
      "NOUN\n",
      "NOUN\n",
      "NOUN\n",
      "ADJ\n",
      "NOUN\n",
      "NOUN\n",
      "ADJ\n",
      "NOUN\n",
      "VERB\n",
      "NOUN\n",
      "NOUN\n",
      "VERB\n",
      "ADJ\n",
      "NOUN\n",
      "VERB\n",
      "VERB\n",
      "ADJ\n",
      "NOUN\n",
      "VERB\n",
      "{'noun': [forces, preacher, mosque, town, border], 'verb': [killed], 'all_noun': [Al-Zaman : American forces killed Shaikh Abdullah al-Ani, the preacher at the mosque in the town of Qaim, near the Syrian border.], 'all_verbs': [Al-Zaman : American forces killed Shaikh Abdullah al-Ani, the preacher at the mosque in the town of Qaim, near the Syrian border.]}\n",
      "{'noun': [killing, cleric, trouble, years], 'verb': [causing, come], 'all_noun': [[This killing of a respected cleric will be causing us trouble for years to come.]], 'all_verbs': [[This killing of a respected cleric will be causing us trouble for years to come.]]}\n",
      "{'noun': [authorities, cells], 'verb': [announced, busted, operating], 'all_noun': [DPA: Iraqi authorities announced that they had busted up 3 terrorist cells operating in Baghdad.], 'all_verbs': [DPA: Iraqi authorities announced that they had busted up 3 terrorist cells operating in Baghdad.]}\n"
     ]
    },
    {
     "data": {
      "text/plain": "                              tok_precision  tok_recall  tok_f1 tok_cee  \\\nlabel    proportion model                                                 \nADJ      22.7 %     all_noun          0.000        0.00   0.000           \n                    hmm               0.000        0.00   0.000           \n                    noun              0.000        0.00   0.000           \nADV      0.0 %      all_noun          0.000        0.00   0.000           \n                    hmm               0.000        0.00   0.000           \n                    noun              0.000        0.00   0.000           \nNOUN     50.0 %     all_noun          0.172        1.00   0.294           \n                    hmm               0.000        0.00   0.000           \n                    noun              1.000        1.00   1.000           \nVERB     27.3 %     all_noun          0.000        0.00   0.000           \n                    hmm               0.000        0.00   0.000           \n                    noun              0.000        0.00   0.000           \nmacro               all_noun          0.043        0.25   0.074           \n                    hmm               0.000        0.00   0.000           \n                    noun              0.250        0.25   0.250           \nmicro               all_noun          0.172        0.50   0.256  11.873   \n                    hmm               0.000        0.00   0.000  11.873   \n                    noun              1.000        0.50   0.666  11.873   \nweighted            all_noun          0.086        0.50   0.146           \n                    hmm               0.000        0.00   0.000           \n                    noun              0.500        0.50   0.500           \n\n                             tok_acc coverage  ent_precision  ent_recall  \\\nlabel    proportion model                                                  \nADJ      22.7 %     all_noun                            0.00        0.00   \n                    hmm                                 0.00        0.00   \n                    noun                                0.00        0.00   \nADV      0.0 %      all_noun                            0.00        0.00   \n                    hmm                                 0.00        0.00   \n                    noun                                0.00        0.00   \nNOUN     50.0 %     all_noun                            0.00        0.00   \n                    hmm                                 0.00        0.00   \n                    noun                                1.00        1.00   \nVERB     27.3 %     all_noun                            0.00        0.00   \n                    hmm                                 0.00        0.00   \n                    noun                                0.00        0.00   \nmacro               all_noun                            0.00        0.00   \n                    hmm                                 0.00        0.00   \n                    noun                                0.25        0.25   \nmicro               all_noun   0.656    2.909           0.00        0.00   \n                    hmm        0.656      0.0           0.00        0.00   \n                    noun       0.656      0.5           1.00        0.50   \nweighted            all_noun                            0.00        0.00   \n                    hmm                                 0.00        0.00   \n                    noun                                0.50        0.50   \n\n                              ent_f1  \nlabel    proportion model             \nADJ      22.7 %     all_noun   0.000  \n                    hmm        0.000  \n                    noun       0.000  \nADV      0.0 %      all_noun   0.000  \n                    hmm        0.000  \n                    noun       0.000  \nNOUN     50.0 %     all_noun   0.000  \n                    hmm        0.000  \n                    noun       1.000  \nVERB     27.3 %     all_noun   0.000  \n                    hmm        0.000  \n                    noun       0.000  \nmacro               all_noun   0.000  \n                    hmm        0.000  \n                    noun       0.250  \nmicro               all_noun   0.000  \n                    hmm        0.000  \n                    noun       0.666  \nweighted            all_noun   0.000  \n                    hmm        0.000  \n                    noun       0.500  ",
      "text/html": "<div>\n<style scoped>\n    .dataframe tbody tr th:only-of-type {\n        vertical-align: middle;\n    }\n\n    .dataframe tbody tr th {\n        vertical-align: top;\n    }\n\n    .dataframe thead th {\n        text-align: right;\n    }\n</style>\n<table border=\"1\" class=\"dataframe\">\n  <thead>\n    <tr style=\"text-align: right;\">\n      <th></th>\n      <th></th>\n      <th></th>\n      <th>tok_precision</th>\n      <th>tok_recall</th>\n      <th>tok_f1</th>\n      <th>tok_cee</th>\n      <th>tok_acc</th>\n      <th>coverage</th>\n      <th>ent_precision</th>\n      <th>ent_recall</th>\n      <th>ent_f1</th>\n    </tr>\n    <tr>\n      <th>label</th>\n      <th>proportion</th>\n      <th>model</th>\n      <th></th>\n      <th></th>\n      <th></th>\n      <th></th>\n      <th></th>\n      <th></th>\n      <th></th>\n      <th></th>\n      <th></th>\n    </tr>\n  </thead>\n  <tbody>\n    <tr>\n      <th rowspan=\"3\" valign=\"top\">ADJ</th>\n      <th rowspan=\"3\" valign=\"top\">22.7 %</th>\n      <th>all_noun</th>\n      <td>0.000</td>\n      <td>0.00</td>\n      <td>0.000</td>\n      <td></td>\n      <td></td>\n      <td></td>\n      <td>0.00</td>\n      <td>0.00</td>\n      <td>0.000</td>\n    </tr>\n    <tr>\n      <th>hmm</th>\n      <td>0.000</td>\n      <td>0.00</td>\n      <td>0.000</td>\n      <td></td>\n      <td></td>\n      <td></td>\n      <td>0.00</td>\n      <td>0.00</td>\n      <td>0.000</td>\n    </tr>\n    <tr>\n      <th>noun</th>\n      <td>0.000</td>\n      <td>0.00</td>\n      <td>0.000</td>\n      <td></td>\n      <td></td>\n      <td></td>\n      <td>0.00</td>\n      <td>0.00</td>\n      <td>0.000</td>\n    </tr>\n    <tr>\n      <th rowspan=\"3\" valign=\"top\">ADV</th>\n      <th rowspan=\"3\" valign=\"top\">0.0 %</th>\n      <th>all_noun</th>\n      <td>0.000</td>\n      <td>0.00</td>\n      <td>0.000</td>\n      <td></td>\n      <td></td>\n      <td></td>\n      <td>0.00</td>\n      <td>0.00</td>\n      <td>0.000</td>\n    </tr>\n    <tr>\n      <th>hmm</th>\n      <td>0.000</td>\n      <td>0.00</td>\n      <td>0.000</td>\n      <td></td>\n      <td></td>\n      <td></td>\n      <td>0.00</td>\n      <td>0.00</td>\n      <td>0.000</td>\n    </tr>\n    <tr>\n      <th>noun</th>\n      <td>0.000</td>\n      <td>0.00</td>\n      <td>0.000</td>\n      <td></td>\n      <td></td>\n      <td></td>\n      <td>0.00</td>\n      <td>0.00</td>\n      <td>0.000</td>\n    </tr>\n    <tr>\n      <th rowspan=\"3\" valign=\"top\">NOUN</th>\n      <th rowspan=\"3\" valign=\"top\">50.0 %</th>\n      <th>all_noun</th>\n      <td>0.172</td>\n      <td>1.00</td>\n      <td>0.294</td>\n      <td></td>\n      <td></td>\n      <td></td>\n      <td>0.00</td>\n      <td>0.00</td>\n      <td>0.000</td>\n    </tr>\n    <tr>\n      <th>hmm</th>\n      <td>0.000</td>\n      <td>0.00</td>\n      <td>0.000</td>\n      <td></td>\n      <td></td>\n      <td></td>\n      <td>0.00</td>\n      <td>0.00</td>\n      <td>0.000</td>\n    </tr>\n    <tr>\n      <th>noun</th>\n      <td>1.000</td>\n      <td>1.00</td>\n      <td>1.000</td>\n      <td></td>\n      <td></td>\n      <td></td>\n      <td>1.00</td>\n      <td>1.00</td>\n      <td>1.000</td>\n    </tr>\n    <tr>\n      <th rowspan=\"3\" valign=\"top\">VERB</th>\n      <th rowspan=\"3\" valign=\"top\">27.3 %</th>\n      <th>all_noun</th>\n      <td>0.000</td>\n      <td>0.00</td>\n      <td>0.000</td>\n      <td></td>\n      <td></td>\n      <td></td>\n      <td>0.00</td>\n      <td>0.00</td>\n      <td>0.000</td>\n    </tr>\n    <tr>\n      <th>hmm</th>\n      <td>0.000</td>\n      <td>0.00</td>\n      <td>0.000</td>\n      <td></td>\n      <td></td>\n      <td></td>\n      <td>0.00</td>\n      <td>0.00</td>\n      <td>0.000</td>\n    </tr>\n    <tr>\n      <th>noun</th>\n      <td>0.000</td>\n      <td>0.00</td>\n      <td>0.000</td>\n      <td></td>\n      <td></td>\n      <td></td>\n      <td>0.00</td>\n      <td>0.00</td>\n      <td>0.000</td>\n    </tr>\n    <tr>\n      <th rowspan=\"3\" valign=\"top\">macro</th>\n      <th rowspan=\"3\" valign=\"top\"></th>\n      <th>all_noun</th>\n      <td>0.043</td>\n      <td>0.25</td>\n      <td>0.074</td>\n      <td></td>\n      <td></td>\n      <td></td>\n      <td>0.00</td>\n      <td>0.00</td>\n      <td>0.000</td>\n    </tr>\n    <tr>\n      <th>hmm</th>\n      <td>0.000</td>\n      <td>0.00</td>\n      <td>0.000</td>\n      <td></td>\n      <td></td>\n      <td></td>\n      <td>0.00</td>\n      <td>0.00</td>\n      <td>0.000</td>\n    </tr>\n    <tr>\n      <th>noun</th>\n      <td>0.250</td>\n      <td>0.25</td>\n      <td>0.250</td>\n      <td></td>\n      <td></td>\n      <td></td>\n      <td>0.25</td>\n      <td>0.25</td>\n      <td>0.250</td>\n    </tr>\n    <tr>\n      <th rowspan=\"3\" valign=\"top\">micro</th>\n      <th rowspan=\"3\" valign=\"top\"></th>\n      <th>all_noun</th>\n      <td>0.172</td>\n      <td>0.50</td>\n      <td>0.256</td>\n      <td>11.873</td>\n      <td>0.656</td>\n      <td>2.909</td>\n      <td>0.00</td>\n      <td>0.00</td>\n      <td>0.000</td>\n    </tr>\n    <tr>\n      <th>hmm</th>\n      <td>0.000</td>\n      <td>0.00</td>\n      <td>0.000</td>\n      <td>11.873</td>\n      <td>0.656</td>\n      <td>0.0</td>\n      <td>0.00</td>\n      <td>0.00</td>\n      <td>0.000</td>\n    </tr>\n    <tr>\n      <th>noun</th>\n      <td>1.000</td>\n      <td>0.50</td>\n      <td>0.666</td>\n      <td>11.873</td>\n      <td>0.656</td>\n      <td>0.5</td>\n      <td>1.00</td>\n      <td>0.50</td>\n      <td>0.666</td>\n    </tr>\n    <tr>\n      <th rowspan=\"3\" valign=\"top\">weighted</th>\n      <th rowspan=\"3\" valign=\"top\"></th>\n      <th>all_noun</th>\n      <td>0.086</td>\n      <td>0.50</td>\n      <td>0.146</td>\n      <td></td>\n      <td></td>\n      <td></td>\n      <td>0.00</td>\n      <td>0.00</td>\n      <td>0.000</td>\n    </tr>\n    <tr>\n      <th>hmm</th>\n      <td>0.000</td>\n      <td>0.00</td>\n      <td>0.000</td>\n      <td></td>\n      <td></td>\n      <td></td>\n      <td>0.00</td>\n      <td>0.00</td>\n      <td>0.000</td>\n    </tr>\n    <tr>\n      <th>noun</th>\n      <td>0.500</td>\n      <td>0.50</td>\n      <td>0.500</td>\n      <td></td>\n      <td></td>\n      <td></td>\n      <td>0.50</td>\n      <td>0.50</td>\n      <td>0.500</td>\n    </tr>\n  </tbody>\n</table>\n</div>"
     },
     "execution_count": 141,
     "metadata": {},
     "output_type": "execute_result"
    }
   ],
   "source": [
    "from skweak_ner_eval_utils import evaluate\n",
    "import skweak\n",
    "\n",
    "from spacy.tokens import Span\n",
    "\n",
    "docs = [doc.reference.copy() for doc in dev_data[0:3]]\n",
    "\n",
    "for doc in docs:\n",
    "    ents = []\n",
    "    for tok in doc:\n",
    "        if tok.pos_ in all_labels:\n",
    "            print(tok.pos_)\n",
    "            ents.append(Span(doc, tok.i, tok.i + 1, tok.pos_))\n",
    "    doc.set_ents(ents)\n",
    "\n",
    "noun_lf = heuristics.TokenConstraintAnnotator(\"noun\", lambda tok: tok.pos_ == \"NOUN\", \"NOUN\")\n",
    "all_noun_lf = heuristics.TokenConstraintAnnotator(\"all_noun\", lambda tok: True, \"NOUN\")\n",
    "verb_lf = heuristics.TokenConstraintAnnotator(\"verb\", lambda tok: tok.pos_ == \"VERB\", \"VERB\")\n",
    "all_verbs_lf = heuristics.TokenConstraintAnnotator(\"all_verbs\", lambda tok: True, \"VERB\")\n",
    "\n",
    "lfs = [noun_lf, verb_lf, all_noun_lf, all_verbs_lf]\n",
    "\n",
    "nlp = spacy.blank(\"xx\")\n",
    "\n",
    "hmm = aggregation.HMM(\"hmm\", [\"NOUN\", \"VERB\"])\n",
    "\n",
    "for doc in docs:\n",
    "    for lf in lfs:\n",
    "        doc = lf(doc)\n",
    "    print(doc.spans)\n",
    "    \n",
    "evaluate(docs, all_labels, [\"all_noun\", \"noun\", \"hmm\"])"
   ],
   "metadata": {
    "collapsed": false,
    "ExecuteTime": {
     "end_time": "2023-08-29T13:52:38.013641Z",
     "start_time": "2023-08-29T13:52:37.865744Z"
    }
   },
   "id": "c62dd04d953cc2ea"
  },
  {
   "cell_type": "code",
   "execution_count": 140,
   "outputs": [
    {
     "data": {
      "text/plain": "<IPython.core.display.HTML object>",
      "text/html": "<span class=\"tex2jax_ignore\"><div class=\"entities\" style=\"line-height: 2.5; direction: ltr\">From the AP comes this \n<mark class=\"entity\" style=\"background: #ddd; padding: 0.45em 0.6em; margin: 0 0.25em; line-height: 1; border-radius: 0.35em;\">\n    story\n    <span style=\"font-size: 0.8em; font-weight: bold; line-height: 1; border-radius: 0.35em; vertical-align: middle; margin-left: 0.5rem\">NOUN</span>\n</mark>\n : </div></span>"
     },
     "metadata": {},
     "output_type": "display_data"
    }
   ],
   "source": [
    "utils.display_entities(docs[0], \"noun\")"
   ],
   "metadata": {
    "collapsed": false,
    "ExecuteTime": {
     "end_time": "2023-08-29T13:33:35.384373Z",
     "start_time": "2023-08-29T13:33:35.332286Z"
    }
   },
   "id": "796a1e0bf5043a7e"
  },
  {
   "cell_type": "code",
   "execution_count": null,
   "outputs": [],
   "source": [],
   "metadata": {
    "collapsed": false
   },
   "id": "fb210f64600ce519"
  },
  {
   "cell_type": "code",
   "execution_count": null,
   "outputs": [],
   "source": [],
   "metadata": {
    "collapsed": false
   },
   "id": "1e42da1fd95394de"
  },
  {
   "cell_type": "code",
   "execution_count": null,
   "outputs": [],
   "source": [],
   "metadata": {
    "collapsed": false
   },
   "id": "121454a0489d6f62"
  },
  {
   "cell_type": "code",
   "execution_count": 35,
   "outputs": [
    {
     "name": "stdout",
     "output_type": "stream",
     "text": [
      "Starting iteration 1\n",
      "Finished E-step with 1 documents\n",
      "Starting iteration 2\n",
      "Finished E-step with 1 documents\n"
     ]
    },
    {
     "name": "stderr",
     "output_type": "stream",
     "text": [
      "         1         -18.9513             +nan\n",
      "         2         -19.0673          -0.1160\n"
     ]
    },
    {
     "data": {
      "text/plain": "<IPython.core.display.HTML object>",
      "text/html": "<span class=\"tex2jax_ignore\"><div class=\"entities\" style=\"line-height: 2.5; direction: ltr\">\n<mark class=\"entity\" style=\"background: #aa9cfc; padding: 0.45em 0.6em; margin: 0 0.25em; line-height: 1; border-radius: 0.35em;\">\n    Donald Trump\n    <span style=\"font-size: 0.8em; font-weight: bold; line-height: 1; border-radius: 0.35em; vertical-align: middle; margin-left: 0.5rem\">PERSON</span>\n</mark>\n paid \n<mark class=\"entity\" style=\"background: #e4e7d2; padding: 0.45em 0.6em; margin: 0 0.25em; line-height: 1; border-radius: 0.35em;\">\n    $750\n    <span style=\"font-size: 0.8em; font-weight: bold; line-height: 1; border-radius: 0.35em; vertical-align: middle; margin-left: 0.5rem\">MONEY</span>\n</mark>\n in federal income taxes in \n<mark class=\"entity\" style=\"background: #bfe1d9; padding: 0.45em 0.6em; margin: 0 0.25em; line-height: 1; border-radius: 0.35em;\">\n    2016\n    <span style=\"font-size: 0.8em; font-weight: bold; line-height: 1; border-radius: 0.35em; vertical-align: middle; margin-left: 0.5rem\">DATE</span>\n</mark>\n</div></span>"
     },
     "metadata": {},
     "output_type": "display_data"
    }
   ],
   "source": [
    "import spacy, re\n",
    "from skweak import heuristics, gazetteers, aggregation, utils\n",
    "\n",
    "# LF 1: heuristic to detect occurrences of MONEY entities\n",
    "def money_detector(doc):\n",
    "    for tok in doc[1:]:\n",
    "        if tok.text[0].isdigit() and tok.nbor(-1).is_currency:\n",
    "            yield tok.i-1, tok.i+1, \"MONEY\"\n",
    "lf1 = heuristics.FunctionAnnotator(\"money\", money_detector)\n",
    "\n",
    "# LF 2: detection of years with a regex\n",
    "lf2= heuristics.TokenConstraintAnnotator(\"years\", lambda tok: re.match(\"(19|20)\\d{2}$\",\n",
    "                                                                       tok.text), \"DATE\")\n",
    "\n",
    "# LF 3: a gazetteer with a few names\n",
    "NAMES = [(\"Barack\", \"Obama\"), (\"Donald\", \"Trump\"), (\"Joe\", \"Biden\")]\n",
    "trie = gazetteers.Trie(NAMES)\n",
    "lf3 = gazetteers.GazetteerAnnotator(\"presidents\", {\"PERSON\":trie})\n",
    "\n",
    "# We create a corpus (here with a single text)\n",
    "nlp = spacy.blank(\"xx\")\n",
    "doc = nlp(\"Donald Trump paid $750 in federal income taxes in 2016\")\n",
    "\n",
    "# apply the labelling functions\n",
    "doc = lf3(lf2(lf1(doc)))\n",
    "\n",
    "# and aggregate them\n",
    "hmm = aggregation.HMM(\"hmm\", [\"PERSON\", \"DATE\", \"MONEY\"])\n",
    "hmm.fit_and_aggregate([doc])\n",
    "\n",
    "# we can then visualise the final result (in Jupyter)\n",
    "utils.display_entities(doc, \"hmm\")"
   ],
   "metadata": {
    "collapsed": false,
    "ExecuteTime": {
     "end_time": "2023-08-24T07:10:45.112149Z",
     "start_time": "2023-08-24T07:10:45.028167Z"
    }
   },
   "id": "13ca32cc9acd59a3"
  },
  {
   "cell_type": "code",
   "execution_count": 60,
   "outputs": [
    {
     "name": "stdout",
     "output_type": "stream",
     "text": [
      "Donald     Xxxxx True False\n",
      "Trump     Xxxxx True False\n",
      "paid     xxxx True False\n",
      "$     $ False False\n",
      "750     ddd False False\n",
      "in     xx True False\n",
      "federal     xxxx True False\n",
      "income     xxxx True False\n",
      "taxes     xxxx True False\n",
      "in     xx True False\n",
      "2016     dddd False False\n"
     ]
    }
   ],
   "source": [
    "for token in doc:\n",
    "    print(token.text, token.lemma_, token.pos_, token.tag_, token.dep_,\n",
    "          token.shape_, token.is_alpha, token.is_stop)"
   ],
   "metadata": {
    "collapsed": false,
    "ExecuteTime": {
     "end_time": "2023-08-24T07:57:18.577235Z",
     "start_time": "2023-08-24T07:57:18.481144Z"
    }
   },
   "id": "ce69490c8e3b8d60"
  },
  {
   "cell_type": "code",
   "execution_count": 38,
   "outputs": [
    {
     "data": {
      "text/plain": "<IPython.core.display.HTML object>",
      "text/html": "<span class=\"tex2jax_ignore\"><div class=\"entities\" style=\"line-height: 2.5; direction: ltr\">\n<mark class=\"entity\" style=\"background: #aa9cfc; padding: 0.45em 0.6em; margin: 0 0.25em; line-height: 1; border-radius: 0.35em;\">\n    Donald Trump\n    <span style=\"font-size: 0.8em; font-weight: bold; line-height: 1; border-radius: 0.35em; vertical-align: middle; margin-left: 0.5rem\">PERSON</span>\n</mark>\n paid \n<mark class=\"entity\" style=\"background: #e4e7d2; padding: 0.45em 0.6em; margin: 0 0.25em; line-height: 1; border-radius: 0.35em;\">\n    $750\n    <span style=\"font-size: 0.8em; font-weight: bold; line-height: 1; border-radius: 0.35em; vertical-align: middle; margin-left: 0.5rem\">MONEY</span>\n</mark>\n in federal income taxes in \n<mark class=\"entity\" style=\"background: #bfe1d9; padding: 0.45em 0.6em; margin: 0 0.25em; line-height: 1; border-radius: 0.35em;\">\n    2016\n    <span style=\"font-size: 0.8em; font-weight: bold; line-height: 1; border-radius: 0.35em; vertical-align: middle; margin-left: 0.5rem\">DATE</span>\n</mark>\n</div></span>"
     },
     "metadata": {},
     "output_type": "display_data"
    }
   ],
   "source": [
    "utils.display_entities(doc, \"hmm\")"
   ],
   "metadata": {
    "collapsed": false,
    "ExecuteTime": {
     "end_time": "2023-08-24T07:11:00.910662Z",
     "start_time": "2023-08-24T07:11:00.804185Z"
    }
   },
   "id": "32a266683d1f58f4"
  },
  {
   "cell_type": "code",
   "execution_count": 57,
   "outputs": [
    {
     "data": {
      "text/plain": "'DATE'"
     },
     "execution_count": 57,
     "metadata": {},
     "output_type": "execute_result"
    }
   ],
   "source": [
    "doc.spans[\"years\"][0].label_"
   ],
   "metadata": {
    "collapsed": false,
    "ExecuteTime": {
     "end_time": "2023-08-24T07:16:45.091069Z",
     "start_time": "2023-08-24T07:16:44.984262Z"
    }
   },
   "id": "2e4e98969151167"
  },
  {
   "cell_type": "code",
   "execution_count": 3,
   "outputs": [
    {
     "name": "stdout",
     "output_type": "stream",
     "text": [
      "Found existing installation: skweak 0.3.2\r\n",
      "Uninstalling skweak-0.3.2:\r\n",
      "  Successfully uninstalled skweak-0.3.2\r\n",
      "Looking in indexes: https://pypi.org/simple, http://185.128.246.103/pypicloud/simple\r\n",
      "\u001B[33mWARNING: Retrying (Retry(total=4, connect=None, read=None, redirect=None, status=None)) after connection broken by 'NewConnectionError('<pip._vendor.urllib3.connection.HTTPConnection object at 0x7fdfd85cd730>: Failed to establish a new connection: [Errno 51] Network is unreachable')': /pypicloud/simple/skweak/\u001B[0m\u001B[33m\r\n",
      "\u001B[0m\u001B[33mWARNING: Retrying (Retry(total=3, connect=None, read=None, redirect=None, status=None)) after connection broken by 'NewConnectionError('<pip._vendor.urllib3.connection.HTTPConnection object at 0x7fdfd85cda30>: Failed to establish a new connection: [Errno 51] Network is unreachable')': /pypicloud/simple/skweak/\u001B[0m\u001B[33m\r\n",
      "\u001B[0m\u001B[33mWARNING: Retrying (Retry(total=2, connect=None, read=None, redirect=None, status=None)) after connection broken by 'NewConnectionError('<pip._vendor.urllib3.connection.HTTPConnection object at 0x7fdfd85cdc40>: Failed to establish a new connection: [Errno 51] Network is unreachable')': /pypicloud/simple/skweak/\u001B[0m\u001B[33m\r\n",
      "\u001B[0m\u001B[33mWARNING: Retrying (Retry(total=1, connect=None, read=None, redirect=None, status=None)) after connection broken by 'NewConnectionError('<pip._vendor.urllib3.connection.HTTPConnection object at 0x7fdfd85cde50>: Failed to establish a new connection: [Errno 51] Network is unreachable')': /pypicloud/simple/skweak/\u001B[0m\u001B[33m\r\n",
      "\u001B[0m\u001B[33mWARNING: Retrying (Retry(total=0, connect=None, read=None, redirect=None, status=None)) after connection broken by 'NewConnectionError('<pip._vendor.urllib3.connection.HTTPConnection object at 0x7fdfd85cdf40>: Failed to establish a new connection: [Errno 51] Network is unreachable')': /pypicloud/simple/skweak/\u001B[0m\u001B[33m\r\n",
      "\u001B[0mCollecting skweak==0.2.13\r\n",
      "  Using cached skweak-0.2.13-py3-none-any.whl (34 kB)\r\n",
      "Requirement already satisfied: spacy>=3.0 in /Users/andst/.cache/conda_envs/WS_tutorial/lib/python3.8/site-packages (from skweak==0.2.13) (3.6.1)\r\n",
      "Requirement already satisfied: hmmlearn>=0.2 in /Users/andst/.cache/conda_envs/WS_tutorial/lib/python3.8/site-packages (from skweak==0.2.13) (0.2.6)\r\n",
      "Requirement already satisfied: pandas>=0.23 in /Users/andst/.cache/conda_envs/WS_tutorial/lib/python3.8/site-packages (from skweak==0.2.13) (1.4.4)\r\n",
      "Requirement already satisfied: numpy>=1.18 in /Users/andst/.cache/conda_envs/WS_tutorial/lib/python3.8/site-packages (from skweak==0.2.13) (1.19.5)\r\n",
      "Requirement already satisfied: scikit-learn>=0.16 in /Users/andst/.cache/conda_envs/WS_tutorial/lib/python3.8/site-packages (from hmmlearn>=0.2->skweak==0.2.13) (1.0.2)\r\n",
      "Requirement already satisfied: scipy>=0.19 in /Users/andst/.cache/conda_envs/WS_tutorial/lib/python3.8/site-packages (from hmmlearn>=0.2->skweak==0.2.13) (1.10.1)\r\n",
      "Requirement already satisfied: python-dateutil>=2.8.1 in /Users/andst/.cache/conda_envs/WS_tutorial/lib/python3.8/site-packages (from pandas>=0.23->skweak==0.2.13) (2.8.2)\r\n",
      "Requirement already satisfied: pytz>=2020.1 in /Users/andst/.cache/conda_envs/WS_tutorial/lib/python3.8/site-packages (from pandas>=0.23->skweak==0.2.13) (2023.3)\r\n",
      "Requirement already satisfied: spacy-legacy<3.1.0,>=3.0.11 in /Users/andst/.cache/conda_envs/WS_tutorial/lib/python3.8/site-packages (from spacy>=3.0->skweak==0.2.13) (3.0.12)\r\n",
      "Requirement already satisfied: spacy-loggers<2.0.0,>=1.0.0 in /Users/andst/.cache/conda_envs/WS_tutorial/lib/python3.8/site-packages (from spacy>=3.0->skweak==0.2.13) (1.0.4)\r\n",
      "Requirement already satisfied: murmurhash<1.1.0,>=0.28.0 in /Users/andst/.cache/conda_envs/WS_tutorial/lib/python3.8/site-packages (from spacy>=3.0->skweak==0.2.13) (1.0.9)\r\n",
      "Requirement already satisfied: cymem<2.1.0,>=2.0.2 in /Users/andst/.cache/conda_envs/WS_tutorial/lib/python3.8/site-packages (from spacy>=3.0->skweak==0.2.13) (2.0.7)\r\n",
      "Requirement already satisfied: preshed<3.1.0,>=3.0.2 in /Users/andst/.cache/conda_envs/WS_tutorial/lib/python3.8/site-packages (from spacy>=3.0->skweak==0.2.13) (3.0.8)\r\n",
      "Requirement already satisfied: thinc<8.2.0,>=8.1.8 in /Users/andst/.cache/conda_envs/WS_tutorial/lib/python3.8/site-packages (from spacy>=3.0->skweak==0.2.13) (8.1.11)\r\n",
      "Requirement already satisfied: wasabi<1.2.0,>=0.9.1 in /Users/andst/.cache/conda_envs/WS_tutorial/lib/python3.8/site-packages (from spacy>=3.0->skweak==0.2.13) (1.1.2)\r\n",
      "Requirement already satisfied: srsly<3.0.0,>=2.4.3 in /Users/andst/.cache/conda_envs/WS_tutorial/lib/python3.8/site-packages (from spacy>=3.0->skweak==0.2.13) (2.4.7)\r\n",
      "Requirement already satisfied: catalogue<2.1.0,>=2.0.6 in /Users/andst/.cache/conda_envs/WS_tutorial/lib/python3.8/site-packages (from spacy>=3.0->skweak==0.2.13) (2.0.9)\r\n",
      "Requirement already satisfied: typer<0.10.0,>=0.3.0 in /Users/andst/.cache/conda_envs/WS_tutorial/lib/python3.8/site-packages (from spacy>=3.0->skweak==0.2.13) (0.9.0)\r\n",
      "Requirement already satisfied: pathy>=0.10.0 in /Users/andst/.cache/conda_envs/WS_tutorial/lib/python3.8/site-packages (from spacy>=3.0->skweak==0.2.13) (0.10.2)\r\n",
      "Requirement already satisfied: smart-open<7.0.0,>=5.2.1 in /Users/andst/.cache/conda_envs/WS_tutorial/lib/python3.8/site-packages (from spacy>=3.0->skweak==0.2.13) (6.3.0)\r\n",
      "Requirement already satisfied: tqdm<5.0.0,>=4.38.0 in /Users/andst/.cache/conda_envs/WS_tutorial/lib/python3.8/site-packages (from spacy>=3.0->skweak==0.2.13) (4.66.0)\r\n",
      "Requirement already satisfied: requests<3.0.0,>=2.13.0 in /Users/andst/.cache/conda_envs/WS_tutorial/lib/python3.8/site-packages (from spacy>=3.0->skweak==0.2.13) (2.31.0)\r\n",
      "Requirement already satisfied: pydantic!=1.8,!=1.8.1,<3.0.0,>=1.7.4 in /Users/andst/.cache/conda_envs/WS_tutorial/lib/python3.8/site-packages (from spacy>=3.0->skweak==0.2.13) (2.1.1)\r\n",
      "Requirement already satisfied: jinja2 in /Users/andst/.cache/conda_envs/WS_tutorial/lib/python3.8/site-packages (from spacy>=3.0->skweak==0.2.13) (3.1.2)\r\n",
      "Requirement already satisfied: setuptools in /Users/andst/.cache/conda_envs/WS_tutorial/lib/python3.8/site-packages (from spacy>=3.0->skweak==0.2.13) (68.0.0)\r\n",
      "Requirement already satisfied: packaging>=20.0 in /Users/andst/.cache/conda_envs/WS_tutorial/lib/python3.8/site-packages (from spacy>=3.0->skweak==0.2.13) (23.1)\r\n",
      "Requirement already satisfied: langcodes<4.0.0,>=3.2.0 in /Users/andst/.cache/conda_envs/WS_tutorial/lib/python3.8/site-packages (from spacy>=3.0->skweak==0.2.13) (3.3.0)\r\n",
      "Requirement already satisfied: annotated-types>=0.4.0 in /Users/andst/.cache/conda_envs/WS_tutorial/lib/python3.8/site-packages (from pydantic!=1.8,!=1.8.1,<3.0.0,>=1.7.4->spacy>=3.0->skweak==0.2.13) (0.5.0)\r\n",
      "Requirement already satisfied: pydantic-core==2.4.0 in /Users/andst/.cache/conda_envs/WS_tutorial/lib/python3.8/site-packages (from pydantic!=1.8,!=1.8.1,<3.0.0,>=1.7.4->spacy>=3.0->skweak==0.2.13) (2.4.0)\r\n",
      "Requirement already satisfied: typing-extensions>=4.6.1 in /Users/andst/.cache/conda_envs/WS_tutorial/lib/python3.8/site-packages (from pydantic!=1.8,!=1.8.1,<3.0.0,>=1.7.4->spacy>=3.0->skweak==0.2.13) (4.7.1)\r\n",
      "Requirement already satisfied: six>=1.5 in /Users/andst/.cache/conda_envs/WS_tutorial/lib/python3.8/site-packages (from python-dateutil>=2.8.1->pandas>=0.23->skweak==0.2.13) (1.16.0)\r\n",
      "Requirement already satisfied: charset-normalizer<4,>=2 in /Users/andst/.cache/conda_envs/WS_tutorial/lib/python3.8/site-packages (from requests<3.0.0,>=2.13.0->spacy>=3.0->skweak==0.2.13) (3.2.0)\r\n",
      "Requirement already satisfied: idna<4,>=2.5 in /Users/andst/.cache/conda_envs/WS_tutorial/lib/python3.8/site-packages (from requests<3.0.0,>=2.13.0->spacy>=3.0->skweak==0.2.13) (3.4)\r\n",
      "Requirement already satisfied: urllib3<3,>=1.21.1 in /Users/andst/.cache/conda_envs/WS_tutorial/lib/python3.8/site-packages (from requests<3.0.0,>=2.13.0->spacy>=3.0->skweak==0.2.13) (2.0.4)\r\n",
      "Requirement already satisfied: certifi>=2017.4.17 in /Users/andst/.cache/conda_envs/WS_tutorial/lib/python3.8/site-packages (from requests<3.0.0,>=2.13.0->spacy>=3.0->skweak==0.2.13) (2023.7.22)\r\n",
      "Requirement already satisfied: joblib>=0.11 in /Users/andst/.cache/conda_envs/WS_tutorial/lib/python3.8/site-packages (from scikit-learn>=0.16->hmmlearn>=0.2->skweak==0.2.13) (1.3.2)\r\n",
      "Requirement already satisfied: threadpoolctl>=2.0.0 in /Users/andst/.cache/conda_envs/WS_tutorial/lib/python3.8/site-packages (from scikit-learn>=0.16->hmmlearn>=0.2->skweak==0.2.13) (3.2.0)\r\n",
      "Requirement already satisfied: blis<0.8.0,>=0.7.8 in /Users/andst/.cache/conda_envs/WS_tutorial/lib/python3.8/site-packages (from thinc<8.2.0,>=8.1.8->spacy>=3.0->skweak==0.2.13) (0.7.10)\r\n",
      "Requirement already satisfied: confection<1.0.0,>=0.0.1 in /Users/andst/.cache/conda_envs/WS_tutorial/lib/python3.8/site-packages (from thinc<8.2.0,>=8.1.8->spacy>=3.0->skweak==0.2.13) (0.1.1)\r\n",
      "Requirement already satisfied: click<9.0.0,>=7.1.1 in /Users/andst/.cache/conda_envs/WS_tutorial/lib/python3.8/site-packages (from typer<0.10.0,>=0.3.0->spacy>=3.0->skweak==0.2.13) (8.1.6)\r\n",
      "Requirement already satisfied: MarkupSafe>=2.0 in /Users/andst/.cache/conda_envs/WS_tutorial/lib/python3.8/site-packages (from jinja2->spacy>=3.0->skweak==0.2.13) (2.1.3)\r\n",
      "Installing collected packages: skweak\r\n",
      "Successfully installed skweak-0.2.13\r\n"
     ]
    }
   ],
   "source": [
    "!pip uninstall -y skweak && pip install skweak==0.2.13\n",
    "#--user git+https://github.com/NorskRegnesentral/skweak"
   ],
   "metadata": {
    "collapsed": false,
    "ExecuteTime": {
     "end_time": "2023-08-24T06:44:53.033065Z",
     "start_time": "2023-08-24T06:44:06.792378Z"
    }
   },
   "id": "6caa2f03979c24be"
  }
 ],
 "metadata": {
  "kernelspec": {
   "display_name": "Python 3",
   "language": "python",
   "name": "python3"
  },
  "language_info": {
   "codemirror_mode": {
    "name": "ipython",
    "version": 2
   },
   "file_extension": ".py",
   "mimetype": "text/x-python",
   "name": "python",
   "nbconvert_exporter": "python",
   "pygments_lexer": "ipython2",
   "version": "2.7.6"
  }
 },
 "nbformat": 4,
 "nbformat_minor": 5
}
